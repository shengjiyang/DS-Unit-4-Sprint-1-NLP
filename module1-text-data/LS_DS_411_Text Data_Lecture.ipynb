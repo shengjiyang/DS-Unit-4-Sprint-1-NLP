{
 "cells": [
  {
   "cell_type": "markdown",
   "metadata": {
    "toc-hr-collapsed": false
   },
   "source": [
    "Lambda School Data Science\n",
    "\n",
    "*Unit 4, Sprint 1, Module 1*\n",
    "\n",
    "---\n",
    "<h1 id=\"moduleTitle\"> Natural Language Processing Introduction (Prepare)</h1>\n",
    "\n",
    "\"Natural\" meaning - not computer languages but spoken/written human languages. The hard thing about NLP is that human languages are far less structured or consistent than computer languages. This is perhaps the largest source of difficulty when trying to get computers to \"understand\" human languages. How do you get a machine to understand sarcasm, and irony, and synonyms, connotation, denotation, nuance, and tone of voice --all without it having lived a lifetime of experience for context? If you think about it, our human brains have been exposed to quite a lot of training data to help us interpret languages, and even then we misunderstand each other pretty frequently. \n",
    "    \n",
    "\n",
    "<h2 id='moduleObjectives'>Learning Objectives</h2>\n",
    "\n",
    "By the end of end of this module, a student should be able to:\n",
    "* <a href=\"#p1\">Objective 1</a>: Tokenize text\n",
    "* <a href=\"#p1\">Objective 2</a>: Remove stop words from text\n",
    "* <a href=\"#p3\">Objective 3</a>: Perform stemming and lemmatization on tokens\n",
    "\n",
    "## Conda Environments\n",
    "\n",
    "You will be completing each module this sprint on your machine. We will be using conda environments to manage the packages and their dependencies for this sprint's content. In a classroom setting, instructors typically abstract away environment for you. However, environment management is an important professional data science skill. We showed you how to manage environments using pipvirtual env during Unit 3, but in this sprint, we will introduce an environment management tool common in the data science community: \n",
    "\n",
    "> __conda__: Package, dependency and environment management for any language—Python, R, Ruby, Lua, Scala, Java, JavaScript, C/ C++, FORTRAN, and more.\n",
    "\n",
    "The easiest way to install conda on your machine is via the [Anaconda Distribution](https://www.anaconda.com/distribution/) of Python & R. Once you have conda installed, read [\"A Guide to Conda Environments\"](https://towardsdatascience.com/a-guide-to-conda-environments-bc6180fc533). This article will provide an introduce into some of the conda basics. If you need some additional help getting started, the official [\"Setting started with conda\"](https://conda.io/projects/conda/en/latest/user-guide/getting-started.html) guide will point you in the right direction. \n",
    "\n",
    ":snake: \n",
    "\n",
    "To get the sprint environment setup: \n",
    "\n",
    "1. Open your command line tool (Terminal for MacOS, Anaconda Prompt for Windows)\n",
    "2. Navigate to the folder with this sprint's content. There should be a `requirements.txt`\n",
    "3. Run `conda create -n U4-S1-NLP python==3.7` => You can also rename the environment if you would like. Once the command completes, your conda environment should be ready.\n",
    "4. Now, we are going to add in the require python packages for this sprint. You will need to 'activate' the conda environment: `source activate U4-S1-NLP` on Terminal or `conda activate U4-S1-NLP` on Anaconda Prompt. Once your environment is activate, run `pip install -r requirements.txt` which will install the required packages into your environment.\n",
    "5. We are going to also add an Ipython Kernel reference to your conda environment, so we can use it from JupyterLab. \n",
    "6. Next run `python -m ipykernel install --user --name U4-S1-NLP --display-name \"U4-S1-NLP (Python3)\"` => This will add a json object to an ipython file, so JupterLab will know that it can use this isolated instance of Python. :) \n",
    "7. Last step, we need to install the models for Spacy. Run these commands `python -m spacy download en_core_web_md` and `python -m spacy download en_core_web_lg`\n",
    "8. Deactivate your conda environment and launch JupyterLab. You should know see \"U4-S1-NLP (Python3)\" in the list of available kernels on launch screen. "
   ]
  },
  {
   "cell_type": "markdown",
   "metadata": {
    "toc-hr-collapsed": false
   },
   "source": [
    "# Tokenze Text (Learn)\n",
    "<a id=\"p1\"></a>"
   ]
  },
  {
   "cell_type": "markdown",
   "metadata": {
    "toc-hr-collapsed": true
   },
   "source": [
    "## Overview\n",
    "\n",
    "> **token**: an instance of a sequence of characters in some particular document that are grouped together as a useful semantic unit for processing\n",
    "\n",
    "> [_*Introduction to Information Retrival*_](https://nlp.stanford.edu/IR-book/)\n",
    "\n",
    "\n",
    "### The attributes of good tokens\n",
    "\n",
    "* Should be stored in an iterable data structure\n",
    "  - Allows analysis of the \"semantic unit\"\n",
    "* Should be all the same case\n",
    "  - Reduces the complexity of our data\n",
    "* Should be free of non-alphanumeric characters (ie punctuation, whitespace)\n",
    "  - Removes information that is probably not relevant to the analysis"
   ]
  },
  {
   "cell_type": "markdown",
   "metadata": {},
   "source": [
    "Let's pretend we are trying analyze the random sequence here. Question: what is the most common character in this sequence?"
   ]
  },
  {
   "cell_type": "code",
<<<<<<< HEAD
   "execution_count": 1,
=======
   "execution_count": null,
>>>>>>> 9d142a5988318d8c68919041231f6771beeca43f
   "metadata": {},
   "outputs": [],
   "source": [
    "random_seq = \"AABAAFBBBBCGCDDEEEFCFFDFFAFFZFGGGGHEAFJAAZBBFCZ\""
   ]
  },
  {
   "cell_type": "markdown",
   "metadata": {},
   "source": [
    "A useful unit of analysis for us is going to be a letter or character"
   ]
  },
  {
   "cell_type": "code",
<<<<<<< HEAD
   "execution_count": 2,
   "metadata": {},
   "outputs": [
    {
     "name": "stdout",
     "output_type": "stream",
     "text": [
      "['A', 'A', 'B', 'A', 'A', 'F', 'B', 'B', 'B', 'B', 'C', 'G', 'C', 'D', 'D', 'E', 'E', 'E', 'F', 'C', 'F', 'F', 'D', 'F', 'F', 'A', 'F', 'F', 'Z', 'F', 'G', 'G', 'G', 'G', 'H', 'E', 'A', 'F', 'J', 'A', 'A', 'Z', 'B', 'B', 'F', 'C', 'Z']\n"
     ]
    }
   ],
=======
   "execution_count": null,
   "metadata": {},
   "outputs": [],
>>>>>>> 9d142a5988318d8c68919041231f6771beeca43f
   "source": [
    "tokens = list(random_seq)\n",
    "print(tokens)"
   ]
  },
  {
   "cell_type": "markdown",
   "metadata": {},
   "source": [
    "Our tokens are already \"good\": in an iterable datastructure, all the same case, and free of noise characters (punctuation, whitespace), so we can jump straight into analysis."
   ]
  },
  {
   "cell_type": "code",
<<<<<<< HEAD
   "execution_count": 4,
   "metadata": {},
   "outputs": [
    {
     "data": {
      "image/png": "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\n",
      "text/plain": [
       "<Figure size 432x288 with 1 Axes>"
      ]
     },
     "metadata": {
      "needs_background": "light"
     },
     "output_type": "display_data"
    }
   ],
   "source": [
    "import seaborn as sns\n",
    "ax = sns.countplot(tokens)\n",
    "ax.set_title(\"Frequency of Letters in Random Sequence\");"
=======
   "execution_count": null,
   "metadata": {},
   "outputs": [],
   "source": [
    "import seaborn as sns\n",
    "\n",
    "sns.countplot(tokens);"
>>>>>>> 9d142a5988318d8c68919041231f6771beeca43f
   ]
  },
  {
   "cell_type": "markdown",
   "metadata": {},
   "source": [
    "The most common character in our sequence is  \"F\". We can't just glance at the the sequence to know which character is the most common. We (humans) struggle to subitize complex data (like random text sequences).\n",
    "\n",
    "> __Subitize__ is the ability to tell the number of objects in a set, quickly, without counting.  \n",
    "\n",
    "We need to chunk the data into countable pieces \"tokens\" for us to analyze them. This inability subitize text data is the motivation for our discussion today."
   ]
  },
  {
   "cell_type": "markdown",
   "metadata": {
    "toc-hr-collapsed": true
   },
   "source": [
    "### Tokenizing with Pure Python"
   ]
  },
  {
   "cell_type": "code",
<<<<<<< HEAD
   "execution_count": 5,
=======
   "execution_count": null,
>>>>>>> 9d142a5988318d8c68919041231f6771beeca43f
   "metadata": {},
   "outputs": [],
   "source": [
    "sample = \"Friends, Romans, countrymen, lend me your ears;\""
   ]
  },
  {
   "cell_type": "markdown",
   "metadata": {},
   "source": [
    "##### Iterable Tokens\n",
    "\n",
    "A string object in Python is already iterable. However, the item you iterate over is a character not a token:\n",
    "\n",
    "```\n",
    "from time import sleep\n",
    "for num, character in enumerate(sample):\n",
    "    sleep(.5)\n",
    "    print(f\"Char {num} - {character}\", end=\"\\r\")\n",
    "```\n",
    "\n",
    "If we instead care about the words in our sample (our semantic unit), we can use the string method `.split()` to separate the whitespace and create iterable units. :)"
   ]
  },
  {
   "cell_type": "code",
<<<<<<< HEAD
   "execution_count": 6,
   "metadata": {},
   "outputs": [
    {
     "data": {
      "text/plain": [
       "['Friends,', 'Romans,', 'countrymen,', 'lend', 'me', 'your', 'ears;']"
      ]
     },
     "execution_count": 6,
     "metadata": {},
     "output_type": "execute_result"
    }
   ],
=======
   "execution_count": null,
   "metadata": {},
   "outputs": [],
>>>>>>> 9d142a5988318d8c68919041231f6771beeca43f
   "source": [
    "sample.split(\" \")"
   ]
  },
  {
   "cell_type": "markdown",
   "metadata": {},
   "source": [
    "##### Case Normalization\n",
    "A common data cleaning data cleaning task with token is to standardize or normalize the case. Normalizing case reduces the chance that you have duplicate records for things which have practically the same semantic meaning. You can use either the `.lower()` or `.upper()` string methods to normalize case.\n",
    "\n",
    "Consider the following example: "
   ]
  },
  {
   "cell_type": "code",
<<<<<<< HEAD
   "execution_count": 19,
=======
   "execution_count": null,
>>>>>>> 9d142a5988318d8c68919041231f6771beeca43f
   "metadata": {},
   "outputs": [],
   "source": [
    "import pandas as pd\n",
    "df = pd.read_csv('./data/Datafiniti_Amazon_Consumer_Reviews_of_Amazon_Products_May19.csv')"
   ]
  },
  {
   "cell_type": "code",
<<<<<<< HEAD
   "execution_count": 9,
   "metadata": {},
   "outputs": [
    {
     "data": {
      "text/plain": [
       "Amazon          16153\n",
       "Amazonbasics    12169\n",
       "AmazonBasics       10\n",
       "Name: brand, dtype: int64"
      ]
     },
     "execution_count": 9,
     "metadata": {},
     "output_type": "execute_result"
    }
   ],
=======
   "execution_count": null,
   "metadata": {},
   "outputs": [],
>>>>>>> 9d142a5988318d8c68919041231f6771beeca43f
   "source": [
    "# Notice anything odd here? \n",
    "df['brand'].value_counts()"
   ]
  },
  {
   "cell_type": "code",
<<<<<<< HEAD
   "execution_count": 10,
   "metadata": {},
   "outputs": [
    {
     "data": {
      "text/plain": [
       "amazon          16153\n",
       "amazonbasics    12179\n",
       "Name: brand, dtype: int64"
      ]
     },
     "execution_count": 10,
     "metadata": {},
     "output_type": "execute_result"
    }
   ],
=======
   "execution_count": null,
   "metadata": {},
   "outputs": [],
>>>>>>> 9d142a5988318d8c68919041231f6771beeca43f
   "source": [
    "# Much cleaner\n",
    "df['brand'] = df['brand'].apply(lambda x: x.lower())\n",
    "df['brand'].value_counts()"
   ]
  },
  {
   "cell_type": "markdown",
   "metadata": {},
   "source": [
    "##### Keep Only Alphanumeric Characters\n",
    "Yes, we only want letters and numbers. Everything else is probably noise: punctuation, whitespace, and other notation. This one is little bit more complicated than our previous example. Here we will have to import the base package `re` (regular expressions). \n",
    "\n",
    "The only regex expression pattern you need for this is `'[^a-zA-Z 0-9]'` which keeps lower case letters, upper case letters, spaces, and numbers."
   ]
  },
  {
   "cell_type": "code",
<<<<<<< HEAD
   "execution_count": 11,
   "metadata": {},
   "outputs": [
    {
     "name": "stdout",
     "output_type": "stream",
     "text": [
      "Friends, Romans, countrymen, lend me your ears; 911\n"
     ]
    }
   ],
=======
   "execution_count": null,
   "metadata": {},
   "outputs": [],
>>>>>>> 9d142a5988318d8c68919041231f6771beeca43f
   "source": [
    "sample = sample+\" 911\"\n",
    "print(sample)"
   ]
  },
  {
   "cell_type": "code",
<<<<<<< HEAD
   "execution_count": 12,
   "metadata": {},
   "outputs": [
    {
     "data": {
      "text/plain": [
       "'Friends Romans countrymen lend me your ears 911'"
      ]
     },
     "execution_count": 12,
     "metadata": {},
     "output_type": "execute_result"
    }
   ],
=======
   "execution_count": null,
   "metadata": {},
   "outputs": [],
>>>>>>> 9d142a5988318d8c68919041231f6771beeca43f
   "source": [
    "import re\n",
    "\n",
    "re.sub('[^a-zA-Z 0-9]', '', sample)"
   ]
  },
  {
   "cell_type": "markdown",
   "metadata": {},
   "source": [
    "#### Two Minute Challenge \n",
    "- Complete the function `tokenize` below\n",
    "- Combine the methods which we discussed above to clean text before we analyze it\n",
    "- You can put the methods in any order you want"
   ]
  },
  {
   "cell_type": "code",
<<<<<<< HEAD
   "execution_count": 13,
=======
   "execution_count": null,
>>>>>>> 9d142a5988318d8c68919041231f6771beeca43f
   "metadata": {},
   "outputs": [],
   "source": [
    "def tokenize(text):\n",
    "    \"\"\"Parses a string into a list of semantic units (words)\n",
    "\n",
    "    Args:\n",
    "        text (str): The string that the function will tokenize.\n",
    "\n",
    "    Returns:\n",
    "        list: tokens parsed out by the mechanics of your choice\n",
    "    \"\"\"\n",
    "    \n",
    "    tokens = re.sub('[^a-zA-Z 0-9]', '', text)\n",
    "    tokens = tokens.lower().split()\n",
    "    \n",
    "    return tokens"
   ]
  },
  {
   "cell_type": "code",
<<<<<<< HEAD
   "execution_count": 14,
   "metadata": {},
   "outputs": [
    {
     "data": {
      "text/plain": [
       "['friends', 'romans', 'countrymen', 'lend', 'me', 'your', 'ears', '911']"
      ]
     },
     "execution_count": 14,
     "metadata": {},
     "output_type": "execute_result"
    }
   ],
=======
   "execution_count": null,
   "metadata": {},
   "outputs": [],
>>>>>>> 9d142a5988318d8c68919041231f6771beeca43f
   "source": [
    "tokenize(sample)"
   ]
  },
  {
   "cell_type": "markdown",
   "metadata": {
    "toc-hr-collapsed": true
   },
   "source": [
    "## Follow Along\n",
    "\n",
    "Our inability to analyze text data becomes quickly amplified in a business context. Consider the following: \n",
    "\n",
    "A business which sells widgets also collects customer reviews of those widgets. When the business first started out, they had a human read the reviews to look for patterns. Now, the business sells thousands of widgets a month. The human readers can't keep up with the pace of reviews to synthesize an accurate analysis. They need some science to help them analyze their data.\n",
    "\n",
    "Now, let's pretend that business is Amazon, and the widgets are Amazon products such as the Alexa, Echo, or other AmazonBasics products. Let's analyze their reviews with some counts. This dataset is available on [Kaggle](https://www.kaggle.com/datafiniti/consumer-reviews-of-amazon-products/)."
   ]
  },
  {
   "cell_type": "code",
<<<<<<< HEAD
   "execution_count": 15,
=======
   "execution_count": null,
>>>>>>> 9d142a5988318d8c68919041231f6771beeca43f
   "metadata": {},
   "outputs": [],
   "source": [
    "\"\"\"\n",
    "Import Statements\n",
    "\"\"\"\n",
    "\n",
    "# Base\n",
    "from collections import Counter\n",
    "import re\n",
    " \n",
    "import pandas as pd\n",
    "\n",
    "# Plotting\n",
    "import squarify\n",
    "import matplotlib.pyplot as plt\n",
    "import seaborn as sns\n",
    "\n",
    "# NLP Libraries\n",
    "import spacy\n",
    "from spacy.tokenizer import Tokenizer\n",
    "from nltk.stem import PorterStemmer\n",
    "\n",
    "nlp = spacy.load(\"en_core_web_lg\")"
   ]
  },
  {
   "cell_type": "code",
<<<<<<< HEAD
   "execution_count": 16,
   "metadata": {},
   "outputs": [
    {
     "data": {
      "text/html": [
       "<div>\n",
       "<style scoped>\n",
       "    .dataframe tbody tr th:only-of-type {\n",
       "        vertical-align: middle;\n",
       "    }\n",
       "\n",
       "    .dataframe tbody tr th {\n",
       "        vertical-align: top;\n",
       "    }\n",
       "\n",
       "    .dataframe thead th {\n",
       "        text-align: right;\n",
       "    }\n",
       "</style>\n",
       "<table border=\"1\" class=\"dataframe\">\n",
       "  <thead>\n",
       "    <tr style=\"text-align: right;\">\n",
       "      <th></th>\n",
       "      <th>id</th>\n",
       "      <th>dateAdded</th>\n",
       "      <th>dateUpdated</th>\n",
       "      <th>name</th>\n",
       "      <th>asins</th>\n",
       "      <th>brand</th>\n",
       "      <th>categories</th>\n",
       "      <th>primaryCategories</th>\n",
       "      <th>imageURLs</th>\n",
       "      <th>keys</th>\n",
       "      <th>...</th>\n",
       "      <th>reviews.didPurchase</th>\n",
       "      <th>reviews.doRecommend</th>\n",
       "      <th>reviews.id</th>\n",
       "      <th>reviews.numHelpful</th>\n",
       "      <th>reviews.rating</th>\n",
       "      <th>reviews.sourceURLs</th>\n",
       "      <th>reviews.text</th>\n",
       "      <th>reviews.title</th>\n",
       "      <th>reviews.username</th>\n",
       "      <th>sourceURLs</th>\n",
       "    </tr>\n",
       "  </thead>\n",
       "  <tbody>\n",
       "    <tr>\n",
       "      <th>0</th>\n",
       "      <td>AVpgNzjwLJeJML43Kpxn</td>\n",
       "      <td>2015-10-30T08:59:32Z</td>\n",
       "      <td>2019-04-25T09:08:16Z</td>\n",
       "      <td>AmazonBasics AAA Performance Alkaline Batterie...</td>\n",
       "      <td>B00QWO9P0O,B00LH3DMUO</td>\n",
       "      <td>amazonbasics</td>\n",
       "      <td>AA,AAA,Health,Electronics,Health &amp; Household,C...</td>\n",
       "      <td>Health &amp; Beauty</td>\n",
       "      <td>https://images-na.ssl-images-amazon.com/images...</td>\n",
       "      <td>amazonbasics/hl002619,amazonbasicsaaaperforman...</td>\n",
       "      <td>...</td>\n",
       "      <td>NaN</td>\n",
       "      <td>NaN</td>\n",
       "      <td>NaN</td>\n",
       "      <td>NaN</td>\n",
       "      <td>3</td>\n",
       "      <td>https://www.amazon.com/product-reviews/B00QWO9...</td>\n",
       "      <td>I order 3 of them and one of the item is bad q...</td>\n",
       "      <td>... 3 of them and one of the item is bad quali...</td>\n",
       "      <td>Byger yang</td>\n",
       "      <td>https://www.barcodable.com/upc/841710106442,ht...</td>\n",
       "    </tr>\n",
       "    <tr>\n",
       "      <th>1</th>\n",
       "      <td>AVpgNzjwLJeJML43Kpxn</td>\n",
       "      <td>2015-10-30T08:59:32Z</td>\n",
       "      <td>2019-04-25T09:08:16Z</td>\n",
       "      <td>AmazonBasics AAA Performance Alkaline Batterie...</td>\n",
       "      <td>B00QWO9P0O,B00LH3DMUO</td>\n",
       "      <td>amazonbasics</td>\n",
       "      <td>AA,AAA,Health,Electronics,Health &amp; Household,C...</td>\n",
       "      <td>Health &amp; Beauty</td>\n",
       "      <td>https://images-na.ssl-images-amazon.com/images...</td>\n",
       "      <td>amazonbasics/hl002619,amazonbasicsaaaperforman...</td>\n",
       "      <td>...</td>\n",
       "      <td>NaN</td>\n",
       "      <td>NaN</td>\n",
       "      <td>NaN</td>\n",
       "      <td>NaN</td>\n",
       "      <td>4</td>\n",
       "      <td>https://www.amazon.com/product-reviews/B00QWO9...</td>\n",
       "      <td>Bulk is always the less expensive way to go fo...</td>\n",
       "      <td>... always the less expensive way to go for pr...</td>\n",
       "      <td>ByMG</td>\n",
       "      <td>https://www.barcodable.com/upc/841710106442,ht...</td>\n",
       "    </tr>\n",
       "  </tbody>\n",
       "</table>\n",
       "<p>2 rows × 24 columns</p>\n",
       "</div>"
      ],
      "text/plain": [
       "                     id             dateAdded           dateUpdated  \\\n",
       "0  AVpgNzjwLJeJML43Kpxn  2015-10-30T08:59:32Z  2019-04-25T09:08:16Z   \n",
       "1  AVpgNzjwLJeJML43Kpxn  2015-10-30T08:59:32Z  2019-04-25T09:08:16Z   \n",
       "\n",
       "                                                name                  asins  \\\n",
       "0  AmazonBasics AAA Performance Alkaline Batterie...  B00QWO9P0O,B00LH3DMUO   \n",
       "1  AmazonBasics AAA Performance Alkaline Batterie...  B00QWO9P0O,B00LH3DMUO   \n",
       "\n",
       "          brand                                         categories  \\\n",
       "0  amazonbasics  AA,AAA,Health,Electronics,Health & Household,C...   \n",
       "1  amazonbasics  AA,AAA,Health,Electronics,Health & Household,C...   \n",
       "\n",
       "  primaryCategories                                          imageURLs  \\\n",
       "0   Health & Beauty  https://images-na.ssl-images-amazon.com/images...   \n",
       "1   Health & Beauty  https://images-na.ssl-images-amazon.com/images...   \n",
       "\n",
       "                                                keys  ... reviews.didPurchase  \\\n",
       "0  amazonbasics/hl002619,amazonbasicsaaaperforman...  ...                 NaN   \n",
       "1  amazonbasics/hl002619,amazonbasicsaaaperforman...  ...                 NaN   \n",
       "\n",
       "  reviews.doRecommend reviews.id reviews.numHelpful reviews.rating  \\\n",
       "0                 NaN        NaN                NaN              3   \n",
       "1                 NaN        NaN                NaN              4   \n",
       "\n",
       "                                  reviews.sourceURLs  \\\n",
       "0  https://www.amazon.com/product-reviews/B00QWO9...   \n",
       "1  https://www.amazon.com/product-reviews/B00QWO9...   \n",
       "\n",
       "                                        reviews.text  \\\n",
       "0  I order 3 of them and one of the item is bad q...   \n",
       "1  Bulk is always the less expensive way to go fo...   \n",
       "\n",
       "                                       reviews.title  reviews.username  \\\n",
       "0  ... 3 of them and one of the item is bad quali...        Byger yang   \n",
       "1  ... always the less expensive way to go for pr...              ByMG   \n",
       "\n",
       "                                          sourceURLs  \n",
       "0  https://www.barcodable.com/upc/841710106442,ht...  \n",
       "1  https://www.barcodable.com/upc/841710106442,ht...  \n",
       "\n",
       "[2 rows x 24 columns]"
      ]
     },
     "execution_count": 16,
     "metadata": {},
     "output_type": "execute_result"
    }
   ],
=======
   "execution_count": null,
   "metadata": {},
   "outputs": [],
>>>>>>> 9d142a5988318d8c68919041231f6771beeca43f
   "source": [
    "df.head(2)"
   ]
  },
  {
   "cell_type": "code",
<<<<<<< HEAD
   "execution_count": 17,
   "metadata": {},
   "outputs": [
    {
     "data": {
      "text/plain": [
       "(28332, 24)"
      ]
     },
     "execution_count": 17,
     "metadata": {},
     "output_type": "execute_result"
    }
   ],
=======
   "execution_count": null,
   "metadata": {},
   "outputs": [],
>>>>>>> 9d142a5988318d8c68919041231f6771beeca43f
   "source": [
    "df.shape"
   ]
  },
  {
   "cell_type": "code",
   "execution_count": null,
   "metadata": {},
   "outputs": [],
   "source": [
    "# How can we count the raw text?\n",
    "df['reviews.text'].value_counts(normalize=True)[:50]"
   ]
  },
  {
   "cell_type": "code",
<<<<<<< HEAD
   "execution_count": 20,
=======
   "execution_count": null,
>>>>>>> 9d142a5988318d8c68919041231f6771beeca43f
   "metadata": {},
   "outputs": [],
   "source": [
    "df['tokens'] = df['reviews.text'].apply(tokenize)"
   ]
  },
  {
   "cell_type": "code",
<<<<<<< HEAD
   "execution_count": 21,
   "metadata": {},
   "outputs": [
    {
     "data": {
      "text/plain": [
       "0    [i, order, 3, of, them, and, one, of, the, ite...\n",
       "1    [bulk, is, always, the, less, expensive, way, ...\n",
       "2    [well, they, are, not, duracell, but, for, the...\n",
       "3    [seem, to, work, as, well, as, name, brand, ba...\n",
       "4    [these, batteries, are, very, long, lasting, t...\n",
       "Name: tokens, dtype: object"
      ]
     },
     "execution_count": 21,
     "metadata": {},
     "output_type": "execute_result"
    }
   ],
=======
   "execution_count": null,
   "metadata": {},
   "outputs": [],
>>>>>>> 9d142a5988318d8c68919041231f6771beeca43f
   "source": [
    "df['tokens'].head()"
   ]
  },
  {
   "cell_type": "code",
<<<<<<< HEAD
   "execution_count": 22,
   "metadata": {},
   "outputs": [
    {
     "data": {
      "text/html": [
       "<div>\n",
       "<style scoped>\n",
       "    .dataframe tbody tr th:only-of-type {\n",
       "        vertical-align: middle;\n",
       "    }\n",
       "\n",
       "    .dataframe tbody tr th {\n",
       "        vertical-align: top;\n",
       "    }\n",
       "\n",
       "    .dataframe thead th {\n",
       "        text-align: right;\n",
       "    }\n",
       "</style>\n",
       "<table border=\"1\" class=\"dataframe\">\n",
       "  <thead>\n",
       "    <tr style=\"text-align: right;\">\n",
       "      <th></th>\n",
       "      <th>reviews.text</th>\n",
       "      <th>tokens</th>\n",
       "    </tr>\n",
       "  </thead>\n",
       "  <tbody>\n",
       "    <tr>\n",
       "      <th>0</th>\n",
       "      <td>I order 3 of them and one of the item is bad q...</td>\n",
       "      <td>[i, order, 3, of, them, and, one, of, the, ite...</td>\n",
       "    </tr>\n",
       "    <tr>\n",
       "      <th>1</th>\n",
       "      <td>Bulk is always the less expensive way to go fo...</td>\n",
       "      <td>[bulk, is, always, the, less, expensive, way, ...</td>\n",
       "    </tr>\n",
       "    <tr>\n",
       "      <th>2</th>\n",
       "      <td>Well they are not Duracell but for the price i...</td>\n",
       "      <td>[well, they, are, not, duracell, but, for, the...</td>\n",
       "    </tr>\n",
       "    <tr>\n",
       "      <th>3</th>\n",
       "      <td>Seem to work as well as name brand batteries a...</td>\n",
       "      <td>[seem, to, work, as, well, as, name, brand, ba...</td>\n",
       "    </tr>\n",
       "    <tr>\n",
       "      <th>4</th>\n",
       "      <td>These batteries are very long lasting the pric...</td>\n",
       "      <td>[these, batteries, are, very, long, lasting, t...</td>\n",
       "    </tr>\n",
       "    <tr>\n",
       "      <th>5</th>\n",
       "      <td>Bought a lot of batteries for Christmas and th...</td>\n",
       "      <td>[bought, a, lot, of, batteries, for, christmas...</td>\n",
       "    </tr>\n",
       "    <tr>\n",
       "      <th>6</th>\n",
       "      <td>ive not had any problame with these batteries ...</td>\n",
       "      <td>[ive, not, had, any, problame, with, these, ba...</td>\n",
       "    </tr>\n",
       "    <tr>\n",
       "      <th>7</th>\n",
       "      <td>Well if you are looking for cheap non-recharge...</td>\n",
       "      <td>[well, if, you, are, looking, for, cheap, nonr...</td>\n",
       "    </tr>\n",
       "    <tr>\n",
       "      <th>8</th>\n",
       "      <td>These do not hold the amount of high power jui...</td>\n",
       "      <td>[these, do, not, hold, the, amount, of, high, ...</td>\n",
       "    </tr>\n",
       "    <tr>\n",
       "      <th>9</th>\n",
       "      <td>AmazonBasics AA AAA batteries have done well b...</td>\n",
       "      <td>[amazonbasics, aa, aaa, batteries, have, done,...</td>\n",
       "    </tr>\n",
       "  </tbody>\n",
       "</table>\n",
       "</div>"
      ],
      "text/plain": [
       "                                        reviews.text  \\\n",
       "0  I order 3 of them and one of the item is bad q...   \n",
       "1  Bulk is always the less expensive way to go fo...   \n",
       "2  Well they are not Duracell but for the price i...   \n",
       "3  Seem to work as well as name brand batteries a...   \n",
       "4  These batteries are very long lasting the pric...   \n",
       "5  Bought a lot of batteries for Christmas and th...   \n",
       "6  ive not had any problame with these batteries ...   \n",
       "7  Well if you are looking for cheap non-recharge...   \n",
       "8  These do not hold the amount of high power jui...   \n",
       "9  AmazonBasics AA AAA batteries have done well b...   \n",
       "\n",
       "                                              tokens  \n",
       "0  [i, order, 3, of, them, and, one, of, the, ite...  \n",
       "1  [bulk, is, always, the, less, expensive, way, ...  \n",
       "2  [well, they, are, not, duracell, but, for, the...  \n",
       "3  [seem, to, work, as, well, as, name, brand, ba...  \n",
       "4  [these, batteries, are, very, long, lasting, t...  \n",
       "5  [bought, a, lot, of, batteries, for, christmas...  \n",
       "6  [ive, not, had, any, problame, with, these, ba...  \n",
       "7  [well, if, you, are, looking, for, cheap, nonr...  \n",
       "8  [these, do, not, hold, the, amount, of, high, ...  \n",
       "9  [amazonbasics, aa, aaa, batteries, have, done,...  "
      ]
     },
     "execution_count": 22,
     "metadata": {},
     "output_type": "execute_result"
    }
   ],
=======
   "execution_count": null,
   "metadata": {},
   "outputs": [],
>>>>>>> 9d142a5988318d8c68919041231f6771beeca43f
   "source": [
    "df[['reviews.text', 'tokens']][:10]"
   ]
  },
  {
   "cell_type": "code",
<<<<<<< HEAD
   "execution_count": 23,
   "metadata": {},
   "outputs": [
    {
     "data": {
      "text/plain": [
       "Electronics                    13995\n",
       "Health & Beauty                12071\n",
       "Toys & Games,Electronics        1676\n",
       "Office Supplies,Electronics      386\n",
       "Electronics,Media                185\n",
       "Office Supplies                    9\n",
       "Animals & Pet Supplies             6\n",
       "Electronics,Furniture              2\n",
       "Home & Garden                      2\n",
       "Name: primaryCategories, dtype: int64"
      ]
     },
     "execution_count": 23,
     "metadata": {},
     "output_type": "execute_result"
    }
   ],
=======
   "execution_count": null,
   "metadata": {},
   "outputs": [],
>>>>>>> 9d142a5988318d8c68919041231f6771beeca43f
   "source": [
    "df['primaryCategories'].value_counts()"
   ]
  },
  {
   "cell_type": "code",
<<<<<<< HEAD
   "execution_count": 24,
=======
   "execution_count": null,
>>>>>>> 9d142a5988318d8c68919041231f6771beeca43f
   "metadata": {},
   "outputs": [],
   "source": [
    "df = df[df['primaryCategories'] == 'Electronics'].copy()"
   ]
  },
  {
   "cell_type": "code",
<<<<<<< HEAD
   "execution_count": 25,
   "metadata": {},
   "outputs": [
    {
     "data": {
      "text/html": [
       "<div>\n",
       "<style scoped>\n",
       "    .dataframe tbody tr th:only-of-type {\n",
       "        vertical-align: middle;\n",
       "    }\n",
       "\n",
       "    .dataframe tbody tr th {\n",
       "        vertical-align: top;\n",
       "    }\n",
       "\n",
       "    .dataframe thead th {\n",
       "        text-align: right;\n",
       "    }\n",
       "</style>\n",
       "<table border=\"1\" class=\"dataframe\">\n",
       "  <thead>\n",
       "    <tr style=\"text-align: right;\">\n",
       "      <th></th>\n",
       "      <th>id</th>\n",
       "      <th>dateAdded</th>\n",
       "      <th>dateUpdated</th>\n",
       "      <th>name</th>\n",
       "      <th>asins</th>\n",
       "      <th>brand</th>\n",
       "      <th>categories</th>\n",
       "      <th>primaryCategories</th>\n",
       "      <th>imageURLs</th>\n",
       "      <th>keys</th>\n",
       "      <th>...</th>\n",
       "      <th>reviews.doRecommend</th>\n",
       "      <th>reviews.id</th>\n",
       "      <th>reviews.numHelpful</th>\n",
       "      <th>reviews.rating</th>\n",
       "      <th>reviews.sourceURLs</th>\n",
       "      <th>reviews.text</th>\n",
       "      <th>reviews.title</th>\n",
       "      <th>reviews.username</th>\n",
       "      <th>sourceURLs</th>\n",
       "      <th>tokens</th>\n",
       "    </tr>\n",
       "  </thead>\n",
       "  <tbody>\n",
       "    <tr>\n",
       "      <th>8343</th>\n",
       "      <td>AVpe7nGV1cnluZ0-aG2o</td>\n",
       "      <td>2014-10-28T11:14:38Z</td>\n",
       "      <td>2019-04-25T09:05:28Z</td>\n",
       "      <td>AmazonBasics Nylon CD/DVD Binder (400 Capacity)</td>\n",
       "      <td>B00DIHVMEA,B00EZ1ZTV0</td>\n",
       "      <td>Amazonbasics</td>\n",
       "      <td>Audio &amp; Video Accessories,TV, Video &amp; Home Aud...</td>\n",
       "      <td>Electronics</td>\n",
       "      <td>http://ecx.images-amazon.com/images/I/41jQha7Z...</td>\n",
       "      <td>amazonbasicsnyloncddvdbinder400capacity/b00ez1...</td>\n",
       "      <td>...</td>\n",
       "      <td>NaN</td>\n",
       "      <td>NaN</td>\n",
       "      <td>NaN</td>\n",
       "      <td>5</td>\n",
       "      <td>https://www.ebay.com/itm/Amazonbasics-Nylon-Cd...</td>\n",
       "      <td>Great case to keep everything in its place! My...</td>\n",
       "      <td>Excellent product</td>\n",
       "      <td>qs341_5</td>\n",
       "      <td>https://www.ebay.com/itm/AmazonBasics-Nylon-CD...</td>\n",
       "      <td>[great, case, to, keep, everything, in, its, p...</td>\n",
       "    </tr>\n",
       "    <tr>\n",
       "      <th>8344</th>\n",
       "      <td>AVpe7nGV1cnluZ0-aG2o</td>\n",
       "      <td>2014-10-28T11:14:38Z</td>\n",
       "      <td>2019-04-25T09:05:28Z</td>\n",
       "      <td>AmazonBasics Nylon CD/DVD Binder (400 Capacity)</td>\n",
       "      <td>B00DIHVMEA,B00EZ1ZTV0</td>\n",
       "      <td>Amazonbasics</td>\n",
       "      <td>Audio &amp; Video Accessories,TV, Video &amp; Home Aud...</td>\n",
       "      <td>Electronics</td>\n",
       "      <td>http://ecx.images-amazon.com/images/I/41jQha7Z...</td>\n",
       "      <td>amazonbasicsnyloncddvdbinder400capacity/b00ez1...</td>\n",
       "      <td>...</td>\n",
       "      <td>NaN</td>\n",
       "      <td>NaN</td>\n",
       "      <td>NaN</td>\n",
       "      <td>5</td>\n",
       "      <td>http://www.amazon.co.uk/gp/product-reviews/B00...</td>\n",
       "      <td>After discarding and getting rid of broken cd ...</td>\n",
       "      <td>It was a much needed storage</td>\n",
       "      <td>Diablita</td>\n",
       "      <td>https://www.ebay.com/itm/AmazonBasics-Nylon-CD...</td>\n",
       "      <td>[after, discarding, and, getting, rid, of, bro...</td>\n",
       "    </tr>\n",
       "    <tr>\n",
       "      <th>8345</th>\n",
       "      <td>AVpe7nGV1cnluZ0-aG2o</td>\n",
       "      <td>2014-10-28T11:14:38Z</td>\n",
       "      <td>2019-04-25T09:05:28Z</td>\n",
       "      <td>AmazonBasics Nylon CD/DVD Binder (400 Capacity)</td>\n",
       "      <td>B00DIHVMEA,B00EZ1ZTV0</td>\n",
       "      <td>Amazonbasics</td>\n",
       "      <td>Audio &amp; Video Accessories,TV, Video &amp; Home Aud...</td>\n",
       "      <td>Electronics</td>\n",
       "      <td>http://ecx.images-amazon.com/images/I/41jQha7Z...</td>\n",
       "      <td>amazonbasicsnyloncddvdbinder400capacity/b00ez1...</td>\n",
       "      <td>...</td>\n",
       "      <td>NaN</td>\n",
       "      <td>NaN</td>\n",
       "      <td>NaN</td>\n",
       "      <td>5</td>\n",
       "      <td>https://www.ebay.com/itm/Amazonbasics-Nylon-Cd...</td>\n",
       "      <td>A few dollars more, but I am boycotting amazon</td>\n",
       "      <td>it was worth it</td>\n",
       "      <td>coldbloodblazing</td>\n",
       "      <td>https://www.ebay.com/itm/AmazonBasics-Nylon-CD...</td>\n",
       "      <td>[a, few, dollars, more, but, i, am, boycotting...</td>\n",
       "    </tr>\n",
       "    <tr>\n",
       "      <th>8346</th>\n",
       "      <td>AVpe7nGV1cnluZ0-aG2o</td>\n",
       "      <td>2014-10-28T11:14:38Z</td>\n",
       "      <td>2019-04-25T09:05:28Z</td>\n",
       "      <td>AmazonBasics Nylon CD/DVD Binder (400 Capacity)</td>\n",
       "      <td>B00DIHVMEA,B00EZ1ZTV0</td>\n",
       "      <td>Amazonbasics</td>\n",
       "      <td>Audio &amp; Video Accessories,TV, Video &amp; Home Aud...</td>\n",
       "      <td>Electronics</td>\n",
       "      <td>http://ecx.images-amazon.com/images/I/41jQha7Z...</td>\n",
       "      <td>amazonbasicsnyloncddvdbinder400capacity/b00ez1...</td>\n",
       "      <td>...</td>\n",
       "      <td>NaN</td>\n",
       "      <td>NaN</td>\n",
       "      <td>NaN</td>\n",
       "      <td>2</td>\n",
       "      <td>http://www.amazon.co.uk/gp/product-reviews/B00...</td>\n",
       "      <td>My initial impression of this was very good. T...</td>\n",
       "      <td>Not well designed, very tight when full. Becom...</td>\n",
       "      <td>Snrub</td>\n",
       "      <td>https://www.ebay.com/itm/AmazonBasics-Nylon-CD...</td>\n",
       "      <td>[my, initial, impression, of, this, was, very,...</td>\n",
       "    </tr>\n",
       "    <tr>\n",
       "      <th>8347</th>\n",
       "      <td>AVpfl8cLLJeJML43AE3S</td>\n",
       "      <td>2016-04-08T18:16:28Z</td>\n",
       "      <td>2019-04-25T08:51:22Z</td>\n",
       "      <td>Amazon Echo ‚Äì White</td>\n",
       "      <td>B01E6AO69U,B00L9EPT8O</td>\n",
       "      <td>Amazon</td>\n",
       "      <td>Stereos,Remote Controls,Audio Docks &amp; Mini Spe...</td>\n",
       "      <td>Electronics</td>\n",
       "      <td>https://i.ebayimg.com/images/g/NWEAAOSwDehbdx6...</td>\n",
       "      <td>amazonechowhite/b00l9ept8o,amazonechowhite/b01...</td>\n",
       "      <td>...</td>\n",
       "      <td>NaN</td>\n",
       "      <td>NaN</td>\n",
       "      <td>NaN</td>\n",
       "      <td>5</td>\n",
       "      <td>https://www.newegg.com/Product/Product.aspx?It...</td>\n",
       "      <td>Pros: Standard Echo. Cons: Older generation Ec...</td>\n",
       "      <td>Arrived as described.</td>\n",
       "      <td>Anonymous</td>\n",
       "      <td>https://www.newegg.com/Product/Product.aspx?It...</td>\n",
       "      <td>[pros, standard, echo, cons, older, generation...</td>\n",
       "    </tr>\n",
       "  </tbody>\n",
       "</table>\n",
       "<p>5 rows × 25 columns</p>\n",
       "</div>"
      ],
      "text/plain": [
       "                        id             dateAdded           dateUpdated  \\\n",
       "8343  AVpe7nGV1cnluZ0-aG2o  2014-10-28T11:14:38Z  2019-04-25T09:05:28Z   \n",
       "8344  AVpe7nGV1cnluZ0-aG2o  2014-10-28T11:14:38Z  2019-04-25T09:05:28Z   \n",
       "8345  AVpe7nGV1cnluZ0-aG2o  2014-10-28T11:14:38Z  2019-04-25T09:05:28Z   \n",
       "8346  AVpe7nGV1cnluZ0-aG2o  2014-10-28T11:14:38Z  2019-04-25T09:05:28Z   \n",
       "8347  AVpfl8cLLJeJML43AE3S  2016-04-08T18:16:28Z  2019-04-25T08:51:22Z   \n",
       "\n",
       "                                                 name                  asins  \\\n",
       "8343  AmazonBasics Nylon CD/DVD Binder (400 Capacity)  B00DIHVMEA,B00EZ1ZTV0   \n",
       "8344  AmazonBasics Nylon CD/DVD Binder (400 Capacity)  B00DIHVMEA,B00EZ1ZTV0   \n",
       "8345  AmazonBasics Nylon CD/DVD Binder (400 Capacity)  B00DIHVMEA,B00EZ1ZTV0   \n",
       "8346  AmazonBasics Nylon CD/DVD Binder (400 Capacity)  B00DIHVMEA,B00EZ1ZTV0   \n",
       "8347                            Amazon Echo ‚Äì White  B01E6AO69U,B00L9EPT8O   \n",
       "\n",
       "             brand                                         categories  \\\n",
       "8343  Amazonbasics  Audio & Video Accessories,TV, Video & Home Aud...   \n",
       "8344  Amazonbasics  Audio & Video Accessories,TV, Video & Home Aud...   \n",
       "8345  Amazonbasics  Audio & Video Accessories,TV, Video & Home Aud...   \n",
       "8346  Amazonbasics  Audio & Video Accessories,TV, Video & Home Aud...   \n",
       "8347        Amazon  Stereos,Remote Controls,Audio Docks & Mini Spe...   \n",
       "\n",
       "     primaryCategories                                          imageURLs  \\\n",
       "8343       Electronics  http://ecx.images-amazon.com/images/I/41jQha7Z...   \n",
       "8344       Electronics  http://ecx.images-amazon.com/images/I/41jQha7Z...   \n",
       "8345       Electronics  http://ecx.images-amazon.com/images/I/41jQha7Z...   \n",
       "8346       Electronics  http://ecx.images-amazon.com/images/I/41jQha7Z...   \n",
       "8347       Electronics  https://i.ebayimg.com/images/g/NWEAAOSwDehbdx6...   \n",
       "\n",
       "                                                   keys  ...  \\\n",
       "8343  amazonbasicsnyloncddvdbinder400capacity/b00ez1...  ...   \n",
       "8344  amazonbasicsnyloncddvdbinder400capacity/b00ez1...  ...   \n",
       "8345  amazonbasicsnyloncddvdbinder400capacity/b00ez1...  ...   \n",
       "8346  amazonbasicsnyloncddvdbinder400capacity/b00ez1...  ...   \n",
       "8347  amazonechowhite/b00l9ept8o,amazonechowhite/b01...  ...   \n",
       "\n",
       "     reviews.doRecommend reviews.id reviews.numHelpful reviews.rating  \\\n",
       "8343                 NaN        NaN                NaN              5   \n",
       "8344                 NaN        NaN                NaN              5   \n",
       "8345                 NaN        NaN                NaN              5   \n",
       "8346                 NaN        NaN                NaN              2   \n",
       "8347                 NaN        NaN                NaN              5   \n",
       "\n",
       "                                     reviews.sourceURLs  \\\n",
       "8343  https://www.ebay.com/itm/Amazonbasics-Nylon-Cd...   \n",
       "8344  http://www.amazon.co.uk/gp/product-reviews/B00...   \n",
       "8345  https://www.ebay.com/itm/Amazonbasics-Nylon-Cd...   \n",
       "8346  http://www.amazon.co.uk/gp/product-reviews/B00...   \n",
       "8347  https://www.newegg.com/Product/Product.aspx?It...   \n",
       "\n",
       "                                           reviews.text  \\\n",
       "8343  Great case to keep everything in its place! My...   \n",
       "8344  After discarding and getting rid of broken cd ...   \n",
       "8345     A few dollars more, but I am boycotting amazon   \n",
       "8346  My initial impression of this was very good. T...   \n",
       "8347  Pros: Standard Echo. Cons: Older generation Ec...   \n",
       "\n",
       "                                          reviews.title  reviews.username  \\\n",
       "8343                                  Excellent product           qs341_5   \n",
       "8344                       It was a much needed storage          Diablita   \n",
       "8345                                    it was worth it  coldbloodblazing   \n",
       "8346  Not well designed, very tight when full. Becom...             Snrub   \n",
       "8347                              Arrived as described.         Anonymous   \n",
       "\n",
       "                                             sourceURLs  \\\n",
       "8343  https://www.ebay.com/itm/AmazonBasics-Nylon-CD...   \n",
       "8344  https://www.ebay.com/itm/AmazonBasics-Nylon-CD...   \n",
       "8345  https://www.ebay.com/itm/AmazonBasics-Nylon-CD...   \n",
       "8346  https://www.ebay.com/itm/AmazonBasics-Nylon-CD...   \n",
       "8347  https://www.newegg.com/Product/Product.aspx?It...   \n",
       "\n",
       "                                                 tokens  \n",
       "8343  [great, case, to, keep, everything, in, its, p...  \n",
       "8344  [after, discarding, and, getting, rid, of, bro...  \n",
       "8345  [a, few, dollars, more, but, i, am, boycotting...  \n",
       "8346  [my, initial, impression, of, this, was, very,...  \n",
       "8347  [pros, standard, echo, cons, older, generation...  \n",
       "\n",
       "[5 rows x 25 columns]"
      ]
     },
     "execution_count": 25,
     "metadata": {},
     "output_type": "execute_result"
    }
   ],
=======
   "execution_count": null,
   "metadata": {},
   "outputs": [],
>>>>>>> 9d142a5988318d8c68919041231f6771beeca43f
   "source": [
    "df.head()"
   ]
  },
  {
   "cell_type": "markdown",
   "metadata": {},
   "source": [
    "#### Analyzing Tokens"
   ]
  },
  {
   "cell_type": "code",
<<<<<<< HEAD
   "execution_count": 41,
   "metadata": {},
   "outputs": [
    {
     "data": {
      "text/plain": [
       "[('the', 15157),\n",
       " ('and', 13734),\n",
       " ('to', 12621),\n",
       " ('for', 11753),\n",
       " ('I', 11554),\n",
       " ('a', 10245),\n",
       " ('it', 8385),\n",
       " ('is', 8374),\n",
       " ('my', 6417),\n",
       " ('this', 5656)]"
      ]
     },
     "execution_count": 41,
     "metadata": {},
     "output_type": "execute_result"
    }
   ],
=======
   "execution_count": null,
   "metadata": {},
   "outputs": [],
>>>>>>> 9d142a5988318d8c68919041231f6771beeca43f
   "source": [
    "# Object from Base Python\n",
    "from collections import Counter\n",
    "\n",
    "# The object `Counter` takes an iterable, but you can instaniate an empty one and update it. \n",
    "word_counts = Counter()\n",
    "\n",
    "# Update it based on a split of each of our documents\n",
    "df['tokens'].apply(lambda x: word_counts.update(x))\n",
    "\n",
    "# Print out the 10 most common words\n",
    "word_counts.most_common(10)"
   ]
  },
  {
   "cell_type": "markdown",
   "metadata": {},
   "source": [
    "Let's create a fuction which takes a corpus of document and returns and dataframe of word counts for us to analyze."
   ]
  },
  {
   "cell_type": "code",
<<<<<<< HEAD
   "execution_count": 42,
=======
   "execution_count": null,
>>>>>>> 9d142a5988318d8c68919041231f6771beeca43f
   "metadata": {},
   "outputs": [],
   "source": [
    "def count(docs):\n",
    "\n",
    "        word_counts = Counter()\n",
    "        appears_in = Counter()\n",
    "        \n",
    "        total_docs = len(docs)\n",
    "\n",
    "        for doc in docs:\n",
    "            word_counts.update(doc)\n",
    "            appears_in.update(set(doc))\n",
    "\n",
    "        temp = zip(word_counts.keys(), word_counts.values())\n",
    "        \n",
    "        wc = pd.DataFrame(temp, columns = ['word', 'count'])\n",
    "\n",
    "        wc['rank'] = wc['count'].rank(method='first', ascending=False)\n",
    "        total = wc['count'].sum()\n",
    "\n",
    "        wc['pct_total'] = wc['count'].apply(lambda x: x / total)\n",
    "        \n",
    "        wc = wc.sort_values(by='rank')\n",
    "        wc['cul_pct_total'] = wc['pct_total'].cumsum()\n",
    "\n",
    "        t2 = zip(appears_in.keys(), appears_in.values())\n",
    "        ac = pd.DataFrame(t2, columns=['word', 'appears_in'])\n",
    "        wc = ac.merge(wc, on='word')\n",
    "\n",
    "        wc['appears_in_pct'] = wc['appears_in'].apply(lambda x: x / total_docs)\n",
    "        \n",
    "        return wc.sort_values(by='rank')"
   ]
  },
  {
   "cell_type": "code",
<<<<<<< HEAD
   "execution_count": 43,
=======
   "execution_count": null,
>>>>>>> 9d142a5988318d8c68919041231f6771beeca43f
   "metadata": {},
   "outputs": [],
   "source": [
    "# Use the Function\n",
    "wc = count(df['tokens'])"
   ]
  },
  {
   "cell_type": "code",
<<<<<<< HEAD
   "execution_count": 44,
   "metadata": {},
   "outputs": [
    {
     "data": {
      "text/html": [
       "<div>\n",
       "<style scoped>\n",
       "    .dataframe tbody tr th:only-of-type {\n",
       "        vertical-align: middle;\n",
       "    }\n",
       "\n",
       "    .dataframe tbody tr th {\n",
       "        vertical-align: top;\n",
       "    }\n",
       "\n",
       "    .dataframe thead th {\n",
       "        text-align: right;\n",
       "    }\n",
       "</style>\n",
       "<table border=\"1\" class=\"dataframe\">\n",
       "  <thead>\n",
       "    <tr style=\"text-align: right;\">\n",
       "      <th></th>\n",
       "      <th>word</th>\n",
       "      <th>appears_in</th>\n",
       "      <th>count</th>\n",
       "      <th>rank</th>\n",
       "      <th>pct_total</th>\n",
       "      <th>cul_pct_total</th>\n",
       "      <th>appears_in_pct</th>\n",
       "    </tr>\n",
       "  </thead>\n",
       "  <tbody>\n",
       "    <tr>\n",
       "      <th>34</th>\n",
       "      <td>the</td>\n",
       "      <td>7230</td>\n",
       "      <td>15157</td>\n",
       "      <td>1.0</td>\n",
       "      <td>0.035131</td>\n",
       "      <td>0.035131</td>\n",
       "      <td>0.516613</td>\n",
       "    </tr>\n",
       "    <tr>\n",
       "      <th>58</th>\n",
       "      <td>and</td>\n",
       "      <td>8438</td>\n",
       "      <td>13734</td>\n",
       "      <td>2.0</td>\n",
       "      <td>0.031832</td>\n",
       "      <td>0.066963</td>\n",
       "      <td>0.602930</td>\n",
       "    </tr>\n",
       "    <tr>\n",
       "      <th>15</th>\n",
       "      <td>to</td>\n",
       "      <td>7090</td>\n",
       "      <td>12621</td>\n",
       "      <td>3.0</td>\n",
       "      <td>0.029253</td>\n",
       "      <td>0.096216</td>\n",
       "      <td>0.506610</td>\n",
       "    </tr>\n",
       "    <tr>\n",
       "      <th>54</th>\n",
       "      <td>for</td>\n",
       "      <td>7811</td>\n",
       "      <td>11753</td>\n",
       "      <td>4.0</td>\n",
       "      <td>0.027241</td>\n",
       "      <td>0.123457</td>\n",
       "      <td>0.558128</td>\n",
       "    </tr>\n",
       "    <tr>\n",
       "      <th>110</th>\n",
       "      <td>I</td>\n",
       "      <td>5846</td>\n",
       "      <td>11554</td>\n",
       "      <td>5.0</td>\n",
       "      <td>0.026780</td>\n",
       "      <td>0.150237</td>\n",
       "      <td>0.417721</td>\n",
       "    </tr>\n",
       "  </tbody>\n",
       "</table>\n",
       "</div>"
      ],
      "text/plain": [
       "    word  appears_in  count  rank  pct_total  cul_pct_total  appears_in_pct\n",
       "34   the        7230  15157   1.0   0.035131       0.035131        0.516613\n",
       "58   and        8438  13734   2.0   0.031832       0.066963        0.602930\n",
       "15    to        7090  12621   3.0   0.029253       0.096216        0.506610\n",
       "54   for        7811  11753   4.0   0.027241       0.123457        0.558128\n",
       "110    I        5846  11554   5.0   0.026780       0.150237        0.417721"
      ]
     },
     "execution_count": 44,
     "metadata": {},
     "output_type": "execute_result"
    }
   ],
=======
   "execution_count": null,
   "metadata": {},
   "outputs": [],
>>>>>>> 9d142a5988318d8c68919041231f6771beeca43f
   "source": [
    "wc.head()"
   ]
  },
  {
   "cell_type": "code",
<<<<<<< HEAD
   "execution_count": 45,
   "metadata": {},
   "outputs": [
    {
     "data": {
      "image/png": "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\n",
      "text/plain": [
       "<Figure size 432x288 with 1 Axes>"
      ]
     },
     "metadata": {
      "needs_background": "light"
     },
     "output_type": "display_data"
    }
   ],
=======
   "execution_count": null,
   "metadata": {},
   "outputs": [],
>>>>>>> 9d142a5988318d8c68919041231f6771beeca43f
   "source": [
    "import seaborn as sns\n",
    "\n",
    "# Cumulative Distribution Plot\n",
    "sns.lineplot(x='rank', y='cul_pct_total', data=wc);"
   ]
  },
  {
   "cell_type": "code",
<<<<<<< HEAD
   "execution_count": 46,
   "metadata": {},
   "outputs": [
    {
     "data": {
      "text/plain": [
       "0.5323841222308237"
      ]
     },
     "execution_count": 46,
     "metadata": {},
     "output_type": "execute_result"
    }
   ],
=======
   "execution_count": null,
   "metadata": {},
   "outputs": [],
>>>>>>> 9d142a5988318d8c68919041231f6771beeca43f
   "source": [
    "wc[wc['rank'] <= 100]['cul_pct_total'].max()"
   ]
  },
  {
   "cell_type": "code",
<<<<<<< HEAD
   "execution_count": 47,
   "metadata": {},
   "outputs": [
    {
     "data": {
      "image/png": "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\n",
      "text/plain": [
       "<Figure size 432x288 with 1 Axes>"
      ]
     },
     "metadata": {
      "needs_background": "light"
     },
     "output_type": "display_data"
    }
   ],
=======
   "execution_count": null,
   "metadata": {},
   "outputs": [],
>>>>>>> 9d142a5988318d8c68919041231f6771beeca43f
   "source": [
    "import squarify\n",
    "import matplotlib.pyplot as plt\n",
    "\n",
    "wc_top20 = wc[wc['rank'] <= 20]\n",
    "\n",
    "squarify.plot(sizes=wc_top20['pct_total'], label=wc_top20['word'], alpha=.8 )\n",
    "plt.axis('off')\n",
    "plt.show()"
   ]
  },
  {
   "cell_type": "markdown",
   "metadata": {},
   "source": [
    "### Processing Raw Text with Spacy\n",
    "\n",
    "Spacy's datamodel for documents is unique among NLP libraries. Instead of storing the documents components in various data structures, Spacy indexes components and simply stores the lookup information. \n",
    "\n",
    "This is often why Spacy is considered to be more production grade than library like NLTK."
   ]
  },
  {
   "cell_type": "code",
<<<<<<< HEAD
   "execution_count": 26,
=======
   "execution_count": null,
>>>>>>> 9d142a5988318d8c68919041231f6771beeca43f
   "metadata": {},
   "outputs": [],
   "source": [
    "import spacy\n",
    "from spacy.tokenizer import Tokenizer\n",
    "\n",
    "nlp = spacy.load(\"en_core_web_lg\")\n",
    "\n",
    "# Tokenizer\n",
    "tokenizer = Tokenizer(nlp.vocab)"
   ]
  },
  {
   "cell_type": "code",
<<<<<<< HEAD
   "execution_count": 27,
   "metadata": {},
   "outputs": [
    {
     "data": {
      "text/plain": [
       "['Friends,', 'Romans,', 'countrymen,', 'lend', 'me', 'your', 'ears;']"
      ]
     },
     "execution_count": 27,
     "metadata": {},
     "output_type": "execute_result"
    }
   ],
=======
   "execution_count": null,
   "metadata": {},
   "outputs": [],
>>>>>>> 9d142a5988318d8c68919041231f6771beeca43f
   "source": [
    "# Print out list of tokens\n",
    "sample = \"Friends, Romans, countrymen, lend me your ears;\"\n",
    "[token.text for token in tokenizer(sample)]"
   ]
  },
  {
   "cell_type": "code",
<<<<<<< HEAD
   "execution_count": 28,
=======
   "execution_count": null,
>>>>>>> 9d142a5988318d8c68919041231f6771beeca43f
   "metadata": {},
   "outputs": [],
   "source": [
    "# Tokenizer Pipe\n",
    "\n",
    "tokens = []\n",
    "\n",
    "\"\"\" Make them tokens \"\"\"\n",
    "for doc in tokenizer.pipe(df['reviews.text'], batch_size=500):\n",
    "    doc_tokens = [token.text for token in doc]\n",
    "    tokens.append(doc_tokens)\n",
    "\n",
    "df['tokens'] = tokens"
   ]
  },
  {
   "cell_type": "code",
<<<<<<< HEAD
   "execution_count": 29,
   "metadata": {},
   "outputs": [
    {
     "data": {
      "text/plain": [
       "8343    [Great, case, to, keep, everything, in, its, p...\n",
       "8344    [After, discarding, and, getting, rid, of, bro...\n",
       "8345    [A, few, dollars, more,, but, I, am, boycottin...\n",
       "8346    [My, initial, impression, of, this, was, very,...\n",
       "8347    [Pros:, Standard, Echo., Cons:, Older, generat...\n",
       "Name: tokens, dtype: object"
      ]
     },
     "execution_count": 29,
     "metadata": {},
     "output_type": "execute_result"
    }
   ],
=======
   "execution_count": null,
   "metadata": {},
   "outputs": [],
>>>>>>> 9d142a5988318d8c68919041231f6771beeca43f
   "source": [
    "df['tokens'].head()"
   ]
  },
  {
   "cell_type": "code",
<<<<<<< HEAD
   "execution_count": 48,
=======
   "execution_count": null,
>>>>>>> 9d142a5988318d8c68919041231f6771beeca43f
   "metadata": {},
   "outputs": [],
   "source": [
    "wc = count(df['tokens'])"
   ]
  },
  {
   "cell_type": "code",
<<<<<<< HEAD
   "execution_count": 36,
   "metadata": {},
   "outputs": [],
   "source": [
    "products = df['name'].value_counts()"
=======
   "execution_count": null,
   "metadata": {},
   "outputs": [],
   "source": [
    "wc.head()"
>>>>>>> 9d142a5988318d8c68919041231f6771beeca43f
   ]
  },
  {
   "cell_type": "code",
<<<<<<< HEAD
   "execution_count": 37,
   "metadata": {},
   "outputs": [
    {
     "data": {
      "text/plain": [
       "Fire HD 8 Tablet with Alexa, 8 HD Display, 16 GB, Tangerine - with Special Offers                                                               2443\n",
       "All-New Fire HD 8 Tablet, 8 HD Display, Wi-Fi, 16 GB - Includes Special Offers, Black                                                           2370\n",
       "Fire Kids Edition Tablet, 7 Display, Wi-Fi, 16 GB, Blue Kid-Proof Case                                                                          1425\n",
       "Fire Kids Edition Tablet, 7 Display, Wi-Fi, 16 GB, Green Kid-Proof Case                                                                         1212\n",
       "Fire Tablet, 7 Display, Wi-Fi, 16 GB - Includes Special Offers, Black                                                                           1024\n",
       "Fire Tablet with Alexa, 7 Display, 16 GB, Blue - with Special Offers                                                                             987\n",
       "All-New Fire HD 8 Tablet with Alexa, 8 HD Display, 16 GB, Marine Blue - with Special Offers                                                      883\n",
       "Fire Tablet with Alexa, 7 Display, 16 GB, Magenta - with Special Offers                                                                          745\n",
       "Amazon Tap Smart Assistant Alexaenabled (black) Brand New                                                                                        601\n",
       "Kindle Voyage E-reader, 6 High-Resolution Display (300 ppi) with Adaptive Built-in Light, PagePress Sensors, Wi-Fi - Includes Special Offers     505\n",
       "All-New Fire HD 8 Kids Edition Tablet, 8 HD Display, 32 GB, Pink Kid-Proof Case                                                                  293\n",
       "All-New Fire HD 8 Kids Edition Tablet, 8 HD Display, 32 GB, Blue Kid-Proof Case                                                                  233\n",
       "All-New Fire HD 8 Tablet with Alexa, 8 HD Display, 32 GB, Marine Blue - with Special Offers                                                      160\n",
       "All-New Fire HD 8 Tablet, 8 HD Display, Wi-Fi, 32 GB - Includes Special Offers, Blue                                                             156\n",
       "Fire HD 8 Tablet with Alexa, 8 HD Display, 32 GB, Tangerine - with Special Offers                                                                156\n",
       "Name: name, dtype: int64"
      ]
     },
     "execution_count": 37,
     "metadata": {},
     "output_type": "execute_result"
    }
   ],
   "source": [
    "products.head(15)"
=======
   "execution_count": null,
   "metadata": {},
   "outputs": [],
   "source": [
    "wc_top20 = wc[wc['rank'] <= 20]\n",
    "\n",
    "squarify.plot(sizes=wc_top20['pct_total'], label=wc_top20['word'], alpha=.8 )\n",
    "plt.axis('off')\n",
    "plt.show()"
>>>>>>> 9d142a5988318d8c68919041231f6771beeca43f
   ]
  },
  {
   "cell_type": "markdown",
   "metadata": {
    "toc-hr-collapsed": true
   },
   "source": [
    "## Challenge\n",
    "\n",
    "In the module project, you will apply tokenization to another set of review data and produce visualizations of those tokens. "
   ]
  },
  {
   "cell_type": "code",
<<<<<<< HEAD
   "execution_count": 51,
   "metadata": {},
   "outputs": [
    {
     "data": {
      "text/plain": [
       "['id',\n",
       " 'dateAdded',\n",
       " 'dateUpdated',\n",
       " 'name',\n",
       " 'asins',\n",
       " 'brand',\n",
       " 'categories',\n",
       " 'primaryCategories',\n",
       " 'imageURLs',\n",
       " 'keys',\n",
       " 'manufacturer',\n",
       " 'manufacturerNumber',\n",
       " 'reviews.date',\n",
       " 'reviews.dateSeen',\n",
       " 'reviews.didPurchase',\n",
       " 'reviews.doRecommend',\n",
       " 'reviews.id',\n",
       " 'reviews.numHelpful',\n",
       " 'reviews.rating',\n",
       " 'reviews.sourceURLs',\n",
       " 'reviews.text',\n",
       " 'reviews.title',\n",
       " 'reviews.username',\n",
       " 'sourceURLs',\n",
       " 'tokens']"
      ]
     },
     "execution_count": 51,
     "metadata": {},
     "output_type": "execute_result"
    }
   ],
=======
   "execution_count": null,
   "metadata": {},
   "outputs": [],
>>>>>>> 9d142a5988318d8c68919041231f6771beeca43f
   "source": [
    "list(df)"
   ]
  },
  {
   "cell_type": "markdown",
   "metadata": {
    "toc-hr-collapsed": false
   },
   "source": [
    "# Stop Words (Learn)\n",
    "<a id=\"p2\"></a>"
   ]
  },
  {
   "cell_type": "markdown",
   "metadata": {},
   "source": [
    "## Overview\n",
    "Section Agenda\n",
    "- What are they?\n",
    "- How do we get rid of them using Spacy?\n",
    "- Visualization\n",
    "- Libraries of Stop Words\n",
    "- Extending Stop Words\n",
    "- Statistical trimming\n",
    "\n",
    "If the visualizations above, you began to notice a pattern. Most of the words don't really add much to our understanding of product reviews. Words such as \"I\", \"and\", \"of\", etc. have almost no semantic meaning to us. We call these useless words \"stop words,\" because we should 'stop' ourselves from including them in the analysis. \n",
    "\n",
    "Most NLP libraries have built in lists of stop words that common english words: conjunctions, articles, adverbs, pronouns, and common verbs. The best practice, however, is to extend/customize these standard english stopwords for your problem's domain. If I am studying political science, I may want to exclude the word \"politics\" from my analysis; it's so common it does not add to my understanding. "
   ]
  },
  {
   "cell_type": "markdown",
   "metadata": {
    "toc-hr-collapsed": true
   },
   "source": [
    "## Follow Along \n",
    "\n",
    "### Default Stop Words\n",
    "Let's take a look at the standard stop words that came with our Spacy model:"
   ]
  },
  {
   "cell_type": "code",
<<<<<<< HEAD
   "execution_count": 52,
   "metadata": {},
   "outputs": [
    {
     "data": {
      "text/plain": [
       "{\"'d\",\n",
       " \"'ll\",\n",
       " \"'m\",\n",
       " \"'re\",\n",
       " \"'s\",\n",
       " \"'ve\",\n",
       " 'a',\n",
       " 'about',\n",
       " 'above',\n",
       " 'across',\n",
       " 'after',\n",
       " 'afterwards',\n",
       " 'again',\n",
       " 'against',\n",
       " 'all',\n",
       " 'almost',\n",
       " 'alone',\n",
       " 'along',\n",
       " 'already',\n",
       " 'also',\n",
       " 'although',\n",
       " 'always',\n",
       " 'am',\n",
       " 'among',\n",
       " 'amongst',\n",
       " 'amount',\n",
       " 'an',\n",
       " 'and',\n",
       " 'another',\n",
       " 'any',\n",
       " 'anyhow',\n",
       " 'anyone',\n",
       " 'anything',\n",
       " 'anyway',\n",
       " 'anywhere',\n",
       " 'are',\n",
       " 'around',\n",
       " 'as',\n",
       " 'at',\n",
       " 'back',\n",
       " 'be',\n",
       " 'became',\n",
       " 'because',\n",
       " 'become',\n",
       " 'becomes',\n",
       " 'becoming',\n",
       " 'been',\n",
       " 'before',\n",
       " 'beforehand',\n",
       " 'behind',\n",
       " 'being',\n",
       " 'below',\n",
       " 'beside',\n",
       " 'besides',\n",
       " 'between',\n",
       " 'beyond',\n",
       " 'both',\n",
       " 'bottom',\n",
       " 'but',\n",
       " 'by',\n",
       " 'ca',\n",
       " 'call',\n",
       " 'can',\n",
       " 'cannot',\n",
       " 'could',\n",
       " 'did',\n",
       " 'do',\n",
       " 'does',\n",
       " 'doing',\n",
       " 'done',\n",
       " 'down',\n",
       " 'due',\n",
       " 'during',\n",
       " 'each',\n",
       " 'eight',\n",
       " 'either',\n",
       " 'eleven',\n",
       " 'else',\n",
       " 'elsewhere',\n",
       " 'empty',\n",
       " 'enough',\n",
       " 'even',\n",
       " 'ever',\n",
       " 'every',\n",
       " 'everyone',\n",
       " 'everything',\n",
       " 'everywhere',\n",
       " 'except',\n",
       " 'few',\n",
       " 'fifteen',\n",
       " 'fifty',\n",
       " 'first',\n",
       " 'five',\n",
       " 'for',\n",
       " 'former',\n",
       " 'formerly',\n",
       " 'forty',\n",
       " 'four',\n",
       " 'from',\n",
       " 'front',\n",
       " 'full',\n",
       " 'further',\n",
       " 'get',\n",
       " 'give',\n",
       " 'go',\n",
       " 'had',\n",
       " 'has',\n",
       " 'have',\n",
       " 'he',\n",
       " 'hence',\n",
       " 'her',\n",
       " 'here',\n",
       " 'hereafter',\n",
       " 'hereby',\n",
       " 'herein',\n",
       " 'hereupon',\n",
       " 'hers',\n",
       " 'herself',\n",
       " 'him',\n",
       " 'himself',\n",
       " 'his',\n",
       " 'how',\n",
       " 'however',\n",
       " 'hundred',\n",
       " 'i',\n",
       " 'if',\n",
       " 'in',\n",
       " 'indeed',\n",
       " 'into',\n",
       " 'is',\n",
       " 'it',\n",
       " 'its',\n",
       " 'itself',\n",
       " 'just',\n",
       " 'keep',\n",
       " 'last',\n",
       " 'latter',\n",
       " 'latterly',\n",
       " 'least',\n",
       " 'less',\n",
       " 'made',\n",
       " 'make',\n",
       " 'many',\n",
       " 'may',\n",
       " 'me',\n",
       " 'meanwhile',\n",
       " 'might',\n",
       " 'mine',\n",
       " 'more',\n",
       " 'moreover',\n",
       " 'most',\n",
       " 'mostly',\n",
       " 'move',\n",
       " 'much',\n",
       " 'must',\n",
       " 'my',\n",
       " 'myself',\n",
       " \"n't\",\n",
       " 'name',\n",
       " 'namely',\n",
       " 'neither',\n",
       " 'never',\n",
       " 'nevertheless',\n",
       " 'next',\n",
       " 'nine',\n",
       " 'no',\n",
       " 'nobody',\n",
       " 'none',\n",
       " 'noone',\n",
       " 'nor',\n",
       " 'not',\n",
       " 'nothing',\n",
       " 'now',\n",
       " 'nowhere',\n",
       " 'n‘t',\n",
       " 'n’t',\n",
       " 'of',\n",
       " 'off',\n",
       " 'often',\n",
       " 'on',\n",
       " 'once',\n",
       " 'one',\n",
       " 'only',\n",
       " 'onto',\n",
       " 'or',\n",
       " 'other',\n",
       " 'others',\n",
       " 'otherwise',\n",
       " 'our',\n",
       " 'ours',\n",
       " 'ourselves',\n",
       " 'out',\n",
       " 'over',\n",
       " 'own',\n",
       " 'part',\n",
       " 'per',\n",
       " 'perhaps',\n",
       " 'please',\n",
       " 'put',\n",
       " 'quite',\n",
       " 'rather',\n",
       " 're',\n",
       " 'really',\n",
       " 'regarding',\n",
       " 'same',\n",
       " 'say',\n",
       " 'see',\n",
       " 'seem',\n",
       " 'seemed',\n",
       " 'seeming',\n",
       " 'seems',\n",
       " 'serious',\n",
       " 'several',\n",
       " 'she',\n",
       " 'should',\n",
       " 'show',\n",
       " 'side',\n",
       " 'since',\n",
       " 'six',\n",
       " 'sixty',\n",
       " 'so',\n",
       " 'some',\n",
       " 'somehow',\n",
       " 'someone',\n",
       " 'something',\n",
       " 'sometime',\n",
       " 'sometimes',\n",
       " 'somewhere',\n",
       " 'still',\n",
       " 'such',\n",
       " 'take',\n",
       " 'ten',\n",
       " 'than',\n",
       " 'that',\n",
       " 'the',\n",
       " 'their',\n",
       " 'them',\n",
       " 'themselves',\n",
       " 'then',\n",
       " 'thence',\n",
       " 'there',\n",
       " 'thereafter',\n",
       " 'thereby',\n",
       " 'therefore',\n",
       " 'therein',\n",
       " 'thereupon',\n",
       " 'these',\n",
       " 'they',\n",
       " 'third',\n",
       " 'this',\n",
       " 'those',\n",
       " 'though',\n",
       " 'three',\n",
       " 'through',\n",
       " 'throughout',\n",
       " 'thru',\n",
       " 'thus',\n",
       " 'to',\n",
       " 'together',\n",
       " 'too',\n",
       " 'top',\n",
       " 'toward',\n",
       " 'towards',\n",
       " 'twelve',\n",
       " 'twenty',\n",
       " 'two',\n",
       " 'under',\n",
       " 'unless',\n",
       " 'until',\n",
       " 'up',\n",
       " 'upon',\n",
       " 'us',\n",
       " 'used',\n",
       " 'using',\n",
       " 'various',\n",
       " 'very',\n",
       " 'via',\n",
       " 'was',\n",
       " 'we',\n",
       " 'well',\n",
       " 'were',\n",
       " 'what',\n",
       " 'whatever',\n",
       " 'when',\n",
       " 'whence',\n",
       " 'whenever',\n",
       " 'where',\n",
       " 'whereafter',\n",
       " 'whereas',\n",
       " 'whereby',\n",
       " 'wherein',\n",
       " 'whereupon',\n",
       " 'wherever',\n",
       " 'whether',\n",
       " 'which',\n",
       " 'while',\n",
       " 'whither',\n",
       " 'who',\n",
       " 'whoever',\n",
       " 'whole',\n",
       " 'whom',\n",
       " 'whose',\n",
       " 'why',\n",
       " 'will',\n",
       " 'with',\n",
       " 'within',\n",
       " 'without',\n",
       " 'would',\n",
       " 'yet',\n",
       " 'you',\n",
       " 'your',\n",
       " 'yours',\n",
       " 'yourself',\n",
       " 'yourselves',\n",
       " '‘d',\n",
       " '‘ll',\n",
       " '‘m',\n",
       " '‘re',\n",
       " '‘s',\n",
       " '‘ve',\n",
       " '’d',\n",
       " '’ll',\n",
       " '’m',\n",
       " '’re',\n",
       " '’s',\n",
       " '’ve'}"
      ]
     },
     "execution_count": 52,
     "metadata": {},
     "output_type": "execute_result"
    }
   ],
=======
   "execution_count": null,
   "metadata": {},
   "outputs": [],
>>>>>>> 9d142a5988318d8c68919041231f6771beeca43f
   "source": [
    "# Spacy's Default Stop Words\n",
    "nlp.Defaults.stop_words"
   ]
  },
  {
   "cell_type": "code",
<<<<<<< HEAD
   "execution_count": 78,
=======
   "execution_count": null,
>>>>>>> 9d142a5988318d8c68919041231f6771beeca43f
   "metadata": {},
   "outputs": [],
   "source": [
    "tokens = []\n",
    "\n",
    "\"\"\" Update those tokens w/o stopwords\"\"\"\n",
    "for doc in tokenizer.pipe(df['reviews.text'], batch_size=500):\n",
    "    \n",
    "    doc_tokens = []\n",
    "    \n",
    "    for token in doc:\n",
    "        if (token.is_stop == False) & (token.is_punct == False):\n",
    "            doc_tokens.append(token.text.lower())\n",
    "\n",
    "    tokens.append(doc_tokens)\n",
    "\n",
    "df['tokens'] = tokens"
   ]
  },
  {
   "cell_type": "code",
<<<<<<< HEAD
   "execution_count": 54,
   "metadata": {},
   "outputs": [
    {
     "data": {
      "text/plain": [
       "8343    [great, case, place!, husband, love, it!!!!, h...\n",
       "8344    [discarding, getting, rid, broken, cd, cases,,...\n",
       "8345                 [dollars, more,, boycotting, amazon]\n",
       "8346    [initial, impression, good., material, nicer, ...\n",
       "8347    [pros:, standard, echo., cons:, older, generat...\n",
       "Name: tokens, dtype: object"
      ]
     },
     "execution_count": 54,
     "metadata": {},
     "output_type": "execute_result"
    }
   ],
=======
   "execution_count": null,
   "metadata": {},
   "outputs": [],
>>>>>>> 9d142a5988318d8c68919041231f6771beeca43f
   "source": [
    "df.tokens.head()"
   ]
  },
  {
   "cell_type": "code",
<<<<<<< HEAD
   "execution_count": 55,
   "metadata": {},
   "outputs": [
    {
     "data": {
      "image/png": "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\n",
      "text/plain": [
       "<Figure size 432x288 with 1 Axes>"
      ]
     },
     "metadata": {
      "needs_background": "light"
     },
     "output_type": "display_data"
    }
   ],
=======
   "execution_count": null,
   "metadata": {},
   "outputs": [],
>>>>>>> 9d142a5988318d8c68919041231f6771beeca43f
   "source": [
    "wc = count(df['tokens'])\n",
    "\n",
    "wc_top20 = wc[wc['rank'] <= 20]\n",
    "\n",
    "squarify.plot(sizes=wc_top20['pct_total'], label=wc_top20['word'], alpha=.8 )\n",
    "plt.axis('off')\n",
    "plt.show()"
   ]
  },
  {
   "cell_type": "markdown",
   "metadata": {},
   "source": [
    "### Extending Stop Words"
   ]
  },
  {
   "cell_type": "code",
<<<<<<< HEAD
   "execution_count": 56,
   "metadata": {},
   "outputs": [
    {
     "name": "stdout",
     "output_type": "stream",
     "text": [
      "<class 'set'>\n"
     ]
    }
   ],
=======
   "execution_count": null,
   "metadata": {},
   "outputs": [],
>>>>>>> 9d142a5988318d8c68919041231f6771beeca43f
   "source": [
    "print(type(nlp.Defaults.stop_words))"
   ]
  },
  {
   "cell_type": "code",
<<<<<<< HEAD
   "execution_count": 57,
=======
   "execution_count": null,
>>>>>>> 9d142a5988318d8c68919041231f6771beeca43f
   "metadata": {},
   "outputs": [],
   "source": [
    "STOP_WORDS = nlp.Defaults.stop_words.union(['batteries','I', 'amazon', 'i', 'Amazon', 'it', \"it's\", 'it.', 'the', 'this',])"
   ]
  },
  {
   "cell_type": "code",
<<<<<<< HEAD
   "execution_count": 58,
   "metadata": {},
   "outputs": [
    {
     "data": {
      "text/plain": [
       "{\"'d\",\n",
       " \"'ll\",\n",
       " \"'m\",\n",
       " \"'re\",\n",
       " \"'s\",\n",
       " \"'ve\",\n",
       " 'Amazon',\n",
       " 'I',\n",
       " 'a',\n",
       " 'about',\n",
       " 'above',\n",
       " 'across',\n",
       " 'after',\n",
       " 'afterwards',\n",
       " 'again',\n",
       " 'against',\n",
       " 'all',\n",
       " 'almost',\n",
       " 'alone',\n",
       " 'along',\n",
       " 'already',\n",
       " 'also',\n",
       " 'although',\n",
       " 'always',\n",
       " 'am',\n",
       " 'amazon',\n",
       " 'among',\n",
       " 'amongst',\n",
       " 'amount',\n",
       " 'an',\n",
       " 'and',\n",
       " 'another',\n",
       " 'any',\n",
       " 'anyhow',\n",
       " 'anyone',\n",
       " 'anything',\n",
       " 'anyway',\n",
       " 'anywhere',\n",
       " 'are',\n",
       " 'around',\n",
       " 'as',\n",
       " 'at',\n",
       " 'back',\n",
       " 'batteries',\n",
       " 'be',\n",
       " 'became',\n",
       " 'because',\n",
       " 'become',\n",
       " 'becomes',\n",
       " 'becoming',\n",
       " 'been',\n",
       " 'before',\n",
       " 'beforehand',\n",
       " 'behind',\n",
       " 'being',\n",
       " 'below',\n",
       " 'beside',\n",
       " 'besides',\n",
       " 'between',\n",
       " 'beyond',\n",
       " 'both',\n",
       " 'bottom',\n",
       " 'but',\n",
       " 'by',\n",
       " 'ca',\n",
       " 'call',\n",
       " 'can',\n",
       " 'cannot',\n",
       " 'could',\n",
       " 'did',\n",
       " 'do',\n",
       " 'does',\n",
       " 'doing',\n",
       " 'done',\n",
       " 'down',\n",
       " 'due',\n",
       " 'during',\n",
       " 'each',\n",
       " 'eight',\n",
       " 'either',\n",
       " 'eleven',\n",
       " 'else',\n",
       " 'elsewhere',\n",
       " 'empty',\n",
       " 'enough',\n",
       " 'even',\n",
       " 'ever',\n",
       " 'every',\n",
       " 'everyone',\n",
       " 'everything',\n",
       " 'everywhere',\n",
       " 'except',\n",
       " 'few',\n",
       " 'fifteen',\n",
       " 'fifty',\n",
       " 'first',\n",
       " 'five',\n",
       " 'for',\n",
       " 'former',\n",
       " 'formerly',\n",
       " 'forty',\n",
       " 'four',\n",
       " 'from',\n",
       " 'front',\n",
       " 'full',\n",
       " 'further',\n",
       " 'get',\n",
       " 'give',\n",
       " 'go',\n",
       " 'had',\n",
       " 'has',\n",
       " 'have',\n",
       " 'he',\n",
       " 'hence',\n",
       " 'her',\n",
       " 'here',\n",
       " 'hereafter',\n",
       " 'hereby',\n",
       " 'herein',\n",
       " 'hereupon',\n",
       " 'hers',\n",
       " 'herself',\n",
       " 'him',\n",
       " 'himself',\n",
       " 'his',\n",
       " 'how',\n",
       " 'however',\n",
       " 'hundred',\n",
       " 'i',\n",
       " 'if',\n",
       " 'in',\n",
       " 'indeed',\n",
       " 'into',\n",
       " 'is',\n",
       " 'it',\n",
       " \"it's\",\n",
       " 'it.',\n",
       " 'its',\n",
       " 'itself',\n",
       " 'just',\n",
       " 'keep',\n",
       " 'last',\n",
       " 'latter',\n",
       " 'latterly',\n",
       " 'least',\n",
       " 'less',\n",
       " 'made',\n",
       " 'make',\n",
       " 'many',\n",
       " 'may',\n",
       " 'me',\n",
       " 'meanwhile',\n",
       " 'might',\n",
       " 'mine',\n",
       " 'more',\n",
       " 'moreover',\n",
       " 'most',\n",
       " 'mostly',\n",
       " 'move',\n",
       " 'much',\n",
       " 'must',\n",
       " 'my',\n",
       " 'myself',\n",
       " \"n't\",\n",
       " 'name',\n",
       " 'namely',\n",
       " 'neither',\n",
       " 'never',\n",
       " 'nevertheless',\n",
       " 'next',\n",
       " 'nine',\n",
       " 'no',\n",
       " 'nobody',\n",
       " 'none',\n",
       " 'noone',\n",
       " 'nor',\n",
       " 'not',\n",
       " 'nothing',\n",
       " 'now',\n",
       " 'nowhere',\n",
       " 'n‘t',\n",
       " 'n’t',\n",
       " 'of',\n",
       " 'off',\n",
       " 'often',\n",
       " 'on',\n",
       " 'once',\n",
       " 'one',\n",
       " 'only',\n",
       " 'onto',\n",
       " 'or',\n",
       " 'other',\n",
       " 'others',\n",
       " 'otherwise',\n",
       " 'our',\n",
       " 'ours',\n",
       " 'ourselves',\n",
       " 'out',\n",
       " 'over',\n",
       " 'own',\n",
       " 'part',\n",
       " 'per',\n",
       " 'perhaps',\n",
       " 'please',\n",
       " 'put',\n",
       " 'quite',\n",
       " 'rather',\n",
       " 're',\n",
       " 'really',\n",
       " 'regarding',\n",
       " 'same',\n",
       " 'say',\n",
       " 'see',\n",
       " 'seem',\n",
       " 'seemed',\n",
       " 'seeming',\n",
       " 'seems',\n",
       " 'serious',\n",
       " 'several',\n",
       " 'she',\n",
       " 'should',\n",
       " 'show',\n",
       " 'side',\n",
       " 'since',\n",
       " 'six',\n",
       " 'sixty',\n",
       " 'so',\n",
       " 'some',\n",
       " 'somehow',\n",
       " 'someone',\n",
       " 'something',\n",
       " 'sometime',\n",
       " 'sometimes',\n",
       " 'somewhere',\n",
       " 'still',\n",
       " 'such',\n",
       " 'take',\n",
       " 'ten',\n",
       " 'than',\n",
       " 'that',\n",
       " 'the',\n",
       " 'their',\n",
       " 'them',\n",
       " 'themselves',\n",
       " 'then',\n",
       " 'thence',\n",
       " 'there',\n",
       " 'thereafter',\n",
       " 'thereby',\n",
       " 'therefore',\n",
       " 'therein',\n",
       " 'thereupon',\n",
       " 'these',\n",
       " 'they',\n",
       " 'third',\n",
       " 'this',\n",
       " 'those',\n",
       " 'though',\n",
       " 'three',\n",
       " 'through',\n",
       " 'throughout',\n",
       " 'thru',\n",
       " 'thus',\n",
       " 'to',\n",
       " 'together',\n",
       " 'too',\n",
       " 'top',\n",
       " 'toward',\n",
       " 'towards',\n",
       " 'twelve',\n",
       " 'twenty',\n",
       " 'two',\n",
       " 'under',\n",
       " 'unless',\n",
       " 'until',\n",
       " 'up',\n",
       " 'upon',\n",
       " 'us',\n",
       " 'used',\n",
       " 'using',\n",
       " 'various',\n",
       " 'very',\n",
       " 'via',\n",
       " 'was',\n",
       " 'we',\n",
       " 'well',\n",
       " 'were',\n",
       " 'what',\n",
       " 'whatever',\n",
       " 'when',\n",
       " 'whence',\n",
       " 'whenever',\n",
       " 'where',\n",
       " 'whereafter',\n",
       " 'whereas',\n",
       " 'whereby',\n",
       " 'wherein',\n",
       " 'whereupon',\n",
       " 'wherever',\n",
       " 'whether',\n",
       " 'which',\n",
       " 'while',\n",
       " 'whither',\n",
       " 'who',\n",
       " 'whoever',\n",
       " 'whole',\n",
       " 'whom',\n",
       " 'whose',\n",
       " 'why',\n",
       " 'will',\n",
       " 'with',\n",
       " 'within',\n",
       " 'without',\n",
       " 'would',\n",
       " 'yet',\n",
       " 'you',\n",
       " 'your',\n",
       " 'yours',\n",
       " 'yourself',\n",
       " 'yourselves',\n",
       " '‘d',\n",
       " '‘ll',\n",
       " '‘m',\n",
       " '‘re',\n",
       " '‘s',\n",
       " '‘ve',\n",
       " '’d',\n",
       " '’ll',\n",
       " '’m',\n",
       " '’re',\n",
       " '’s',\n",
       " '’ve'}"
      ]
     },
     "execution_count": 58,
     "metadata": {},
     "output_type": "execute_result"
    }
   ],
=======
   "execution_count": null,
   "metadata": {},
   "outputs": [],
>>>>>>> 9d142a5988318d8c68919041231f6771beeca43f
   "source": [
    "STOP_WORDS"
   ]
  },
  {
   "cell_type": "code",
<<<<<<< HEAD
   "execution_count": 59,
=======
   "execution_count": null,
>>>>>>> 9d142a5988318d8c68919041231f6771beeca43f
   "metadata": {},
   "outputs": [],
   "source": [
    "tokens = []\n",
    "\n",
    "for doc in tokenizer.pipe(df['reviews.text'], batch_size=500):\n",
    "    \n",
    "    doc_tokens = []\n",
    "    \n",
    "    for token in doc: \n",
    "        if token.text.lower() not in STOP_WORDS:\n",
    "            doc_tokens.append(token.text.lower())\n",
    "   \n",
    "    tokens.append(doc_tokens)\n",
    "    \n",
    "df['tokens'] = tokens"
   ]
  },
  {
   "cell_type": "code",
<<<<<<< HEAD
   "execution_count": 60,
   "metadata": {},
   "outputs": [
    {
     "data": {
      "text/html": [
       "<div>\n",
       "<style scoped>\n",
       "    .dataframe tbody tr th:only-of-type {\n",
       "        vertical-align: middle;\n",
       "    }\n",
       "\n",
       "    .dataframe tbody tr th {\n",
       "        vertical-align: top;\n",
       "    }\n",
       "\n",
       "    .dataframe thead th {\n",
       "        text-align: right;\n",
       "    }\n",
       "</style>\n",
       "<table border=\"1\" class=\"dataframe\">\n",
       "  <thead>\n",
       "    <tr style=\"text-align: right;\">\n",
       "      <th></th>\n",
       "      <th>word</th>\n",
       "      <th>appears_in</th>\n",
       "      <th>count</th>\n",
       "      <th>rank</th>\n",
       "      <th>pct_total</th>\n",
       "      <th>cul_pct_total</th>\n",
       "      <th>appears_in_pct</th>\n",
       "    </tr>\n",
       "  </thead>\n",
       "  <tbody>\n",
       "    <tr>\n",
       "      <th>1</th>\n",
       "      <td>great</td>\n",
       "      <td>3620</td>\n",
       "      <td>4181</td>\n",
       "      <td>1.0</td>\n",
       "      <td>0.020612</td>\n",
       "      <td>0.020612</td>\n",
       "      <td>0.258664</td>\n",
       "    </tr>\n",
       "    <tr>\n",
       "      <th>1510</th>\n",
       "      <td>tablet</td>\n",
       "      <td>3463</td>\n",
       "      <td>4176</td>\n",
       "      <td>2.0</td>\n",
       "      <td>0.020588</td>\n",
       "      <td>0.041200</td>\n",
       "      <td>0.247446</td>\n",
       "    </tr>\n",
       "    <tr>\n",
       "      <th>4</th>\n",
       "      <td>love</td>\n",
       "      <td>2234</td>\n",
       "      <td>2465</td>\n",
       "      <td>3.0</td>\n",
       "      <td>0.012152</td>\n",
       "      <td>0.053352</td>\n",
       "      <td>0.159628</td>\n",
       "    </tr>\n",
       "    <tr>\n",
       "      <th>1209</th>\n",
       "      <td>bought</td>\n",
       "      <td>2194</td>\n",
       "      <td>2327</td>\n",
       "      <td>4.0</td>\n",
       "      <td>0.011472</td>\n",
       "      <td>0.064824</td>\n",
       "      <td>0.156770</td>\n",
       "    </tr>\n",
       "    <tr>\n",
       "      <th>68</th>\n",
       "      <td>easy</td>\n",
       "      <td>2107</td>\n",
       "      <td>2275</td>\n",
       "      <td>5.0</td>\n",
       "      <td>0.011216</td>\n",
       "      <td>0.076040</td>\n",
       "      <td>0.150554</td>\n",
       "    </tr>\n",
       "  </tbody>\n",
       "</table>\n",
       "</div>"
      ],
      "text/plain": [
       "        word  appears_in  count  rank  pct_total  cul_pct_total  \\\n",
       "1      great        3620   4181   1.0   0.020612       0.020612   \n",
       "1510  tablet        3463   4176   2.0   0.020588       0.041200   \n",
       "4       love        2234   2465   3.0   0.012152       0.053352   \n",
       "1209  bought        2194   2327   4.0   0.011472       0.064824   \n",
       "68      easy        2107   2275   5.0   0.011216       0.076040   \n",
       "\n",
       "      appears_in_pct  \n",
       "1           0.258664  \n",
       "1510        0.247446  \n",
       "4           0.159628  \n",
       "1209        0.156770  \n",
       "68          0.150554  "
      ]
     },
     "execution_count": 60,
     "metadata": {},
     "output_type": "execute_result"
    }
   ],
=======
   "execution_count": null,
   "metadata": {},
   "outputs": [],
>>>>>>> 9d142a5988318d8c68919041231f6771beeca43f
   "source": [
    "wc = count(df['tokens'])\n",
    "wc.head()"
   ]
  },
  {
   "cell_type": "code",
<<<<<<< HEAD
   "execution_count": 61,
   "metadata": {},
   "outputs": [
    {
     "data": {
      "image/png": "iVBORw0KGgoAAAANSUhEUgAAAV0AAADnCAYAAAC9roUQAAAABHNCSVQICAgIfAhkiAAAAAlwSFlzAAALEgAACxIB0t1+/AAAADh0RVh0U29mdHdhcmUAbWF0cGxvdGxpYiB2ZXJzaW9uMy4yLjEsIGh0dHA6Ly9tYXRwbG90bGliLm9yZy+j8jraAAAgAElEQVR4nO3dd2Bb1dk/8Ofeq72HLVke8t4jyyGLAEkIoYS9EmZC2astpVC6fn07WC2F0pdRKH2TlgJlJSTskQANEMhejrcteci2rL2lO87vj+CQhDijxFeW83z+su65unqOCF8dnXN1L0UIAYQQQuKg010AQgidTDB0EUJIRBi6CCEkIgxdhBASEYYuQgiJSHKkxhnXPLpFrELQ0f3yNyvTXULG+sX/XpfuEsaVc677PN0lTGgPNbzWOFobjnQRQkhEGLoIISQiDF2EEBIRhi5CCIkIQxchhESEoYsQQiLC0EUIjTv/uHJ9Ze/WYVW66xgLGLoIISSiI/44AiGExpLXEZa9eutn5dnl+thwR1BlKtTGL3xkhuPAfd782Sa7uzWo5pI8XXa6zb/g3kmu9k9c2q0vdlqWPju3EwCgbV2/bvsrXdlLntn3eDzDkS5CKK2Crphi6tJS9y3vfK9JppYIX61syz6wff5PGvqvX7Ww+cY1ZzX17fBqXbt8yrLTbOFAb0QRccclAAC71jjN9RcUetLTg+ODoYsQSiu1WZ4qnm2NAgDUnmv39u/0aQ5s37PWaXruwg+qn7v4wxp/T0Thbg8qKJqCqrPyvTte7zbF/ElmqNmvqVyYH0xPD44PTi8ghNKLokZ96O0Oy7b+u9O6/KUFzSqTnF/9441FXJKnAQCmLCnxvnr752USOUPKTrP5GWlmjCEzo0o0rl1au2fK4bY/eJuz6KPXfEax60GZJepJyBxfutUAAHvf7jXlTjJHRtoS4RQjlTOCQi/jQ4MxSc8Wj36kTZ+rZtVmBbv5n+22yZcWZ8TUAgCOdBE6Ibpef7qUi4ZkhOdoU8Psoexp8zx7nvjpFEPlFE+0r1PHKDVs4bnLu6QaPdfx0mOVCnNOLDrg1IIgUHlnXt6tKSiLhbr3agb+s9YOAEABQOmSH7YwCqWQ5q6NOX2uKrH1pQ7Le7/dqjLaNYkZy8qHuz4bNAAA5DWY41llutgzi9+r02QrUjk1hsiBz63+XoF32787JdZqYyI91R8/DF10XF58fMj66ZpAFgDAvAsNw0t/YHWPtBGBwJ/v7bM3bYrqjBZpSiKlJnxgjLB/72qHRKXlBTZJtf/rTzWGqkY/4VhaaS2I5i9c2jvwn7W2wc/fzi1YdGUPAIDAsXTlsvv2hrubNf0fvVJced3PmzxbP8nJPeMip7awMson4zQtkZ0U7x/FUHDJ47O7D9y27MX5rSN/X/ToLMdoz+3b5tHWn58ZC2gjMHTRMWvaHFV9ujZgfmxtWTMhAHed31E9aY4mPNK+fnXAMOBMyZ9ZX7nHM8hK7zynvXbBJQZvOmsWi3vzOmvY0WwAAOBiIWnSO6gAigJT7UwfAICxdobX+daKspH9DZVTfQAA2uLqiPDhv2kuHmVUtsLI4Ia1BfHBST591TS/XD/xR7nfxXMXfVAtVTDCol9N7U13LccDQxcds91fRjSNZ2gDKg0jAAA0ztP6d22MakfamzZFtaeeo/cxEgqs+TK2aooqPPrRJo5Q115ttK9TW3bFj1sYmVzoeOmxSoFjv7VectBy0SGLRwAAOXMWD+pK64Ohzt36rlf+t6roghvblZa8jPna/N8wF2lTN791dtN/89wbVp/VfKLrEQMupCH0HfHJOMPIlTwjkwtxd78iMexSAwAAIeDfu8kIAODfu8mszLHv/xAKtG43AgCEHS0aWibnJUo1n/AOylU59njOnMWDiixbNOEdUKSlQ2hMYeiiY9YwSxPZ+knYEI/ydCzC01s/CRsbZqn3B0ntKerw5+8GTTxHwN2fkrZuj2mPdLyJQl/eECREoFr+7/e1AxvW5imyc6MAAJREKsQGe9StKx6ojfZ3anPmLB4YeQ7NSEjbPx6qcX28qjBvweUOAIDhLestrSseqG1d+WANRTNEXz4pI847RccHpxfQMatpVMdOO9/g/dF5HdUA+xbSqqep4yPt8y8yBHZtjOhunt9aZ7JKkyW1ysjoR5s4aImUlF52R/vh2vIXLukDgL5Dtxtrpnvzz1p60FxkwaIrM2puEv13Mj50t7x035TGKx7anu46ThZX/tA6dOUPrUMHbnutqW47AABFU3DXIwU96akMHY81r81Jdwn/Nel0f7pLOKqHGkZvy/jQRWi8qrvj4cMOBsquuKv1cNvRyWHChC4hBBxfvZYfGurQAwCx1cwbsJTP9Ld+/FxJVvE0r7loShAAoP3TlUWG/JpgVvE0v2PTqvzIsENLBI7KLpvpttXOy6jz/RBCmWfCLKR5urYY4oFBZcN59zZVn3lrW//O9/KTEb/UXDjZ53PuNAIACDxLhYcdOpN9UmCwZUMWI1Pw9efd01y3+CfNnq7N2fHgkCzd/UAITWwTZqQbdndpTYWTfBTNgExt4NRZhZHwcJfKaG8I9m57q0DgWMrXs0uvybKHGamchAbadPGQWxXoazICAPBskokHhxRKvTWV7r4ghCauCRO6o2EkMqLJLgz7enfpfM4dRlPRZB8AAAFC2aed32OyN4TSXSNC6OQxYaYXtJaSsK9nl4kIPKRiQUnU69RoLSVRAABT4WS/p3NzVsTbqx0JWb2tMuhu+yJb4DkKACDmd8l5NjFh3g+E0Pg0YUa6WSWNgciwQ7PrzT/UAgDJazi7T642cgAAxoL6kOOr14p1tooAzUgJAEBO9WmeZMQn3/3WH6sBgJLIVGzl/BvG/a0+EEKZLeNDd+QcXYqioHjmZYc9EZ1mJGTakvt3HLiNomgoOuXifgDoF6dShBCaQNMLCCGUCTB0EUJIRBk/vYDQseBU6a4AoX1wpIsQQiLC0EUIIRHh9EIGeeSOq9NdQuY67P2KERIfjnQRQkhEGLoIISQiDF2EEBIRhi5CCIkIQxch9J0Rnk93CRkDz15ACB2ETybovpf/XsKHQzJCCGWePd8lM2clh95/w05YlqYYhtiX39ka3LXFGGndbRTYFA0CoQquubV98M1/21Met5IIAmWeu9Clr58WIAIPQ++uyo/1dmsJz1OGKTPc5tnzPZH2vVrPf97PZZQqNuUdVsottlje5d/vpijquGseWPGhLfh5s5nRKFmpWZtSluTEaJWc96/bmU14npJZDEn7fZd2M0q54Hzw1SJaJhESTreKC8elebctdvjX7TTHOwfUypKcaOHPLnMAAAS/aNa5X96QS1ieklr0Sfs9FzsYtULof/qdvMj2TgPQNFHXFYby7zj3W9d7ORIMXYTQQcItu3QStZYtvPb2DgAAPhZlup99pCb3oqs6VYVlMT4eo2mpTAAASA4PqopvvqdJotbyg+++nqcqKg/lXbrcwcWijOO5R6s1FbWhwLaNJlqu4EtuubdZYFnK8fdHqzQVtaF9zx9SFt98T5dUb2Qdzz1aFe1q1WhKq47rLtKRPU5VaFO7seLJW5sIy1PtP3ymRlmSEzOcUe/PvmiWBwDA9ex7ud43N2VZLp/rBgDgowlJ2eM3tQQ+3WPo+cPrZSX3X9OiLLPF2+98pjra0quUWQzs8Guf20oeXNbGqOTC4PPrc9wvb7BmXTTLHd7aYaz82517KIoCLhRjjvf9xdBFCB1EkZMf96x/p2DwndfyNBW1QUap5hm1hlUVlsUAABilShjZV1VQEpKotTwAQMzZoYt2thr8mzbkAAAQjqNYn0cW627TJT1uVaRt311ahFSCSQ0PKSiJhCisuVGZ0cwCAMizc2Ks33vct8yK7nFqtNNKA7RcSkAuJZrJJQEAgHjngNLxwid5QizFCEmWUdcVBkeeo51eHqAoCpSlOTGJTsmqKvLiAADyPHM8NeCXs+6gLDngU3Tc/fcqAADgeUpZaotItEqekjJCz8OvF+mmlwf0c2uDhy3qCDB0EUIHUVhzk0U33b033LxL7/nkvTylvWTUu6tQX494AQCAAORduqxDkZOXPGgnApRl4fk9uupJBx0n0r5XSzEM+eZgNBBBOP65hVH0P/F2ceF9l3aoqvLjnjc3maN7nNpv6pYQgH2XhKUkB9ZAAeEFiqJpoq6xh4p+tbT70OOW//mm5tCmNl3w82aj992tlrJHvt92PHXhQhpCIhn8cHVuuHW39uh7phcb8ElpmVwwNs7xmWaePpgY6FXz0Yg05uxQAQDwiTh9uIUzVVFZyPflp1ZC9mVYrLdbCQCgKqkIBrZ+kU24fXdpSQy55HzyxN2lRV1XGIls69ILSZbiowk6sqPbAAAgJFO0NFvHCixHBTc0mY7rmPWF0XiHS5NwuuUAAHwsSccdQ3I+mqD5SJwxzK0N5t1+Tm+yz3Pcl1LCkS5CIiACDzkLL3Klu45jER/oVQ6vfyefoigAmiY537vECUBg6L3VdsJxNCWRCPZld3xrdGdZcK5r4K1X7F1PPVgDhFBSnSFpv/b2DtOM0z1swCfveuYP1UCAYpQqtuCKG0/YXVo0dYUxzdTSYNttT9cyOiUrzzfHaZWct1w6x9Vx9/9VM1oFpyy1RYR46pjnX6UmLZd327mOnj+uKiEcTwEAWJee1s+oFILjdy+VEZangABYrz6j93jrpUY+lQ5nxjWPbjneA6Kxo/By6S4hYw1PkY7ZsZNet6z338+Wyy22WHJ4QCUzZcfzL17u6Pzrg7Wa8jpfrKdTZzrltMFoV4teU1YbNEw6xR91dqiGPvrmbIDCa+5spWUyYfC9Vfnx/q9X+SfPcJtnzveMRc3kuJd/xg/pdP+3tvHRBM2oFQIfT9Kd96yozLvtHKe6xh5LQ3kAALDrvN82jtaGI110zD57/5dTTl30++2JmE/a3rS6oH769V39js/N4WCfumrSkp5015dObNCnyPneZQ5NSWW0b9XKIu/G9dkAAIxSxZXe/NNmAIBoV4seAEDgWMq19oXS3POv6lQfcDaAb9N/smi5gi+5cd8qf/eKR6s0ZbUheZY1lc6+ZYLeR98oTLp8SsLylGFujTedgXs0GLrouClUJrZ++vVd6a5jPGHU2pSmpDIKAKCva/T6tmywAADoG749LEu6BxSMSsOqDzkbIOpo06U8blWk/ZtV/qRnSIGhe3SHW/Aar44Yug/+7hmx6kDH4De3XZ/uEgAAIBYZlu3ZuqL8lNPvbTpwu3tgp76382NbfeP3O0KBHpWz46NcIvCUXGlIVk++yiGRKoTRjpnpDj2hn4J9jxmZ/Nj7TICynHl+j65q0qhnC6DMh2cvoBNiqH+roa/r05z6U25oBwDo6VxvmzTzlrbG0+5u1ujyYs6Oj6zprnEscZGQLNrdpgYACDZtMynzi0Y9wV9usSX4WEQaPeRsAHVxRdC/7Ytswn+9yu8+sav8aHzA6QX0nYX8Dm007FI1zLi5TSpVCW7XDn085lVs/+KJKgAAIvCURp93XL8yyjRSvSnh27LBMvDuKyqZMTthnjlvOLDjS8vh9qUlUpJ7/lWdQx9+czZA4dV3tJlOOd3DBn3yzmf/UA2wb5XfvuTErfKj8QFDF31ncqUhmUwE5NHwoMJgKokBENAbi0J1jddlzDzbd0bTUHDZ9Qf1t/wH/7P7wMf5l1znGPlbXVgWK7nhnpZDD5Oz6JJ+AOgfqzJR+uFXF/SdyRWGVM2Uazrbdr1aHA72KfSm0mg42K+JhgflAAAcl6AjoQF5uutEaDzAkS46ITS63ETlpCVdzdtfKK2dtryjou5iR/OOF0uIsO/E8sLyM/s1OlvyaMfJRHKzJVV268+bjr4nQkf5ccR6RyX+OGIcGS9nL2SisfxxRCaaaD+OGG+O9OMInF5ACCERYegihJCIMHQRQkhEGLoIISQiDF2EEBIRhi5CCIkIQxchhESEoYsQQiLCX6Shk0LWnol/1w1vzbH/70yN44tssuojt/M7jeIU8l2cN3oTjnQRQkhEGLoIISQiDF2EEBIRzulmEFX7mNwY9qQQrclOdwkIAQCOdBFCSFQYugghJCIMXYQQEhGGLkIIiQhDFyGERIShixBCIsLQRQghEWHoIoSQiDB0EUJIRBi6CCEkIgxdhBASEYYuQgiJCEMXIYREhKGLEEIiwtBF6DjFIsOyzeserj1wW9DbpWrd/nLB4fb/6v3f16cSoXFxGVUuFmU8G9cd8TqXSa9b1v7MA7WHa+v6x2OV0Z5O1ZGeP/zZ+xY+lcRsGQW+MQidAHpzSaxyypLedNdxNHw8yvh3fWUZy9fw79hoFSZI6BKBP+HHHBefvihzdPo2WvpCu7NTfFxaaJgyWGE+bTDdNaVTLDwk27v5n2VZtgZvyNetbZhzS0cqEWaaN/+zJJWMyDSGvAgAAQAAjk3QezetLEklQjIChCooO8OVUzjDL2a9Q+vX5HOhgLzj2YdqVPlF4aRnSMknEwwIPJU1Z5HLUDctAAAAggA9r/29ODk8oJKZsuP5Fy13MDL5QbezDLXu0g1//kEu4XlKqjcm8y+4xuHbsiGLi0WkzheeqKAVKq5k2Y/axOrb8Durc2mlijPPW+QGAHC/tSqPUWtYwvNUtHm3ifA8pa6oDmSfc6ELAKBvxdOlfDgkIzxH66fPHjKeOs8DANDxm59O0U6aOhx3dOmyF1/Uoy6vipzIOjF00XHpC+3Onp53eZtKamAP1y4QHmiKEbustIgEXfKWrS+UVky+vJtLxSQhX7cWAKC7+Z1crakwUlJ77sBw/w69x7UrCwDAO7BHJ5Vr2YY5t3QAALCpmOhvlHX+BX09rz2nLLvpvr2E50FIJWlGqRLYSEjS/Y8/V+lrpwYAANigT2E7+zKHprgy2rt6ZZH3y/XZltO+NzRyHDYSkng2fmQruuqONkauENyfvp0z/PmH1pz55w/4t39hLbzqjjapRifqLZj1p8zxuF5cUWqet8hNBAGizbuNpnmL+mNd7Tr7Hfc0AyHQv+Lpsmhbs0ZdUR3Juexqh0Sj5YVUkup58k812smNfolGyxOOpRUFhVHrhUv6xqLOjArdoI9n3nk5aLriVtPwaPv0dqVkP/9+f/nznxQ3Hdp22wXOylt+nt3bMEMVG+35/3zca7n0BqNHpabH8U2q02Pn4Fv2BBeWb3G9Wp6rrfHE2KCiwXpOz/aBN4poSiKEU8Mqg8IWKTI0Dje5P7Cn+ISEoSVCnWWRUye3JtJd/4nEpeKSvZv/UVbdeE2n1pCf8A02a0fawv4ebc30azsAALLzJgfbd77OAwBoDHlxR/N7Be07V+WZbbVBk6XyhI6gjhcBQg2ueyM/3u/UAEUBH4vIuHBAAgAgUWtTmuLKKACAoa7R69uywQIA+0M31tOhTvk9iu5//LkKAIAIPKXMyU9rf2RZlhSjUHJxZ7eSC4ekMktOLNHfo447OnXOvzxcAwBA2BSd8rgV6orqiH/DOmu0tdkAAMBFQtLU0KBCotFGgaJAN2X6mH0DyajQDQV45p2Xg5Yjhe539daLAeviK/Q+DN1vm5Rzbo+vu0c/I++KtsFIqx4guL8tyUdkswuWtdAUDRt7/1VRZ1nk1Mqzk95Yj7rJ/aF9VsHVon3NFAMjkfFyuS4V9HRqtIb8Y/pAUetsySln/Givx7VL72x5Py8w3B4qqT13YKxrHY1/+0YTH4tKSm64p5lmJKTtif+pF1j267lY6uCdqUMeEwBVfknIftkN3eJUe2x0U0/xhLZ+mcVFI1Ld1BneWGer1jj7tAHjqfMPusFgtHWvNt7dqbXf+uMWWi4Xev76WCXh9vWdYiQCRY/dl5CMCt2nfz+cPzzAyZcv6K6pa1SGHe0pZTQsMDxHqGt/YHadeZEuAAAg8AR+eWN/cXdrSpVfLI3/+qlcx6EhuuG9sO75v/hyWZZQ1jxJ8lf/a3OsXhnICvh46V1Leiu0eoZ78g37hAqKsWRVV/hpigaWT9LhlFuzY3Bt6UibQHjqSM/NRBTNkNqZ13fu+uKZckYiF+QK/f7pFq3RHh7s2WIuqV08MNy/U8dzSQYAIBHzSaUyDZdbPNsnkar4oZ5NWWLXzSiUPEmlaAAAIRlnGJWapRkJCXc0ablISDayHxcNySKONrWmqCIabNpmUuYVHTSKVdlLo0Pr19gTwwNyRbYtyScTNBv0SRWW3CQtlfFCMk6DRid290A7eVrA9+mHeSAIlKa2vouiaeL9+P1cXeMsH6NQCqzfK6UYCeHjcYZWKHlaLheSA/2K5KBLLVaNGRW6t/4yu+/n3+9XrlxXvJdjCcSjAq01MILXzUluv7CnasEF2gAAwGAfp7jrAaujca46+pvbXEUvP+PLvu7HWfu/GnndnOTFp3y2x17Jb1NrGOHvf/TkPP8Xn/WWX2QPrP1XwPrYywVtZotE1PmoTMfQ0q8/1AgwlIybW3j93vRWNPYkUoVQP/OGjl1f/LWioHy+a2R7cfU5rubN/yzZ/NHDtRpDfkQm16YAACKBfqWj+d18oCigKJqUNVzkFL1mtZZX2PIj7c88UKuw5EZTfo+i45kHauSW3JhUb9o/YpfqTQnf1g2WgXdfUclM2QnzjHkHfbuUavWc7ezLHP1rni8h/L4P1exTz+pXWHKT+vrpnp5Xnq1gVNpUybIftfW98c9C49Q5w2p76ajTeicKLZESpb04RCsUPEUzoKltCCXdg4revz5WBQBASWVCzmVXd2tqG4LBLRuzux/9fa3UaE7Ic3KjY13biIwK3QMRAtSTv3XnN+9IaCgKIODlZcODnAQAwJTNpBrnqqMAAAsv1nlXrwwcNB+188uYut/JKm6/oKcKAIDjgKqok6d1PmqikDIKQSHRpvpCu435uno/IQSCyQGlQZEbT3dtJ4pKk52avuCnTQAAUrmanzbv7mYAAEv+lCAAgEyh5SfNvb390Odl5daHsnLr0/5hZL/06FMC5bf+8ltrIgAAJcvuah35W1teF9aW1zUfuk/27IXu7NkL3SOP8y+8VrQPFyIIkHD1aWxLl3WObDPPO8ttnneW+9B9C26441v/jQAAyn798PaxrDFjQ/fNFwOmoF+QPPdeUbNURpHLZ3TWJxNk33zUoV9mD52OIgD1jcrQ/X/PG1fzURPFpJxzu5rc7xd2+b+yESJQVk25byKFLhqfEq5excAL/1euKq/yy622ZLrrGU1Gha5aS/OJuEADAERDAmMwMaxURpGN6yJar5vfPx/lc/OybZ9H1VPnqKMfvREy1U5VHDSKnTRTFf3r/cP27rakvLhCnoxGeHqol5OWVMuTChXNR8MCbR7T08cz17zi23YDABQapnkBwAsAMMV2oePAfTQyc2pG/pWHHUUgNFYUuQWJ4nt+vTvddRxNRoWuKVvCV9YrItec0V1bWi2Pupys4tp53TUlVfJYToF0/3xUTr4ksXplwPKnn7lV+UXSxOU3HXy2Q5ZVwt31gNXx+zsHSjiWUAAA1/zA3F9SLU+edYnOc9+yvgpjliSFC2kIoRONIoSM2rjeUblFxFrQUfxx4QXpLiFjRWuOeLmBCcFbk1FjqFGxop1HMHbafnlX42htE+L30QghlCkwdBFCSEQYugghJCIMXYQQEhGGLkIIiQhDFyGERIShixBCIsLQRQghEWHoIoSQiDB0EUJIRBi6CCEkIgxdhBASEYYuQgiJCEMXIYREhKGLEEIimhgX4DxJcJ14d6H/lvyQ967zT7PSVMlYGv3a2CfaxfO/Eu21Jhoc6SKEkIgwdBFCSEQYugghJCIMXYQQEhGGLkIIiQhDFyGERIShixBCIsLQRQghEWHoIoSQiDB0EUJIRBi6CCEkIgxdhBASEYYuQgiJCEMXIYREhKGLEEIiwtBFCCERYegihJCIMHQRQkhEGLoIISQiDF2UFlESln1O3q1Ndx1jLeV2y3ofePCgfiY6O1XDL71UcDzH8b6xJtf/7ntWAIChFSuLwps2GU9knePN4zNen5LuGsYK3pgSIZEpSktjitLSWLrrQOlxxNDdm8gTqw40zrWRXTY39JmlIGPloExpwRAzQ06oBbYVCsDTClAl62CGQ0bJ+QDxKg+33U88qmbYUgQAYITsUJq7JLrU0JDMvWJlmXpSgzfR1a213X5bh/eNNblcICDj/H45HwrJtLNmDRnPWugGAPC9+VZOdMeOLFqlYhm9PiXPy/tWUCe6ulTeNWsLSCpF0yoVZ7n6KofEaGTF793YIAKBj+7fmt+zya0HCsj05VUDDReX+FfduaGkZnGht+psexAAYO3dnxeVzM0N1pxb6F/34Lb8/h0ercAKVP3FJe7py6s8oYGodO3dX5SkYhxDeELNv2+Ks3iOLZKOPuFIFx2VnwyrPDBgnAVnNQkgUF/BhzVaMMT2wubiCpjUk0XZIq1kR24H7M6tgcbe0bY3w5aike3NZGt+uvslpmS/Sz78/POlWUuXdAuxmCTR1a0daeM8HoXthz9oFeJxpu+hh+sM8+cNJ3t6lNHdu015996zl/A89D/yp5pDQ5dwHOVdtdpuvfGGDolez4W//NLoXbM2z7p8mUP0Do6RpjcdBk9HUHnd6rObot6E5IUrP6oummWNVJ5V4Gv9oNdYdbY9yCV5qn+HR3f272Y4t77QliXTSPnlr5/dzCV46l9XfVhVcnpuqOXdHqP9FEvwtB9NGhQ4AVIxLm1Tqxi66Kj8MKwxgzXAUBLCABATsQZ44GgOOCaL2jdayIMS727YWMKSJHO47alDtudCkdcHbn06+yUWIRaTuFesKLMsW9YpL8hPxPbu1R7YrqysDNBSKaGlUo5RqVguGJTE2zs0qurqAC2XCyP7HHrclMslZz0e5eDTT1cA7BsVMhrNhBnlAgD0b/doKxYW+GgJDVqristpMEX6t3tUFWfmBzf8eVcBl+CptnV9eludOSxTSUjPV26drzuk6vzUZQQAYKMc4+sKKXIbzNEPf7elSOAIXbEw3587KSuerj5h6CI0xmi5nGd0ulSio0MjL8hPHNpOSSTkm51pIDxPHeOhKWlWVjzvJ3e3nKhaM4VUKSG2BnO4fX2frvX9HmPV2XYfAKMeBNEAAAxeSURBVAAhhDr97sk9FWfmf2v6asmK+a3tH/Xp3/v15uIpS8uGpiwt94pfOZ69gI6BEbIjPhjS84SjOMLSPnAbGJAIEpDwHjKoAQBwQbdZD+aIlJLzh9su+3q7d/92pymdfRIVw5Ccm27sjGzbZg598cUx9VtZXh6JtTQbhGSS4uNxOt7aajh0H5nNluBjMUm8rU0NsG+6IdnbqzjR5adT/tTscNtHfSaBEyAyHJcM7vZp8qZmRwEAKhcV+PesdWQNNvm05Qv2hWzhTGtw56sd2Xxq3wfXcFtAnoywtN8ZlmktSrbx2kpP7bmFw+5mvypdfcKRLjoqI5UdM5Oc4Eb4oFYKMlYF2rgEpHwNTO9ugW2FbWTH/gUzAIDRtldDo6MZthQBoU66hTRaoRBybrm5Y+DJpyoMC+a7jra/oqQ4pq6r9/X/4Y+1tErFynJzo4fuQ0mlxHLtNZ3eVavtJLmKIYJA6ebMHpIXFHxrNJ2pas4tDLh2ejQrLnqvFiggs2+r69PlqDgAgPL5eaEPf7eluHBWTkAiZwgAwLSrKz0hV0y+8tL3q4EApdDL2IufmNvp+GJQu+3F9hxaQhGJQsKf88CM7nT1iSKEjNr4RMv8LSLWgo5iTY05ba/NEZaWUFKBIyy9GT6urIapTgOVlbGnPXX+aVa6S8hoF8//Kt0ljGuPTHq5cbQ2HOmiY7IHNhXGSEQpAE/lQIE3kwMXoXTC0EXHZDI1J21fxxCaSHAhDSGERIShixBCIsLQRQghEWHoIoSQiDB0EUJIRBi6CCEkIgxdhBASEYYuQgiJCEMXIYREhKGLEEIiwtBFCCERYegihJCIMHQRQkhEGLoIISQiDF2EEBIRhi5CCIkIQxchhESEd47IIEx9VbpLyHhdv5IBAIAEvnWfR3QU0wt69v89kNClsZLMhiNdhBASEYYuQgiJCEMXIYREhKGLEEIiwtBFCCERYegihJCIMHQRQkhEGLoIISQiDF2EEBIRhi5CCIkIQxchhESEofu1TWsGDT1NYUW660AITWwTMnR5Vjju5+xa5zG4WiPKMSgHIYT2y8irjK3+Q4dtx/vDZpVBwuot8lRBtSa29zOfIbdcHXPsCmkmn2XxVc0yhlc93FGQivO0Si/llv2xxmHKVbDrVvRkfbV6MJtnBcqUp0he/3hdt2NnSNm60Wdw7AxqP3yux3bDX+o6bWXqZLr7iRCaeDIudNs3+VV7PvEaf/HWKU0cK1APXbi5pqBaEwMA4FhC/eLNGc1cSqAeWbK18tZnGjr0Fjn3xasu4+o/dORd/+c6x/TzcvwLrrN7AABevb8t99Pn+7IW3VLkrpxlCtSdYQ7OvNjmT28PEUITWcaFbsfmgKZmrikgUzJEpmRI1WxTYKStcbHVBwDQ3xqRDztjyr8s31EBAEAEAhqTlAUA6G0KK9/+S1deIsozqTjPlE03BNPTE4TQySjjQvdI5CpGAAAgBKhsuyp+3xvTWw7d56X/11J8/eN1HcWT9fFPnu8zd2wOaMWvFCF0ssq4hbSy6YZI82c+fSrOU/EwR7ds9BkO3SevUpOIBllJ60afGgCASwlUz56QAgAgFRdoo03BcimB2vbOkGnkOXIVwyciXMa9HwihzJJxI93yU4yxmrmm4O/P/apWY5Cy1mJVXKGV8AfuI5XT5LpHaztfu7/dnoy2MQIP1KlX5A7Z63SJhTfaXY9cvqVapZdyBTXaSDLGMwAAjedZfS//prXos5dd1usfx4U0hNDYoAghozY+0TJ/i4i1HLN4mKOVWomQiHL0n5ZurVz6P5XO0mmGWLrrGmtvLZmT7hIy3sg90tDxO/AeaejIXpjxt8bR2jJupAsA8M979xa6nXEllxKoaedYvCdD4CKEJoaMDN2bn27oTncNCCH038CFI4QQEhGGLkIIiQhDF+0XTXplG1qerE3H8Z2eTeZ4KiAdq9dGaLzA0EXjgsu/JyueCmLoogkvIxfS0NghRIBtjpeLI4lhlUpmik8uvMThizjUbYPrCwghoFVaY/UF5zsZWko+2fvn+lnlNzTLpRrOF3GqWgfWFcwq/35rgg1LdjpfL05yUZlemRPxR3t1s8pvaAYAIEBgp3NVYTA+oJFL1KlpxVd2DAX3GiIJt2p379oShpYIM8uub5YwstHPZcwwgfc3mYIfbLISTqDkxbZozp2XOIeeWGVPOgbUhOVpdWOlP3v591wAAO6/vZkX29lhAJomytqiUNbVZ7mcP36itviJu/ZQUgnhI3Haefc3j9PdNzGEnAHZJ3d/UH7+a5c3AQDsenarlY2xjFwn57rebsumaIpoC/SJMx5d1MVGU/SX92+wh5wBJeEEqva6Ka7is8sCR3sNMWHoooPE2aCiJn+xI0tbEt3hfL2o073B6vLvzm4svrJVq7QmtzteLeoe3phdZj3NPdox2gfW5xrV9nCFbf7gYKBZNxhsztp//FRQ0VBwYZdBne/c2v1Sicu/y2jPavT1eLdZKm0Lek2awgl1+l+iy6WIbGwy2R+6pYWSSsjgX16zBz/YbM5afna/RK/hCS9A7y/+Vplo71VKso2p6PZ2Y9GTd+2hKAr4UJRh1EpBWV4QDn+xR687fXIgtH6rST2lwn+yBO6RtL7SlHPBmqW7JXIJSQYSDADAjqe32KzTbKG5DyxwJAMJ5t3lb1Tnz7WHpGrZ8V/vdYxg6KKDyCTqVJa2JAoAkGus93YNfWZTSHVJrdKaBADIMzZ4e7xbLAAwaugG4y7NZMtlHQAAOYbqUFOffP8vBhVSbdKgzo8DAGiVObE4G5CPaYfSLLajXZvqHVI5f/JUNQAAYTma0am50CfbTaGPd2SBIFB8KCpNOocU8uLcOCVhhMFHXylST6sIaObUBwEAdAsbh/1vfJajO31yIPSfXVnWWy5wpLVT44SuUB/f8NOPivPm2gNFi/aNZt1bXbqBL/sMra805QAACCxPhftCMlNlViK91X4DQxcdhALqoMcSRs6zfOKw/04oiiYE9g0gBHJs162gKWb/CI0CighEmNjrCgQozaw6r+WGc/tHNqX6h2X9v/tHRcHDtzZL9Gre9ci/i0iKoykJA/ZHbmuObmnVRTY2GYMfbLYUPHBTm3pSWXT472/Lo1tbtUAESlGWN24CRAyUhCZwwC9n+eS+f2sLnlrcPrCxT9v3H6e++YXdtvNeuayJAMDcBxd0GMvN4/Zn/BP7Hzw6bkkuIvOGu9UAAAP+3SatMieaYEOycMItBwDo9+82G9X2MACAXKpNBaJ9KgCAwcBe48gxdMrciCuw2wQAMBRs0XFCkjna60poKX8s+2Ua1ZTyUHRrq5HzhiQAAFwwwrBDfhklkwqMVsmz3qAk3tStBwDgYwlaCMcZ7ey6oOWm83pT/cOqkeNo59R7h55aXaydO8mTrr6ki8qi5pLBpCTujTFckqMGvurXAyEQ6QvJ8k61hxvvmd3PxViGjaQY67TcUMuLu60jlzcY3jU07u4GgyNddBClVJ9wejdbmvrfVqlkpkSt5dReoyo/utP5eunIQlpR9sxhAIBS62muvX3vFHUM/Yc3qgvCI8eosM1z7XC+XrKh5UmzTmmLSBklK2HkPCckR/2QzzU2eJr73y9sG1g3oRbSFCW5CdMlp/f3/XZlBRACFEOT7O8v7pHZrTHH7Y/VSYzalKIkNwIAIEQTjOuhf5URlqeAEDAvXdA7chzdgmle/xsb8vTzp/rS15v0YKQMqb6yfuD969ZUK0xKVpuvSxCeUJ//v4+LuRjLEAJU6fmVbrlBwU+5fbrrqwc22N+6/NUaIhBKZdUkz3xqcUe6+3CgjLzgzckqUy54wwssRVE0oSkGvOFudbPrvcJTK2/dm+66ADL3gjfBj7cZo5tbDLn3Xpm2n8DjBW+O3YS74A0a32JJv2xnz76RMU0xpCbvHEe6a8pkg0+sKojv6dLn/uzq9nTXgr47DF10wmmVluR4GdlOBDl3XNwLAL1H3RFlBFxIQwghEWHoIoSQiDB0EUJIRBi6CCEkIgxdhBASEYYuQgiJCEMXIYREhKGLEEIiwtBFCCERYegihJCIMHQRQkhEGLoIISQiDF2EEBIRhi5CCIkIQxchhESEoYsQQiLC0EUIIRFh6CKEkIgwdBFCSEQYugghJCIMXYQQEhGGLkIIiYgihKS7BoQQOmngSBchhESEoYsQQiLC0EUIIRFh6CKEkIgwdBFCSEQYugghJKL/D2VJvoVkcSd7AAAAAElFTkSuQmCC\n",
      "text/plain": [
       "<Figure size 432x288 with 1 Axes>"
      ]
     },
     "metadata": {
      "needs_background": "light"
     },
     "output_type": "display_data"
    }
   ],
=======
   "execution_count": null,
   "metadata": {},
   "outputs": [],
>>>>>>> 9d142a5988318d8c68919041231f6771beeca43f
   "source": [
    "wc_top20 = wc[wc['rank'] <= 20]\n",
    "\n",
    "squarify.plot(sizes=wc_top20['pct_total'], label=wc_top20['word'], alpha=.8 )\n",
    "plt.axis('off')\n",
    "plt.show()"
   ]
  },
  {
   "cell_type": "code",
<<<<<<< HEAD
   "execution_count": 66,
   "metadata": {},
   "outputs": [
    {
     "data": {
      "text/plain": [
       "5    9371\n",
       "4    3703\n",
       "3     551\n",
       "1     187\n",
       "2     183\n",
       "Name: reviews.rating, dtype: int64"
      ]
     },
     "execution_count": 66,
     "metadata": {},
     "output_type": "execute_result"
    }
   ],
=======
   "execution_count": null,
   "metadata": {},
   "outputs": [],
>>>>>>> 9d142a5988318d8c68919041231f6771beeca43f
   "source": [
    "df['reviews.rating'].value_counts()"
   ]
  },
  {
   "cell_type": "markdown",
   "metadata": {},
   "source": [
    "### Statistical Trimming\n",
    "\n",
    "So far, we have talked about stop word in relation to either broad english words or domain specific stop words. Another common approach to stop word removal is via statistical trimming. The basic idea: preserve the words that give the most about of variation in your data. \n",
    "\n",
    "Do you remember this graph?"
   ]
  },
  {
   "cell_type": "code",
<<<<<<< HEAD
   "execution_count": 67,
   "metadata": {},
   "outputs": [
    {
     "data": {
      "image/png": "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\n",
      "text/plain": [
       "<Figure size 432x288 with 1 Axes>"
      ]
     },
     "metadata": {
      "needs_background": "light"
     },
     "output_type": "display_data"
    }
   ],
=======
   "execution_count": null,
   "metadata": {},
   "outputs": [],
>>>>>>> 9d142a5988318d8c68919041231f6771beeca43f
   "source": [
    "sns.lineplot(x='rank', y='cul_pct_total', data=wc);"
   ]
  },
  {
   "cell_type": "markdown",
   "metadata": {},
   "source": [
    "This graph tells us that only a *handful* of words represented 80% of words in the overall corpus. We can interpret this in two ways: \n",
    "1. The words that appear most frequently may not provide any insight into the mean on the documents since they are so prevalent. \n",
    "2. Words that appear infrequency (at the end of the graph) also probably do not add much value, because the are mentioned so rarely. \n",
    "\n",
    "Let's take a look at the words at the bottom and the top and make a decision for ourselves:"
   ]
  },
  {
   "cell_type": "code",
<<<<<<< HEAD
   "execution_count": 68,
   "metadata": {},
   "outputs": [
    {
     "data": {
      "text/html": [
       "<div>\n",
       "<style scoped>\n",
       "    .dataframe tbody tr th:only-of-type {\n",
       "        vertical-align: middle;\n",
       "    }\n",
       "\n",
       "    .dataframe tbody tr th {\n",
       "        vertical-align: top;\n",
       "    }\n",
       "\n",
       "    .dataframe thead th {\n",
       "        text-align: right;\n",
       "    }\n",
       "</style>\n",
       "<table border=\"1\" class=\"dataframe\">\n",
       "  <thead>\n",
       "    <tr style=\"text-align: right;\">\n",
       "      <th></th>\n",
       "      <th>word</th>\n",
       "      <th>appears_in</th>\n",
       "      <th>count</th>\n",
       "      <th>rank</th>\n",
       "      <th>pct_total</th>\n",
       "      <th>cul_pct_total</th>\n",
       "      <th>appears_in_pct</th>\n",
       "    </tr>\n",
       "  </thead>\n",
       "  <tbody>\n",
       "    <tr>\n",
       "      <th>14453</th>\n",
       "      <td>say..............................................</td>\n",
       "      <td>1</td>\n",
       "      <td>1</td>\n",
       "      <td>14454.0</td>\n",
       "      <td>0.000005</td>\n",
       "      <td>0.999906</td>\n",
       "      <td>0.000071</td>\n",
       "    </tr>\n",
       "    <tr>\n",
       "      <th>14454</th>\n",
       "      <td>kindlelishous!!!!!!!!!!!!!</td>\n",
       "      <td>1</td>\n",
       "      <td>1</td>\n",
       "      <td>14455.0</td>\n",
       "      <td>0.000005</td>\n",
       "      <td>0.999911</td>\n",
       "      <td>0.000071</td>\n",
       "    </tr>\n",
       "    <tr>\n",
       "      <th>14455</th>\n",
       "      <td>competent,</td>\n",
       "      <td>1</td>\n",
       "      <td>1</td>\n",
       "      <td>14456.0</td>\n",
       "      <td>0.000005</td>\n",
       "      <td>0.999916</td>\n",
       "      <td>0.000071</td>\n",
       "    </tr>\n",
       "    <tr>\n",
       "      <th>14456</th>\n",
       "      <td>3-year-old,</td>\n",
       "      <td>1</td>\n",
       "      <td>1</td>\n",
       "      <td>14457.0</td>\n",
       "      <td>0.000005</td>\n",
       "      <td>0.999921</td>\n",
       "      <td>0.000071</td>\n",
       "    </tr>\n",
       "    <tr>\n",
       "      <th>14457</th>\n",
       "      <td>objective</td>\n",
       "      <td>1</td>\n",
       "      <td>1</td>\n",
       "      <td>14458.0</td>\n",
       "      <td>0.000005</td>\n",
       "      <td>0.999926</td>\n",
       "      <td>0.000071</td>\n",
       "    </tr>\n",
       "    <tr>\n",
       "      <th>14459</th>\n",
       "      <td>dollars.my</td>\n",
       "      <td>1</td>\n",
       "      <td>1</td>\n",
       "      <td>14459.0</td>\n",
       "      <td>0.000005</td>\n",
       "      <td>0.999931</td>\n",
       "      <td>0.000071</td>\n",
       "    </tr>\n",
       "    <tr>\n",
       "      <th>14460</th>\n",
       "      <td>relies</td>\n",
       "      <td>1</td>\n",
       "      <td>1</td>\n",
       "      <td>14460.0</td>\n",
       "      <td>0.000005</td>\n",
       "      <td>0.999936</td>\n",
       "      <td>0.000071</td>\n",
       "    </tr>\n",
       "    <tr>\n",
       "      <th>14458</th>\n",
       "      <td>gps.</td>\n",
       "      <td>1</td>\n",
       "      <td>1</td>\n",
       "      <td>14461.0</td>\n",
       "      <td>0.000005</td>\n",
       "      <td>0.999941</td>\n",
       "      <td>0.000071</td>\n",
       "    </tr>\n",
       "    <tr>\n",
       "      <th>14461</th>\n",
       "      <td>readi,g</td>\n",
       "      <td>1</td>\n",
       "      <td>1</td>\n",
       "      <td>14462.0</td>\n",
       "      <td>0.000005</td>\n",
       "      <td>0.999946</td>\n",
       "      <td>0.000071</td>\n",
       "    </tr>\n",
       "    <tr>\n",
       "      <th>14463</th>\n",
       "      <td>perfectly..great</td>\n",
       "      <td>1</td>\n",
       "      <td>1</td>\n",
       "      <td>14463.0</td>\n",
       "      <td>0.000005</td>\n",
       "      <td>0.999951</td>\n",
       "      <td>0.000071</td>\n",
       "    </tr>\n",
       "    <tr>\n",
       "      <th>14467</th>\n",
       "      <td>closes.</td>\n",
       "      <td>1</td>\n",
       "      <td>1</td>\n",
       "      <td>14464.0</td>\n",
       "      <td>0.000005</td>\n",
       "      <td>0.999956</td>\n",
       "      <td>0.000071</td>\n",
       "    </tr>\n",
       "    <tr>\n",
       "      <th>14465</th>\n",
       "      <td>blanking</td>\n",
       "      <td>1</td>\n",
       "      <td>1</td>\n",
       "      <td>14465.0</td>\n",
       "      <td>0.000005</td>\n",
       "      <td>0.999961</td>\n",
       "      <td>0.000071</td>\n",
       "    </tr>\n",
       "    <tr>\n",
       "      <th>14464</th>\n",
       "      <td>app\"</td>\n",
       "      <td>1</td>\n",
       "      <td>1</td>\n",
       "      <td>14466.0</td>\n",
       "      <td>0.000005</td>\n",
       "      <td>0.999965</td>\n",
       "      <td>0.000071</td>\n",
       "    </tr>\n",
       "    <tr>\n",
       "      <th>14462</th>\n",
       "      <td>have...then</td>\n",
       "      <td>1</td>\n",
       "      <td>1</td>\n",
       "      <td>14467.0</td>\n",
       "      <td>0.000005</td>\n",
       "      <td>0.999970</td>\n",
       "      <td>0.000071</td>\n",
       "    </tr>\n",
       "    <tr>\n",
       "      <th>14466</th>\n",
       "      <td>error.</td>\n",
       "      <td>1</td>\n",
       "      <td>1</td>\n",
       "      <td>14468.0</td>\n",
       "      <td>0.000005</td>\n",
       "      <td>0.999975</td>\n",
       "      <td>0.000071</td>\n",
       "    </tr>\n",
       "    <tr>\n",
       "      <th>14468</th>\n",
       "      <td>moztly</td>\n",
       "      <td>1</td>\n",
       "      <td>1</td>\n",
       "      <td>14469.0</td>\n",
       "      <td>0.000005</td>\n",
       "      <td>0.999980</td>\n",
       "      <td>0.000071</td>\n",
       "    </tr>\n",
       "    <tr>\n",
       "      <th>14469</th>\n",
       "      <td>titles,</td>\n",
       "      <td>1</td>\n",
       "      <td>1</td>\n",
       "      <td>14470.0</td>\n",
       "      <td>0.000005</td>\n",
       "      <td>0.999985</td>\n",
       "      <td>0.000071</td>\n",
       "    </tr>\n",
       "    <tr>\n",
       "      <th>14470</th>\n",
       "      <td>it..better</td>\n",
       "      <td>1</td>\n",
       "      <td>1</td>\n",
       "      <td>14471.0</td>\n",
       "      <td>0.000005</td>\n",
       "      <td>0.999990</td>\n",
       "      <td>0.000071</td>\n",
       "    </tr>\n",
       "    <tr>\n",
       "      <th>14471</th>\n",
       "      <td>shows/movies!</td>\n",
       "      <td>1</td>\n",
       "      <td>1</td>\n",
       "      <td>14472.0</td>\n",
       "      <td>0.000005</td>\n",
       "      <td>0.999995</td>\n",
       "      <td>0.000071</td>\n",
       "    </tr>\n",
       "    <tr>\n",
       "      <th>14472</th>\n",
       "      <td>bookreader.</td>\n",
       "      <td>1</td>\n",
       "      <td>1</td>\n",
       "      <td>14473.0</td>\n",
       "      <td>0.000005</td>\n",
       "      <td>1.000000</td>\n",
       "      <td>0.000071</td>\n",
       "    </tr>\n",
       "  </tbody>\n",
       "</table>\n",
       "</div>"
      ],
      "text/plain": [
       "                                                    word  appears_in  count  \\\n",
       "14453  say..............................................           1      1   \n",
       "14454                         kindlelishous!!!!!!!!!!!!!           1      1   \n",
       "14455                                         competent,           1      1   \n",
       "14456                                        3-year-old,           1      1   \n",
       "14457                                          objective           1      1   \n",
       "14459                                         dollars.my           1      1   \n",
       "14460                                             relies           1      1   \n",
       "14458                                               gps.           1      1   \n",
       "14461                                            readi,g           1      1   \n",
       "14463                                   perfectly..great           1      1   \n",
       "14467                                            closes.           1      1   \n",
       "14465                                           blanking           1      1   \n",
       "14464                                               app\"           1      1   \n",
       "14462                                        have...then           1      1   \n",
       "14466                                             error.           1      1   \n",
       "14468                                             moztly           1      1   \n",
       "14469                                            titles,           1      1   \n",
       "14470                                         it..better           1      1   \n",
       "14471                                      shows/movies!           1      1   \n",
       "14472                                        bookreader.           1      1   \n",
       "\n",
       "          rank  pct_total  cul_pct_total  appears_in_pct  \n",
       "14453  14454.0   0.000005       0.999906        0.000071  \n",
       "14454  14455.0   0.000005       0.999911        0.000071  \n",
       "14455  14456.0   0.000005       0.999916        0.000071  \n",
       "14456  14457.0   0.000005       0.999921        0.000071  \n",
       "14457  14458.0   0.000005       0.999926        0.000071  \n",
       "14459  14459.0   0.000005       0.999931        0.000071  \n",
       "14460  14460.0   0.000005       0.999936        0.000071  \n",
       "14458  14461.0   0.000005       0.999941        0.000071  \n",
       "14461  14462.0   0.000005       0.999946        0.000071  \n",
       "14463  14463.0   0.000005       0.999951        0.000071  \n",
       "14467  14464.0   0.000005       0.999956        0.000071  \n",
       "14465  14465.0   0.000005       0.999961        0.000071  \n",
       "14464  14466.0   0.000005       0.999965        0.000071  \n",
       "14462  14467.0   0.000005       0.999970        0.000071  \n",
       "14466  14468.0   0.000005       0.999975        0.000071  \n",
       "14468  14469.0   0.000005       0.999980        0.000071  \n",
       "14469  14470.0   0.000005       0.999985        0.000071  \n",
       "14470  14471.0   0.000005       0.999990        0.000071  \n",
       "14471  14472.0   0.000005       0.999995        0.000071  \n",
       "14472  14473.0   0.000005       1.000000        0.000071  "
      ]
     },
     "execution_count": 68,
     "metadata": {},
     "output_type": "execute_result"
    }
   ],
=======
   "execution_count": null,
   "metadata": {},
   "outputs": [],
>>>>>>> 9d142a5988318d8c68919041231f6771beeca43f
   "source": [
    "wc.tail(20)"
   ]
  },
  {
   "cell_type": "code",
<<<<<<< HEAD
   "execution_count": 69,
   "metadata": {},
   "outputs": [
    {
     "data": {
      "text/plain": [
       "count    14473.000000\n",
       "mean         0.000945\n",
       "std          0.005579\n",
       "min          0.000071\n",
       "25%          0.000071\n",
       "50%          0.000143\n",
       "75%          0.000357\n",
       "max          0.258664\n",
       "Name: appears_in_pct, dtype: float64"
      ]
     },
     "execution_count": 69,
     "metadata": {},
     "output_type": "execute_result"
    }
   ],
=======
   "execution_count": null,
   "metadata": {},
   "outputs": [],
>>>>>>> 9d142a5988318d8c68919041231f6771beeca43f
   "source": [
    "wc['appears_in_pct'].describe()"
   ]
  },
  {
   "cell_type": "code",
<<<<<<< HEAD
   "execution_count": 70,
   "metadata": {},
   "outputs": [
    {
     "data": {
      "image/png": "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\n",
      "text/plain": [
       "<Figure size 432x288 with 1 Axes>"
      ]
     },
     "metadata": {
      "needs_background": "light"
     },
     "output_type": "display_data"
    }
   ],
=======
   "execution_count": null,
   "metadata": {},
   "outputs": [],
>>>>>>> 9d142a5988318d8c68919041231f6771beeca43f
   "source": [
    "# Frequency of appears in documents\n",
    "sns.distplot(wc['appears_in_pct']);"
   ]
  },
  {
   "cell_type": "code",
<<<<<<< HEAD
   "execution_count": 71,
   "metadata": {},
   "outputs": [
    {
     "data": {
      "image/png": "iVBORw0KGgoAAAANSUhEUgAAAXAAAAEHCAYAAAC3Ph1GAAAABHNCSVQICAgIfAhkiAAAAAlwSFlzAAALEgAACxIB0t1+/AAAADh0RVh0U29mdHdhcmUAbWF0cGxvdGxpYiB2ZXJzaW9uMy4yLjEsIGh0dHA6Ly9tYXRwbG90bGliLm9yZy+j8jraAAAgAElEQVR4nO3deXxc5X3v8c9vtO/WZlnyIm8Yb3jBjsHsECAmDZi8ICFQEtqEEG5I0qbtvaFJ7k2api0hW3Nv01BMKDQBAiSEEAgmxsHBbjBGNsb7ArZs2ZZsbda+67l/zBGMhWzJ0mxH+r5fr3npzJkzc34az3z96DnneY455xAREf8JxLoAEREZHgW4iIhPKcBFRHxKAS4i4lMKcBERn0qM5s4KCgrc1KlTo7lLERHf27x5c41zrrD/+qgG+NSpUykrK4vmLkVEfM/MDg20Xl0oIiI+pQAXEfEpBbiIiE8pwEVEfEoBLiLiUwpwERGfUoCLiPiUAlxExKcU4CIiPhXVkZhyqsdfPzys5912wZQwVyIifqQWuIiITynARUR8SgEuIuJTCnAREZ9SgIuI+JQCXETEpxTgIiI+pQAXEfEpBbiIiE8pwEVEfGrQADezyWb2ipntMrOdZvZX3vpvmtlRM9vq3T4c+XJFRKTPUOZC6Qb+1jm3xcyygM1mtsZ77IfOue9FrjwRETmdQQPcOVcJVHrLTWa2G5gY6cJEROTMzqoP3MymAouB171VXzCzbWb2sJnlnuY5d5lZmZmVVVdXj6hYERF5z5AD3MwygV8Bf+2cawR+AswAFhFsoX9/oOc55x50zi11zi0tLCwMQ8kiIgJDDHAzSyIY3o85554BcM4dd871OOd6gVXAssiVKSIi/Q3lLBQDfgrsds79IGR9cchmHwV2hL88ERE5naGchXIx8Elgu5lt9dZ9FbjVzBYBDigHPheRCkVEZEBDOQtlA2ADPPS78JcjIiJDpZGYIiI+pQAXEfEpBbiIiE8pwEVEfEoBLiLiUwpwERGfUoCLiPiUAlxExKcU4CIiPqUAFxHxKQW4iIhPKcBFRHxKAS4i4lMKcBERn1KAi4j4lAJcRMSnFOAiIj6lABcR8SkFuIiITynARUR8SgEuIuJTCnAREZ9SgIuI+JQCXETEpxTgIiI+pQAXEfEpBbiIiE8pwEVEfEoBLiLiU4MGuJlNNrNXzGyXme00s7/y1ueZ2Roz2+/9zI18uSIi0mcoLfBu4G+dc3OBC4F7zGwucC+w1jl3DrDWuy8iIlEyaIA75yqdc1u85SZgNzARWAk86m32KHBjpIoUEZH3O6s+cDObCiwGXgeKnHOV3kNVQFFYKxMRkTMacoCbWSbwK+CvnXONoY855xzgTvO8u8yszMzKqqurR1SsiIi8Z0gBbmZJBMP7MefcM97q42ZW7D1eDJwY6LnOuQedc0udc0sLCwvDUbOIiDC0s1AM+Cmw2zn3g5CHngPu8JbvAH4T/vJEROR0EoewzcXAJ4HtZrbVW/dV4D7gKTP7DHAI+HhkShQRkYEMGuDOuQ2AnebhD4a3HBERGSqNxBQR8SkFuIiITynARUR8SgEuIuJTCnAREZ9SgIuI+JQCXETEpxTgIiI+pQAXEfEpBbiIiE8pwEVEfEoBLiLiUwpwERGfUoCLiPiUAlxExKcU4CIiPqUAFxHxKQW4iIhPKcBFRHxKAS4i4lMKcBERn1KAi4j4lAJcRMSnFOAiIj6lABcR8SkFuIiITynARUR8SgEuIuJTCnAREZ9SgIuI+NSgAW5mD5vZCTPbEbLum2Z21My2ercPR7ZMERHpbygt8EeAFQOs/6FzbpF3+114yxIRkcEMGuDOuVeBuijUIiIiZ2EkfeBfMLNtXhdL7uk2MrO7zKzMzMqqq6tHsDsREQk13AD/CTADWARUAt8/3YbOuQedc0udc0sLCwuHuTsREelvWAHunDvunOtxzvUCq4Bl4S1LREQGM6wAN7PikLsfBXacblsREYmMxME2MLMngCuAAjM7AnwDuMLMFgEOKAc+F8EaRURkAIMGuHPu1gFW/zQCtYiIyFnQSEwREZ9SgIuI+JQCXETEpxTgIiI+pQAXEfEpBbiIiE8pwEVEfEoBLiLiUwpwERGfUoCLiPjUoEPpJfacc1TUt+GcIzstia6eXpIS9H+vyFinAI9jzjn2n2hm7e7jVNS3vbv++7/fy0cWlPAPN8wjNyM5hhWKSCwpwONUa0c3P3/9EOW1rYxLS2LlohJy05NpbOsiJz2Jn712iNcO1HL/TQu4cvb4WJcrIjGgAI9Dnd29/NfGQxw72cbKRSUsKc0lMXBql8ndl8/g6c0V/OUjb3DlueO5Zm7RoK972wVTIlWyiMSAOlLjTE+v48k3DlNR18rHl07mgmn57wtvgJJxadxzxUyWTMnllb0nKCvXdadFxhq1wOOIc47fvnWM3VVNXL+gmPkTc864fWJCgBsXT6ShvYtntx4lLzOZ6QWZUapWRGJNLfA4sv1oA5vK67jsnEKWzygY0nMSAsatH5hCfkYKj208TG1zR4SrFJF4oQCPE53dvby4o4rinFSunTd4f3aotOQEPrW8FDN4YtNhenpdhKoUkXiiAI8T6/adoKGti+sXlBAwO+vn52emsHLRRI41tPPagdoIVCgi8UYBHgdqmztYv7+GRZPHMbUgY9ivM78km3OLsnh513FOtnaGsUIRiUcK8DjwwvZKEgLGinkTRvQ6ZsYNC0twOJ576xjOqStFZDRTgMfYgepm9lQ1cdW548lOSxrx6+VmJHP1nCL2VDWx81hjGCoUkXilAI+xV/dXk5GSyPIZ+WF7zYtmFFCck8rvtlfS3dMbttcVkfiiAI+hqsZ29h1vZvn0/LBOTpUQMFbMn8DJti42aYCPyKilAI+hDftrSEowLpyWF/bXnlmYybSCDF7ZW01nt1rhIqORAjxGqhraeaviJEtL80hPCf+AWDPj2rlFtHR086d3asL++iISewrwGHnkT+X0OsfFM4c24nI4SvMzmD0hi1f3V9PW2ROx/YhIbCjAY6C5o5vHXj/E/Ik55EV4Pu9r5hbR3tXLq/urI7ofEYk+BXgMPLPlCE3t3VwSwdZ3n+KcNBZMyuG1d2qpb9HgHpHRZNAAN7OHzeyEme0IWZdnZmvMbL/3MzeyZY4uT75RwdzibCbnpUdlf1ecO57Onl4efa08KvsTkegYSgv8EWBFv3X3Amudc+cAa737MgQ7jjaw81gjn1g2OWr7nJCdypwJWTzyp3JaOrqjtl8RiaxBA9w59yrQ/2TilcCj3vKjwI1hrmvUeqqsguTEACsXTozqfi8/dzwnW7t4YtPhqO5XRCJnuH3gRc65Sm+5Cji7+U/HqPauHp598yjXzZ9ATvrIh82fjSl56Syfns+q9Qfo6NYZKSKjwYgPYrrgjEmnnTXJzO4yszIzK6uuHttnQqzeUUVjeze3LI1e90moz185g+ONHfx6y9GY7F9Ewmu4AX7czIoBvJ8nTrehc+5B59xS59zSwsLCYe5udHjyjQom56Vx4fTwzXtyNi6ZWcCCSTk88Md3dNEHkVFguAH+HHCHt3wH8JvwlDN6Hapt4bUDtXx8yWQCgbO/YEM4mBl3Xz6D8tpW1uw6HpMaRCR8hnIa4RPAa8C5ZnbEzD4D3AdcY2b7gau9+3IGz2w5ihncvHRSTOv40LwJTM5LY9X6AzGtQ0RGbtBJOJxzt57moQ+GuZZRy7ngBRaWT8+nOCctprUkBIw7L5nON57byeZDdSwpDf9EWiISHRqJGQXbjzZwsKaFlYtKYl0KAB9bOomctCRWvXow1qWIyAgowKPg2TePkZwQYMX84liXAkB6ciK3XziFl3ZVUV7TEutyRGSYFOAR1tPr+O22Y1w5u5CcMFwyLVzuWD6VpECAh/9brXARv1KAR9jGA7VUN3WwclF0R14OZnx2KjcuLuGpsgrqNMmViC8pwCPs2TePkpmSyFWzx8e6lPe589LptHf18tjGQ7EuRUSGQQEeQe1dPazeUcWK+RNITUqIdTnvM6soi8tnFfLoa4do79LwehG/UYBH0Lq9J2jq6I6bs08G8tlLp1PT3MFzW4/FuhQROUsK8Ah67q1jFGQmszxGQ+eH4uKZ+cwpzmbV+gMEp7UREb9QgEdIS0c3f9hzguvmF5OYEL9vs5nx2Uunsf9EM+v2je3JxkT8Jn6TxefW7jlBe1cvH1kQH+d+n8lHFpRQlJ3CQxpeL+Irgw6ll+F5/q1jFGWn8IGp8TNU/fHXT38xh8WTc1m9s4rvvbSXknGnDve/7YIpkS5NRIZBLfAIaGrvYt2+aj58XnHMZh48Wx+YmkdKYkBXrxfxEQV4BKzZdZzO7l4+siB+zz7pLy05gWXT8th+pEEDe0R8QgEeAS9sq6QkJ5XFk8fFupSzctGMAgJmbHi7JtaliMgQKMDDrKG1i1f3V/NnC/zTfdInJy2JRZPHsflQHc26er1I3FOAh9lLu6ro6nG+6j4Jdek5BXT1ODYeqI11KSIyCAV4mD2/rZLJeWksmJQT61KGZXx2KnMmZPHaO7V0dvfGuhwROQMFeBjVNnfw32/XcP2CEsz81X0S6rJZhbR19bDpoFrhIvFMAR5Gq3dW0dPr3+6TPqX5GUwvzGD9/hq6etQKF4lXCvAw+u1bx5hRmMGc4qxYlzJiV507nqaObt4or4t1KSJyGgrwMDne2M7rB+u4fqG/u0/6TCvIoDQ/nVf3VdPRralmReKRAjxMXthWiXP4vvukj5lx1ezxNLZ388vNR2JdjogMQAEeJs9vO8ac4mxmjs+MdSlhM7Mwk8m5afxk3TvqCxeJQwrwMKioa2XL4ZO+mHnwbPS1wo/Ut/FUWUWsyxGRfhTgYfDC9koArh8l3SehZhVlsaQ0l/+7dr8uuyYSZxTgYfCbrcdYOHkcU/LTY11K2JkZX1kxm+ONHTz6p/JYlyMiIRTgI7SnqpHdlY18NI6vezlSy6blceW5hfz7undoaOuKdTki4lGAj9Cv3zxKQsC4fuHoDXCA//mh2TS0dfHgq+/EuhQR8SjAR6C31/GbN49x+axC8jNTYl1ORM0tyeaGhSU8vKGcE43tsS5HRFCAj8jGg7VUNbZz4+KJsS4lKv722ll09/Zy/0t7Y12KiDDCADezcjPbbmZbzawsXEX5xbNvHiUzJZFr5hTFupSoKM3P4DOXTOeXm4+w5XB9rMsRGfPC0QK/0jm3yDm3NAyv5RvtXT28uL2KFfMnkJacEOtyouaLV82kKDuFbz63k95eF+tyRMY0daEM08u7j9PU0c1Hx0j3SZ+MlET+/ro5bDvSoCH2IjE20gB3wO/NbLOZ3TXQBmZ2l5mVmVlZdfXoueL5M1uOUpSdwoXT82NdStStXFTC0tJcvrN6j04rFImhkQb4Jc6584HrgHvM7LL+GzjnHnTOLXXOLS0sLBzh7uJDZUMb6/ae4OYlk0jw2XUvw8HM+OYN86hv7eS+F/fEuhyRMWtEAe6cO+r9PAH8GlgWjqLi3VNvHKHXwS1Lp8S6lJiZPzGHz142nSc2HWbDfl3FXiQWhh3gZpZhZll9y8C1wI5wFRavenodT5VVcMnMglE5dP5sfPnqWcwozOArv9pGU7u6UkSibSQt8CJgg5m9BWwCXnDOrQ5PWfFr/f5qjp5s49ZlY7f13Sc1KYHvfmwhlQ1t/Iu6UkSiLnG4T3TOHQAWhrEWX/jFpgryM5K5Zu7YOPd7MOdPyeXOS6fz4KsHWDFvApfNGh3HOUT8QKcRnoXqpg5e3n2cm5ZMIjlRb12fv7lmFueMz+TLT26lqkHD7EWiRSl0Fn65+QjdvY5bPjA51qXEldSkBH5y+/m0dfXwhce36Oo9IlGiAB+i7p5eHt90iAum5TGjcPRcNi1cZo7P4r6bFlB2qJ77V6s/XCQaFOBD9NLO41TUtfHpS6bFupS4dcPCEu5YXsqq9Qd5YVtlrMsRGfUU4EPgnGPV+gNMzU/n6jEycdVwffXP5rCkNJcvP7WV1w/UxrockVFt2GehjCWbD9WzteIk/7hy3pgcefn464fPavvr5k3gcG0rd/znJp6952JmT8iOUGUiY5ta4EOwav0BxqUncfMSHbwcivSURP7i4qkkJwS44+FNHKlvjXVJIqOSAnwQ5TUt/H7XcW6/oHRMTRs7UrnpyfzFRdNo7ezhlv/YSHlNS6xLEhl1FOCD+OmGgyQFAnzqotJYl+I7E3JSeezOC2jt7ObmB15j17HGWJckMqoowM/g2Mk2niyr4KOLJzI+KzXW5fjSgknjePru5SQlGJ948DXeKK+LdUkio4YC/Ax+9PJ+cPDFD86MdSm+NnN8Fk/fvZyCzBRufXAjD284iHO6mo/ISCnAT+PtE808vbmC2y8sZVLu2J51MBwm5abz689fzBXnjudbz+/inse3aAZDkRFSgJ/GD9bsJS0pgXuunBHrUkaNnPQkVn1qCX9/3Wxe2nmcFf+6nrW7j8e6LBHfUoAP4K2Kk/xuexV3Xjqd/MyUWJczqpgZn7t8Bk997kLSkxP4zKNl3P2zzRw72Rbr0kR8RwHej3OO76zeQ15GMndeqmHzkbKkNI8XvnQp/2vFuazbd4IrvreOb/xmB5UNCnKRodJIzH6e3XqUP71Ty7dWziMrNSnW5YxqyYkBPn/FTG5YWMK//eFtHnv9ME9sCp7184llk1k0eRxmY2/kq8hQKcBDVDd18A+/3cWS0lz+/AKd9x0tk3LTue+mBXzhqpk88Md3+NXmozxZVsGsokxuOn8S18wtYrpmgBR5HwV4iG/+dietHT1856bzxuScJ7E2KTedb994Hl9ZMZvnt1Xy5BsV/MuLe/iXF/cwrSCDy2cVsmxaHktKcynK1nn5Igpwz0s7q3hhWyV/d+0sZo7PinU5Y1pWahK3LpvCrcumcKS+lVf2nGDtnhM8sekwj/ypHICSnFRmF2czqyiLWUWZlOZnMCUvnYLMZHW7yJihAAdONLbz9Wd3MKc4m89drtMG40HoDIgJgQDXzp3AVbPHU9XQzqHaVo7Ut7LrWCN/3FtNT8igoOSEANlpSWSnJZKTmkRWaiKZqUlkpSSSmZpIZkrwlpacQCBMQX/bBbrA9emc7UyWffSeDs2YD/D2rh7u+tlmWjq6+a9PLyMpQSfmxKvEQIBJuemnDKzq6XXUtnRQ19JJXUsn9S2dNLR309jWxcGaFpo6uunpff+ozwQzMlMTyUpNJDs1iXHpSeSkJZGbnkx+ZjL5GSm67qnEvTEd4M45vvrMdrZWnOSB289nTrHmrfabhIAxPiv1tHPVOOdo7+qlqb2L5o7ud29N7d00tXfR1N5NTXMHb1c309l96rU8c9KSKMpOoSgrlQk5qUzMTaMgMyVsLXeRkRrTAf7Q+oM88+ZRvnz1LFbML451ORIBZkZacgJpyQmMP8N2fUFf19pJbXMHtS2dVDd1cLyxnQPVtXR7rfiUxAATx6UxtSCDqV6/u0isjNkA/9nGQ/zzi7v58HkT+OJVmqxqrOsL+onJaUwcl3bKYz29jprmDo7Ut3GkvpWKuuCBVUewK+Z3Oyq5dGYBl84qZMHEHAI6g0miZMwFuHOOH7/yNt/7/T6unjOeH3x8kb5wckYJAaMoO5Wi7FSWlOYCwWMnh+taOVDdTG1LJ99fs4/vr9lHfkYyl59byFWzx3P5rEINBpOIGlMB3tPruO/F3axaf5CPLp7I/Tcv0EFLGZbUpATvFMYsbrtgCrXNHWx4u4Y/7DnBH/ac4JktR0lKMC6cns/Vc4q4Zm4RJf1a9iIjNWYC/FBtC3/39Fu8UV7PHctL+cb189TyjoLhnkbmJ6G/4wXT8vnA1DwO17ayu6qR3ZVNrN9fwzee20lJTipzirOZU5xNcU4qf36hRvvKyIz6AO/tdfzijQq+/cIuEgLGD29ZyI2LJmqwh0RMwCx4kLMgg+vmF1Pd1MHuykZ2VTbyB29QUnZqIjsrG7liViEXzSwgM2XUfxUB6HWOzu5eunp66epx9Hrn8BsQCBhJCQGSEwI45/QdHQKL5pVRli5d6srKyqKyr55exwvbK/l/a/ez/0QzF8/M57s3L4yrP2PHQutUTtXc0c3eqib2VDVSXtNCS2cPiQFjSWkuF88sYPmMfBZOGue7c9Cdc1Q3dVDhHeg9erKN4w3tlB2qp7Gti5bOHlo7u2nv6h38xQged8hND56Xn5eRzIScVCZkB0/nDI4FSGNyXvqY+Y/PzDY755b2Xz/qfvuKulae31bJ05srOFDdwjnjM/nRJxZx/YISdZlIzGWmJLKkNJclpbncvGQSmw/V88d91fxxXzU/WLMP1kBqUoCFk8axeEoui6eMY/7EHEpyUmPeIu3u6aXSGwl7qK6FQ7WtlNcEfx6ua6Wtq+eU7XPSkkhJDI6MzctIJj05OAI2NTFAYkKApAQ75Zz6nl5HV08vnT2OmeMzqG/tor6lk5rmDt48fJKqxvb3natfkJlMaX4GpXnpTC3IoDQ/nan5wVM8c9JH/wHkEbXAzWwF8CMgAXjIOXffmbaPRAv8ZGsnbx4+SdmhOja8XctbFScBWDxlHJ+9dDor5k2I2+BWC3xs6z9cvL6lk9cP1rHxQC1vVpxk17EGunqC38/s1ERmF2czozCTaQXplOZnMHFcGhNyUslLTx7xZ7y313GyrYva5g6qGtupagjejp5se/f0ySP1be+eDw/Bc+Kn5AVrKc1PZ0pe8DYpN42ScWlkpCSGdSi9c466lk6O1LdRUd9KRV0bh+taKK9ppby2hcqG9lO2z0lLojQ/ncleTZNy05k4LpXinDRKctLITkuM+X+KQxX2FriZJQA/Bq4BjgBvmNlzzrldwy9zYOU1LbxT3Ux1Uwc1zR0ca2jnYHULB2taqGoM/qMlBIz5E3O497rZ/Nl5xUzWAAvxmdyMZFbMn8CK+ROA4KmKO48F+873VDayp6qJ1TsqqW899VqiSQlGbnryu9MBZKQkkpqYQEpSgMRAgL6M6u11dHT30tHdQ1tXjzcaNTjtQH1rJwPMOEBhVgoTx6Uxf2IOHz6v+N1AnFaQQVFWalQbR2ZGfmYK+ZkpLJw87n2P953aebCmhcMhfyXsPtbImp3H6ew5tfWekhigMCuFwqwU8jNSyMsIdtnkpCeRnZpEdloSmSkJpCcnkp6cQHpyAine+5qalEByQoCkhEBMZy4dSRfKMuBt59wBADP7BbASCHuAP7ThAD/f+N7/5LnpSUwtyOCimfnMKMzk/Cm5LJycQ3ryqOsRkjEsNSnh3e6WUA2tXV6Lsy3YUm7sCM4B09ZFQ1sXdS2ddHQFg7qvBQ9gFnzNlMRgAOWmJzMlL53stCTyM4J9zfmZKcG+5uxUxmenkJqUEO1fe9hCT+3sr7fXcaKpg2MNbVSebKeyoY0TTR1Ue7ejJ9vYcbSButbO93XTDMYMEgNGYiAY5gHD+2mYBe8HzPjBLQu5aEZBuH7d4L6H24ViZjcDK5xzd3r3Pwlc4Jz7Qr/t7gLu8u6eC+wNebgAqBlWAdHllzpBtUaCX+oE1RoJ8VBnqXOusP/KiDdZnXMPAg8O9JiZlQ3UrxNv/FInqNZI8EudoFojIZ7rHMm5SkeBySH3J3nrREQkCkYS4G8A55jZNDNLBj4BPBeeskREZDDD7kJxznWb2ReAlwieRviwc27nWb7MgF0rccgvdYJqjQS/1AmqNRLits6ojsQUEZHw8dd4XREReZcCXETEpyIa4GaWZ2ZrzGy/9zP3NNvd4W2z38zuCFm/zsz2mtlW73amq2INt8YV3j7eNrN7B3g8xcye9B5/3cymhjz29976vWb2oXDXFo46zWyqmbWFvIcPRLLOIdZ6mZltMbNubzxB6GMDfhbitNaekPc14gfwh1Dr35jZLjPbZmZrzaw05LGova8jrDPe3tO7zWy7V88GM5sb8ljUvv+n5ZyL2A24H7jXW74X+M4A2+QBB7yfud5yrvfYOmBpBOtLAN4BpgPJwFvA3H7bfB54wFv+BPCktzzX2z4FmOa9TkIc1jkV2BHJf+dh1DoVWAD8F3DzUD4L8Var91hznL2vVwLp3vL/CPkMRO19HUmdcfqeZocs3wCs9paj9v0/0y3SXSgrgUe95UeBGwfY5kPAGudcnXOuHlgDrIhwXX3enQ7AOdcJ9E0HECr0d/gl8EELzoCzEviFc67DOXcQeNt7vXirM9oGrdU5V+6c2wb0H7Mc7c/CSGqNtqHU+opzrtW7u5Hg2AyI7vs6kjqjbSi1NobczQD6zvqI5vf/tCId4EXOuUpvuQooGmCbiUBFyP0j3ro+/+n9+fK/IxBIg+37lG2cc91AA5A/xOfGQ50A08zsTTP7o5ldGqEaz6bWSDx3OEa6v1QzKzOzjWY2UOMknM621s8ALw7zuSMxkjohDt9TM7vHzN4h2KPwpbN5bqSNeCi9mb0MTBjgoa+F3nHOOTM723MW/9w5d9TMsoBfAZ8k+KesDF0lMMU5V2tmS4BnzWxev5aFDE+p9/mcDvzBzLY7596JdVFmdjuwFLg81rWcyWnqjLv31Dn3Y+DHZnYb8HUg4sdmhmrELXDn3NXOufkD3H4DHDezYgDv54kBXuK0Q/Kdc30/m4DHCf+fKEOZDuDdbcwsEcgBaof43JjX6f2JVwvgnNtMsK9uVoTqHGqtkXjucIxofyGfzwMEj9csDmdx/QypVjO7mmDj6QbnXMfZPDcO6ozL9zTEL3ivGzg+phKJ8EGC73LqQcz7B9gmDzhI8OBKrrecR/CvgwJvmySC/bp3h7m+RIIHdKbx3kGMef22uYdTDw4+5S3P49SDGAeI3EHMkdRZ2FcXwYM1R4G8CP6bD1pryLaP8P6DmO/7LMRprblAirdcAOyn3wGwGHwGFhP8D/qcfuuj9r6OsM54fE/PCVm+HijzlqP2/T/j7xDRFw/2wa71/iFe7vvQEPyz6aGQ7T5N8CDA28BfeusygM3ANmAn3pV/IlDjh4F93gfqa966bxFsGQCkAk97tW0Cpoc892ve8/YC10X4vRxWncBN3vu3FdgCXB/xD9XgtX6AYJ9hC8G/Znae6bMQj7UCFwHbvS/xduAzcXwuLNIAAAORSURBVFDry8Bx7996K/BcLN7X4dYZp+/pj0K+P68QEvDR/P6f7qah9CIiPqWRmCIiPqUAFxHxKQW4iIhPKcBFRHxKAS4i4lMKcBERn1KAiwyBmT0UOpVoBPfz12aWHun9yOig88BlTDKzRBec9CuumFk5wSmUa2Jdi8Q/tcAlJszsWTPbbGY7zewub12zmf3QW7fWzAq99evM7EferJQ7zGyZtz7DzB42s03ebIsrvfVTzWy9dyGGLWZ2kbf+Cm/9c8Au7/kvmNlb3uvecoZ615nZ0pA6/8l73kYzG2iWzb7nPWJmD3gz7O0zs4946xPM7HvefreZ2RfN7EtACfCKmb0SljdaRrdYDP/UTTfem1YhDdhBcNoFR3AGSoD/A/ybt7wOWOUtX4Z3gQrgn4HbveVxBIdEZwDpQKq3/hzem7/iCoJD4qd592/qe13vfs4Z6l2Hd3ERr87rveX7ga+f4XmPAKsJNpbOITgsP5XghQx+CST2ez/K8eYA0k23wW5qgUusfMnM3iI4of9kguHWCzzpPf5z4JKQ7Z8AcM69CmSb2TjgWuBeM9tKMGBTgSkEJz9bZWbbCc4PE9p3vckFJ+CH4Hwb15jZd8zsUudcwxBr7wSe95Y3E7xqz5k85Zzrdc7tJzjp0WzgauA/nNeN45yrG+K+Rd414vnARc6WmV1BMMCWO+dazWwdwfDtz51mue++ATc55/b2e/1vEpwsaSHBlm97yMMt776Ac/vM7HyCExp928zWOue+NYRfocs511dPD4N/jwaqXWTE1AKXWMgB6r3wng1c6K0PAH0XDr4N2BDynFsAzOwSoMFrLb8EfLHvSk1m1jd3dA5Q6ZzrJXgRkISBijCzEqDVOfdzglMfnx+m36+/j5lZwMxmEJzSdy/By5p9zpu7HTPL87ZtArIiVIeMMmqBSyysBu42s90Ew2yjt74FWGZmXyd48Y/Qg4rtZvYmwe6RT3vr/hH4V2CbmQUIznP9EeDfgV+Z2ae8fbUwsPOA75pZL9BFsF86Eg4TnOI3m+Cc9u1m9hDBC2tsM7MuYBXwb8CDwGozO+acuzJC9cgoodMIJW6YWbNzLnOA9euAv3POlUW/qpExs0eA551zv4x1LTL6qAtFRMSn1AIXCWFmvyZ4iaxQX3HOvTTI874GfKzf6qedc/8UzvpEQinARUR8Sl0oIiI+pQAXEfEpBbiIiE8pwEVEfOr/A4bteZRgJC29AAAAAElFTkSuQmCC\n",
      "text/plain": [
       "<Figure size 432x288 with 1 Axes>"
      ]
     },
     "metadata": {
      "needs_background": "light"
     },
     "output_type": "display_data"
    }
   ],
=======
   "execution_count": null,
   "metadata": {},
   "outputs": [],
>>>>>>> 9d142a5988318d8c68919041231f6771beeca43f
   "source": [
    "# Tree-Map w/ Words that appear in a least 2.5% of documents. \n",
    "\n",
    "wc = wc[wc['appears_in_pct'] >= 0.025]\n",
    "\n",
    "sns.distplot(wc['appears_in_pct']);"
   ]
  },
  {
   "cell_type": "code",
<<<<<<< HEAD
   "execution_count": 72,
   "metadata": {},
   "outputs": [
    {
     "data": {
      "text/plain": [
       "(67, 7)"
      ]
     },
     "execution_count": 72,
     "metadata": {},
     "output_type": "execute_result"
    }
   ],
=======
   "execution_count": null,
   "metadata": {},
   "outputs": [],
>>>>>>> 9d142a5988318d8c68919041231f6771beeca43f
   "source": [
    "wc.shape"
   ]
  },
  {
   "cell_type": "markdown",
   "metadata": {},
   "source": [
    "## Challenge\n",
    "\n",
    "In the module project, you will apply stop word removal to a new corpus. You will focus on applying dictionary based stop word removal, but as a stretch goal, you should consider applying statistical stopword trimming. "
   ]
  },
  {
   "cell_type": "markdown",
   "metadata": {
    "toc-hr-collapsed": false
   },
   "source": [
    "# Stemming & Lemmatization (Learn)\n",
    "<a id=\"p3\"></a>"
   ]
  },
  {
   "cell_type": "markdown",
   "metadata": {
    "toc-hr-collapsed": false
   },
   "source": [
    "## Overview\n",
    "\n",
    "You can see from our example above there is still some normalization to do to get a clean analysis. You notice that there many words (*i.e.* 'batteries', 'battery') which share the same root word. We can use either the process of stemming or lemmatization to trim our words down to the 'root' word. \n",
    "\n",
    "__Section Agenda__:\n",
    "\n",
    "- Which is which\n",
    "- why use one v. other\n",
    "- show side by side visualizations \n",
    "- how to do it in spacy & nltk\n",
    "- introduce PoS in here as well"
   ]
  },
  {
   "cell_type": "markdown",
   "metadata": {
    "toc-hr-collapsed": true
   },
   "source": [
    "## Follow Along"
   ]
  },
  {
   "cell_type": "markdown",
   "metadata": {
    "toc-hr-collapsed": true
   },
   "source": [
    "### Stemming\n",
    "\n",
    "> *a process for removing the commoner morphological and inflexional endings from words in English. Its main use is as part of a term normalisation process that is usually done when setting up Information Retrieval systems.* - [Martin Porter](https://tartarus.org/martin/PorterStemmer/)\n",
    "\n",
    "Some examples include:\n",
    "- 'ing'\n",
    "- 'ed'\n",
    "- 's'\n",
    "\n",
    "These rules are by no means comprehensive, but they are somewhere to start. Most stemming is done by well documented algorithms such as Porter, Snowball, and Dawson. Porter and its newer version Snowball are the most popular stemming algorithms today. For more information on various stemming algorithms check out [*\"A Comparative Study of Stemming Algorithms\"*](https://pdfs.semanticscholar.org/1c0c/0fa35d4ff8a2f925eb955e48d655494bd167.pdf) \n",
    "\n",
    "\n",
    "Spacy does not do stemming out of the box, but instead uses a different technique called *lemmatization* which we will discuss in the next section. Let's turn to an antique python package `nltk` for stemming. "
   ]
  },
  {
   "cell_type": "code",
<<<<<<< HEAD
   "execution_count": 73,
   "metadata": {},
   "outputs": [
    {
     "name": "stdout",
     "output_type": "stream",
     "text": [
      "wolf\n",
      "wolv\n"
     ]
    }
   ],
=======
   "execution_count": null,
   "metadata": {},
   "outputs": [],
>>>>>>> 9d142a5988318d8c68919041231f6771beeca43f
   "source": [
    "from nltk.stem import PorterStemmer\n",
    "\n",
    "ps = PorterStemmer()\n",
    "\n",
    "words = [\"wolf\", \"wolves\"]\n",
    "\n",
    "for word in words:\n",
    "    print(ps.stem(word))"
   ]
  },
  {
   "cell_type": "markdown",
   "metadata": {},
   "source": [
    "### Two Minute Challenge\n",
    "\n",
    "Apply the Porter stemming algorithm to the tokens in the `df` dataframe. Visualize the results in the tree graph we have been using for this session."
   ]
  },
  {
   "cell_type": "code",
   "execution_count": null,
   "metadata": {},
   "outputs": [],
   "source": [
    "# Put in a new column `stems`\n"
   ]
  },
  {
   "cell_type": "code",
   "execution_count": null,
   "metadata": {},
   "outputs": [],
   "source": [
    "wc = count(df['stems'])\n",
    "\n",
    "wc_top20 = wc[wc['rank'] <= 20]\n",
    "\n",
    "squarify.plot(sizes=wc_top20['pct_total'], label=wc_top20['word'], alpha=.8 )\n",
    "plt.axis('off')\n",
    "plt.show()"
   ]
  },
  {
   "cell_type": "markdown",
   "metadata": {
    "toc-hr-collapsed": false
   },
   "source": [
    "### Lemmatization\n",
    "\n",
    "You notice immediately that results are kinda funky - words just oddly chopped off. The Porter algorithm did exactly what it knows to do: chop off endings. Stemming works well in applications where humans don't have to worry about reading the results. Search engines and more broadly information retrieval algorithms use stemming. Why? Because it's fast. \n",
    "\n",
    "Lemmatization on the other hand is more methodical. The goal is to transform a word into its base form called a lemma. Plural nouns with funky spellings get transformed to singular tense. Verbs are all transformed to the transitive. Nice tidy data for a visualization. :) However, this tidy data can come at computational cost. Spacy does a pretty freaking good job of it though. Let's take a look:"
   ]
  },
  {
   "cell_type": "code",
<<<<<<< HEAD
   "execution_count": 74,
   "metadata": {},
   "outputs": [
    {
     "name": "stdout",
     "output_type": "stream",
     "text": [
      "This    this\n",
      "is    be\n",
      "the    the\n",
      "start    start\n",
      "of    of\n",
      "our    -PRON-\n",
      "NLP    NLP\n",
      "adventures    adventure\n",
      ".    .\n",
      "We    -PRON-\n",
      "started    start\n",
      "here    here\n",
      "with    with\n",
      "Spacy    Spacy\n",
      ".    .\n",
      "We    -PRON-\n",
      "are    be\n",
      "starting    start\n",
      "here    here\n",
      "with    with\n",
      "NLP    NLP\n",
      ".    .\n"
     ]
    }
   ],
=======
   "execution_count": null,
   "metadata": {},
   "outputs": [],
>>>>>>> 9d142a5988318d8c68919041231f6771beeca43f
   "source": [
    "sent = \"This is the start of our NLP adventures. We started here with Spacy. We are starting here with NLP.\"\n",
    "\n",
    "nlp = spacy.load(\"en_core_web_lg\")\n",
    "\n",
    "doc = nlp(sent)\n",
    "\n",
    "# Lemma Attributes\n",
    "for token in doc:\n",
    "    print(token.text, \"  \", token.lemma_)"
   ]
  },
  {
   "cell_type": "code",
<<<<<<< HEAD
   "execution_count": 75,
=======
   "execution_count": null,
>>>>>>> 9d142a5988318d8c68919041231f6771beeca43f
   "metadata": {},
   "outputs": [],
   "source": [
    "# Wrap it all in a function\n",
    "def get_lemmas(text):\n",
    "\n",
    "    lemmas = []\n",
    "    \n",
    "    doc = nlp(text)\n",
    "    \n",
    "    # Something goes here :P\n",
    "    for token in doc: \n",
    "        if ((token.is_stop == False) and (token.is_punct == False)) and (token.pos_ != 'PRON'):\n",
    "            lemmas.append(token.lemma_)\n",
    "    \n",
    "    return lemmas"
   ]
  },
  {
   "cell_type": "code",
<<<<<<< HEAD
   "execution_count": 77,
=======
   "execution_count": null,
>>>>>>> 9d142a5988318d8c68919041231f6771beeca43f
   "metadata": {},
   "outputs": [],
   "source": [
    "df['lemmas'] = df['reviews.text'].apply(get_lemmas)"
   ]
  },
  {
   "cell_type": "code",
   "execution_count": null,
   "metadata": {},
   "outputs": [],
   "source": [
    "df['lemmas'].head()"
   ]
  },
  {
   "cell_type": "code",
   "execution_count": null,
   "metadata": {},
   "outputs": [],
   "source": [
    "wc = count(df['lemmas'])\n",
    "wc_top20 = wc[wc['rank'] <= 20]\n",
    "\n",
    "squarify.plot(sizes=wc_top20['pct_total'], label=wc_top20['word'], alpha=.8 )\n",
    "plt.axis('off')\n",
    "plt.show()"
   ]
  },
  {
   "cell_type": "markdown",
   "metadata": {},
   "source": [
    "## Challenge\n",
    "\n",
    "You should know how to apply lemmatization with Spacy to a corpus of text. "
   ]
  },
  {
   "cell_type": "markdown",
   "metadata": {},
   "source": [
    "# Review\n",
    "\n",
    "In this module project, you've seen us apply Natural Language Processing techniques (tokenization, stopword removal, and lemmatization) to a corpus of Amazon text reviews. We analyzed those reviews using these techniques and discovered that Amazon customers are generally satisfied with the battery life of Amazon products and generally appear satisfied. \n",
    "\n",
    "You will apply similar techniques to today's [module project assignment](LS_DS_411_Text_Data_Assignment.ipynb) to analyze coffee shop reviews from yelp. Remember that the techniques of processing the text are just the beginning. There are many ways to slice and dice the data. "
   ]
  },
  {
   "cell_type": "markdown",
   "metadata": {},
   "source": [
    "# Sources\n",
    "\n",
    "* Spacy 101 - https://course.spacy.io\n",
    "* NLTK Book - https://www.nltk.org/book/\n",
    "* An Introduction to Information Retrieval - https://nlp.stanford.edu/IR-book/pdf/irbookonlinereading.pdf"
   ]
  },
  {
   "cell_type": "markdown",
   "metadata": {
    "toc-hr-collapsed": true
   },
   "source": [
    "## Advanced Resources & Techniques\n",
    "- Named Entity Recognition (NER)\n",
    "- Dependcy Trees \n",
    "- Generators\n",
    "- the major libraries (NLTK, Spacy, Gensim)"
   ]
  }
 ],
 "metadata": {
  "kernelspec": {
<<<<<<< HEAD
   "display_name": "U4-S1-NLP",
   "language": "python",
   "name": "u4-s1-nlp"
=======
   "display_name": "U4-S1-NLP-DS11",
   "language": "python",
   "name": "u4-s1-nlp-ds11"
>>>>>>> 9d142a5988318d8c68919041231f6771beeca43f
  },
  "language_info": {
   "codemirror_mode": {
    "name": "ipython",
    "version": 3
   },
   "file_extension": ".py",
   "mimetype": "text/x-python",
   "name": "python",
   "nbconvert_exporter": "python",
   "pygments_lexer": "ipython3",
   "version": "3.7.0"
  },
  "toc-autonumbering": false,
  "toc-showcode": false,
  "toc-showmarkdowntxt": false
 },
 "nbformat": 4,
 "nbformat_minor": 4
}
