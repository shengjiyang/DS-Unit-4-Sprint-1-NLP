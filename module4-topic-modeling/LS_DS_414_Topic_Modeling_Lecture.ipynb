{
 "cells": [
  {
   "cell_type": "markdown",
   "metadata": {},
   "source": [
    "Lambda School Data Science\n",
    "\n",
    "*Unit 4, Sprint 1, Module 4*\n",
    "\n",
    "---"
   ]
  },
  {
   "cell_type": "markdown",
   "metadata": {},
   "source": [
    "# Topic Modeling (Prepare)\n",
    "\n",
    "On Monday we talked about summarizing your documents using just token counts. Today, we're going to learn about a much more sophisticated approach - learning 'topics' from documents. Topics are a latent structure. They are not directly observable in the data, but we know they're there by reading them.\n",
    "\n",
    "> **latent**: existing but not yet developed or manifest; hidden or concealed.\n",
    "\n",
    "## Use Cases\n",
    "Primary use case: what the hell are your documents about? Who might want to know that in industry - \n",
    "* Identifying common themes in customer reviews\n",
    "* Discovering the needle in a haystack \n",
    "* Monitoring communications (Email - State Department) \n",
    "\n",
    "## Learning Objectives\n",
    "*At the end of the lesson you should be able to:*\n",
    "* <a href=\"#p1\">Part 1</a>: Describe how an LDA Model works\n",
    "* <a href=\"#p2\">Part 2</a>: Estimate a LDA Model with Gensim\n",
    "* <a href=\"#p3\">Part 3</a>: Interpret LDA results\n",
    "* <a href=\"#p4\">Part 4</a>: Select the appropriate number of topics\n"
   ]
  },
  {
   "cell_type": "markdown",
   "metadata": {},
   "source": [
    "# Latent Dirchilet Allocation Models (Learn)\n",
    "<a id=\"#p1\"></a>"
   ]
  },
  {
   "cell_type": "markdown",
   "metadata": {},
   "source": [
    "## Overview\n",
    "LDA is a \"generative probabilistic model\". \n",
    "\n",
    "Let's play with a model available [here](https://lettier.com/projects/lda-topic-modeling/)"
   ]
  },
  {
   "cell_type": "markdown",
   "metadata": {},
   "source": [
    "## Follow Along"
   ]
  },
  {
   "cell_type": "markdown",
   "metadata": {},
   "source": [
    "## Challenge "
   ]
  },
  {
   "cell_type": "markdown",
   "metadata": {},
   "source": [
    "# Estimating LDA Models with Gensim (Learn)\n",
    "<a id=\"#p1\"></a>"
   ]
  },
  {
   "cell_type": "markdown",
   "metadata": {
    "toc-hr-collapsed": true
   },
   "source": [
    "## Overview\n",
    "### A Literary Introduction: *Jane Austen V. Charlotte Bronte*\n",
    "Despite being born nearly forty years apart, modern fans often pit Jane Austen & Charlotte Bronte against one another in a battle for literary  supremacy. The battle centers around the topics of education for women, courting, and marriage. The authors' similar backgrounds naturally draw comparisons, but the modern fascination is probably due to novelty of British women publishing novels during the early 19th century. \n",
    "\n",
    "Can we help close a literary battle for supremacy and simply acknowledge that the authors addressed different topics and deserve to be acknowledged as excellent authors each in their own right?\n",
    "\n",
    "We're going to apply Latent Dirichlet Allocation a machine learning algorithm for topic modeling to each of the author's novels to compare the distribution of topics in their novels."
   ]
  },
  {
   "cell_type": "code",
   "execution_count": 1,
   "metadata": {},
   "outputs": [],
   "source": [
    "import numpy as np\n",
    "import gensim\n",
    "import os\n",
    "import re\n",
    "\n",
    "from gensim.utils import simple_preprocess\n",
    "from gensim.parsing.preprocessing import STOPWORDS\n",
    "from gensim import corpora\n",
    "\n",
    "from gensim.models.ldamulticore import LdaMulticore\n",
    "\n",
    "import pandas as pd"
   ]
  },
  {
   "cell_type": "code",
   "execution_count": 2,
   "metadata": {},
   "outputs": [
    {
     "data": {
      "text/plain": [
       "'3.8.1'"
      ]
     },
     "execution_count": 2,
     "metadata": {},
     "output_type": "execute_result"
    }
   ],
   "source": [
    "gensim.__version__"
   ]
  },
  {
   "cell_type": "markdown",
   "metadata": {},
   "source": [
    "### Novel Data\n",
    "I grabbed the novel data pre-split into a bunch of smaller chunks"
   ]
  },
  {
   "cell_type": "code",
   "execution_count": 3,
   "metadata": {},
   "outputs": [],
   "source": [
    "path = './data/austen-brontë-split'"
   ]
  },
  {
   "cell_type": "markdown",
   "metadata": {},
   "source": [
    "### Text Preprocessing\n",
    "**Activity**: update the function `tokenize` with any technique you have learned so far this week. "
   ]
  },
  {
   "cell_type": "code",
   "execution_count": 4,
   "metadata": {},
   "outputs": [],
   "source": [
    "# 1) Plain Python - ''.split command\n",
    "# 2) Spacy - just the lemmas from the document\n",
    "# 3) Gensim - simple_preprocess\n",
    "\n",
    "STOPWORDS = set(STOPWORDS).union(set(['said', 'mr', 'mrs']))\n",
    "\n",
    "def tokenize(text):\n",
    "    return [token for token in simple_preprocess(text) if token not in STOPWORDS]"
   ]
  },
  {
   "cell_type": "code",
   "execution_count": 5,
   "metadata": {},
   "outputs": [],
   "source": [
    "import os\n",
    "\n",
    "def gather_data(path_to_data): \n",
    "    data = []\n",
    "    for f in os.listdir(path):\n",
    "        if os.path.isdir(f) == False:\n",
    "            if f[-3:] == 'txt':\n",
    "                with open(os.path.join(path,f)) as t:\n",
    "                    text = t.read().strip('\\n')\n",
    "                    data.append(tokenize(str(text)))       \n",
    "    return data"
   ]
  },
  {
   "cell_type": "code",
   "execution_count": 6,
   "metadata": {},
   "outputs": [],
   "source": [
    "tokens = gather_data(path)"
   ]
  },
  {
   "cell_type": "code",
   "execution_count": 7,
   "metadata": {},
   "outputs": [
    {
     "data": {
      "text/plain": [
       "['giving',\n",
       " 'fair',\n",
       " 'companion',\n",
       " 'account',\n",
       " 'yesterday',\n",
       " 'party',\n",
       " 'friend',\n",
       " 'cole',\n",
       " 'come',\n",
       " 'stilton']"
      ]
     },
     "execution_count": 7,
     "metadata": {},
     "output_type": "execute_result"
    }
   ],
   "source": [
    "tokens[0][0:10]"
   ]
  },
  {
   "cell_type": "code",
   "execution_count": 8,
   "metadata": {},
   "outputs": [
    {
     "data": {
      "text/plain": [
       "'this is a sample string with a  newline character'"
      ]
     },
     "execution_count": 8,
     "metadata": {},
     "output_type": "execute_result"
    }
   ],
   "source": [
    "\"this is a sample string with a \\n newline character\".replace('\\n', '')"
   ]
  },
  {
   "cell_type": "markdown",
   "metadata": {
    "toc-hr-collapsed": true
   },
   "source": [
    "## Follow Along"
   ]
  },
  {
   "cell_type": "code",
   "execution_count": 9,
   "metadata": {},
   "outputs": [],
   "source": [
    "titles = [t[:-4] for t in os.listdir(path) if os.path.isdir(t) == False]"
   ]
  },
  {
   "cell_type": "code",
   "execution_count": 10,
   "metadata": {},
   "outputs": [
    {
     "data": {
      "text/plain": [
       "813"
      ]
     },
     "execution_count": 10,
     "metadata": {},
     "output_type": "execute_result"
    }
   ],
   "source": [
    "len(titles)"
   ]
  },
  {
   "cell_type": "code",
   "execution_count": 11,
   "metadata": {},
   "outputs": [
    {
     "data": {
      "text/plain": [
       "813"
      ]
     },
     "execution_count": 11,
     "metadata": {},
     "output_type": "execute_result"
    }
   ],
   "source": [
    "len(tokens)"
   ]
  },
  {
   "cell_type": "markdown",
   "metadata": {},
   "source": [
    "### Author DataFrame\n"
   ]
  },
  {
   "cell_type": "code",
   "execution_count": 12,
   "metadata": {},
   "outputs": [],
   "source": [
    "df = pd.DataFrame(index=titles, data={'tokens':tokens})"
   ]
  },
  {
   "cell_type": "code",
   "execution_count": 13,
   "metadata": {},
   "outputs": [
    {
     "data": {
      "text/html": [
       "<div>\n",
       "<style scoped>\n",
       "    .dataframe tbody tr th:only-of-type {\n",
       "        vertical-align: middle;\n",
       "    }\n",
       "\n",
       "    .dataframe tbody tr th {\n",
       "        vertical-align: top;\n",
       "    }\n",
       "\n",
       "    .dataframe thead th {\n",
       "        text-align: right;\n",
       "    }\n",
       "</style>\n",
       "<table border=\"1\" class=\"dataframe\">\n",
       "  <thead>\n",
       "    <tr style=\"text-align: right;\">\n",
       "      <th></th>\n",
       "      <th>tokens</th>\n",
       "    </tr>\n",
       "  </thead>\n",
       "  <tbody>\n",
       "    <tr>\n",
       "      <th>Austen_Emma0026</th>\n",
       "      <td>[giving, fair, companion, account, yesterday, ...</td>\n",
       "    </tr>\n",
       "    <tr>\n",
       "      <th>Austen_Emma0032</th>\n",
       "      <td>[feels, like, snow, place, party, try, day, di...</td>\n",
       "    </tr>\n",
       "    <tr>\n",
       "      <th>CBronte_Villette0086</th>\n",
       "      <td>[pierced, opaque, blackness, stood, bougie, qu...</td>\n",
       "    </tr>\n",
       "    <tr>\n",
       "      <th>CBronte_Jane0099</th>\n",
       "      <td>[joke, queer, looks, tell, thing, specially, s...</td>\n",
       "    </tr>\n",
       "    <tr>\n",
       "      <th>CBronte_Villette0092</th>\n",
       "      <td>[second, landing, floor, comprising, abode, kn...</td>\n",
       "    </tr>\n",
       "  </tbody>\n",
       "</table>\n",
       "</div>"
      ],
      "text/plain": [
       "                                                                 tokens\n",
       "Austen_Emma0026       [giving, fair, companion, account, yesterday, ...\n",
       "Austen_Emma0032       [feels, like, snow, place, party, try, day, di...\n",
       "CBronte_Villette0086  [pierced, opaque, blackness, stood, bougie, qu...\n",
       "CBronte_Jane0099      [joke, queer, looks, tell, thing, specially, s...\n",
       "CBronte_Villette0092  [second, landing, floor, comprising, abode, kn..."
      ]
     },
     "execution_count": 13,
     "metadata": {},
     "output_type": "execute_result"
    }
   ],
   "source": [
    "df.head()"
   ]
  },
  {
   "cell_type": "code",
   "execution_count": 14,
   "metadata": {},
   "outputs": [],
   "source": [
    "df['author'] = df.reset_index()['index'].apply(lambda x: x.split('_')[0]).tolist()\n",
    "df['book'] = df.reset_index()['index'].apply(lambda x: x.split('_')[1][:-4]).tolist()\n",
    "df['section'] = df.reset_index()['index'].apply(lambda x: x[-4:]).tolist()\n",
    "df['section'] = df['section'].astype('int')"
   ]
  },
  {
   "cell_type": "code",
   "execution_count": 15,
   "metadata": {},
   "outputs": [],
   "source": [
    "df['author'] = df['author'].map({'Austen':1, 'CBronte':0})"
   ]
  },
  {
   "cell_type": "code",
   "execution_count": 16,
   "metadata": {},
   "outputs": [
    {
     "data": {
      "text/plain": [
       "0    441\n",
       "1    372\n",
       "Name: author, dtype: int64"
      ]
     },
     "execution_count": 16,
     "metadata": {},
     "output_type": "execute_result"
    }
   ],
   "source": [
    "df.author.value_counts()"
   ]
  },
  {
   "cell_type": "code",
   "execution_count": 17,
   "metadata": {},
   "outputs": [
    {
     "data": {
      "text/html": [
       "<div>\n",
       "<style scoped>\n",
       "    .dataframe tbody tr th:only-of-type {\n",
       "        vertical-align: middle;\n",
       "    }\n",
       "\n",
       "    .dataframe tbody tr th {\n",
       "        vertical-align: top;\n",
       "    }\n",
       "\n",
       "    .dataframe thead th {\n",
       "        text-align: right;\n",
       "    }\n",
       "</style>\n",
       "<table border=\"1\" class=\"dataframe\">\n",
       "  <thead>\n",
       "    <tr style=\"text-align: right;\">\n",
       "      <th></th>\n",
       "      <th>tokens</th>\n",
       "      <th>author</th>\n",
       "      <th>book</th>\n",
       "      <th>section</th>\n",
       "    </tr>\n",
       "  </thead>\n",
       "  <tbody>\n",
       "    <tr>\n",
       "      <th>Austen_Emma0026</th>\n",
       "      <td>[giving, fair, companion, account, yesterday, ...</td>\n",
       "      <td>1</td>\n",
       "      <td>Emma</td>\n",
       "      <td>26</td>\n",
       "    </tr>\n",
       "    <tr>\n",
       "      <th>Austen_Emma0032</th>\n",
       "      <td>[feels, like, snow, place, party, try, day, di...</td>\n",
       "      <td>1</td>\n",
       "      <td>Emma</td>\n",
       "      <td>32</td>\n",
       "    </tr>\n",
       "    <tr>\n",
       "      <th>CBronte_Villette0086</th>\n",
       "      <td>[pierced, opaque, blackness, stood, bougie, qu...</td>\n",
       "      <td>0</td>\n",
       "      <td>Villette</td>\n",
       "      <td>86</td>\n",
       "    </tr>\n",
       "    <tr>\n",
       "      <th>CBronte_Jane0099</th>\n",
       "      <td>[joke, queer, looks, tell, thing, specially, s...</td>\n",
       "      <td>0</td>\n",
       "      <td>Jane</td>\n",
       "      <td>99</td>\n",
       "    </tr>\n",
       "    <tr>\n",
       "      <th>CBronte_Villette0092</th>\n",
       "      <td>[second, landing, floor, comprising, abode, kn...</td>\n",
       "      <td>0</td>\n",
       "      <td>Villette</td>\n",
       "      <td>92</td>\n",
       "    </tr>\n",
       "  </tbody>\n",
       "</table>\n",
       "</div>"
      ],
      "text/plain": [
       "                                                                 tokens  \\\n",
       "Austen_Emma0026       [giving, fair, companion, account, yesterday, ...   \n",
       "Austen_Emma0032       [feels, like, snow, place, party, try, day, di...   \n",
       "CBronte_Villette0086  [pierced, opaque, blackness, stood, bougie, qu...   \n",
       "CBronte_Jane0099      [joke, queer, looks, tell, thing, specially, s...   \n",
       "CBronte_Villette0092  [second, landing, floor, comprising, abode, kn...   \n",
       "\n",
       "                      author      book  section  \n",
       "Austen_Emma0026            1      Emma       26  \n",
       "Austen_Emma0032            1      Emma       32  \n",
       "CBronte_Villette0086       0  Villette       86  \n",
       "CBronte_Jane0099           0      Jane       99  \n",
       "CBronte_Villette0092       0  Villette       92  "
      ]
     },
     "execution_count": 17,
     "metadata": {},
     "output_type": "execute_result"
    }
   ],
   "source": [
    "df.head()"
   ]
  },
  {
   "cell_type": "markdown",
   "metadata": {},
   "source": [
    "### Streaming Documents\n",
    "Here we use a new pythonic thingy: the `yield` statement in our function. This allows us to iterate over a bunch of documents without actually reading them into memory. You can see how we use this function later on. "
   ]
  },
  {
   "cell_type": "code",
   "execution_count": 18,
   "metadata": {},
   "outputs": [],
   "source": [
    "def doc_stream(path):\n",
    "    for f in os.listdir(path):\n",
    "        if os.path.isdir(f) == False:\n",
    "            if f[-3:] == 'txt':\n",
    "                with open(os.path.join(path,f)) as t:\n",
    "                    text = t.read().strip('\\n')\n",
    "                    tokens = tokenize(text)\n",
    "                yield tokens"
   ]
  },
  {
   "cell_type": "code",
   "execution_count": 19,
   "metadata": {},
   "outputs": [],
   "source": [
    "streaming_data = doc_stream(path)"
   ]
  },
  {
   "cell_type": "code",
   "execution_count": 20,
   "metadata": {},
   "outputs": [
    {
     "data": {
      "text/plain": [
       "generator"
      ]
     },
     "execution_count": 20,
     "metadata": {},
     "output_type": "execute_result"
    }
   ],
   "source": [
    "type(streaming_data)"
   ]
  },
  {
   "cell_type": "code",
   "execution_count": 21,
   "metadata": {},
   "outputs": [],
   "source": [
    "# gather_data => returns a list\n",
    "# doc_stream => returns a generator"
   ]
  },
  {
   "cell_type": "code",
   "execution_count": 22,
   "metadata": {},
   "outputs": [
    {
     "data": {
      "text/plain": [
       "['giving',\n",
       " 'fair',\n",
       " 'companion',\n",
       " 'account',\n",
       " 'yesterday',\n",
       " 'party',\n",
       " 'friend',\n",
       " 'cole',\n",
       " 'come',\n",
       " 'stilton',\n",
       " 'cheese',\n",
       " 'north',\n",
       " 'wiltshire',\n",
       " 'butter',\n",
       " 'cellery',\n",
       " 'beet',\n",
       " 'root',\n",
       " 'dessert',\n",
       " 'soon',\n",
       " 'led',\n",
       " 'better',\n",
       " 'course',\n",
       " 'consoling',\n",
       " 'reflection',\n",
       " 'thing',\n",
       " 'interests',\n",
       " 'love',\n",
       " 'thing',\n",
       " 'serve',\n",
       " 'introduction',\n",
       " 'near',\n",
       " 'heart',\n",
       " 'kept',\n",
       " 'longer',\n",
       " 'away',\n",
       " 'walked',\n",
       " 'quietly',\n",
       " 'till',\n",
       " 'view',\n",
       " 'vicarage',\n",
       " 'pales',\n",
       " 'sudden',\n",
       " 'resolution',\n",
       " 'getting',\n",
       " 'harriet',\n",
       " 'house',\n",
       " 'amiss',\n",
       " 'boot',\n",
       " 'fall',\n",
       " 'arrange',\n",
       " 'broke',\n",
       " 'lace',\n",
       " 'short',\n",
       " 'dexterously',\n",
       " 'throwing',\n",
       " 'ditch',\n",
       " 'presently',\n",
       " 'obliged',\n",
       " 'entreat',\n",
       " 'stop',\n",
       " 'acknowledged',\n",
       " 'inability',\n",
       " 'rights',\n",
       " 'able',\n",
       " 'walk',\n",
       " 'home',\n",
       " 'tolerable',\n",
       " 'comfort',\n",
       " 'lace',\n",
       " 'gone',\n",
       " 'know',\n",
       " 'contrive',\n",
       " 'troublesome',\n",
       " 'companion',\n",
       " 'hope',\n",
       " 'ill',\n",
       " 'equipped',\n",
       " 'elton',\n",
       " 'beg',\n",
       " 'leave',\n",
       " 'stop',\n",
       " 'house',\n",
       " 'ask',\n",
       " 'housekeeper',\n",
       " 'bit',\n",
       " 'ribband',\n",
       " 'string',\n",
       " 'thing',\n",
       " 'boot',\n",
       " 'elton',\n",
       " 'looked',\n",
       " 'happiness',\n",
       " 'proposition',\n",
       " 'exceed',\n",
       " 'alertness',\n",
       " 'attention',\n",
       " 'conducting',\n",
       " 'house',\n",
       " 'endeavouring',\n",
       " 'thing',\n",
       " 'appear',\n",
       " 'advantage',\n",
       " 'room',\n",
       " 'taken',\n",
       " 'chiefly',\n",
       " 'occupied',\n",
       " 'looking',\n",
       " 'forwards',\n",
       " 'immediately',\n",
       " 'communicated',\n",
       " 'door',\n",
       " 'open',\n",
       " 'emma',\n",
       " 'passed',\n",
       " 'housekeeper',\n",
       " 'receive',\n",
       " 'assistance',\n",
       " 'comfortable',\n",
       " 'manner',\n",
       " 'obliged',\n",
       " 'leave',\n",
       " 'door',\n",
       " 'ajar',\n",
       " 'fully',\n",
       " 'intended',\n",
       " 'elton',\n",
       " 'close',\n",
       " 'closed',\n",
       " 'remained',\n",
       " 'ajar',\n",
       " 'engaging',\n",
       " 'housekeeper',\n",
       " 'incessant',\n",
       " 'conversation',\n",
       " 'hoped',\n",
       " 'practicable',\n",
       " 'chuse',\n",
       " 'subject',\n",
       " 'adjoining',\n",
       " 'room',\n",
       " 'minutes',\n",
       " 'hear',\n",
       " 'protracted',\n",
       " 'longer',\n",
       " 'obliged',\n",
       " 'finished',\n",
       " 'appearance',\n",
       " 'lovers',\n",
       " 'standing',\n",
       " 'windows',\n",
       " 'favourable',\n",
       " 'aspect',\n",
       " 'half',\n",
       " 'minute',\n",
       " 'emma',\n",
       " 'felt',\n",
       " 'glory',\n",
       " 'having',\n",
       " 'schemed',\n",
       " 'successfully',\n",
       " 'come',\n",
       " 'point',\n",
       " 'agreeable',\n",
       " 'delightful',\n",
       " 'told',\n",
       " 'harriet',\n",
       " 'seen',\n",
       " 'purposely',\n",
       " 'followed',\n",
       " 'little',\n",
       " 'gallantries',\n",
       " 'allusions',\n",
       " 'dropt',\n",
       " 'cautious',\n",
       " 'cautious',\n",
       " 'thought',\n",
       " 'emma',\n",
       " 'advances',\n",
       " 'inch',\n",
       " 'inch',\n",
       " 'hazard',\n",
       " 'till',\n",
       " 'believes',\n",
       " 'secure',\n",
       " 'thing',\n",
       " 'accomplished',\n",
       " 'ingenious',\n",
       " 'device',\n",
       " 'flatter',\n",
       " 'occasion',\n",
       " 'present',\n",
       " 'enjoyment',\n",
       " 'leading',\n",
       " 'forward',\n",
       " 'great',\n",
       " 'event',\n",
       " 'chapter',\n",
       " 'xi',\n",
       " 'elton',\n",
       " 'left',\n",
       " 'longer',\n",
       " 'emma',\n",
       " 'power',\n",
       " 'superintend',\n",
       " 'happiness',\n",
       " 'quicken',\n",
       " 'measures',\n",
       " 'coming',\n",
       " 'sister',\n",
       " 'family',\n",
       " 'near',\n",
       " 'hand',\n",
       " 'anticipation',\n",
       " 'reality',\n",
       " 'henceforth',\n",
       " 'prime',\n",
       " 'object',\n",
       " 'days',\n",
       " 'stay',\n",
       " 'hartfield',\n",
       " 'expected',\n",
       " 'expect',\n",
       " 'thing',\n",
       " 'occasional',\n",
       " 'fortuitous',\n",
       " 'assistance',\n",
       " 'afforded',\n",
       " 'lovers',\n",
       " 'advance',\n",
       " 'rapidly',\n",
       " 'advance',\n",
       " 'hardly',\n",
       " 'wished',\n",
       " 'leisure',\n",
       " 'people',\n",
       " 'john',\n",
       " 'knightley',\n",
       " 'having',\n",
       " 'longer',\n",
       " 'usual',\n",
       " 'absent',\n",
       " 'surry',\n",
       " 'exciting',\n",
       " 'course',\n",
       " 'usual',\n",
       " 'till',\n",
       " 'year',\n",
       " 'long',\n",
       " 'vacation',\n",
       " 'marriage',\n",
       " 'divided',\n",
       " 'hartfield',\n",
       " 'donwell',\n",
       " 'abbey',\n",
       " 'holidays',\n",
       " 'autumn',\n",
       " 'given',\n",
       " 'sea',\n",
       " 'bathing',\n",
       " 'children',\n",
       " 'months',\n",
       " 'seen',\n",
       " 'regular',\n",
       " 'way',\n",
       " 'surry',\n",
       " 'connexions',\n",
       " 'seen',\n",
       " 'woodhouse',\n",
       " 'induced',\n",
       " 'far',\n",
       " 'london',\n",
       " 'poor',\n",
       " 'isabella',\n",
       " 'sake',\n",
       " 'consequently',\n",
       " 'nervously',\n",
       " 'apprehensively',\n",
       " 'happy',\n",
       " 'forestalling',\n",
       " 'short',\n",
       " 'visit',\n",
       " 'thought',\n",
       " 'evils',\n",
       " 'journey',\n",
       " 'little',\n",
       " 'fatigues',\n",
       " 'horses',\n",
       " 'coachman',\n",
       " 'bring',\n",
       " 'party',\n",
       " 'half',\n",
       " 'way',\n",
       " 'alarms',\n",
       " 'needless',\n",
       " 'sixteen',\n",
       " 'miles',\n",
       " 'happily',\n",
       " 'accomplished',\n",
       " 'john',\n",
       " 'knightley',\n",
       " 'children',\n",
       " 'competent',\n",
       " 'number',\n",
       " 'nursery',\n",
       " 'maids',\n",
       " 'reaching',\n",
       " 'hartfield',\n",
       " 'safety',\n",
       " 'bustle',\n",
       " 'joy',\n",
       " 'arrival',\n",
       " 'talked',\n",
       " 'welcomed',\n",
       " 'encouraged',\n",
       " 'variously',\n",
       " 'dispersed',\n",
       " 'disposed',\n",
       " 'produced',\n",
       " 'noise',\n",
       " 'confusion',\n",
       " 'nerves',\n",
       " 'borne',\n",
       " 'cause',\n",
       " 'endured',\n",
       " 'longer',\n",
       " 'ways',\n",
       " 'hartfield',\n",
       " 'feelings',\n",
       " 'father',\n",
       " 'respected',\n",
       " 'john',\n",
       " 'knightley',\n",
       " 'spite',\n",
       " 'maternal',\n",
       " 'solicitude',\n",
       " 'immediate',\n",
       " 'enjoyment',\n",
       " 'little',\n",
       " 'ones',\n",
       " 'having',\n",
       " 'instantly',\n",
       " 'liberty',\n",
       " 'attendance',\n",
       " 'eating',\n",
       " 'drinking',\n",
       " 'sleeping',\n",
       " 'playing',\n",
       " 'possibly',\n",
       " 'wish',\n",
       " 'smallest',\n",
       " 'delay',\n",
       " 'children',\n",
       " 'allowed',\n",
       " 'long',\n",
       " 'disturbance',\n",
       " 'restless',\n",
       " 'attendance',\n",
       " 'john',\n",
       " 'knightley',\n",
       " 'pretty',\n",
       " 'elegant',\n",
       " 'little',\n",
       " 'woman',\n",
       " 'gentle',\n",
       " 'quiet',\n",
       " 'manners',\n",
       " 'disposition',\n",
       " 'remarkably',\n",
       " 'amiable',\n",
       " 'affectionate',\n",
       " 'wrapt',\n",
       " 'family',\n",
       " 'devoted',\n",
       " 'wife',\n",
       " 'doating',\n",
       " 'mother',\n",
       " 'tenderly',\n",
       " 'attached',\n",
       " 'father',\n",
       " 'sister',\n",
       " 'higher',\n",
       " 'ties',\n",
       " 'warmer',\n",
       " 'love',\n",
       " 'impossible',\n",
       " 'fault',\n",
       " 'woman',\n",
       " 'strong',\n",
       " 'understanding',\n",
       " 'quickness',\n",
       " 'resemblance',\n",
       " 'father',\n",
       " 'inherited',\n",
       " 'constitution',\n",
       " 'delicate',\n",
       " 'health',\n",
       " 'careful',\n",
       " 'children',\n",
       " 'fears',\n",
       " 'nerves',\n",
       " 'fond',\n",
       " 'wingfield',\n",
       " 'town']"
      ]
     },
     "execution_count": 22,
     "metadata": {},
     "output_type": "execute_result"
    }
   ],
   "source": [
    "next(streaming_data) # Returns one document at a time from the generator"
   ]
  },
  {
   "cell_type": "markdown",
   "metadata": {},
   "source": [
    "### Gensim LDA Topic Modeling"
   ]
  },
  {
   "cell_type": "code",
   "execution_count": 23,
   "metadata": {},
   "outputs": [],
   "source": [
    "# A Dictionary Representation of all the words in our corpus\n",
    "id2word = corpora.Dictionary(doc_stream(path))"
   ]
  },
  {
   "cell_type": "code",
   "execution_count": 24,
   "metadata": {},
   "outputs": [
    {
     "data": {
      "text/plain": [
       "869"
      ]
     },
     "execution_count": 24,
     "metadata": {},
     "output_type": "execute_result"
    }
   ],
   "source": [
    "id2word.token2id['england']"
   ]
  },
  {
   "cell_type": "code",
   "execution_count": 25,
   "metadata": {},
   "outputs": [
    {
     "data": {
      "text/plain": [
       "[(869, 3), (1254, 1), (2485, 1), (16850, 1)]"
      ]
     },
     "execution_count": 25,
     "metadata": {},
     "output_type": "execute_result"
    }
   ],
   "source": [
    "id2word.doc2bow(tokenize(\"This is a sample message Darcy England England England\"))"
   ]
  },
  {
   "cell_type": "code",
   "execution_count": 26,
   "metadata": {},
   "outputs": [
    {
     "name": "stdout",
     "output_type": "stream",
     "text": [
      "56\n",
      "7056\n"
     ]
    }
   ],
   "source": [
    "import sys\n",
    "print(sys.getsizeof(id2word))\n",
    "print(sys.getsizeof(tokens))"
   ]
  },
  {
   "cell_type": "code",
   "execution_count": 27,
   "metadata": {},
   "outputs": [
    {
     "data": {
      "text/plain": [
       "22095"
      ]
     },
     "execution_count": 27,
     "metadata": {},
     "output_type": "execute_result"
    }
   ],
   "source": [
    "len(id2word.keys())"
   ]
  },
  {
   "cell_type": "code",
   "execution_count": 28,
   "metadata": {},
   "outputs": [],
   "source": [
    "# Let's remove extreme values from the dataset\n",
    "id2word.filter_extremes(no_below=5, no_above=0.95)"
   ]
  },
  {
   "cell_type": "code",
   "execution_count": 29,
   "metadata": {},
   "outputs": [
    {
     "data": {
      "text/plain": [
       "8102"
      ]
     },
     "execution_count": 29,
     "metadata": {},
     "output_type": "execute_result"
    }
   ],
   "source": [
    "len(id2word.keys())"
   ]
  },
  {
   "cell_type": "code",
   "execution_count": 30,
   "metadata": {},
   "outputs": [],
   "source": [
    "# a Bag of Words(BoW) representation of our corpus\n",
    "# Note: we haven't actually read any text into memory here\n",
    "# Although abstracted away - tokenization IS happening in the doc_stream f(x)\n",
    "corpus = [id2word.doc2bow(text) for text in doc_stream(path)]"
   ]
  },
  {
   "cell_type": "code",
   "execution_count": 31,
   "metadata": {},
   "outputs": [
    {
     "data": {
      "text/plain": [
       "[(4, 1),\n",
       " (17, 1),\n",
       " (28, 1),\n",
       " (30, 1),\n",
       " (31, 2),\n",
       " (40, 1),\n",
       " (46, 1),\n",
       " (51, 1),\n",
       " (55, 1),\n",
       " (71, 1)]"
      ]
     },
     "execution_count": 31,
     "metadata": {},
     "output_type": "execute_result"
    }
   ],
   "source": [
    "corpus[345][:10]"
   ]
  },
  {
   "cell_type": "code",
   "execution_count": 32,
   "metadata": {},
   "outputs": [],
   "source": [
    "lda = LdaMulticore(corpus=corpus,\n",
    "                   id2word=id2word,\n",
    "                   random_state=723812,\n",
    "                   num_topics = 15,\n",
    "                   passes=10,\n",
    "                   workers=12\n",
    "                  )"
   ]
  },
  {
   "cell_type": "code",
   "execution_count": 33,
   "metadata": {},
   "outputs": [
    {
     "data": {
      "text/plain": [
       "[(0,\n",
       "  '0.009*\"pounds\" + 0.007*\"mother\" + 0.006*\"sure\" + 0.006*\"think\" + 0.006*\"year\" + 0.004*\"rochester\" + 0.004*\"certainly\" + 0.004*\"thornfield\" + 0.004*\"fairfax\" + 0.004*\"live\"'),\n",
       " (1,\n",
       "  '0.008*\"pelet\" + 0.005*\"thought\" + 0.005*\"like\" + 0.004*\"little\" + 0.004*\"man\" + 0.004*\"hunsden\" + 0.004*\"time\" + 0.003*\"having\" + 0.003*\"pupils\" + 0.003*\"crimsworth\"'),\n",
       " (2,\n",
       "  '0.008*\"madame\" + 0.006*\"little\" + 0.006*\"like\" + 0.004*\"day\" + 0.004*\"vous\" + 0.004*\"thought\" + 0.003*\"know\" + 0.003*\"beck\" + 0.003*\"good\" + 0.003*\"paul\"'),\n",
       " (3,\n",
       "  '0.005*\"night\" + 0.005*\"look\" + 0.005*\"like\" + 0.004*\"old\" + 0.004*\"est\" + 0.004*\"looked\" + 0.003*\"sir\" + 0.003*\"thought\" + 0.003*\"house\" + 0.003*\"hunsden\"'),\n",
       " (4,\n",
       "  '0.007*\"little\" + 0.005*\"madame\" + 0.005*\"like\" + 0.004*\"thought\" + 0.004*\"know\" + 0.004*\"hand\" + 0.004*\"good\" + 0.004*\"night\" + 0.003*\"day\" + 0.003*\"dr\"'),\n",
       " (5,\n",
       "  '0.017*\"elizabeth\" + 0.013*\"darcy\" + 0.010*\"miss\" + 0.010*\"bingley\" + 0.010*\"bennet\" + 0.009*\"jane\" + 0.007*\"know\" + 0.007*\"think\" + 0.006*\"wickham\" + 0.005*\"sister\"'),\n",
       " (6,\n",
       "  '0.006*\"know\" + 0.006*\"jane\" + 0.006*\"life\" + 0.005*\"like\" + 0.005*\"long\" + 0.005*\"love\" + 0.005*\"thought\" + 0.005*\"heart\" + 0.005*\"shall\" + 0.005*\"good\"'),\n",
       " (7,\n",
       "  '0.011*\"frances\" + 0.009*\"monsieur\" + 0.007*\"hunsden\" + 0.007*\"little\" + 0.006*\"english\" + 0.005*\"mdlle\" + 0.004*\"long\" + 0.004*\"time\" + 0.004*\"mademoiselle\" + 0.004*\"shall\"'),\n",
       " (8,\n",
       "  '0.008*\"good\" + 0.006*\"little\" + 0.006*\"like\" + 0.006*\"emma\" + 0.005*\"elton\" + 0.005*\"thought\" + 0.005*\"miss\" + 0.004*\"think\" + 0.004*\"great\" + 0.004*\"woman\"'),\n",
       " (9,\n",
       "  '0.012*\"sir\" + 0.006*\"long\" + 0.006*\"jane\" + 0.006*\"rochester\" + 0.005*\"little\" + 0.005*\"yes\" + 0.005*\"adele\" + 0.004*\"come\" + 0.004*\"life\" + 0.004*\"pounds\"'),\n",
       " (10,\n",
       "  '0.007*\"like\" + 0.005*\"little\" + 0.005*\"rochester\" + 0.005*\"miss\" + 0.004*\"room\" + 0.004*\"time\" + 0.004*\"thought\" + 0.003*\"sir\" + 0.003*\"day\" + 0.003*\"come\"'),\n",
       " (11,\n",
       "  '0.015*\"emma\" + 0.012*\"miss\" + 0.009*\"harriet\" + 0.008*\"thing\" + 0.008*\"weston\" + 0.008*\"think\" + 0.007*\"know\" + 0.007*\"knightley\" + 0.006*\"elton\" + 0.006*\"good\"'),\n",
       " (12,\n",
       "  '0.010*\"jane\" + 0.009*\"emma\" + 0.009*\"little\" + 0.008*\"thing\" + 0.008*\"miss\" + 0.008*\"dear\" + 0.007*\"fairfax\" + 0.006*\"shall\" + 0.006*\"know\" + 0.006*\"like\"'),\n",
       " (13,\n",
       "  '0.011*\"elinor\" + 0.010*\"marianne\" + 0.007*\"sister\" + 0.006*\"mother\" + 0.005*\"time\" + 0.004*\"soon\" + 0.004*\"jennings\" + 0.004*\"willoughby\" + 0.004*\"good\" + 0.004*\"dashwood\"'),\n",
       " (14,\n",
       "  '0.006*\"monsieur\" + 0.004*\"henri\" + 0.004*\"georgiana\" + 0.004*\"mdlle\" + 0.004*\"little\" + 0.003*\"know\" + 0.003*\"good\" + 0.003*\"asked\" + 0.003*\"time\" + 0.003*\"course\"')]"
      ]
     },
     "execution_count": 33,
     "metadata": {},
     "output_type": "execute_result"
    }
   ],
   "source": [
    "lda.print_topics()"
   ]
  },
  {
   "cell_type": "code",
   "execution_count": 34,
   "metadata": {},
   "outputs": [],
   "source": [
    "words = [re.findall(r'\"([^\"]*)\"',t[1]) for t in lda.print_topics()]"
   ]
  },
  {
   "cell_type": "code",
   "execution_count": 35,
   "metadata": {},
   "outputs": [],
   "source": [
    "topics = [' '.join(t[0:5]) for t in words]"
   ]
  },
  {
   "cell_type": "code",
   "execution_count": 36,
   "metadata": {},
   "outputs": [
    {
     "name": "stdout",
     "output_type": "stream",
     "text": [
      "------ Topic 0 ------\n",
      "pounds mother sure think year\n",
      "\n",
      "------ Topic 1 ------\n",
      "pelet thought like little man\n",
      "\n",
      "------ Topic 2 ------\n",
      "madame little like day vous\n",
      "\n",
      "------ Topic 3 ------\n",
      "night look like old est\n",
      "\n",
      "------ Topic 4 ------\n",
      "little madame like thought know\n",
      "\n",
      "------ Topic 5 ------\n",
      "elizabeth darcy miss bingley bennet\n",
      "\n",
      "------ Topic 6 ------\n",
      "know jane life like long\n",
      "\n",
      "------ Topic 7 ------\n",
      "frances monsieur hunsden little english\n",
      "\n",
      "------ Topic 8 ------\n",
      "good little like emma elton\n",
      "\n",
      "------ Topic 9 ------\n",
      "sir long jane rochester little\n",
      "\n",
      "------ Topic 10 ------\n",
      "like little rochester miss room\n",
      "\n",
      "------ Topic 11 ------\n",
      "emma miss harriet thing weston\n",
      "\n",
      "------ Topic 12 ------\n",
      "jane emma little thing miss\n",
      "\n",
      "------ Topic 13 ------\n",
      "elinor marianne sister mother time\n",
      "\n",
      "------ Topic 14 ------\n",
      "monsieur henri georgiana mdlle little\n",
      "\n"
     ]
    }
   ],
   "source": [
    "for id, t in enumerate(topics): \n",
    "    print(f\"------ Topic {id} ------\")\n",
    "    print(t, end=\"\\n\\n\")"
   ]
  },
  {
   "cell_type": "markdown",
   "metadata": {},
   "source": [
    "## Challenge \n",
    "\n",
    "You will apply an LDA model to a customer review dataset to practice the fitting and estimation of LDA. "
   ]
  },
  {
   "cell_type": "markdown",
   "metadata": {},
   "source": [
    "# Interpret LDA Results (Learn)\n",
    "<a id=\"#p3\"></a>"
   ]
  },
  {
   "cell_type": "markdown",
   "metadata": {},
   "source": [
    "## Overview"
   ]
  },
  {
   "cell_type": "markdown",
   "metadata": {
    "toc-hr-collapsed": true
   },
   "source": [
    "## Follow Along"
   ]
  },
  {
   "cell_type": "markdown",
   "metadata": {},
   "source": [
    "### Topic Distance Visualization"
   ]
  },
  {
   "cell_type": "code",
   "execution_count": 37,
   "metadata": {},
   "outputs": [],
   "source": [
    "import pyLDAvis.gensim\n",
    "\n",
    "pyLDAvis.enable_notebook()"
   ]
  },
  {
   "cell_type": "code",
   "execution_count": 38,
   "metadata": {},
   "outputs": [
    {
     "data": {
      "text/html": [
       "\n",
       "<link rel=\"stylesheet\" type=\"text/css\" href=\"https://cdn.rawgit.com/bmabey/pyLDAvis/files/ldavis.v1.0.0.css\">\n",
       "\n",
       "\n",
       "<div id=\"ldavis_el438774837598936969228293\"></div>\n",
       "<script type=\"text/javascript\">\n",
       "\n",
       "var ldavis_el438774837598936969228293_data = {\"mdsDat\": {\"x\": [-0.04559445563547869, -0.07766582037001524, 0.1412886454833693, 0.10404265205031643, 0.15220941641264898, -0.013860182429335108, -0.07765698053991003, -0.03380911007314178, -0.07173052835589921, 0.09536432823228026, 0.05250815786797249, 0.006459931477884772, -0.09942843155508602, -0.046035432660471075, -0.08609218990513516], \"y\": [0.0205550762710883, 0.05524265236558606, 0.008634372996065705, 0.014424781772758835, 0.012564344435760662, 0.05111825888275624, 0.07267046347463131, 0.047090032167766596, 0.05392956516715913, -0.0316052020952834, -0.0038850663783828775, -0.050558820962540114, -0.027448513533195527, -0.1486182342184893, -0.07411371034568118], \"topics\": [1, 2, 3, 4, 5, 6, 7, 8, 9, 10, 11, 12, 13, 14, 15], \"cluster\": [1, 1, 1, 1, 1, 1, 1, 1, 1, 1, 1, 1, 1, 1, 1], \"Freq\": [21.411968231201172, 17.607419967651367, 16.260656356811523, 16.002944946289062, 10.043662071228027, 6.805936336517334, 3.6257247924804688, 2.328256845474243, 1.5559265613555908, 1.2824625968933105, 1.2248215675354004, 0.8663670420646667, 0.45879220962524414, 0.26259055733680725, 0.2624777555465698]}, \"tinfo\": {\"Term\": [\"emma\", \"little\", \"jane\", \"miss\", \"like\", \"think\", \"elizabeth\", \"sir\", \"good\", \"thing\", \"know\", \"rochester\", \"mother\", \"thought\", \"shall\", \"harriet\", \"fairfax\", \"darcy\", \"sure\", \"elton\", \"time\", \"elinor\", \"marianne\", \"long\", \"weston\", \"day\", \"dear\", \"night\", \"monsieur\", \"house\", \"eshton\", \"dent\", \"burns\", \"lynn\", \"ingram\", \"scatcherd\", \"missis\", \"brocklehurst\", \"storey\", \"stile\", \"celine\", \"varens\", \"miller\", \"bessie\", \"cheese\", \"amy\", \"reed\", \"eyre\", \"moors\", \"lowood\", \"bark\", \"temple\", \"poole\", \"gateshead\", \"dimly\", \"frock\", \"er\", \"carlo\", \"enveloped\", \"devoured\", \"rochester\", \"seacombe\", \"lloyd\", \"thornfield\", \"hannah\", \"adele\", \"pilot\", \"hall\", \"mason\", \"ve\", \"helen\", \"leah\", \"ll\", \"bread\", \"burnt\", \"black\", \"candle\", \"like\", \"face\", \"hair\", \"sir\", \"dark\", \"room\", \"door\", \"asked\", \"st\", \"stood\", \"master\", \"looked\", \"mary\", \"eyes\", \"near\", \"little\", \"heard\", \"night\", \"come\", \"miss\", \"house\", \"yes\", \"thought\", \"day\", \"shall\", \"time\", \"long\", \"hand\", \"saw\", \"good\", \"came\", \"think\", \"jane\", \"know\", \"head\", \"john\", \"went\", \"estrade\", \"grenier\", \"violets\", \"pile\", \"lid\", \"hole\", \"spectral\", \"sleeve\", \"demonstrative\", \"defendue\", \"remnant\", \"wheel\", \"nest\", \"boarders\", \"belles\", \"fifine\", \"hail\", \"platform\", \"bourne\", \"problem\", \"sternly\", \"trod\", \"naked\", \"allee\", \"fiacre\", \"actress\", \"jar\", \"sleeper\", \"appealing\", \"externes\", \"classe\", \"rosine\", \"fossette\", \"dr\", \"crecy\", \"madame\", \"paul\", \"beck\", \"emanuel\", \"rue\", \"paulina\", \"pensionnat\", \"monsieur\", \"pupils\", \"wont\", \"desk\", \"fanshawe\", \"nun\", \"graham\", \"doctor\", \"villette\", \"reuter\", \"corridor\", \"bassompierre\", \"lesson\", \"bretton\", \"est\", \"english\", \"ginevra\", \"teacher\", \"vous\", \"eye\", \"hand\", \"night\", \"little\", \"lucy\", \"garden\", \"eyes\", \"white\", \"thought\", \"knew\", \"like\", \"door\", \"light\", \"know\", \"day\", \"face\", \"good\", \"took\", \"saw\", \"long\", \"looked\", \"half\", \"think\", \"heart\", \"time\", \"moment\", \"came\", \"john\", \"abbey\", \"churchill\", \"knightley\", \"hawkins\", \"randalls\", \"surprized\", \"weston\", \"surprize\", \"richmond\", \"taylor\", \"ford\", \"larkins\", \"smallridge\", \"emma\", \"enscombe\", \"isabella\", \"cole\", \"patty\", \"longstaple\", \"donwell\", \"harriet\", \"martin\", \"hartfield\", \"cox\", \"goddard\", \"elton\", \"windsor\", \"woodhouse\", \"unceasing\", \"grandmama\", \"bates\", \"frank\", \"perry\", \"highbury\", \"campbell\", \"robert\", \"body\", \"smith\", \"thing\", \"fairfax\", \"ferrars\", \"miss\", \"think\", \"sure\", \"dear\", \"great\", \"know\", \"good\", \"oh\", \"time\", \"friend\", \"little\", \"father\", \"jane\", \"man\", \"soon\", \"thought\", \"shall\", \"better\", \"young\", \"come\", \"day\", \"willoughby\", \"cleveland\", \"allenham\", \"combe\", \"denny\", \"barton\", \"palmers\", \"jennings\", \"marianne\", \"unhappiness\", \"magna\", \"brandon\", \"jenkinson\", \"somersetshire\", \"apologising\", \"palmer\", \"curricle\", \"entreaty\", \"recital\", \"enquire\", \"unwillingly\", \"devonshire\", \"middleton\", \"delaford\", \"middletons\", \"enquiry\", \"margaret\", \"effusions\", \"employments\", \"enumerating\", \"elinor\", \"dashwood\", \"norland\", \"dashwoods\", \"cottage\", \"colonel\", \"sister\", \"behaviour\", \"mother\", \"park\", \"edward\", \"affection\", \"surprise\", \"misery\", \"engagement\", \"civility\", \"town\", \"lady\", \"family\", \"soon\", \"time\", \"letter\", \"house\", \"felt\", \"spirits\", \"marriage\", \"left\", \"day\", \"feelings\", \"good\", \"mind\", \"moment\", \"know\", \"heart\", \"little\", \"away\", \"john\", \"think\", \"long\", \"room\", \"shall\", \"man\", \"great\", \"bingley\", \"netherfield\", \"hurst\", \"lucas\", \"kent\", \"darcy\", \"bennet\", \"fitzwilliam\", \"meryton\", \"lucases\", \"wickham\", \"phillips\", \"nonsensical\", \"hertfordshire\", \"officers\", \"bennets\", \"judgement\", \"monday\", \"chooses\", \"longbourn\", \"elizabeth\", \"lizzy\", \"gracechurch\", \"intimately\", \"collins\", \"bourgh\", \"acquaintances\", \"handsomer\", \"militia\", \"corps\", \"pemberley\", \"lydia\", \"catherine\", \"gardiner\", \"caroline\", \"regiment\", \"forster\", \"saturday\", \"everybody\", \"jane\", \"charlotte\", \"uncle\", \"sisters\", \"miss\", \"family\", \"sister\", \"aunt\", \"lady\", \"think\", \"know\", \"soon\", \"dear\", \"father\", \"friend\", \"man\", \"young\", \"replied\", \"good\", \"great\", \"shall\", \"sure\", \"time\", \"little\", \"room\", \"day\", \"mother\", \"skies\", \"atom\", \"healthful\", \"vandenhuten\", \"marchmont\", \"professional\", \"honeymoon\", \"deck\", \"philanthropy\", \"handwriting\", \"chestnut\", \"insane\", \"unmarried\", \"india\", \"victor\", \"abide\", \"missionary\", \"yorke\", \"maniac\", \"crack\", \"contains\", \"suns\", \"imbecile\", \"mound\", \"quarrelled\", \"reminiscences\", \"beer\", \"rosamond\", \"assign\", \"ambitious\", \"anguish\", \"bone\", \"indian\", \"god\", \"maker\", \"graham\", \"higher\", \"terrasse\", \"bretton\", \"life\", \"love\", \"papa\", \"jane\", \"live\", \"heart\", \"existence\", \"loved\", \"long\", \"farewell\", \"know\", \"sun\", \"shall\", \"death\", \"like\", \"hand\", \"thought\", \"look\", \"good\", \"letter\", \"time\", \"come\", \"man\", \"mind\", \"little\", \"night\", \"strange\", \"feel\", \"sir\", \"saw\", \"read\", \"old\", \"day\", \"home\", \"away\", \"think\", \"soon\", \"left\", \"walravens\", \"garcon\", \"isidore\", \"justine\", \"betook\", \"alfred\", \"non\", \"soit\", \"les\", \"peut\", \"troop\", \"oratory\", \"quel\", \"soir\", \"marie\", \"felicitations\", \"treats\", \"shrine\", \"pierre\", \"storeroom\", \"qu\", \"magi\", \"ou\", \"leaved\", \"grimaces\", \"numero\", \"mystic\", \"ces\", \"etre\", \"infirm\", \"equivalent\", \"des\", \"cholmondeley\", \"que\", \"et\", \"vous\", \"etes\", \"mon\", \"priest\", \"ne\", \"madame\", \"il\", \"pas\", \"je\", \"beck\", \"ginevra\", \"est\", \"la\", \"paul\", \"elle\", \"emanuel\", \"mais\", \"moi\", \"like\", \"fanshawe\", \"little\", \"le\", \"knew\", \"day\", \"turned\", \"thought\", \"old\", \"know\", \"good\", \"stood\", \"round\", \"long\", \"away\", \"looked\", \"man\", \"time\", \"shall\", \"look\", \"night\", \"far\", \"door\", \"belgian\", \"devoirs\", \"patrician\", \"morals\", \"flamand\", \"dissimulation\", \"pelet\", \"subside\", \"irritating\", \"rests\", \"sarah\", \"growth\", \"mud\", \"sarcastic\", \"gall\", \"assiduous\", \"belgium\", \"director\", \"deformity\", \"parisian\", \"deportment\", \"repugnance\", \"tutor\", \"extorted\", \"bigben\", \"mischievous\", \"external\", \"serenity\", \"punctuality\", \"promptitude\", \"zoraide\", \"intelligent\", \"hunsden\", \"crimsworth\", \"graces\", \"frances\", \"directress\", \"prosperity\", \"mental\", \"establishment\", \"pupils\", \"mien\", \"mdlle\", \"capacity\", \"reuter\", \"pupil\", \"features\", \"english\", \"certain\", \"thought\", \"having\", \"like\", \"boys\", \"man\", \"degree\", \"little\", \"poor\", \"pleasure\", \"eyes\", \"time\", \"young\", \"mind\", \"saw\", \"day\", \"good\", \"face\", \"long\", \"looked\", \"soon\", \"heart\", \"felt\", \"look\", \"mender\", \"switzerland\", \"insight\", \"wider\", \"frances\", \"shelves\", \"franc\", \"swiss\", \"evans\", \"interrupting\", \"rainbow\", \"fee\", \"joys\", \"dishes\", \"boasting\", \"embers\", \"enlarged\", \"henri\", \"swung\", \"administered\", \"lui\", \"maintaining\", \"exchanging\", \"comments\", \"attics\", \"concisely\", \"consists\", \"diffused\", \"scotch\", \"publicity\", \"notre\", \"hunsden\", \"mdlle\", \"august\", \"monsieur\", \"lace\", \"pieces\", \"cup\", \"mademoiselle\", \"english\", \"francs\", \"reuter\", \"england\", \"diana\", \"brussels\", \"rivers\", \"grate\", \"french\", \"little\", \"old\", \"long\", \"yes\", \"shall\", \"mary\", \"time\", \"asked\", \"evening\", \"house\", \"live\", \"think\", \"like\", \"speak\", \"tell\", \"day\", \"room\", \"good\", \"knew\", \"soon\", \"come\", \"night\", \"came\", \"charade\", \"gruel\", \"leg\", \"unwholesome\", \"bathing\", \"colds\", \"hardships\", \"boiled\", \"knightleys\", \"prose\", \"richard\", \"disposal\", \"poet\", \"sacrifices\", \"performances\", \"exploring\", \"winning\", \"headache\", \"riddle\", \"carter\", \"sparkled\", \"anecdote\", \"triumphantly\", \"truths\", \"copied\", \"undone\", \"reckon\", \"lengths\", \"harp\", \"sickly\", \"wives\", \"talker\", \"likeness\", \"eltons\", \"talents\", \"clever\", \"fairfax\", \"parties\", \"perry\", \"sea\", \"dear\", \"jane\", \"emma\", \"woodhouse\", \"thing\", \"elton\", \"bates\", \"little\", \"shall\", \"children\", \"miss\", \"thousand\", \"body\", \"like\", \"know\", \"inquiry\", \"sure\", \"oh\", \"let\", \"air\", \"harriet\", \"good\", \"pretty\", \"evening\", \"soon\", \"time\", \"think\", \"better\", \"great\", \"away\", \"come\", \"selina\", \"cultivated\", \"boarder\", \"surry\", \"barouche\", \"swiss\", \"nation\", \"fathers\", \"maple\", \"devoting\", \"pomp\", \"denote\", \"ninety\", \"kings\", \"bath\", \"comprehending\", \"military\", \"panel\", \"luxury\", \"grove\", \"seas\", \"flown\", \"antagonist\", \"protestants\", \"belgium\", \"alliance\", \"dingy\", \"explore\", \"sneered\", \"pushing\", \"resources\", \"rome\", \"nash\", \"musical\", \"associations\", \"greatness\", \"highbury\", \"elton\", \"society\", \"hartfield\", \"good\", \"country\", \"woodhouse\", \"emma\", \"sort\", \"like\", \"woman\", \"body\", \"church\", \"little\", \"weston\", \"people\", \"thought\", \"father\", \"great\", \"miss\", \"harriet\", \"think\", \"house\", \"love\", \"thing\", \"shall\", \"man\", \"world\", \"place\", \"time\", \"way\", \"know\", \"briggs\", \"portfolio\", \"jump\", \"kisses\", \"adoption\", \"rays\", \"fetters\", \"gall\", \"storms\", \"decease\", \"militia\", \"committed\", \"funeral\", \"captain\", \"experiment\", \"estate\", \"chances\", \"dishevelled\", \"military\", \"scowled\", \"relatives\", \"appreciating\", \"generations\", \"shudder\", \"banker\", \"recurrence\", \"petit\", \"luxuries\", \"aspire\", \"exchanging\", \"janet\", \"cake\", \"lodge\", \"swelled\", \"pounds\", \"surgeon\", \"adele\", \"farewell\", \"including\", \"rumour\", \"henry\", \"rough\", \"sir\", \"property\", \"thousand\", \"fortune\", \"rochester\", \"veil\", \"dashwood\", \"kiss\", \"years\", \"yes\", \"long\", \"jane\", \"family\", \"father\", \"life\", \"come\", \"ll\", \"place\", \"john\", \"little\", \"old\", \"away\", \"fairfax\", \"easy\", \"son\", \"good\", \"night\", \"shall\", \"like\", \"way\", \"half\", \"think\", \"time\", \"miss\", \"felt\", \"amounted\", \"boards\", \"enfin\", \"attic\", \"climax\", \"philanthropist\", \"vicar\", \"assez\", \"collation\", \"chink\", \"vases\", \"complacent\", \"throne\", \"nailed\", \"legitimate\", \"glide\", \"nations\", \"carter\", \"rubber\", \"encore\", \"rats\", \"copying\", \"submissive\", \"demoiselles\", \"enormous\", \"communicative\", \"despotism\", \"belgians\", \"fifth\", \"enlarge\", \"cloaks\", \"messieurs\", \"bien\", \"dawn\", \"est\", \"limited\", \"boys\", \"pelet\", \"hunsden\", \"night\", \"look\", \"old\", \"laugh\", \"et\", \"windows\", \"like\", \"que\", \"looked\", \"sir\", \"superiority\", \"head\", \"began\", \"hands\", \"curtain\", \"house\", \"thought\", \"speak\", \"answer\", \"self\", \"little\", \"time\", \"way\", \"think\", \"door\", \"good\", \"day\", \"people\", \"long\", \"document\", \"bedrooms\", \"agonies\", \"brushed\", \"enlarge\", \"unprepared\", \"aerial\", \"forwarded\", \"resided\", \"chalk\", \"richer\", \"cheap\", \"sixpence\", \"preparations\", \"housekeeping\", \"plebeian\", \"airing\", \"lighting\", \"sickening\", \"expenses\", \"nobleman\", \"tranquilly\", \"xvii\", \"discharging\", \"scrape\", \"unkind\", \"amazing\", \"fulfil\", \"unfrequently\", \"annum\", \"pounds\", \"elderly\", \"millcote\", \"salary\", \"shire\", \"thornfield\", \"year\", \"comfortable\", \"involuntarily\", \"income\", \"thousand\", \"assistance\", \"getting\", \"fortnight\", \"tied\", \"sure\", \"mother\", \"expect\", \"live\", \"certainly\", \"rochester\", \"fairfax\", \"spectacles\", \"think\", \"kept\", \"father\", \"dashwood\", \"half\", \"lady\", \"years\", \"new\", \"kind\", \"little\", \"shall\", \"thing\", \"given\", \"house\", \"hands\", \"peak\", \"lied\", \"portfolio\", \"average\", \"harangue\", \"despotism\", \"drawings\", \"albion\", \"dishevelled\", \"enounced\", \"reluctantly\", \"amour\", \"paramount\", \"slippery\", \"confidential\", \"regularity\", \"scrupled\", \"eyelid\", \"inflicting\", \"reminiscences\", \"conversations\", \"reported\", \"tints\", \"expanse\", \"obeying\", \"mal\", \"paragraph\", \"levity\", \"interior\", \"contour\", \"traced\", \"propre\", \"elle\", \"henri\", \"georgiana\", \"visage\", \"pencil\", \"bracelet\", \"mdlle\", \"monsieur\", \"sketch\", \"directress\", \"secured\", \"capacity\", \"mademoiselle\", \"firmness\", \"accent\", \"hints\", \"pictures\", \"book\", \"eliza\", \"volume\", \"natural\", \"asked\", \"course\", \"wanted\", \"english\", \"word\", \"scarcely\", \"good\", \"little\", \"know\", \"time\", \"saw\", \"day\", \"doubt\", \"power\", \"voice\", \"thought\", \"young\", \"look\", \"face\", \"looked\"], \"Freq\": [836.0, 1711.0, 931.0, 1535.0, 1318.0, 1312.0, 657.0, 596.0, 1349.0, 776.0, 1437.0, 357.0, 672.0, 1136.0, 920.0, 510.0, 361.0, 424.0, 614.0, 370.0, 1315.0, 695.0, 576.0, 934.0, 427.0, 1058.0, 587.0, 622.0, 272.0, 753.0, 28.874746322631836, 28.86367416381836, 31.619457244873047, 19.921306610107422, 85.88275909423828, 22.756311416625977, 19.74715232849121, 53.23906707763672, 16.761566162109375, 13.934151649475098, 13.885035514831543, 11.913814544677734, 23.00530242919922, 121.43507385253906, 10.91529655456543, 9.995396614074707, 119.31385040283203, 93.31661987304688, 9.843896865844727, 50.033836364746094, 11.55560302734375, 68.38737487792969, 29.48919105529785, 39.24592208862305, 10.613764762878418, 13.228965759277344, 9.691603660583496, 7.905921459197998, 6.993523597717285, 6.984926223754883, 314.4249572753906, 15.893072128295898, 11.39181137084961, 81.946044921875, 35.7149772644043, 110.69393920898438, 21.136695861816406, 128.486572265625, 48.98405838012695, 39.685482025146484, 50.72080612182617, 22.790910720825195, 99.97608184814453, 51.71772384643555, 22.50379180908203, 108.03897857666016, 44.20783233642578, 465.2654113769531, 217.23602294921875, 100.46742248535156, 230.08346557617188, 113.81925201416016, 298.7678527832031, 206.94703674316406, 166.63441467285156, 99.5657730102539, 140.88624572753906, 101.5371322631836, 221.28953552246094, 82.0492935180664, 206.29904174804688, 141.18392944335938, 358.753173828125, 194.857177734375, 193.35206604003906, 225.7566375732422, 314.3818054199219, 209.39080810546875, 181.34341430664062, 246.14718627929688, 226.52871704101562, 212.40904235839844, 246.99954223632812, 206.11029052734375, 172.8920135498047, 187.5152130126953, 223.66720581054688, 175.44317626953125, 207.55978393554688, 182.7455596923828, 188.079833984375, 146.02658081054688, 150.01898193359375, 146.04562377929688, 36.87795639038086, 9.952473640441895, 8.998366355895996, 8.984996795654297, 13.351435661315918, 7.933125972747803, 9.698103904724121, 10.506318092346191, 6.986104488372803, 7.829034805297852, 6.94053316116333, 7.832881450653076, 6.930726528167725, 13.892802238464355, 6.021340370178223, 11.18493366241455, 6.009200096130371, 6.0095062255859375, 6.842502593994141, 5.98703145980835, 10.31396770477295, 5.9075798988342285, 5.9070820808410645, 8.493524551391602, 9.324646949768066, 5.022129535675049, 5.838098049163818, 4.9863786697387695, 4.986832618713379, 5.830484390258789, 53.48804473876953, 30.164644241333008, 41.02726364135742, 181.9741973876953, 17.606651306152344, 279.8033752441406, 131.68824768066406, 116.30242156982422, 77.81873321533203, 53.60715103149414, 60.12712097167969, 27.09554672241211, 165.82533264160156, 95.27007293701172, 14.220603942871094, 66.9416732788086, 56.74782180786133, 31.461483001708984, 129.9266357421875, 34.91267776489258, 37.32004928588867, 49.418701171875, 25.09425926208496, 47.99871063232422, 44.945167541503906, 123.72789001464844, 62.56018829345703, 111.69864654541016, 62.75840759277344, 44.50557327270508, 62.33924102783203, 155.90313720703125, 208.5449981689453, 201.88839721679688, 408.6151123046875, 138.49169921875, 81.27481842041016, 176.1417999267578, 95.76280975341797, 238.53204345703125, 154.72299194335938, 253.88943481445312, 150.3065948486328, 106.44220733642578, 220.4053192138672, 189.6075897216797, 131.07723999023438, 207.16598510742188, 130.7151336669922, 156.7783966064453, 167.5922393798828, 147.3166961669922, 132.30763244628906, 170.55422973632812, 135.43252563476562, 163.8801727294922, 130.49317932128906, 133.59727478027344, 128.45166015625, 29.713714599609375, 207.4612274169922, 359.26904296875, 18.464853286743164, 82.91460418701172, 30.09804916381836, 400.1015930175781, 34.54965591430664, 12.654850006103516, 45.628326416015625, 15.216449737548828, 12.494535446166992, 9.76832103729248, 766.2999267578125, 32.57820510864258, 61.62873458862305, 55.2674446105957, 11.39765739440918, 7.836361408233643, 43.31952667236328, 456.237548828125, 74.99451446533203, 137.7168731689453, 7.723223686218262, 50.88848876953125, 325.7333068847656, 5.9029860496521, 262.4088134765625, 5.76104211807251, 11.600112915039062, 125.90388488769531, 198.95974731445312, 64.93418884277344, 98.36507415771484, 40.83965301513672, 60.65951919555664, 182.07919311523438, 81.39022827148438, 405.3377685546875, 197.4813690185547, 84.35771942138672, 595.7516479492188, 396.6841125488281, 233.35281372070312, 220.31771850585938, 261.5611572265625, 361.9947509765625, 322.85693359375, 191.632080078125, 284.79345703125, 155.4095458984375, 306.557861328125, 165.92852783203125, 217.05703735351562, 212.8135986328125, 212.8793182373047, 218.1259002685547, 198.4486541748047, 171.513427734375, 171.56857299804688, 177.6675567626953, 182.73654174804688, 214.53237915039062, 26.7611083984375, 18.032899856567383, 16.069055557250977, 12.161148071289062, 84.33413696289062, 10.1773681640625, 215.84690856933594, 526.1530151367188, 10.980256080627441, 10.960949897766113, 132.39474487304688, 8.957459449768066, 8.048151016235352, 7.123309135437012, 70.63909912109375, 6.143032073974609, 13.155502319335938, 6.0591044425964355, 6.04579496383667, 6.042464733123779, 23.68618392944336, 90.5673828125, 26.884992599487305, 17.291332244873047, 5.09856653213501, 32.056419372558594, 5.00582218170166, 11.05209732055664, 4.905608654022217, 568.3947143554688, 201.85269165039062, 43.319583892822266, 28.691377639770508, 59.66037368774414, 193.32762145996094, 347.99603271484375, 82.41213989257812, 283.25592041015625, 66.84239196777344, 138.8081512451172, 113.46821594238281, 64.23607635498047, 38.56521987915039, 58.087738037109375, 44.22450637817383, 95.9219741821289, 183.0245361328125, 127.61637115478516, 225.51950073242188, 273.7294616699219, 133.2958526611328, 184.41297912597656, 165.70901489257812, 87.00177001953125, 76.0697250366211, 135.35438537597656, 189.159423828125, 110.92718505859375, 208.87461853027344, 134.92904663085938, 134.5021514892578, 198.26707458496094, 139.6595001220703, 190.8306884765625, 137.15130615234375, 133.17608642578125, 162.99839782714844, 143.60293579101562, 142.02236938476562, 140.59361267089844, 137.60264587402344, 134.7507781982422, 302.0008850097656, 71.9603500366211, 35.22004318237305, 67.19427490234375, 14.067863464355469, 394.2735900878906, 301.1042175292969, 34.06676483154297, 53.18632507324219, 13.510770797729492, 174.15826416015625, 28.0622501373291, 5.03323221206665, 35.63283920288086, 27.961179733276367, 9.226801872253418, 9.980393409729004, 13.684313774108887, 8.05856704711914, 72.60413360595703, 524.7889404296875, 78.33621978759766, 7.784239768981934, 7.6151123046875, 141.4138641357422, 30.87895965576172, 11.063997268676758, 4.964004993438721, 6.013087272644043, 6.318756580352783, 38.242916107177734, 117.60334777832031, 86.32211303710938, 59.50032043457031, 17.965492248535156, 18.457595825195312, 25.728849411010742, 17.961658477783203, 37.41015625, 295.3734130859375, 55.0311279296875, 65.04965209960938, 73.92904663085938, 320.2109069824219, 119.74076843261719, 158.6751251220703, 70.23353576660156, 151.42689514160156, 217.1321563720703, 227.26272583007812, 158.61305236816406, 125.59536743164062, 116.06269073486328, 105.97594451904297, 141.97911071777344, 123.15653991699219, 93.09790802001953, 152.86807250976562, 123.57882690429688, 124.02731323242188, 108.41556549072266, 135.6759490966797, 133.4350128173828, 114.44470977783203, 99.0815658569336, 93.32206726074219, 4.829189300537109, 4.695818901062012, 4.65946102142334, 17.362804412841797, 11.54435920715332, 5.92681884765625, 5.236326217651367, 6.657965660095215, 4.311584949493408, 8.535819053649902, 8.311744689941406, 6.948823928833008, 4.7514262199401855, 14.907358169555664, 16.15973472595215, 4.729925155639648, 12.880023002624512, 9.20533275604248, 4.660860061645508, 3.95866322517395, 3.9473233222961426, 4.4761223793029785, 3.8222925662994385, 3.8561792373657227, 7.655888557434082, 3.513449192047119, 6.864067554473877, 10.694266319274902, 4.849910259246826, 7.229310512542725, 14.615121841430664, 9.753104209899902, 11.29957103729248, 87.61479187011719, 5.885028839111328, 72.34733581542969, 19.876598358154297, 10.017790794372559, 68.3250503540039, 126.40839385986328, 109.10391998291016, 46.80891418457031, 128.19793701171875, 46.80185317993164, 96.6048812866211, 24.89971923828125, 33.53030014038086, 112.44075012207031, 13.911983489990234, 135.12550354003906, 27.877403259277344, 96.523193359375, 32.12025833129883, 116.20806121826172, 72.48741149902344, 101.2108383178711, 72.87704467773438, 96.22114562988281, 53.67811965942383, 92.57295989990234, 72.24960327148438, 73.49153900146484, 59.4863166809082, 94.73872375488281, 58.286834716796875, 40.1002311706543, 47.472328186035156, 54.42879867553711, 60.00294494628906, 42.79305648803711, 48.50070571899414, 62.02407455444336, 49.148345947265625, 52.40561294555664, 59.91910171508789, 55.46904754638672, 49.802772521972656, 18.27443504333496, 3.8513472080230713, 15.945364952087402, 14.443744659423828, 3.4840433597564697, 11.438872337341309, 5.034355640411377, 5.519178867340088, 21.46137809753418, 3.6328346729278564, 4.741505146026611, 5.263600826263428, 5.2532501220703125, 5.156186103820801, 15.810748100280762, 3.875476121902466, 3.351008653640747, 4.308712482452393, 15.371560096740723, 2.654132843017578, 14.964712142944336, 2.6598408222198486, 7.133908748626709, 3.5001516342163086, 2.56062912940979, 2.6741271018981934, 3.496581792831421, 3.5270960330963135, 3.088843584060669, 2.627798318862915, 4.401459217071533, 14.783819198608398, 10.25446891784668, 26.271347045898438, 32.776283264160156, 42.77254867553711, 5.998847961425781, 15.455219268798828, 15.19112491607666, 14.20704174041748, 94.20210266113281, 15.154749870300293, 19.470163345336914, 21.346656799316406, 39.34991455078125, 28.8616943359375, 27.431594848632812, 26.129886627197266, 35.62919998168945, 9.527868270874023, 22.380483627319336, 10.564291000366211, 9.308125495910645, 69.66387176513672, 17.528282165527344, 72.9498062133789, 12.603754043579102, 35.41546630859375, 44.01116180419922, 28.227294921875, 41.92070770263672, 31.30220603942871, 39.5806999206543, 35.83254623413086, 25.253253936767578, 25.399160385131836, 31.07093620300293, 28.66179084777832, 28.562910079956055, 29.762163162231445, 31.79908561706543, 29.409526824951172, 26.843006134033203, 25.77663230895996, 24.51041603088379, 24.453989028930664, 11.950385093688965, 4.193754196166992, 4.525302410125732, 3.4212770462036133, 3.4501986503601074, 3.18339467048645, 56.86316680908203, 3.1749255657196045, 2.6315698623657227, 3.2127058506011963, 3.1261403560638428, 4.300137042999268, 2.450721502304077, 4.882745742797852, 2.5819122791290283, 3.1557202339172363, 5.81182336807251, 6.100484371185303, 2.6033411026000977, 3.3368823528289795, 2.6501951217651367, 2.6358213424682617, 2.5994911193847656, 2.6055150032043457, 2.57318115234375, 2.0978753566741943, 3.8212392330169678, 4.561835765838623, 3.4495625495910645, 2.393733501434326, 8.581597328186035, 8.527369499206543, 28.453125, 21.1873779296875, 5.033298969268799, 19.338701248168945, 10.352648735046387, 5.459110736846924, 9.628896713256836, 13.638863563537598, 22.596132278442383, 7.768927097320557, 14.919331550598145, 5.7303643226623535, 11.43302059173584, 12.952032089233398, 14.97087287902832, 19.391727447509766, 20.924036026000977, 35.54998016357422, 24.370101928710938, 35.23943328857422, 7.861122131347656, 29.453479766845703, 12.399429321289062, 31.817394256591797, 17.941377639770508, 18.64337158203125, 20.947587966918945, 26.1807804107666, 19.949947357177734, 18.93166732788086, 19.93795394897461, 21.12077522277832, 20.175832748413086, 16.0869197845459, 17.795351028442383, 16.824796676635742, 15.96166706085205, 14.940879821777344, 14.895658493041992, 14.76821517944336, 7.152087688446045, 6.106027126312256, 2.637936592102051, 2.650686264038086, 53.980072021484375, 2.646334648132324, 3.5193564891815186, 6.1342267990112305, 3.497593879699707, 2.6414403915405273, 3.477989673614502, 2.581191301345825, 2.0380823612213135, 2.5930306911468506, 2.358588218688965, 2.686370372772217, 2.1702616214752197, 17.740821838378906, 1.8123080730438232, 1.8055181503295898, 1.7348607778549194, 1.8063725233078003, 1.7552306652069092, 1.8126553297042847, 1.7564526796340942, 1.8001809120178223, 2.5739755630493164, 2.5875799655914307, 4.628406524658203, 1.6608043909072876, 1.7304478883743286, 34.91151809692383, 26.251996994018555, 4.0167670249938965, 42.14164352416992, 11.496326446533203, 4.38035249710083, 10.966193199157715, 18.57023048400879, 29.836381912231445, 5.001646041870117, 10.235967636108398, 13.706351280212402, 9.932599067687988, 6.152840614318848, 7.942104339599609, 3.9931201934814453, 11.133611679077148, 32.34261703491211, 16.7092227935791, 20.386884689331055, 17.070953369140625, 17.94144630432129, 9.170467376708984, 18.620325088500977, 12.377327919006348, 13.003222465515137, 14.669875144958496, 9.857728958129883, 16.875009536743164, 16.739116668701172, 12.335803031921387, 12.788854598999023, 15.045130729675293, 14.40215015411377, 15.54630184173584, 12.679054260253906, 12.592755317687988, 11.971763610839844, 11.535009384155273, 11.532248497009277, 14.444456100463867, 6.77773904800415, 3.968358278274536, 3.193451404571533, 2.9970648288726807, 2.2536234855651855, 2.166461944580078, 3.106928586959839, 2.3736722469329834, 1.6220042705535889, 3.405257225036621, 2.6224944591522217, 1.6235449314117432, 1.5819640159606934, 1.617714285850525, 3.139897108078003, 1.613015055656433, 3.4907546043395996, 3.720914363861084, 4.454104900360107, 2.032423973083496, 1.7911007404327393, 1.4362108707427979, 2.251725673675537, 2.2068636417388916, 1.380698561668396, 1.6265698671340942, 1.6238950490951538, 1.6488444805145264, 4.088546276092529, 3.00058913230896, 2.5907175540924072, 7.2196550369262695, 4.448101997375488, 5.417774677276611, 9.260942459106445, 29.10814666748047, 8.223260879516602, 8.980507850646973, 7.792819976806641, 31.77104949951172, 40.431121826171875, 36.2186393737793, 19.484493255615234, 34.16304016113281, 21.44717025756836, 11.28415584564209, 35.91680908203125, 25.56142807006836, 12.414287567138672, 31.943077087402344, 9.713425636291504, 12.467013359069824, 22.947904586791992, 23.34333038330078, 6.732653617858887, 15.90864372253418, 15.316944122314453, 14.075623512268066, 11.247239112854004, 13.877314567565918, 18.934326171875, 10.448594093322754, 12.709734916687012, 14.347879409790039, 14.443058013916016, 13.380681037902832, 11.968700408935547, 12.393350601196289, 11.056201934814453, 11.069853782653809, 4.868782043457031, 2.3738901615142822, 2.380744218826294, 3.95233416557312, 3.9587483406066895, 5.079843521118164, 3.154845714569092, 2.391141176223755, 10.980816841125488, 2.3859546184539795, 2.361520290374756, 2.3423104286193848, 2.263605833053589, 2.465470314025879, 7.70997953414917, 2.0055267810821533, 1.5753602981567383, 2.22076416015625, 3.8579587936401367, 11.000225067138672, 2.386579751968384, 1.5966793298721313, 1.5698177814483643, 2.0978310108184814, 3.7024662494659424, 4.193883419036865, 1.9092175960540771, 1.6200623512268066, 1.6120820045471191, 1.5745517015457153, 4.36644983291626, 4.629520893096924, 2.9925553798675537, 5.292360782623291, 2.956787347793579, 3.0666308403015137, 11.293061256408691, 18.485326766967773, 11.055291175842285, 11.156338691711426, 30.245954513549805, 10.612363815307617, 13.572189331054688, 21.457048416137695, 13.456697463989258, 22.293886184692383, 14.245683670043945, 11.133474349975586, 7.776585578918457, 22.38119125366211, 12.880372047424316, 11.721707344055176, 18.0877685546875, 12.721720695495605, 14.763165473937988, 17.802879333496094, 12.276915550231934, 16.07309341430664, 13.509068489074707, 12.242820739746094, 13.203948974609375, 13.486538887023926, 12.79205322265625, 9.86690902709961, 10.150568962097168, 11.457693099975586, 10.527385711669922, 11.032872200012207, 5.652365207672119, 2.3094046115875244, 1.5523574352264404, 2.4989614486694336, 1.571458339691162, 1.5385209321975708, 1.4772216081619263, 1.5698192119598389, 1.568542242050171, 1.5627851486206055, 1.5700205564498901, 2.2893474102020264, 1.4961581230163574, 2.328263521194458, 1.5708482265472412, 9.206910133361816, 1.5230809450149536, 0.8111169934272766, 0.8100156188011169, 0.8187745213508606, 1.5997047424316406, 0.8099988698959351, 1.573144793510437, 0.8098241686820984, 0.8147218823432922, 0.8007924556732178, 0.8128055334091187, 0.8098716735839844, 0.8108553886413574, 0.804508626461029, 2.931774854660034, 3.7027993202209473, 3.102492094039917, 2.1613495349884033, 10.635046005249023, 1.917236089706421, 13.252276420593262, 3.8598649501800537, 1.517329454421997, 1.4602595567703247, 3.3014047145843506, 3.5855562686920166, 32.20148468017578, 4.501433849334717, 9.101590156555176, 10.009138107299805, 15.391748428344727, 3.7015187740325928, 9.208066940307617, 3.810648202896118, 9.866151809692383, 13.51471996307373, 16.693933486938477, 15.563343048095703, 9.597280502319336, 10.36596965789795, 10.636029243469238, 11.999667167663574, 5.8525285720825195, 9.346102714538574, 9.784048080444336, 13.623979568481445, 8.67278003692627, 9.625639915466309, 7.781400203704834, 5.4991278648376465, 6.056317329406738, 10.627227783203125, 8.412336349487305, 9.33813762664795, 9.842511177062988, 8.297283172607422, 7.754977226257324, 9.084360122680664, 8.528547286987305, 8.53613567352295, 7.808928489685059, 1.4014499187469482, 2.791471481323242, 1.3669956922531128, 3.3266732692718506, 2.789454698562622, 1.4122974872589111, 1.4177892208099365, 1.4022029638290405, 1.4008272886276245, 1.4131299257278442, 1.4106841087341309, 1.4128050804138184, 2.077709913253784, 1.4171526432037354, 1.4042962789535522, 1.3529528379440308, 1.41835355758667, 3.0415518283843994, 1.414559245109558, 1.338876485824585, 1.283815860748291, 1.4175962209701538, 1.3163918256759644, 2.260209798812866, 1.3842514753341675, 1.4143157005310059, 0.7292572855949402, 0.7337905168533325, 0.7183669209480286, 0.7315290570259094, 1.2885675430297852, 1.4205689430236816, 3.7581207752227783, 2.2015748023986816, 5.535449981689453, 2.046903610229492, 2.7988510131835938, 4.183610916137695, 4.18855094909668, 7.466976165771484, 6.841444492340088, 5.878350257873535, 3.6196446418762207, 3.136601448059082, 2.7993507385253906, 6.746189594268799, 2.6745426654815674, 5.077849864959717, 4.760426998138428, 2.0946085453033447, 4.002834320068359, 3.616694688796997, 3.3756868839263916, 2.320305109024048, 4.21714973449707, 4.540399551391602, 3.710627794265747, 3.2013072967529297, 2.856229305267334, 3.6117303371429443, 3.474853992462158, 3.240642786026001, 3.231515407562256, 3.010077953338623, 3.098114013671875, 2.9911630153656006, 2.8940088748931885, 2.9026172161102295, 1.7273589372634888, 1.215673804283142, 0.9730211496353149, 1.1397820711135864, 0.627492368221283, 0.6251320242881775, 0.6263617873191833, 0.6065635681152344, 0.5527097582817078, 0.6267698407173157, 0.6285300850868225, 0.6278655529022217, 0.6284146308898926, 1.176108479499817, 0.6283497214317322, 0.6250333786010742, 0.6273011565208435, 0.6242229342460632, 0.623845100402832, 1.2178970575332642, 0.4844669699668884, 0.6264411807060242, 0.6270983219146729, 0.6281397342681885, 0.6245110630989075, 0.6280621290206909, 0.6275256276130676, 0.6281625032424927, 0.6249140501022339, 1.0888760089874268, 7.2513017654418945, 1.567463755607605, 2.028830051422119, 1.65845787525177, 2.509833574295044, 3.5476722717285156, 4.7663960456848145, 2.9879446029663086, 1.2214641571044922, 1.8114937543869019, 3.0632693767547607, 1.8077855110168457, 2.058229923248291, 2.2828056812286377, 1.2181693315505981, 5.246494293212891, 5.4669976234436035, 2.405137538909912, 3.096367120742798, 3.6422438621520996, 3.6484408378601074, 3.5254149436950684, 1.1106102466583252, 5.0311689376831055, 2.4718265533447266, 3.0508618354797363, 2.4738283157348633, 2.849719762802124, 2.828857898712158, 2.425940752029419, 2.326430082321167, 2.447169542312622, 2.771717071533203, 2.5677947998046875, 2.4790682792663574, 2.1314384937286377, 2.188833713531494, 2.029021978378296, 1.1683549880981445, 1.0098657608032227, 1.1864029169082642, 1.1952654123306274, 0.9164060354232788, 0.613777220249176, 1.7487733364105225, 0.6153395175933838, 0.6024963855743408, 0.6150489449501038, 0.6140937209129333, 0.9234468936920166, 0.614630937576294, 0.6095280647277832, 0.60587477684021, 0.6130964756011963, 0.6141645908355713, 0.6125618815422058, 0.6139504909515381, 0.607192873954773, 0.6043866276741028, 0.5895846486091614, 1.0934072732925415, 0.5820558667182922, 0.570702075958252, 0.5518673062324524, 0.6152888536453247, 0.6154645681381226, 0.6132696866989136, 0.5499406456947327, 1.7183021306991577, 0.8640236258506775, 1.908598780632019, 3.3850183486938477, 3.287839651107788, 1.165977954864502, 1.7089065313339233, 0.8259260058403015, 3.157705545425415, 5.272395133972168, 1.1016613245010376, 1.8958697319030762, 1.6166545152664185, 1.191032886505127, 2.633699655532837, 1.194115400314331, 1.7756050825119019, 1.1625006198883057, 1.5478655099868774, 2.4441285133361816, 1.6208131313323975, 1.1257754564285278, 2.3623430728912354, 2.808335542678833, 2.661698818206787, 2.3202736377716064, 2.050909996032715, 2.330238103866577, 1.9457056522369385, 2.824901580810547, 2.9584109783172607, 2.836024761199951, 2.7860333919525146, 2.465399742126465, 2.3555502891540527, 1.9105037450790405, 1.813378095626831, 1.853806734085083, 1.9500335454940796, 1.8821161985397339, 1.8460724353790283, 1.8343957662582397, 1.8130112886428833], \"Total\": [836.0, 1711.0, 931.0, 1535.0, 1318.0, 1312.0, 657.0, 596.0, 1349.0, 776.0, 1437.0, 357.0, 672.0, 1136.0, 920.0, 510.0, 361.0, 424.0, 614.0, 370.0, 1315.0, 695.0, 576.0, 934.0, 427.0, 1058.0, 587.0, 622.0, 272.0, 753.0, 29.7696475982666, 29.768308639526367, 32.74530792236328, 20.792024612426758, 89.65477752685547, 23.765323638916016, 20.78990936279297, 56.33322525024414, 17.76492691040039, 14.803691864013672, 14.798871994018555, 12.804250717163086, 24.7867431640625, 131.2546844482422, 11.80068302154541, 10.819708824157715, 129.76107788085938, 101.50409698486328, 10.806140899658203, 55.070072174072266, 12.724888801574707, 75.52140808105469, 32.590003967285156, 43.49034881591797, 11.798215866088867, 14.716047286987305, 10.790444374084473, 8.819629669189453, 7.8238301277160645, 7.819476127624512, 357.62518310546875, 17.809986114501953, 12.803458213806152, 96.67610931396484, 41.163848876953125, 132.38157653808594, 24.08165168762207, 173.1920928955078, 60.76015853881836, 48.33582305908203, 63.40470504760742, 26.796253204345703, 146.9900360107422, 72.96043395996094, 26.5282039642334, 181.75840759277344, 62.30683898925781, 1318.3214111328125, 499.78338623046875, 188.7443389892578, 596.8232421875, 229.27145385742188, 893.5272827148438, 537.1058349609375, 396.8654479980469, 192.40347290039062, 324.0570068359375, 203.3603973388672, 696.602294921875, 149.65646362304688, 639.0066528320312, 363.0431213378906, 1711.3043212890625, 625.4177856445312, 622.1303100585938, 829.6065673828125, 1535.2000732421875, 753.023681640625, 597.4086303710938, 1136.6448974609375, 1058.313720703125, 920.8322143554688, 1315.1292724609375, 934.7662353515625, 617.9554443359375, 778.3886108398438, 1349.91015625, 691.6632080078125, 1312.8427734375, 931.6475219726562, 1437.9228515625, 408.0289306640625, 626.8330688476562, 495.0291748046875, 38.79078674316406, 10.8473482131958, 9.854639053344727, 9.848901748657227, 14.846780776977539, 8.842222213745117, 10.824060440063477, 11.806360244750977, 7.850947380065918, 8.83836841583252, 7.837658882141113, 8.847579956054688, 7.829832553863525, 15.727581024169922, 6.852333068847656, 12.742512702941895, 6.8502607345581055, 6.851778507232666, 7.804248809814453, 6.830964088439941, 11.823234558105469, 6.825111389160156, 6.831019401550293, 9.834373474121094, 10.836541175842285, 5.84654426574707, 6.821275234222412, 5.83017635345459, 5.850767135620117, 6.848692893981934, 63.93613815307617, 36.18019104003906, 49.973854064941406, 234.76901245117188, 21.57892417907715, 400.6316223144531, 180.87684631347656, 162.04940795898438, 106.37030029296875, 72.66861724853516, 83.62405395507812, 35.618377685546875, 272.3964538574219, 152.60537719726562, 17.59231948852539, 102.84413146972656, 85.2127685546875, 43.602561950683594, 224.62208557128906, 49.45957946777344, 53.469322204589844, 75.3523178100586, 33.92753601074219, 74.15607452392578, 68.99420166015625, 241.54397583007812, 104.93937683105469, 223.400146484375, 108.48043060302734, 71.98881530761719, 112.7745590209961, 399.3758544921875, 617.9554443359375, 622.1303100585938, 1711.3043212890625, 379.0218505859375, 174.783447265625, 639.0066528320312, 236.55474853515625, 1136.6448974609375, 547.4462280273438, 1318.3214111328125, 537.1058349609375, 309.6680603027344, 1437.9228515625, 1058.313720703125, 499.78338623046875, 1349.91015625, 497.5239562988281, 778.3886108398438, 934.7662353515625, 696.602294921875, 589.8001708984375, 1312.8427734375, 655.0457763671875, 1315.1292724609375, 582.5037841796875, 691.6632080078125, 626.8330688476562, 31.30083656311035, 218.98561096191406, 379.734619140625, 19.52113151550293, 88.29249572753906, 32.132503509521484, 427.5873107910156, 37.00840759277344, 13.620101928710938, 49.45225524902344, 16.57041358947754, 13.623726844787598, 10.664056777954102, 836.7693481445312, 35.683929443359375, 67.50458526611328, 60.71662521362305, 12.638362884521484, 8.696863174438477, 48.1661376953125, 510.0739440917969, 84.01485443115234, 154.59371948242188, 8.710132598876953, 57.68301010131836, 370.422119140625, 6.743753433227539, 300.2043151855469, 6.622174263000488, 13.40927505493164, 145.85777282714844, 234.0853729248047, 76.87506866455078, 119.58161163330078, 50.64101028442383, 78.72869110107422, 271.9101867675781, 112.86756896972656, 776.862060546875, 361.64996337890625, 130.11138916015625, 1535.2000732421875, 1312.8427734375, 614.3056640625, 587.6441650390625, 824.4006958007812, 1437.9228515625, 1349.91015625, 561.0195922851562, 1315.1292724609375, 439.736083984375, 1711.3043212890625, 506.70361328125, 931.6475219726562, 906.43017578125, 928.22705078125, 1136.6448974609375, 920.8322143554688, 616.3024291992188, 664.60986328125, 829.6065673828125, 1058.313720703125, 221.0855712890625, 28.354883193969727, 19.205745697021484, 17.16155433654785, 13.080339431762695, 91.3734130859375, 11.046524047851562, 234.89515686035156, 576.5403442382812, 12.051421165466309, 12.059649467468262, 147.20106506347656, 9.982443809509277, 8.999220848083496, 7.978941917419434, 79.1258773803711, 6.967428207397461, 15.082364082336426, 6.9661102294921875, 6.96285343170166, 6.9622650146484375, 27.318267822265625, 104.5058364868164, 31.301403045654297, 20.159557342529297, 5.946840763092041, 37.40062713623047, 5.851466178894043, 13.020444869995117, 5.805912971496582, 695.2977905273438, 251.80589294433594, 53.606632232666016, 37.27113342285156, 85.8720703125, 312.8290710449219, 600.065185546875, 148.11663818359375, 672.6726684570312, 124.50083923339844, 318.2155456542969, 265.71771240234375, 131.6840362548828, 66.10249328613281, 116.63285827636719, 80.49835205078125, 241.10186767578125, 629.2302856445312, 384.7998352050781, 928.22705078125, 1315.1292724609375, 431.12353515625, 753.023681640625, 669.937744140625, 229.38052368164062, 186.57057189941406, 539.508056640625, 1058.313720703125, 383.830322265625, 1349.91015625, 572.1759643554688, 582.5037841796875, 1437.9228515625, 655.0457763671875, 1711.3043212890625, 678.737548828125, 626.8330688476562, 1312.8427734375, 934.7662353515625, 893.5272827148438, 920.8322143554688, 906.43017578125, 824.4006958007812, 311.9698486328125, 75.07855987548828, 37.45613098144531, 71.98407745361328, 15.093145370483398, 424.21710205078125, 328.72735595703125, 37.47879409790039, 58.70119857788086, 15.093012809753418, 198.3098602294922, 32.3941764831543, 5.90492582321167, 42.497615814208984, 33.38603210449219, 11.026517868041992, 12.043381690979004, 16.57110595703125, 9.869175910949707, 89.91677856445312, 657.7692260742188, 99.24911499023438, 9.887290954589844, 9.730978965759277, 182.54010009765625, 40.5509147644043, 14.956927299499512, 6.7813873291015625, 8.467253684997559, 8.917343139648438, 54.70838928222656, 174.6691436767578, 132.86009216308594, 97.29591369628906, 26.03252410888672, 26.942140579223633, 40.47768020629883, 26.727441787719727, 67.10493469238281, 931.6475219726562, 115.73533630371094, 154.67437744140625, 188.22119140625, 1535.2000732421875, 384.7998352050781, 600.065185546875, 182.38955688476562, 629.2302856445312, 1312.8427734375, 1437.9228515625, 928.22705078125, 587.6441650390625, 506.70361328125, 439.736083984375, 906.43017578125, 664.60986328125, 352.7424621582031, 1349.91015625, 824.4006958007812, 920.8322143554688, 614.3056640625, 1315.1292724609375, 1711.3043212890625, 893.5272827148438, 1058.313720703125, 672.6726684570312, 5.7576470375061035, 5.740243911743164, 5.7363996505737305, 21.428495407104492, 14.617799758911133, 7.533029556274414, 6.662639617919922, 8.583597183227539, 5.755777359008789, 11.47496223449707, 11.432376861572266, 9.574297904968262, 6.555953025817871, 20.83116912841797, 23.09796905517578, 6.767236232757568, 18.478925704956055, 13.214527130126953, 6.7568535804748535, 5.773824691772461, 5.788517951965332, 6.5742692947387695, 5.63939905166626, 5.776926040649414, 11.588171005249023, 5.360949993133545, 10.657353401184082, 16.634632110595703, 7.740612030029297, 11.575318336486816, 24.608671188354492, 16.499799728393555, 19.472732543945312, 227.45034790039062, 9.470574378967285, 224.62208557128906, 43.80097198486328, 18.672212600708008, 241.54397583007812, 580.6826171875, 569.264404296875, 171.39401245117188, 931.6475219726562, 210.72293090820312, 655.0457763671875, 78.88878631591797, 130.2870330810547, 934.7662353515625, 32.03711700439453, 1437.9228515625, 103.91439056396484, 920.8322143554688, 136.39419555664062, 1318.3214111328125, 617.9554443359375, 1136.6448974609375, 637.3973388671875, 1349.91015625, 431.12353515625, 1315.1292724609375, 829.6065673828125, 906.43017578125, 572.1759643554688, 1711.3043212890625, 622.1303100585938, 252.8074493408203, 401.0461120605469, 596.8232421875, 778.3886108398438, 317.510009765625, 473.1364440917969, 1058.313720703125, 494.7295837402344, 678.737548828125, 1312.8427734375, 928.22705078125, 539.508056640625, 22.17487144470215, 5.274176597595215, 22.49614906311035, 21.75105094909668, 5.338646411895752, 17.92433738708496, 7.984313488006592, 9.049796104431152, 36.327213287353516, 6.172609329223633, 8.142577171325684, 9.093441009521484, 9.087800979614258, 9.092100143432617, 28.373918533325195, 7.175209045410156, 6.313762187957764, 8.185962677001953, 29.632095336914062, 5.125690937042236, 29.25049591064453, 5.257883548736572, 14.196318626403809, 7.04728889465332, 5.165441036224365, 5.41389274597168, 7.123229026794434, 7.209896564483643, 6.395447254180908, 5.441964626312256, 9.186745643615723, 32.22260284423828, 22.111373901367188, 59.551631927490234, 81.3048324584961, 112.7745590209961, 12.960390090942383, 37.250328063964844, 36.60787582397461, 34.563385009765625, 400.6316223144531, 41.16680908203125, 58.13834762573242, 69.32057189941406, 162.04940795898438, 108.48043060302734, 104.93937683105469, 102.46629333496094, 180.87684631347656, 23.755407333374023, 106.37030029296875, 30.319299697875977, 24.504732131958008, 1318.3214111328125, 85.2127685546875, 1711.3043212890625, 44.86814498901367, 547.4462280273438, 1058.313720703125, 337.96563720703125, 1136.6448974609375, 473.1364440917969, 1437.9228515625, 1349.91015625, 324.0570068359375, 352.58990478515625, 934.7662353515625, 678.737548828125, 696.602294921875, 906.43017578125, 1315.1292724609375, 920.8322143554688, 637.3973388671875, 622.1303100585938, 463.0954284667969, 537.1058349609375, 14.908729553222656, 6.08708381652832, 6.838174343109131, 5.18086576461792, 5.310699939727783, 5.342808246612549, 99.46930694580078, 6.15371561050415, 5.127638816833496, 6.361337661743164, 6.376745700836182, 9.058016777038574, 5.349916458129883, 10.819242477416992, 5.853967666625977, 7.2461347579956055, 13.611093521118164, 14.409591674804688, 6.195698261260986, 7.952095985412598, 6.339256286621094, 6.393438816070557, 6.309946537017822, 6.394286155700684, 6.3896684646606445, 5.390263557434082, 9.894495964050293, 11.859457015991211, 9.153098106384277, 6.427946090698242, 26.616310119628906, 28.134971618652344, 138.29931640625, 95.93537902832031, 15.50371265411377, 107.11161804199219, 43.99862289428711, 17.987241744995117, 41.35965347290039, 70.12018585205078, 152.60537719726562, 31.045251846313477, 106.47130584716797, 21.045635223388672, 75.3523178100586, 94.93536376953125, 129.0817108154297, 223.400146484375, 336.67352294921875, 1136.6448974609375, 538.3977661132812, 1318.3214111328125, 41.76922607421875, 906.43017578125, 141.6651611328125, 1711.3043212890625, 389.21636962890625, 448.6187438964844, 639.0066528320312, 1315.1292724609375, 664.60986328125, 572.1759643554688, 778.3886108398438, 1058.313720703125, 1349.91015625, 499.78338623046875, 934.7662353515625, 696.602294921875, 928.22705078125, 655.0457763671875, 669.937744140625, 637.3973388671875, 8.880865097045898, 10.387954711914062, 5.043184280395508, 5.258066177368164, 107.11161804199219, 5.429579734802246, 7.249528884887695, 12.648158073425293, 7.953256130218506, 6.034487724304199, 8.362730026245117, 6.463605880737305, 5.537591457366943, 7.130584716796875, 6.551846981048584, 7.474023342132568, 6.127131938934326, 50.11334228515625, 5.226652145385742, 5.3290252685546875, 5.218758583068848, 5.442555904388428, 5.3585991859436035, 5.573287010192871, 5.466521263122559, 5.621167182922363, 8.26562213897705, 8.311982154846191, 15.00086498260498, 5.388845443725586, 5.6180901527404785, 138.29931640625, 106.47130584716797, 13.935808181762695, 272.3964538574219, 55.10394287109375, 16.63848304748535, 54.349998474121094, 114.24453735351562, 223.400146484375, 22.20830535888672, 75.3523178100586, 124.01026153564453, 73.61127471923828, 35.748897552490234, 58.76235580444336, 16.743867874145508, 156.88275146484375, 1711.3043212890625, 473.1364440917969, 934.7662353515625, 597.4086303710938, 920.8322143554688, 149.65646362304688, 1315.1292724609375, 396.8654479980469, 484.99658203125, 753.023681640625, 210.72293090820312, 1312.8427734375, 1318.3214111328125, 446.2237548828125, 544.872802734375, 1058.313720703125, 893.5272827148438, 1349.91015625, 547.4462280273438, 928.22705078125, 829.6065673828125, 622.1303100585938, 691.6632080078125, 19.41327476501465, 10.0283784866333, 8.729361534118652, 7.62830924987793, 8.042830467224121, 6.196225643157959, 6.195487022399902, 8.991783142089844, 7.153811931610107, 5.059446334838867, 10.766883850097656, 8.325860977172852, 5.295547008514404, 5.1850504875183105, 5.383443355560303, 10.50771427154541, 5.411438941955566, 11.761395454406738, 12.607340812683105, 15.176802635192871, 7.143661975860596, 6.327370643615723, 5.167425155639648, 8.263516426086426, 8.164623260498047, 5.168020725250244, 6.216347694396973, 6.26766300201416, 6.38927698135376, 15.849259376525879, 11.988536834716797, 10.690326690673828, 37.124855041503906, 21.28828239440918, 29.9926815032959, 61.95954132080078, 361.64996337890625, 61.50331115722656, 76.87506866455078, 62.895816802978516, 587.6441650390625, 931.6475219726562, 836.7693481445312, 300.2043151855469, 776.862060546875, 370.422119140625, 145.85777282714844, 1711.3043212890625, 920.8322143554688, 209.5369110107422, 1535.2000732421875, 133.40182495117188, 271.9101867675781, 1318.3214111328125, 1437.9228515625, 62.18070602416992, 614.3056640625, 561.0195922851562, 463.2885437011719, 262.6626892089844, 510.0739440917969, 1349.91015625, 232.6160125732422, 484.99658203125, 928.22705078125, 1315.1292724609375, 1312.8427734375, 616.3024291992188, 824.4006958007812, 678.737548828125, 829.6065673828125, 9.469246864318848, 5.135741710662842, 5.229382514953613, 8.71168327331543, 9.40391731262207, 12.648158073425293, 7.857962131500244, 6.034546375274658, 27.963756561279297, 6.084132194519043, 6.176263809204102, 6.192862510681152, 6.104955196380615, 7.125712871551514, 22.538339614868164, 6.2994160652160645, 5.069702625274658, 7.229866981506348, 12.642610549926758, 36.85955047607422, 8.018156051635742, 5.386392116546631, 5.412097930908203, 7.291803359985352, 13.611093521118164, 15.585880279541016, 7.190010070800781, 6.380147933959961, 6.4157891273498535, 6.2815423011779785, 18.218891143798828, 20.613739013671875, 12.904388427734375, 25.89154815673828, 13.654289245605469, 14.624327659606934, 119.58161163330078, 370.422119140625, 149.3767547607422, 154.59371948242188, 1349.91015625, 169.7375030517578, 300.2043151855469, 836.7693481445312, 358.097900390625, 1318.3214111328125, 469.1195373535156, 271.9101867675781, 114.92023468017578, 1711.3043212890625, 427.5873107910156, 338.3742980957031, 1136.6448974609375, 506.70361328125, 824.4006958007812, 1535.2000732421875, 510.0739440917969, 1312.8427734375, 753.023681640625, 569.264404296875, 776.862060546875, 920.8322143554688, 906.43017578125, 414.5850524902344, 506.3539123535156, 1315.1292724609375, 686.8894653320312, 1437.9228515625, 14.088761329650879, 6.977377414703369, 4.850828647613525, 7.927957057952881, 5.358017921447754, 5.30324649810791, 5.378561496734619, 5.853967666625977, 7.1564226150512695, 7.360249042510986, 8.467253684997559, 12.388360023498535, 8.30711841583252, 13.105303764343262, 9.276656150817871, 54.9015007019043, 9.212040901184082, 5.027242660522461, 5.069702625274658, 5.248672962188721, 10.260642051696777, 5.265389442443848, 10.23145580291748, 5.271762371063232, 5.331029891967773, 5.248372554779053, 5.33254337310791, 5.335977077484131, 5.372877597808838, 5.3585991859436035, 19.836767196655273, 26.76905059814453, 22.930530548095703, 15.692192077636719, 93.47079467773438, 13.97408676147461, 132.38157653808594, 32.03711700439453, 11.028523445129395, 10.68846321105957, 30.223094940185547, 34.15386199951172, 596.8232421875, 46.386688232421875, 133.40182495117188, 169.94271850585938, 357.62518310546875, 37.54022979736328, 251.80589294433594, 47.842979431152344, 314.5033264160156, 597.4086303710938, 934.7662353515625, 931.6475219726562, 384.7998352050781, 506.70361328125, 580.6826171875, 829.6065673828125, 146.9900360107422, 506.3539123535156, 626.8330688476562, 1711.3043212890625, 473.1364440917969, 678.737548828125, 361.64996337890625, 133.25706481933594, 193.09451293945312, 1349.91015625, 622.1303100585938, 920.8322143554688, 1318.3214111328125, 686.8894653320312, 589.8001708984375, 1312.8427734375, 1315.1292724609375, 1535.2000732421875, 669.937744140625, 5.182755470275879, 10.591045379638672, 5.250516414642334, 12.871071815490723, 11.553766250610352, 5.8856658935546875, 5.93904447555542, 5.877710819244385, 5.876851558685303, 5.967894077301025, 5.959170341491699, 6.013393878936768, 8.90187931060791, 6.194090843200684, 6.207265377044678, 6.233031749725342, 6.864862442016602, 15.176802635192871, 7.083571434020996, 7.049065113067627, 7.038065433502197, 8.011748313903809, 8.00643253326416, 14.174315452575684, 8.79323673248291, 9.6122407913208, 4.963435173034668, 5.001084804534912, 4.968550682067871, 5.079647064208984, 9.02885913848877, 11.8547945022583, 45.537044525146484, 22.159870147705078, 104.93937683105469, 22.12796974182129, 41.76922607421875, 99.46930694580078, 138.29931640625, 622.1303100585938, 637.3973388671875, 473.1364440917969, 123.44425964355469, 81.3048324584961, 60.90629196166992, 1318.3214111328125, 59.551631927490234, 696.602294921875, 596.8232421875, 28.112642288208008, 408.0289306640625, 300.80120849609375, 230.3931121826172, 48.22178649902344, 753.023681640625, 1136.6448974609375, 446.2237548828125, 352.24957275390625, 214.77151489257812, 1711.3043212890625, 1315.1292724609375, 686.8894653320312, 1312.8427734375, 537.1058349609375, 1349.91015625, 1058.313720703125, 338.3742980957031, 934.7662353515625, 6.656888484954834, 6.472628593444824, 6.195568561553955, 7.548915386199951, 5.079647064208984, 5.373413562774658, 5.393838882446289, 5.476962089538574, 5.274151802062988, 5.997476577758789, 6.147030353546143, 6.146517753601074, 6.167230129241943, 11.754517555236816, 6.284142971038818, 6.300135135650635, 6.379612445831299, 6.415026664733887, 6.412312984466553, 12.81391429901123, 5.101644992828369, 7.0067572593688965, 7.033057689666748, 7.069516658782959, 7.0757293701171875, 7.133170127868652, 7.188665390014648, 7.218367576599121, 7.19954776763916, 12.641425132751465, 93.47079467773438, 19.453824996948242, 27.740324020385742, 22.541893005371094, 41.95607376098633, 96.67610931396484, 179.48370361328125, 88.9896011352539, 22.78011703491211, 48.635833740234375, 133.40182495117188, 51.270816802978516, 69.2784652709961, 88.64832305908203, 25.36675262451172, 614.3056640625, 672.6726684570312, 119.2419204711914, 210.72293090820312, 333.3815612792969, 357.62518310546875, 361.64996337890625, 21.658002853393555, 1312.8427734375, 209.7509002685547, 506.70361328125, 251.80589294433594, 589.8001708984375, 629.2302856445312, 314.5033264160156, 293.46923828125, 409.452880859375, 1711.3043212890625, 920.8322143554688, 776.862060546875, 331.1578063964844, 753.023681640625, 230.3931121826172, 4.646761894226074, 5.004146575927734, 6.977377414703369, 7.577847957611084, 6.169209003448486, 4.963435173034668, 14.26756477355957, 5.11787223815918, 5.027242660522461, 5.154397010803223, 5.205324172973633, 7.842108726501465, 5.259039878845215, 5.267628192901611, 5.270895957946777, 5.339890480041504, 5.365588188171387, 5.367192268371582, 5.401476860046387, 5.360949993133545, 5.4140849113464355, 5.3177266120910645, 9.92792797088623, 5.3016204833984375, 5.454354286193848, 5.387110710144043, 6.013141632080078, 6.073559284210205, 6.082095146179199, 5.4553093910217285, 19.035951614379883, 8.973520278930664, 23.755407333374023, 50.11334228515625, 58.39791488647461, 15.396514892578125, 31.952999114990234, 9.559525489807129, 106.47130584716797, 272.3964538574219, 16.061847686767578, 43.99862289428711, 35.31632614135742, 21.045635223388672, 114.24453735351562, 22.450786590576172, 53.255699157714844, 21.79706382751465, 41.826438903808594, 166.29763793945312, 60.185462951660156, 23.958707809448242, 183.8463592529297, 396.8654479980469, 340.5160827636719, 233.27755737304688, 223.400146484375, 393.0008239746094, 200.40921020507812, 1349.91015625, 1711.3043212890625, 1437.9228515625, 1315.1292724609375, 778.3886108398438, 1058.313720703125, 315.45159912109375, 248.782470703125, 395.4352111816406, 1136.6448974609375, 664.60986328125, 637.3973388671875, 499.78338623046875, 696.602294921875], \"Category\": [\"Default\", \"Default\", \"Default\", \"Default\", \"Default\", \"Default\", \"Default\", \"Default\", \"Default\", \"Default\", \"Default\", \"Default\", \"Default\", \"Default\", \"Default\", \"Default\", \"Default\", \"Default\", \"Default\", \"Default\", \"Default\", \"Default\", \"Default\", \"Default\", \"Default\", \"Default\", \"Default\", \"Default\", \"Default\", \"Default\", \"Topic1\", \"Topic1\", \"Topic1\", \"Topic1\", \"Topic1\", \"Topic1\", \"Topic1\", \"Topic1\", \"Topic1\", \"Topic1\", \"Topic1\", \"Topic1\", \"Topic1\", \"Topic1\", \"Topic1\", \"Topic1\", \"Topic1\", \"Topic1\", \"Topic1\", \"Topic1\", \"Topic1\", \"Topic1\", \"Topic1\", \"Topic1\", \"Topic1\", \"Topic1\", \"Topic1\", \"Topic1\", \"Topic1\", \"Topic1\", \"Topic1\", \"Topic1\", \"Topic1\", \"Topic1\", \"Topic1\", \"Topic1\", \"Topic1\", \"Topic1\", \"Topic1\", \"Topic1\", \"Topic1\", \"Topic1\", \"Topic1\", \"Topic1\", \"Topic1\", \"Topic1\", \"Topic1\", \"Topic1\", \"Topic1\", \"Topic1\", \"Topic1\", \"Topic1\", \"Topic1\", \"Topic1\", \"Topic1\", \"Topic1\", \"Topic1\", \"Topic1\", \"Topic1\", \"Topic1\", \"Topic1\", \"Topic1\", \"Topic1\", \"Topic1\", \"Topic1\", \"Topic1\", \"Topic1\", \"Topic1\", \"Topic1\", \"Topic1\", \"Topic1\", \"Topic1\", \"Topic1\", \"Topic1\", \"Topic1\", \"Topic1\", \"Topic1\", \"Topic1\", \"Topic1\", \"Topic1\", \"Topic1\", \"Topic1\", \"Topic1\", \"Topic1\", \"Topic2\", \"Topic2\", \"Topic2\", \"Topic2\", \"Topic2\", \"Topic2\", \"Topic2\", \"Topic2\", \"Topic2\", \"Topic2\", \"Topic2\", \"Topic2\", \"Topic2\", \"Topic2\", \"Topic2\", \"Topic2\", \"Topic2\", \"Topic2\", \"Topic2\", \"Topic2\", \"Topic2\", \"Topic2\", \"Topic2\", \"Topic2\", \"Topic2\", \"Topic2\", \"Topic2\", \"Topic2\", \"Topic2\", \"Topic2\", \"Topic2\", \"Topic2\", \"Topic2\", \"Topic2\", \"Topic2\", \"Topic2\", \"Topic2\", \"Topic2\", \"Topic2\", \"Topic2\", \"Topic2\", \"Topic2\", \"Topic2\", \"Topic2\", \"Topic2\", \"Topic2\", \"Topic2\", \"Topic2\", \"Topic2\", \"Topic2\", \"Topic2\", \"Topic2\", \"Topic2\", \"Topic2\", \"Topic2\", \"Topic2\", \"Topic2\", \"Topic2\", \"Topic2\", \"Topic2\", \"Topic2\", \"Topic2\", \"Topic2\", \"Topic2\", \"Topic2\", \"Topic2\", \"Topic2\", \"Topic2\", \"Topic2\", \"Topic2\", \"Topic2\", \"Topic2\", \"Topic2\", \"Topic2\", \"Topic2\", \"Topic2\", \"Topic2\", \"Topic2\", \"Topic2\", \"Topic2\", \"Topic2\", \"Topic2\", \"Topic2\", \"Topic2\", \"Topic2\", \"Topic2\", \"Topic2\", \"Topic2\", \"Topic2\", \"Topic3\", \"Topic3\", \"Topic3\", \"Topic3\", \"Topic3\", \"Topic3\", \"Topic3\", \"Topic3\", \"Topic3\", \"Topic3\", \"Topic3\", \"Topic3\", \"Topic3\", \"Topic3\", \"Topic3\", \"Topic3\", \"Topic3\", \"Topic3\", \"Topic3\", \"Topic3\", \"Topic3\", \"Topic3\", \"Topic3\", \"Topic3\", \"Topic3\", \"Topic3\", \"Topic3\", \"Topic3\", \"Topic3\", \"Topic3\", \"Topic3\", \"Topic3\", \"Topic3\", \"Topic3\", \"Topic3\", \"Topic3\", \"Topic3\", \"Topic3\", \"Topic3\", \"Topic3\", \"Topic3\", \"Topic3\", \"Topic3\", \"Topic3\", \"Topic3\", \"Topic3\", \"Topic3\", \"Topic3\", \"Topic3\", \"Topic3\", \"Topic3\", \"Topic3\", \"Topic3\", \"Topic3\", \"Topic3\", \"Topic3\", \"Topic3\", \"Topic3\", \"Topic3\", \"Topic3\", \"Topic3\", \"Topic3\", \"Topic4\", \"Topic4\", \"Topic4\", \"Topic4\", \"Topic4\", \"Topic4\", \"Topic4\", \"Topic4\", \"Topic4\", \"Topic4\", \"Topic4\", \"Topic4\", \"Topic4\", \"Topic4\", \"Topic4\", \"Topic4\", \"Topic4\", \"Topic4\", \"Topic4\", \"Topic4\", \"Topic4\", \"Topic4\", \"Topic4\", \"Topic4\", \"Topic4\", \"Topic4\", \"Topic4\", \"Topic4\", \"Topic4\", \"Topic4\", \"Topic4\", \"Topic4\", \"Topic4\", \"Topic4\", \"Topic4\", \"Topic4\", \"Topic4\", \"Topic4\", \"Topic4\", \"Topic4\", \"Topic4\", \"Topic4\", \"Topic4\", \"Topic4\", \"Topic4\", \"Topic4\", \"Topic4\", \"Topic4\", \"Topic4\", \"Topic4\", \"Topic4\", \"Topic4\", \"Topic4\", \"Topic4\", \"Topic4\", \"Topic4\", \"Topic4\", \"Topic4\", \"Topic4\", \"Topic4\", \"Topic4\", \"Topic4\", \"Topic4\", \"Topic4\", \"Topic4\", \"Topic4\", \"Topic4\", \"Topic4\", \"Topic4\", \"Topic4\", \"Topic4\", \"Topic4\", \"Topic4\", \"Topic5\", \"Topic5\", \"Topic5\", \"Topic5\", \"Topic5\", \"Topic5\", \"Topic5\", \"Topic5\", \"Topic5\", \"Topic5\", \"Topic5\", \"Topic5\", \"Topic5\", \"Topic5\", \"Topic5\", \"Topic5\", \"Topic5\", \"Topic5\", \"Topic5\", \"Topic5\", \"Topic5\", \"Topic5\", \"Topic5\", \"Topic5\", \"Topic5\", \"Topic5\", \"Topic5\", \"Topic5\", \"Topic5\", \"Topic5\", \"Topic5\", \"Topic5\", \"Topic5\", \"Topic5\", \"Topic5\", \"Topic5\", \"Topic5\", \"Topic5\", \"Topic5\", \"Topic5\", \"Topic5\", \"Topic5\", \"Topic5\", \"Topic5\", \"Topic5\", \"Topic5\", \"Topic5\", \"Topic5\", \"Topic5\", \"Topic5\", \"Topic5\", \"Topic5\", \"Topic5\", \"Topic5\", \"Topic5\", \"Topic5\", \"Topic5\", \"Topic5\", \"Topic5\", \"Topic5\", \"Topic5\", \"Topic5\", \"Topic5\", \"Topic5\", \"Topic5\", \"Topic5\", \"Topic6\", \"Topic6\", \"Topic6\", \"Topic6\", \"Topic6\", \"Topic6\", \"Topic6\", \"Topic6\", \"Topic6\", \"Topic6\", \"Topic6\", \"Topic6\", \"Topic6\", \"Topic6\", \"Topic6\", \"Topic6\", \"Topic6\", \"Topic6\", \"Topic6\", \"Topic6\", \"Topic6\", \"Topic6\", \"Topic6\", \"Topic6\", \"Topic6\", \"Topic6\", \"Topic6\", \"Topic6\", \"Topic6\", \"Topic6\", \"Topic6\", \"Topic6\", \"Topic6\", \"Topic6\", \"Topic6\", \"Topic6\", \"Topic6\", \"Topic6\", \"Topic6\", \"Topic6\", \"Topic6\", \"Topic6\", \"Topic6\", \"Topic6\", \"Topic6\", \"Topic6\", \"Topic6\", \"Topic6\", \"Topic6\", \"Topic6\", \"Topic6\", \"Topic6\", \"Topic6\", \"Topic6\", \"Topic6\", \"Topic6\", \"Topic6\", \"Topic6\", \"Topic6\", \"Topic6\", \"Topic6\", \"Topic6\", \"Topic6\", \"Topic6\", \"Topic6\", \"Topic6\", \"Topic6\", \"Topic6\", \"Topic6\", \"Topic6\", \"Topic6\", \"Topic6\", \"Topic6\", \"Topic6\", \"Topic6\", \"Topic6\", \"Topic6\", \"Topic7\", \"Topic7\", \"Topic7\", \"Topic7\", \"Topic7\", \"Topic7\", \"Topic7\", \"Topic7\", \"Topic7\", \"Topic7\", \"Topic7\", \"Topic7\", \"Topic7\", \"Topic7\", \"Topic7\", \"Topic7\", \"Topic7\", \"Topic7\", \"Topic7\", \"Topic7\", \"Topic7\", \"Topic7\", \"Topic7\", \"Topic7\", \"Topic7\", \"Topic7\", \"Topic7\", \"Topic7\", \"Topic7\", \"Topic7\", \"Topic7\", \"Topic7\", \"Topic7\", \"Topic7\", \"Topic7\", \"Topic7\", \"Topic7\", \"Topic7\", \"Topic7\", \"Topic7\", \"Topic7\", \"Topic7\", \"Topic7\", \"Topic7\", \"Topic7\", \"Topic7\", \"Topic7\", \"Topic7\", \"Topic7\", \"Topic7\", \"Topic7\", \"Topic7\", \"Topic7\", \"Topic7\", \"Topic7\", \"Topic7\", \"Topic7\", \"Topic7\", \"Topic7\", \"Topic7\", \"Topic7\", \"Topic7\", \"Topic7\", \"Topic7\", \"Topic7\", \"Topic7\", \"Topic7\", \"Topic7\", \"Topic7\", \"Topic7\", \"Topic7\", \"Topic7\", \"Topic7\", \"Topic7\", \"Topic7\", \"Topic7\", \"Topic8\", \"Topic8\", \"Topic8\", \"Topic8\", \"Topic8\", \"Topic8\", \"Topic8\", \"Topic8\", \"Topic8\", \"Topic8\", \"Topic8\", \"Topic8\", \"Topic8\", \"Topic8\", \"Topic8\", \"Topic8\", \"Topic8\", \"Topic8\", \"Topic8\", \"Topic8\", \"Topic8\", \"Topic8\", \"Topic8\", \"Topic8\", \"Topic8\", \"Topic8\", \"Topic8\", \"Topic8\", \"Topic8\", \"Topic8\", \"Topic8\", \"Topic8\", \"Topic8\", \"Topic8\", \"Topic8\", \"Topic8\", \"Topic8\", \"Topic8\", \"Topic8\", \"Topic8\", \"Topic8\", \"Topic8\", \"Topic8\", \"Topic8\", \"Topic8\", \"Topic8\", \"Topic8\", \"Topic8\", \"Topic8\", \"Topic8\", \"Topic8\", \"Topic8\", \"Topic8\", \"Topic8\", \"Topic8\", \"Topic8\", \"Topic8\", \"Topic8\", \"Topic8\", \"Topic8\", \"Topic8\", \"Topic8\", \"Topic8\", \"Topic8\", \"Topic8\", \"Topic8\", \"Topic8\", \"Topic8\", \"Topic8\", \"Topic8\", \"Topic8\", \"Topic8\", \"Topic9\", \"Topic9\", \"Topic9\", \"Topic9\", \"Topic9\", \"Topic9\", \"Topic9\", \"Topic9\", \"Topic9\", \"Topic9\", \"Topic9\", \"Topic9\", \"Topic9\", \"Topic9\", \"Topic9\", \"Topic9\", \"Topic9\", \"Topic9\", \"Topic9\", \"Topic9\", \"Topic9\", \"Topic9\", \"Topic9\", \"Topic9\", \"Topic9\", \"Topic9\", \"Topic9\", \"Topic9\", \"Topic9\", \"Topic9\", \"Topic9\", \"Topic9\", \"Topic9\", \"Topic9\", \"Topic9\", \"Topic9\", \"Topic9\", \"Topic9\", \"Topic9\", \"Topic9\", \"Topic9\", \"Topic9\", \"Topic9\", \"Topic9\", \"Topic9\", \"Topic9\", \"Topic9\", \"Topic9\", \"Topic9\", \"Topic9\", \"Topic9\", \"Topic9\", \"Topic9\", \"Topic9\", \"Topic9\", \"Topic9\", \"Topic9\", \"Topic9\", \"Topic9\", \"Topic9\", \"Topic9\", \"Topic9\", \"Topic9\", \"Topic9\", \"Topic9\", \"Topic9\", \"Topic9\", \"Topic9\", \"Topic9\", \"Topic9\", \"Topic9\", \"Topic10\", \"Topic10\", \"Topic10\", \"Topic10\", \"Topic10\", \"Topic10\", \"Topic10\", \"Topic10\", \"Topic10\", \"Topic10\", \"Topic10\", \"Topic10\", \"Topic10\", \"Topic10\", \"Topic10\", \"Topic10\", \"Topic10\", \"Topic10\", \"Topic10\", \"Topic10\", \"Topic10\", \"Topic10\", \"Topic10\", \"Topic10\", \"Topic10\", \"Topic10\", \"Topic10\", \"Topic10\", \"Topic10\", \"Topic10\", \"Topic10\", \"Topic10\", \"Topic10\", \"Topic10\", \"Topic10\", \"Topic10\", \"Topic10\", \"Topic10\", \"Topic10\", \"Topic10\", \"Topic10\", \"Topic10\", \"Topic10\", \"Topic10\", \"Topic10\", \"Topic10\", \"Topic10\", \"Topic10\", \"Topic10\", \"Topic10\", \"Topic10\", \"Topic10\", \"Topic10\", \"Topic10\", \"Topic10\", \"Topic10\", \"Topic10\", \"Topic10\", \"Topic10\", \"Topic10\", \"Topic10\", \"Topic10\", \"Topic10\", \"Topic10\", \"Topic10\", \"Topic10\", \"Topic10\", \"Topic10\", \"Topic10\", \"Topic10\", \"Topic10\", \"Topic11\", \"Topic11\", \"Topic11\", \"Topic11\", \"Topic11\", \"Topic11\", \"Topic11\", \"Topic11\", \"Topic11\", \"Topic11\", \"Topic11\", \"Topic11\", \"Topic11\", \"Topic11\", \"Topic11\", \"Topic11\", \"Topic11\", \"Topic11\", \"Topic11\", \"Topic11\", \"Topic11\", \"Topic11\", \"Topic11\", \"Topic11\", \"Topic11\", \"Topic11\", \"Topic11\", \"Topic11\", \"Topic11\", \"Topic11\", \"Topic11\", \"Topic11\", \"Topic11\", \"Topic11\", \"Topic11\", \"Topic11\", \"Topic11\", \"Topic11\", \"Topic11\", \"Topic11\", \"Topic11\", \"Topic11\", \"Topic11\", \"Topic11\", \"Topic11\", \"Topic11\", \"Topic11\", \"Topic11\", \"Topic11\", \"Topic11\", \"Topic11\", \"Topic11\", \"Topic11\", \"Topic11\", \"Topic11\", \"Topic11\", \"Topic11\", \"Topic11\", \"Topic11\", \"Topic11\", \"Topic11\", \"Topic11\", \"Topic11\", \"Topic11\", \"Topic11\", \"Topic11\", \"Topic11\", \"Topic11\", \"Topic12\", \"Topic12\", \"Topic12\", \"Topic12\", \"Topic12\", \"Topic12\", \"Topic12\", \"Topic12\", \"Topic12\", \"Topic12\", \"Topic12\", \"Topic12\", \"Topic12\", \"Topic12\", \"Topic12\", \"Topic12\", \"Topic12\", \"Topic12\", \"Topic12\", \"Topic12\", \"Topic12\", \"Topic12\", \"Topic12\", \"Topic12\", \"Topic12\", \"Topic12\", \"Topic12\", \"Topic12\", \"Topic12\", \"Topic12\", \"Topic12\", \"Topic12\", \"Topic12\", \"Topic12\", \"Topic12\", \"Topic12\", \"Topic12\", \"Topic12\", \"Topic12\", \"Topic12\", \"Topic12\", \"Topic12\", \"Topic12\", \"Topic12\", \"Topic12\", \"Topic12\", \"Topic12\", \"Topic12\", \"Topic12\", \"Topic12\", \"Topic12\", \"Topic12\", \"Topic12\", \"Topic12\", \"Topic12\", \"Topic12\", \"Topic12\", \"Topic12\", \"Topic12\", \"Topic12\", \"Topic12\", \"Topic12\", \"Topic12\", \"Topic12\", \"Topic12\", \"Topic12\", \"Topic12\", \"Topic12\", \"Topic12\", \"Topic12\", \"Topic12\", \"Topic12\", \"Topic12\", \"Topic12\", \"Topic12\", \"Topic12\", \"Topic12\", \"Topic13\", \"Topic13\", \"Topic13\", \"Topic13\", \"Topic13\", \"Topic13\", \"Topic13\", \"Topic13\", \"Topic13\", \"Topic13\", \"Topic13\", \"Topic13\", \"Topic13\", \"Topic13\", \"Topic13\", \"Topic13\", \"Topic13\", \"Topic13\", \"Topic13\", \"Topic13\", \"Topic13\", \"Topic13\", \"Topic13\", \"Topic13\", \"Topic13\", \"Topic13\", \"Topic13\", \"Topic13\", \"Topic13\", \"Topic13\", \"Topic13\", \"Topic13\", \"Topic13\", \"Topic13\", \"Topic13\", \"Topic13\", \"Topic13\", \"Topic13\", \"Topic13\", \"Topic13\", \"Topic13\", \"Topic13\", \"Topic13\", \"Topic13\", \"Topic13\", \"Topic13\", \"Topic13\", \"Topic13\", \"Topic13\", \"Topic13\", \"Topic13\", \"Topic13\", \"Topic13\", \"Topic13\", \"Topic13\", \"Topic13\", \"Topic13\", \"Topic13\", \"Topic13\", \"Topic13\", \"Topic13\", \"Topic13\", \"Topic13\", \"Topic13\", \"Topic13\", \"Topic13\", \"Topic13\", \"Topic13\", \"Topic14\", \"Topic14\", \"Topic14\", \"Topic14\", \"Topic14\", \"Topic14\", \"Topic14\", \"Topic14\", \"Topic14\", \"Topic14\", \"Topic14\", \"Topic14\", \"Topic14\", \"Topic14\", \"Topic14\", \"Topic14\", \"Topic14\", \"Topic14\", \"Topic14\", \"Topic14\", \"Topic14\", \"Topic14\", \"Topic14\", \"Topic14\", \"Topic14\", \"Topic14\", \"Topic14\", \"Topic14\", \"Topic14\", \"Topic14\", \"Topic14\", \"Topic14\", \"Topic14\", \"Topic14\", \"Topic14\", \"Topic14\", \"Topic14\", \"Topic14\", \"Topic14\", \"Topic14\", \"Topic14\", \"Topic14\", \"Topic14\", \"Topic14\", \"Topic14\", \"Topic14\", \"Topic14\", \"Topic14\", \"Topic14\", \"Topic14\", \"Topic14\", \"Topic14\", \"Topic14\", \"Topic14\", \"Topic14\", \"Topic14\", \"Topic14\", \"Topic14\", \"Topic14\", \"Topic14\", \"Topic14\", \"Topic14\", \"Topic14\", \"Topic14\", \"Topic14\", \"Topic14\", \"Topic14\", \"Topic14\", \"Topic15\", \"Topic15\", \"Topic15\", \"Topic15\", \"Topic15\", \"Topic15\", \"Topic15\", \"Topic15\", \"Topic15\", \"Topic15\", \"Topic15\", \"Topic15\", \"Topic15\", \"Topic15\", \"Topic15\", \"Topic15\", \"Topic15\", \"Topic15\", \"Topic15\", \"Topic15\", \"Topic15\", \"Topic15\", \"Topic15\", \"Topic15\", \"Topic15\", \"Topic15\", \"Topic15\", \"Topic15\", \"Topic15\", \"Topic15\", \"Topic15\", \"Topic15\", \"Topic15\", \"Topic15\", \"Topic15\", \"Topic15\", \"Topic15\", \"Topic15\", \"Topic15\", \"Topic15\", \"Topic15\", \"Topic15\", \"Topic15\", \"Topic15\", \"Topic15\", \"Topic15\", \"Topic15\", \"Topic15\", \"Topic15\", \"Topic15\", \"Topic15\", \"Topic15\", \"Topic15\", \"Topic15\", \"Topic15\", \"Topic15\", \"Topic15\", \"Topic15\", \"Topic15\", \"Topic15\", \"Topic15\", \"Topic15\", \"Topic15\", \"Topic15\", \"Topic15\", \"Topic15\", \"Topic15\", \"Topic15\", \"Topic15\", \"Topic15\", \"Topic15\", \"Topic15\", \"Topic15\"], \"logprob\": [30.0, 29.0, 28.0, 27.0, 26.0, 25.0, 24.0, 23.0, 22.0, 21.0, 20.0, 19.0, 18.0, 17.0, 16.0, 15.0, 14.0, 13.0, 12.0, 11.0, 10.0, 9.0, 8.0, 7.0, 6.0, 5.0, 4.0, 3.0, 2.0, 1.0, -7.751200199127197, -7.751500129699707, -7.660399913787842, -8.122300148010254, -6.661099910736084, -7.989299774169922, -8.131099700927734, -7.1392998695373535, -8.295000076293945, -8.4798002243042, -8.48330020904541, -8.63640022277832, -7.978400230407715, -6.314799785614014, -8.723999977111816, -8.812000274658203, -6.332399845123291, -6.578100204467773, -8.827300071716309, -7.201399803161621, -8.666999816894531, -6.888899803161621, -7.730100154876709, -7.444300174713135, -8.751999855041504, -8.531700134277344, -8.842900276184082, -9.046500205993652, -9.169099807739258, -9.17039966583252, -5.363399982452393, -8.348199844360352, -8.68120002746582, -6.708099842071533, -7.538599967956543, -6.407400131225586, -8.06309986114502, -6.258299827575684, -7.222599983215332, -7.43310022354126, -7.18779993057251, -7.987800121307373, -6.509200096130371, -7.168300151824951, -8.000399589538574, -6.431600093841553, -7.325200080871582, -4.971499919891357, -5.733099937438965, -6.504300117492676, -5.6757001876831055, -6.379499912261963, -5.4145002365112305, -5.781700134277344, -5.998300075531006, -6.513299942016602, -6.166200160980225, -6.49370002746582, -5.714700222015381, -6.7067999839782715, -5.784800052642822, -6.164100170135498, -5.231500148773193, -5.841899871826172, -5.849599838256836, -5.694699764251709, -5.363500118255615, -5.769899845123291, -5.913700103759766, -5.6082000732421875, -5.691299915313721, -5.7555999755859375, -5.604700088500977, -5.785699844360352, -5.96150016784668, -5.880300045013428, -5.703999996185303, -5.946800231933594, -5.77869987487793, -5.906000137329102, -5.877299785614014, -6.130300045013428, -6.103400230407715, -6.130199909210205, -7.3109002113342285, -8.620699882507324, -8.721500396728516, -8.722900390625, -8.326899528503418, -8.84749984741211, -8.646599769592285, -8.566499710083008, -8.974599838256836, -8.860699653625488, -8.981100082397461, -8.860199928283691, -8.982500076293945, -8.287099838256836, -9.123200416564941, -8.503899574279785, -9.125200271606445, -9.125200271606445, -8.99530029296875, -9.128899574279785, -8.585000038146973, -9.14229965209961, -9.142399787902832, -8.779199600219727, -8.685799598693848, -9.30459976196289, -9.15410041809082, -9.311800003051758, -9.311699867248535, -9.155400276184082, -6.939000129699707, -7.5117998123168945, -7.2042999267578125, -5.714600086212158, -8.050200462341309, -5.28439998626709, -6.038099765777588, -6.162300109863281, -6.5640997886657715, -6.936800003051758, -6.822000026702881, -7.619100093841553, -5.807600021362305, -6.361800193786621, -8.263799667358398, -6.714700222015381, -6.879899978637695, -7.469699859619141, -6.051499843597412, -7.365699768066406, -7.298999786376953, -7.018199920654297, -7.695899963378906, -7.047299861907959, -7.113100051879883, -6.100399971008301, -6.782400131225586, -6.202700138092041, -6.779200077056885, -7.122900009155273, -6.785900115966797, -5.86929988861084, -5.5782999992370605, -5.610799789428711, -4.905700206756592, -5.98769998550415, -6.520699977874756, -5.747200012207031, -6.356599807739258, -5.443999767303467, -5.8769001960754395, -5.3815999031066895, -5.905799865722656, -6.250899791717529, -5.5229997634887695, -5.673500061035156, -6.042699813842773, -5.585000038146973, -6.045499801635742, -5.863699913024902, -5.796999931335449, -5.925899982452393, -6.033400058746338, -5.779399871826172, -6.010000228881836, -5.819399833679199, -6.0472002029418945, -6.02370023727417, -6.062900066375732, -7.447299957275391, -5.504000186920166, -4.954899787902832, -7.923099994659424, -6.42110013961792, -7.434500217437744, -4.8471999168396, -7.296500205993652, -8.30090045928955, -7.018400192260742, -8.116600036621094, -8.313599586486816, -8.559800148010254, -4.197400093078613, -7.355299949645996, -6.717800140380859, -6.826700210571289, -8.405500411987305, -8.780200004577637, -7.070300102233887, -4.71589994430542, -6.521500110626221, -5.913700103759766, -8.794699668884277, -6.909299850463867, -5.0528998374938965, -9.06350040435791, -5.269000053405762, -9.087800025939941, -8.387900352478027, -6.003399848937988, -5.54580020904541, -6.665599822998047, -6.250199794769287, -7.129300117492676, -6.733699798583984, -5.634500026702881, -6.439700126647949, -4.834199905395508, -5.553299903869629, -6.403900146484375, -4.449100017547607, -4.855800151824951, -5.38640022277832, -5.443900108337402, -5.272299766540527, -4.947299957275391, -5.061699867248535, -5.583399772644043, -5.18720006942749, -5.792900085449219, -5.113500118255615, -5.727399826049805, -5.458799839019775, -5.478499889373779, -5.4781999588012695, -5.45389986038208, -5.548399925231934, -5.694300174713135, -5.693900108337402, -5.658999919891357, -5.630899906158447, -5.454500198364258, -7.535999774932861, -7.930799961090088, -8.046099662780762, -8.324700355529785, -6.388199806213379, -8.502799987792969, -5.448400020599365, -4.557400226593018, -8.426899909973145, -8.428600311279297, -5.93720006942749, -8.630499839782715, -8.737500190734863, -8.859600067138672, -6.565400123596191, -9.007599830627441, -8.246100425720215, -9.021400451660156, -9.023599624633789, -9.024100303649902, -7.658100128173828, -6.31689977645874, -7.531400203704834, -7.972700119018555, -9.194000244140625, -7.355500221252441, -9.212400436401367, -8.420299530029297, -9.232600212097168, -4.480100154876709, -5.515399932861328, -7.0543999671936035, -7.466400146484375, -6.734300136566162, -5.558599948883057, -4.970799922943115, -6.411200046539307, -5.176599979400635, -6.62060022354126, -5.889900207519531, -6.091400146484375, -6.660399913787842, -7.170599937438965, -6.761000156402588, -7.033699989318848, -6.259399890899658, -5.61329984664917, -5.973899841308594, -5.4045000076293945, -5.2108001708984375, -5.9303998947143555, -5.605800151824951, -5.712699890136719, -6.35699987411499, -6.491300106048584, -5.91510009765625, -5.580399990081787, -6.114099979400635, -5.481200218200684, -5.9182000160217285, -5.92140007019043, -5.533299922943115, -5.883699893951416, -5.571599960327148, -5.901899814605713, -5.931300163269043, -5.7291998863220215, -5.855899810791016, -5.867000102996826, -5.877099990844727, -5.898600101470947, -5.91949987411499, -4.646699905395508, -6.080999851226807, -6.795499801635742, -6.149499893188477, -7.713200092315674, -4.380099773406982, -4.649700164794922, -6.828800201416016, -6.383299827575684, -7.753600120544434, -5.197199821472168, -7.02269983291626, -8.741100311279297, -6.783899784088135, -7.026299953460693, -8.135000228881836, -8.056500434875488, -7.740900039672852, -8.270400047302246, -6.0721001625061035, -4.094099998474121, -5.996099948883057, -8.305000305175781, -8.32699966430664, -5.405399799346924, -6.927000045776367, -7.953400135040283, -8.754899978637695, -8.563199996948242, -8.51360034942627, -6.713200092315674, -5.589799880981445, -5.89900016784668, -6.271100044250488, -7.468699932098389, -7.4415998458862305, -7.109499931335449, -7.468900203704834, -6.735199928283691, -4.668900012969971, -6.3491997718811035, -6.182000160217285, -6.053999900817871, -4.588099956512451, -5.571800231933594, -5.290299892425537, -6.105299949645996, -5.336999893188477, -4.976600170135498, -4.931000232696533, -5.2906999588012695, -5.524099826812744, -5.603000164031982, -5.693900108337402, -5.401400089263916, -5.543700218200684, -5.823500156402588, -5.327499866485596, -5.540200233459473, -5.536600112915039, -5.671199798583984, -5.446899890899658, -5.463500022888184, -5.617000102996826, -5.761199951171875, -5.821100234985352, -8.39330005645752, -8.421299934387207, -8.429100036621094, -7.11359977722168, -7.5218000411987305, -8.18850040435791, -8.312399864196777, -8.072199821472168, -8.506699562072754, -7.823699951171875, -7.850299835205078, -8.029399871826172, -8.409500122070312, -7.26609992980957, -7.185500144958496, -8.41409969329834, -7.412300109863281, -7.748199939727783, -8.428799629211426, -8.592100143432617, -8.594900131225586, -8.469200134277344, -8.627099990844727, -8.618300437927246, -7.932499885559082, -8.711400032043457, -8.04170036315918, -7.598299980163574, -8.388999938964844, -7.989799976348877, -7.285900115966797, -7.690400123596191, -7.5432000160217285, -5.494999885559082, -8.195599555969238, -5.686500072479248, -6.978400230407715, -7.663599967956543, -5.74370002746582, -5.128499984741211, -5.275700092315674, -6.1219000816345215, -5.1143999099731445, -6.122099876403809, -5.397299766540527, -6.7530999183654785, -6.45550012588501, -5.24560022354126, -7.33519983291626, -5.061800003051758, -6.640200138092041, -5.398200035095215, -6.498499870300293, -5.212600231170654, -5.684599876403809, -5.350800037384033, -5.679200172424316, -5.401299953460693, -5.985000133514404, -5.440000057220459, -5.68779993057251, -5.67080020904541, -5.882199764251709, -5.416900157928467, -5.902599811553955, -6.276599884033203, -6.107800006866455, -5.971099853515625, -5.873600006103516, -6.211599826812744, -6.086400032043457, -5.8404998779296875, -6.0731000900268555, -6.008999824523926, -5.875, -5.952199935913086, -6.059899806976318, -6.432700157165527, -7.989799976348877, -6.5690999031066895, -6.668000221252441, -8.09000015258789, -6.901199817657471, -7.7220001220703125, -7.630000114440918, -6.271999835968018, -8.048199653625488, -7.781899929046631, -7.6774001121521, -7.6793999671936035, -7.697999954223633, -6.577499866485596, -7.98360013961792, -8.128999710083008, -7.877600193023682, -6.6057000160217285, -8.362099647521973, -6.632500171661377, -8.359999656677246, -7.3734002113342285, -8.085399627685547, -8.39799976348877, -8.354599952697754, -8.08650016784668, -8.077799797058105, -8.210399627685547, -8.372099876403809, -7.856299877166748, -6.644700050354004, -7.010499954223633, -6.069799900054932, -5.848499774932861, -5.582300186157227, -7.5467000007629395, -6.600299835205078, -6.617499828338623, -6.684500217437744, -4.792799949645996, -6.619900226593018, -6.3694000244140625, -6.277299880981445, -5.6656999588012695, -5.9756999015808105, -6.026500225067139, -6.075200080871582, -5.765100002288818, -7.084000110626221, -6.230000019073486, -6.980800151824951, -7.1072998046875, -5.094600200653076, -6.474400043487549, -5.048500061035156, -6.804200172424316, -5.771100044250488, -5.553800106048584, -5.997900009155273, -5.602499961853027, -5.894499778747559, -5.659900188446045, -5.759399890899658, -6.109300136566162, -6.103499889373779, -5.9019999504089355, -5.982699871063232, -5.986100196838379, -5.945000171661377, -5.878799915313721, -5.956900119781494, -6.0482001304626465, -6.088799953460693, -6.139100074768066, -6.14139986038208, -6.4145002365112305, -7.461699962615967, -7.3856000900268555, -7.665299892425537, -7.656899929046631, -7.737400054931641, -4.854700088500977, -7.739999771118164, -7.927700042724609, -7.7281999588012695, -7.755499839782715, -7.436699867248535, -7.998899936676025, -7.309599876403809, -7.946800231933594, -7.746099948883057, -7.13539981842041, -7.086900234222412, -7.938499927520752, -7.690299987792969, -7.9207000732421875, -7.92609977722168, -7.940000057220459, -7.937699794769287, -7.950200080871582, -8.154399871826172, -7.554699897766113, -7.377600193023682, -7.657100200653076, -8.02239990234375, -6.745699882507324, -6.751999855041504, -5.546999931335449, -5.841899871826172, -7.279200077056885, -5.933199882507324, -6.55810022354126, -7.197999954223633, -6.630499839782715, -6.282400131225586, -5.777500152587891, -6.845200061798096, -6.192599773406982, -7.149499893188477, -6.458799839019775, -6.334000110626221, -6.189199924468994, -5.930500030517578, -5.854400157928467, -5.324399948120117, -5.701900005340576, -5.333099842071533, -6.833399772644043, -5.512499809265137, -6.377699851989746, -5.435299873352051, -6.008200168609619, -5.969799995422363, -5.853300094604492, -5.630300045013428, -5.902100086212158, -5.954500198364258, -5.902699947357178, -5.84499979019165, -5.8907999992370605, -6.117300033569336, -6.01639986038208, -6.072400093078613, -6.125100135803223, -6.191199779510498, -6.194200038909912, -6.2027997970581055, -6.524799823760986, -6.683000087738037, -7.522299766540527, -7.517399787902832, -4.503600120544434, -7.519100189208984, -7.234000205993652, -6.678400039672852, -7.240200042724609, -7.520899772644043, -7.245800018310547, -7.544000148773193, -7.780200004577637, -7.539400100708008, -7.634200096130371, -7.5040998458862305, -7.717400074005127, -5.616399765014648, -7.89769983291626, -7.901400089263916, -7.941299915313721, -7.900899887084961, -7.929699897766113, -7.897500038146973, -7.928999900817871, -7.904399871826172, -7.546800136566162, -7.541500091552734, -6.960000038146973, -7.985000133514404, -7.943900108337402, -4.9394001960754395, -5.2245001792907715, -7.101799964904785, -4.751200199127197, -6.05019998550415, -7.015100002288818, -6.097400188446045, -5.570700168609619, -5.096499919891357, -6.882500171661377, -6.166299819946289, -5.8744001388549805, -6.196400165557861, -6.675300121307373, -6.420100212097168, -7.107699871063232, -6.082300186157227, -5.015900135040283, -5.676300048828125, -5.477399826049805, -5.654900074005127, -5.605100154876709, -6.276299953460693, -5.567999839782715, -5.976399898529053, -5.92710018157959, -5.80649995803833, -6.203999996185303, -5.666399955749512, -5.674499988555908, -5.979700088500977, -5.943699836730957, -5.781199932098389, -5.824900150299072, -5.7484002113342285, -5.952300071716309, -5.959099769592285, -6.009699821472168, -6.046899795532227, -6.047100067138672, -5.628699779510498, -6.385300159454346, -6.920599937438965, -7.137899875640869, -7.201300144195557, -7.486400127410889, -7.525899887084961, -7.165299892425537, -7.434500217437744, -7.815299987792969, -7.073599815368652, -7.334799766540527, -7.8144001960754395, -7.8403000831604, -7.817999839782715, -7.154799938201904, -7.820899963378906, -7.048799991607666, -6.985000133514404, -6.805099964141846, -7.589700222015381, -7.716100215911865, -7.936999797821045, -7.487299919128418, -7.507400035858154, -7.976399898529053, -7.8125, -7.8140997886657715, -7.798900127410889, -6.8907999992370605, -7.200200080871582, -7.3470001220703125, -6.322199821472168, -6.80649995803833, -6.609300136566162, -6.073200225830078, -4.9278998374938965, -6.191999912261963, -6.103899955749512, -6.245800018310547, -4.840400218963623, -4.599400043487549, -4.709400177001953, -5.3292999267578125, -4.7677998542785645, -5.233399868011475, -5.8755998611450195, -4.717800140380859, -5.0578999519348145, -5.780099868774414, -4.835000038146973, -6.0254998207092285, -5.775899887084961, -5.1656999588012695, -5.14870023727417, -6.392000198364258, -5.532100200653076, -5.570000171661377, -5.6545000076293945, -5.878799915313721, -5.668700218200684, -5.357999801635742, -5.952499866485596, -5.7565999031066895, -5.63539981842041, -5.628799915313721, -5.7052001953125, -5.816699981689453, -5.781799793243408, -5.895999908447266, -5.894700050354004, -6.670100212097168, -7.388400077819824, -7.3856000900268555, -6.878699779510498, -6.876999855041504, -6.627699851989746, -7.104000091552734, -7.381199836730957, -5.856800079345703, -7.383399963378906, -7.393700122833252, -7.401800155639648, -7.435999870300293, -7.350599765777588, -6.2104997634887695, -7.55709981918335, -7.798500061035156, -7.455100059509277, -6.9028000831604, -5.855100154876709, -7.3831000328063965, -7.785099983215332, -7.802000045776367, -7.5121002197265625, -6.943999767303467, -6.819399833679199, -7.606299877166748, -7.770500183105469, -7.775400161743164, -7.798999786376953, -6.7789998054504395, -6.7204999923706055, -7.156799793243408, -6.586699962615967, -7.168900012969971, -7.132400035858154, -5.828800201416016, -5.335999965667725, -5.850100040435791, -5.841000080108643, -4.843599796295166, -5.890999794006348, -5.644999980926514, -5.1869001388549805, -5.653500080108643, -5.14870023727417, -5.596499919891357, -5.8429999351501465, -6.201900005340576, -5.144800186157227, -5.697299957275391, -5.791500091552734, -5.357699871063232, -5.709700107574463, -5.560800075531006, -5.373600006103516, -5.745299816131592, -5.475800037384033, -5.649600028991699, -5.748000144958496, -5.672500133514404, -5.651299953460693, -5.70419979095459, -5.963799953460693, -5.935400009155273, -5.814300060272217, -5.89900016784668, -5.852099895477295, -6.174699783325195, -7.069699764251709, -7.4670000076293945, -6.990900039672852, -7.454699993133545, -7.475900173187256, -7.516600131988525, -7.4558000564575195, -7.456600189208984, -7.460299968719482, -7.455599784851074, -7.078499794006348, -7.503799915313721, -7.061600208282471, -7.455100059509277, -5.686800003051758, -7.486000061035156, -8.116100311279297, -8.117400169372559, -8.10669994354248, -7.4369001388549805, -8.117500305175781, -7.453700065612793, -8.11769962310791, -8.111599922180176, -8.128899574279785, -8.11400032043457, -8.117600440979004, -8.116399765014648, -8.124300003051758, -6.831099987030029, -6.597599983215332, -6.774499893188477, -7.136000156402588, -5.542600154876709, -7.255799770355225, -5.3225998878479, -6.556099891662598, -7.489799976348877, -7.52810001373291, -6.712399959564209, -6.629799842834473, -4.434700012207031, -6.402299880981445, -5.698299884796143, -5.6031999588012695, -5.172900199890137, -6.5980000495910645, -5.686699867248535, -6.568900108337402, -5.617599964141846, -5.302999973297119, -5.091700077056885, -5.161799907684326, -5.645299911499023, -5.56820011138916, -5.542500019073486, -5.421899795532227, -6.139900207519531, -5.671800136566162, -5.625999927520752, -5.294899940490723, -5.746500015258789, -5.642300128936768, -5.855000019073486, -6.202099800109863, -6.105599880218506, -5.543300151824951, -5.7769999504089355, -5.672599792480469, -5.619999885559082, -5.790800094604492, -5.858399868011475, -5.700200080871582, -5.763299942016602, -5.762400150299072, -5.851500034332275, -6.933499813079834, -6.244500160217285, -6.958399772644043, -6.0690999031066895, -6.245200157165527, -6.92579984664917, -6.921899795532227, -6.933000087738037, -6.934000015258789, -6.92519998550415, -6.9268999099731445, -6.9253997802734375, -6.53980016708374, -6.922399997711182, -6.93149995803833, -6.968699932098389, -6.921500205993652, -6.158699989318848, -6.924200057983398, -6.9791998863220215, -7.021200180053711, -6.922100067138672, -6.996099948883057, -6.455599784851074, -6.945899963378906, -6.9243998527526855, -7.5868000984191895, -7.580599784851074, -7.601799964904785, -7.583600044250488, -7.017499923706055, -6.920000076293945, -5.9471001625061035, -6.481900215148926, -5.559899806976318, -6.554699897766113, -6.241799831390381, -5.839799880981445, -5.838699817657471, -5.260499954223633, -5.3480000495910645, -5.49970006942749, -5.984600067138672, -6.127900123596191, -6.241600036621094, -5.361999988555908, -6.287199974060059, -5.646100044250488, -5.710700035095215, -6.531700134277344, -5.883999824523926, -5.985499858856201, -6.0543999671936035, -6.429299831390381, -5.831900119781494, -5.757999897003174, -5.959799766540527, -6.107500076293945, -6.221499919891357, -5.986800193786621, -6.0254998207092285, -6.095300197601318, -6.098100185394287, -6.169099807739258, -6.140200138092041, -6.1753997802734375, -6.208399772644043, -6.205399990081787, -6.166399955749512, -6.5177001953125, -6.7403998374938965, -6.582200050354004, -7.178999900817871, -7.182799816131592, -7.180799961090088, -7.2129998207092285, -7.3059000968933105, -7.180200099945068, -7.1774001121521, -7.178500175476074, -7.177599906921387, -6.55079984664917, -7.177700042724609, -7.183000087738037, -7.1793999671936035, -7.184299945831299, -7.184899806976318, -6.515900135040283, -7.437699794769287, -7.180699825286865, -7.179699897766113, -7.177999973297119, -7.183800220489502, -7.178100109100342, -7.178999900817871, -7.177999973297119, -7.183199882507324, -6.627900123596191, -4.731800079345703, -6.263599872589111, -6.0055999755859375, -6.207099914550781, -5.792799949645996, -5.446700096130371, -5.151400089263916, -5.6184000968933105, -6.513000011444092, -6.118899822235107, -5.593500137329102, -6.1209001541137695, -5.991199970245361, -5.887599945068359, -6.515699863433838, -5.055500030517578, -5.0142998695373535, -5.835400104522705, -5.582799911499023, -5.420400142669678, -5.418700218200684, -5.453000068664551, -6.608099937438965, -5.097400188446045, -5.80810022354126, -5.597599983215332, -5.807300090789795, -5.665800094604492, -5.673099994659424, -5.8267998695373535, -5.86870002746582, -5.8180999755859375, -5.693600177764893, -5.769999980926514, -5.805099964141846, -5.956200122833252, -5.929699897766113, -6.005499839782715, -6.557000160217285, -6.7027997970581055, -6.5416998863220215, -6.534200191497803, -6.799900054931641, -7.200699806213379, -6.15369987487793, -7.198200225830078, -7.219299793243408, -7.198599815368652, -7.200200080871582, -6.792200088500977, -7.1992998123168945, -7.207699775695801, -7.213699817657471, -7.2017998695373535, -7.200099945068359, -7.202700138092041, -7.200399875640869, -7.21150016784668, -7.216100215911865, -7.240900039672852, -6.623300075531006, -7.253799915313721, -7.273499965667725, -7.307000160217285, -7.198299884796143, -7.197999954223633, -7.201499938964844, -7.310500144958496, -6.171299934387207, -6.858699798583984, -6.066199779510498, -5.493199825286865, -5.52239990234375, -6.559000015258789, -6.176700115203857, -6.903800010681152, -5.562699794769287, -5.050099849700928, -6.615799903869629, -6.07289981842041, -6.2322001457214355, -6.537799835205078, -5.744200229644775, -6.535200119018555, -6.138500213623047, -6.561999797821045, -6.275700092315674, -5.818900108337402, -6.229700088500977, -6.594099998474121, -5.85290002822876, -5.679999828338623, -5.73360013961792, -5.8709001541137695, -5.99429988861084, -5.866600036621094, -6.046999931335449, -5.674099922180176, -5.627900123596191, -5.670199871063232, -5.688000202178955, -5.810200214385986, -5.855800151824951, -6.065199851989746, -6.117400169372559, -6.095399856567383, -6.0447001457214355, -6.0802001953125, -6.0995001792907715, -6.105899810791016, -6.117599964141846], \"loglift\": [30.0, 29.0, 28.0, 27.0, 26.0, 25.0, 24.0, 23.0, 22.0, 21.0, 20.0, 19.0, 18.0, 17.0, 16.0, 15.0, 14.0, 13.0, 12.0, 11.0, 10.0, 9.0, 8.0, 7.0, 6.0, 5.0, 4.0, 3.0, 2.0, 1.0, 1.510699987411499, 1.5104000568389893, 1.5061999559402466, 1.4983999729156494, 1.4982000589370728, 1.4977999925613403, 1.489799976348877, 1.4846999645233154, 1.4831000566482544, 1.4807000160217285, 1.4774999618530273, 1.469099998474121, 1.466599941253662, 1.4635000228881836, 1.4631999731063843, 1.4620000123977661, 1.4572999477386475, 1.4571000337600708, 1.4479999542236328, 1.4452999830245972, 1.4448000192642212, 1.4420000314712524, 1.4412000179290771, 1.4385000467300415, 1.4354000091552734, 1.4347000122070312, 1.4337999820709229, 1.4319000244140625, 1.4290000200271606, 1.4284000396728516, 1.412500023841858, 1.427299976348877, 1.424399971961975, 1.3759000301361084, 1.3991999626159668, 1.3623000383377075, 1.4107999801635742, 1.2425999641418457, 1.3257999420166016, 1.343999981880188, 1.3179999589920044, 1.3792999982833862, 1.1557999849319458, 1.197100043296814, 1.3767000436782837, 1.0210000276565552, 1.198099970817566, 0.49970000982284546, 0.7080000042915344, 0.9107000231742859, 0.5879999995231628, 0.8409000039100647, 0.4456999897956848, 0.5874999761581421, 0.6733999848365784, 0.8823999762535095, 0.708299994468689, 0.8467000126838684, 0.3944999873638153, 0.9401999711990356, 0.4106000065803528, 0.5968000292778015, -0.021199999377131462, 0.3750999867916107, 0.3725999891757965, 0.23970000445842743, -0.044599998742341995, 0.2612999975681305, 0.3490000069141388, 0.011300000362098217, -0.0003000000142492354, 0.07450000196695328, -0.13109999895095825, 0.02930000051856041, 0.26750001311302185, 0.11789999902248383, -0.2563999891281128, 0.16940000653266907, -0.30329999327659607, -0.08760000020265579, -0.492900013923645, 0.513700008392334, 0.11129999905824661, 0.320499986410141, 1.6863000392913818, 1.6507999897003174, 1.6460000276565552, 1.6449999809265137, 1.6306999921798706, 1.6283999681472778, 1.6269999742507935, 1.6202000379562378, 1.6201000213623047, 1.6155999898910522, 1.6153000593185425, 1.6150000095367432, 1.61489999294281, 1.6128000020980835, 1.6075999736785889, 1.6065000295639038, 1.6059000492095947, 1.6057000160217285, 1.605299949645996, 1.6050000190734863, 1.6002999544143677, 1.5924999713897705, 1.5915000438690186, 1.5902999639511108, 1.5865999460220337, 1.5849000215530396, 1.5812000036239624, 1.5805000066757202, 1.5771000385284424, 1.5758999586105347, 1.55840003490448, 1.5549999475479126, 1.5396000146865845, 1.482100009918213, 1.533400058746338, 1.3779000043869019, 1.4194999933242798, 1.4050999879837036, 1.424299955368042, 1.4326000213623047, 1.406999945640564, 1.4634000062942505, 1.2404999732971191, 1.2656999826431274, 1.5240999460220337, 1.3075000047683716, 1.330299973487854, 1.4105000495910645, 1.1893999576568604, 1.3884999752044678, 1.3773000240325928, 1.315000057220459, 1.4352999925613403, 1.301900029182434, 1.3083000183105469, 1.0678999423980713, 1.219599962234497, 1.0436999797821045, 1.1895999908447266, 1.25600004196167, 1.1440999507904053, 0.7961999773979187, 0.650600016117096, 0.6114000082015991, 0.3046000003814697, 0.7300999760627747, 0.9710999727249146, 0.448199987411499, 0.8324999809265137, 0.17550000548362732, 0.4731999933719635, 0.08959999680519104, 0.4632999897003174, 0.6690000295639038, -0.13860000669956207, 0.017400000244379044, 0.398499995470047, -0.13740000128746033, 0.4002000093460083, 0.13449999690055847, 0.01810000091791153, 0.18320000171661377, 0.24220000207424164, -0.30399999022483826, 0.16060000658035278, -0.3456999957561493, 0.24079999327659607, 0.09260000288486481, 0.1517000049352646, 1.7644000053405762, 1.7624000310897827, 1.7610000371932983, 1.7608000040054321, 1.753600001335144, 1.7510000467300415, 1.75, 1.7476999759674072, 1.742900013923645, 1.7359000444412231, 1.7311999797821045, 1.7299000024795532, 1.728700041770935, 1.7283999919891357, 1.7253999710083008, 1.7253999710083008, 1.7223999500274658, 1.7130999565124512, 1.7122000455856323, 1.7103999853134155, 1.7049000263214111, 1.7028000354766846, 1.7007999420166016, 1.6962000131607056, 1.691100001335144, 1.6878999471664429, 1.6833000183105469, 1.6819000244140625, 1.6770999431610107, 1.6714999675750732, 1.6692999601364136, 1.6538000106811523, 1.6476000547409058, 1.6210999488830566, 1.6013000011444092, 1.5556999444961548, 1.4154000282287598, 1.4895000457763672, 1.1658999919891357, 1.211400032043457, 1.3831000328063965, 0.8697999715805054, 0.6195999979972839, 0.8485000133514404, 0.8353999853134155, 0.66839998960495, 0.43709999322891235, 0.38580000400543213, 0.7422000169754028, 0.2865000069141388, 0.7763000130653381, 0.09679999947547913, 0.7001000046730042, 0.3596000075340271, 0.36730000376701355, 0.34389999508857727, 0.1657000035047531, 0.2816999852657318, 0.5372999906539917, 0.46219998598098755, 0.2754000127315521, 0.05999999865889549, 1.802299976348877, 1.7745000123977661, 1.7694000005722046, 1.7666000127792358, 1.7595000267028809, 1.7522000074386597, 1.7503999471664429, 1.7477999925613403, 1.7409000396728516, 1.739300012588501, 1.736899971961975, 1.7264000177383423, 1.7240999937057495, 1.7207000255584717, 1.718999981880188, 1.7188999652862549, 1.7065000534057617, 1.6957000494003296, 1.6928999423980713, 1.6912000179290771, 1.6907000541687012, 1.6897000074386597, 1.6892000436782837, 1.680299997329712, 1.6789000034332275, 1.6785000562667847, 1.6782000064849854, 1.676300048828125, 1.6684999465942383, 1.6639000177383423, 1.6309000253677368, 1.611299991607666, 1.6193000078201294, 1.5707999467849731, 1.4681999683380127, 1.351099967956543, 1.287600040435791, 1.2460999488830566, 0.9674999713897705, 1.2103999853134155, 1.0027999877929688, 0.9815000295639038, 1.1145999431610107, 1.2934999465942383, 1.1353000402450562, 1.2333999872207642, 0.9107000231742859, 0.5975000262260437, 0.7286999821662903, 0.41749998927116394, 0.262800008058548, 0.6585999727249146, 0.4255000054836273, 0.43540000915527344, 0.8629000186920166, 0.9351999759674072, 0.4496000111103058, 0.11060000211000443, 0.5910999774932861, -0.03370000049471855, 0.38769999146461487, 0.36660000681877136, -0.14890000224113464, 0.28690001368522644, -0.3612000048160553, 0.23319999873638153, 0.2833999991416931, -0.25380000472068787, -0.040800001472234726, -0.006800000090152025, -0.04699999839067459, -0.05270000174641609, 0.021199999377131462, 2.2657999992370605, 2.2558000087738037, 2.2367000579833984, 2.2293999195098877, 2.2279000282287598, 2.2249999046325684, 2.2105000019073486, 2.2028000354766846, 2.1995999813079834, 2.1875, 2.1684000492095947, 2.1547000408172607, 2.1384999752044678, 2.121999979019165, 2.1208999156951904, 2.119999885559082, 2.110300064086914, 2.106800079345703, 2.0954999923706055, 2.084399938583374, 2.0724000930786133, 2.0615999698638916, 2.0590999126434326, 2.052999973297119, 2.0429000854492188, 2.025700092315674, 1.9967999458312988, 1.986299991607666, 1.9559999704360962, 1.9537999629974365, 1.9401999711990356, 1.9026999473571777, 1.8669999837875366, 1.80649995803833, 1.927299976348877, 1.9199999570846558, 1.8451000452041626, 1.9007999897003174, 1.7138999700546265, 1.1495000123977661, 1.554800033569336, 1.4321000576019287, 1.363700032234192, 0.7307999730110168, 1.1308000087738037, 0.9679999947547913, 1.3438999652862549, 0.8737999796867371, 0.49880000948905945, 0.45339998602867126, 0.5314000248908997, 0.7552000284194946, 0.824400007724762, 0.8752999901771545, 0.44440001249313354, 0.612500011920929, 0.9660999774932861, 0.11999999731779099, 0.40049999952316284, 0.29350000619888306, 0.5637000203132629, 0.026799999177455902, -0.2531999945640564, 0.24310000240802765, -0.07029999792575836, 0.3230000138282776, 2.5114998817443848, 2.4865000247955322, 2.4793999195098877, 2.4769999980926514, 2.4512999057769775, 2.4475998878479004, 2.446500062942505, 2.433300018310547, 2.3984999656677246, 2.3914999961853027, 2.3685998916625977, 2.3668999671936035, 2.3654000759124756, 2.352799892425537, 2.330199956893921, 2.329200029373169, 2.3264000415802, 2.3257999420166016, 2.315999984741211, 2.3099000453948975, 2.304500102996826, 2.302999973297119, 2.2983999252319336, 2.2832000255584717, 2.272900104522705, 2.2648000717163086, 2.2474000453948975, 2.2455999851226807, 2.219899892807007, 2.216599941253662, 2.166300058364868, 2.161600112915039, 2.1431000232696533, 1.7333999872207642, 2.2116000652313232, 1.5543999671936035, 1.8973000049591064, 2.06469988822937, 1.4246000051498413, 1.1627000570297241, 1.0353000164031982, 1.3895000219345093, 0.7039999961853027, 1.182800054550171, 0.7732999920845032, 1.5341999530792236, 1.3301000595092773, 0.5695000290870667, 1.8531999588012695, 0.32260000705718994, 1.3716000318527222, 0.4318999946117401, 1.2412999868392944, 0.25859999656677246, 0.5443999767303467, 0.2687000036239624, 0.5188000202178955, 0.04619999974966049, 0.6039999723434448, 0.03370000049471855, 0.24660000205039978, 0.17499999701976776, 0.4237000048160553, -0.20649999380111694, 0.319599986076355, 0.8460999727249146, 0.5533999800682068, 0.29260000586509705, 0.12449999898672104, 0.6832000017166138, 0.40959998965263367, -0.14949999749660492, 0.3781999945640564, 0.12620000541210175, -0.39959999918937683, -0.13009999692440033, 0.30480000376701355, 3.123699903488159, 3.002700090408325, 2.972899913787842, 2.9077000617980957, 2.8903000354766846, 2.868000030517578, 2.8559000492095947, 2.8225998878479004, 2.790800094604492, 2.7869999408721924, 2.776400089263916, 2.770400047302246, 2.7690000534057617, 2.7499001026153564, 2.732300043106079, 2.701200008392334, 2.6835999488830566, 2.675299882888794, 2.660799980163574, 2.6589999198913574, 2.646899938583374, 2.635699987411499, 2.628999948501587, 2.617300033569336, 2.6154000759124756, 2.611799955368042, 2.6054999828338623, 2.602099895477295, 2.5892999172210693, 2.589099884033203, 2.5813000202178955, 2.5380001068115234, 2.5487000942230225, 2.498800039291382, 2.408600091934204, 2.347599983215332, 2.546799898147583, 2.4374001026153564, 2.4375998973846436, 2.428100109100342, 1.8695000410079956, 2.3178000450134277, 2.2232000827789307, 2.1393001079559326, 1.9017000198364258, 1.9931000471115112, 1.9753999710083008, 1.950700044631958, 1.6924999952316284, 2.4035000801086426, 1.7583999633789062, 2.2627999782562256, 2.349100112915039, 0.3767000138759613, 1.73580002784729, 0.16189999878406525, 2.0473999977111816, 0.5789999961853027, 0.1370999962091446, 0.8345000147819519, 0.017100000753998756, 0.6014000177383423, -0.27549999952316284, -0.3118000030517578, 0.7652000188827515, 0.6865000128746033, -0.0869000032544136, 0.15240000188350677, 0.12300000339746475, -0.09920000284910202, -0.4050999879837036, -0.12680000066757202, 0.14970000088214874, 0.13339999318122864, 0.3783000111579895, 0.22769999504089355, 3.5388998985290527, 3.387500047683716, 3.3471999168395996, 3.345099925994873, 3.3287999629974365, 3.2421998977661133, 3.2007999420166016, 3.098299980163574, 3.0929999351501465, 3.076900005340576, 3.0471999645233154, 3.015000104904175, 2.9793999195098877, 2.964400053024292, 2.941499948501587, 2.928800106048584, 2.90910005569458, 2.9005000591278076, 2.8929998874664307, 2.891700029373169, 2.8879001140594482, 2.874000072479248, 2.873199939727783, 2.862299919128418, 2.8505001068115234, 2.8164000511169434, 2.8085999488830566, 2.8046000003814697, 2.7841999530792236, 2.772200107574463, 2.6280999183654785, 2.5662999153137207, 2.1789000034332275, 2.249799966812134, 2.634999990463257, 2.04830002784729, 2.3131000995635986, 2.567699909210205, 2.302500009536743, 2.12280011177063, 1.850000023841858, 2.3747000694274902, 1.794800043106079, 2.4591000080108643, 1.874400019645691, 1.7681000232696533, 1.6057000160217285, 1.3158999681472778, 0.9818000197410583, 0.295199990272522, 0.6647999882698059, 0.13809999823570251, 2.0897998809814453, 0.33329999446868896, 1.3242000341415405, -0.2249000072479248, 0.6830000281333923, 0.5794000029563904, 0.34220001101493835, -0.1565999984741211, 0.2540999948978424, 0.3513999879360199, 0.09539999812841415, -0.15410000085830688, -0.4433000087738037, 0.3239000141620636, -0.2012999951839447, 0.03669999912381172, -0.30300000309944153, -0.020600000396370888, -0.04610000178217888, -0.004900000058114529, 3.9465999603271484, 3.631700038909912, 3.5151000022888184, 3.4781999588012695, 3.477799892425537, 3.4444000720977783, 3.4403998851776123, 3.439500093460083, 3.341599941253662, 3.336899995803833, 3.285799980163574, 3.2451999187469482, 3.1635000705718994, 3.1514999866485596, 3.141400098800659, 3.139899969100952, 3.125200033187866, 3.1247000694274902, 3.1038999557495117, 3.0808000564575195, 3.061800003051758, 3.0601999759674072, 3.046999931335449, 3.039900064468384, 3.0278000831604004, 3.024399995803833, 2.9964001178741455, 2.9960999488830566, 2.9872000217437744, 2.9860999584198, 2.9855000972747803, 2.7864999771118164, 2.763000011444092, 2.919100046157837, 2.2969000339508057, 2.595900058746338, 2.8285000324249268, 2.5625, 2.346299886703491, 2.149899959564209, 2.6723999977111816, 2.166800022125244, 1.9606000185012817, 2.160099983215332, 2.4035000801086426, 2.161799907684326, 2.729599952697754, 1.5176000595092773, 0.19449999928474426, 0.8197000026702881, 0.3377000093460083, 0.6079000234603882, 0.2249000072479248, 1.3707000017166138, -0.09430000185966492, 0.6953999996185303, 0.5442000031471252, 0.2248000055551529, 1.1008000373840332, -0.19099999964237213, -0.20329999923706055, 0.5748000144958496, 0.41110000014305115, -0.09030000120401382, 0.03530000150203705, -0.30090001225471497, 0.3977999985218048, -0.1370999962091446, -0.07530000060796738, 0.1753000020980835, 0.06909999996423721, 4.060699939727783, 3.964600086212158, 3.568000078201294, 3.485599994659424, 3.3691999912261963, 3.3450000286102295, 3.3057000637054443, 3.2936999797821045, 3.253200054168701, 3.2188000679016113, 3.205199956893921, 3.2011001110076904, 3.174099922180176, 3.169300079345703, 3.154099941253662, 3.1484999656677246, 3.1459999084472656, 3.141700029373169, 3.1361000537872314, 3.1303999423980713, 3.099400043487549, 3.0943000316619873, 3.0759999752044678, 3.0562000274658203, 3.048099994659424, 3.0364999771118164, 3.015700101852417, 3.0058000087738037, 3.001800060272217, 3.001499891281128, 2.9711999893188477, 2.938999891281128, 2.718899965286255, 2.7906999588012695, 2.6451001167297363, 2.455699920654297, 1.8366999626159668, 2.3443000316619873, 2.2093000411987305, 2.2681000232696533, 1.4387999773025513, 1.218999981880188, 1.2164000272750854, 1.621500015258789, 1.232300043106079, 1.5073000192642212, 1.7971999645233154, 0.4925999939441681, 0.7721999883651733, 1.5303000211715698, 0.4839000105857849, 1.7365000247955322, 1.2740000486373901, 0.30550000071525574, 0.23569999635219574, 2.1333000659942627, 0.7027999758720398, 0.7555999755859375, 0.862500011920929, 1.2056000232696533, 0.7520999908447266, 0.08959999680519104, 1.253499984741211, 0.7146000266075134, 0.1867000013589859, -0.1551000028848648, -0.2298000007867813, 0.414900004863739, 0.15889999270439148, 0.23909999430179596, 0.03970000147819519, 3.7372000217437744, 3.63070011138916, 3.615499973297119, 3.611999988555908, 3.5371999740600586, 3.4900999069213867, 3.489799976348877, 3.476599931716919, 3.467600107192993, 3.4663000106811523, 3.440999984741211, 3.4300999641418457, 3.4102001190185547, 3.3410000801086426, 3.329699993133545, 3.2578001022338867, 3.233599901199341, 3.2219998836517334, 3.215399980545044, 3.19320011138916, 3.190500020980835, 3.1863999366760254, 3.1647000312805176, 3.1565001010894775, 3.1005001068115234, 3.089600086212158, 3.0764000415802, 3.031599998474121, 3.0211000442504883, 3.018699884414673, 2.973900079727173, 2.908900022506714, 2.9409000873565674, 2.81469988822937, 2.8724000453948975, 2.8403000831604004, 2.04259991645813, 1.4047000408172607, 1.798799991607666, 1.7735999822616577, 0.6039000153541565, 1.6301000118255615, 1.305899977684021, 0.7389000058174133, 1.121000051498413, 0.32260000705718994, 0.9079999923706055, 1.2069000005722046, 1.7093000411987305, 0.06560000032186508, 0.8999000191688538, 1.0397000312805176, 0.26179999113082886, 0.7178000211715698, 0.3799000084400177, -0.05469999834895134, 0.6754999756813049, -0.00039999998989515007, 0.3815999925136566, 0.5630000233650208, 0.32760000228881836, 0.17880000174045563, 0.14169999957084656, 0.6643000245094299, 0.4927000105381012, -0.3407000005245209, 0.22419999539852142, -0.4677000045776367, 3.8352999687194824, 3.642899990081787, 3.6092000007629395, 3.594099998474121, 3.5220000743865967, 3.5111000537872314, 3.456399917602539, 3.432499885559082, 3.230799913406372, 3.1989998817443848, 3.063499927520752, 3.0601000785827637, 3.03439998626709, 3.020699977874756, 2.9727001190185547, 2.9630000591278076, 2.9488000869750977, 2.9244000911712646, 2.914599895477295, 2.890700101852417, 2.8901000022888184, 2.876699924468994, 2.876199960708618, 2.8752999305725098, 2.8701999187469482, 2.868499994277954, 2.867500066757202, 2.863300085067749, 2.857599973678589, 2.852400064468384, 2.836699962615967, 2.7704999446868896, 2.7483999729156494, 2.766200065612793, 2.5750999450683594, 2.7623000144958496, 2.4470999240875244, 2.6324000358581543, 2.7651000022888184, 2.7581000328063965, 2.53439998626709, 2.4946999549865723, 1.8289999961853027, 2.4159998893737793, 2.063699960708618, 1.916700005531311, 1.6030000448226929, 2.4319000244140625, 1.440000057220459, 2.2184998989105225, 1.2867000102996826, 0.9598000049591064, 0.7233999967575073, 0.6565999984741211, 1.0573999881744385, 0.8592000007629395, 0.7487000226974487, 0.512499988079071, 1.5250999927520752, 0.7562999725341797, 0.588699996471405, -0.08460000157356262, 0.7494000196456909, 0.4927999973297119, 0.9096999764442444, 1.5608999729156494, 1.2864999771118164, -0.0957999974489212, 0.44519999623298645, 0.1573999971151352, -0.14880000054836273, 0.33239999413490295, 0.4171999990940094, -0.2248000055551529, -0.2897000014781952, -0.44350001215934753, 0.29670000076293945, 4.076499938964844, 4.050899982452393, 4.038599967956543, 4.031300067901611, 3.963200092315674, 3.9570000171661377, 3.951900005340576, 3.951200008392334, 3.9504001140594482, 3.943700075149536, 3.94350004196167, 3.9358999729156494, 3.92930006980896, 3.90939998626709, 3.898099899291992, 3.856800079345703, 3.8073999881744385, 3.776900053024292, 3.773400068283081, 3.723299980163574, 3.682800054550171, 3.652400016784668, 3.5789999961853027, 3.5483999252319336, 3.5355000495910645, 3.467900037765503, 3.4665000438690186, 3.465100049972534, 3.4504001140594482, 3.446500062942505, 3.4374001026153564, 3.262700080871582, 2.889699935913086, 3.075200080871582, 2.4421000480651855, 3.0037999153137207, 2.6814000606536865, 2.2156999111175537, 1.8873000144958496, 0.9617000222206116, 0.8499000072479248, 0.9962000250816345, 1.8549000024795532, 2.129300117492676, 2.3043999671936035, 0.10920000076293945, 2.2813000679016113, 0.46299999952316284, 0.5529999732971191, 2.7874999046325684, 0.7599999904632568, 0.9634000062942505, 1.1611000299453735, 2.3501999378204346, 0.19939999282360077, -0.13850000500679016, 0.5946999788284302, 0.6834999918937683, 1.0642999410629272, -0.7764999866485596, -0.551800012588501, 0.027899999171495438, -0.6226999759674072, 0.20010000467300415, -0.6927000284194946, -0.4844000041484833, 0.6227999925613403, -0.3903999924659729, 4.593299865722656, 4.269999980926514, 4.091100215911865, 4.051799774169922, 3.851099967956543, 3.791100025177002, 3.7892000675201416, 3.74180006980896, 3.6865999698638916, 3.683799982070923, 3.6619999408721924, 3.6610000133514404, 3.6584999561309814, 3.6403000354766846, 3.6396000385284424, 3.6317999362945557, 3.6229000091552734, 3.6124000549316406, 3.612299919128418, 3.588900089263916, 3.588099956512451, 3.5278000831604004, 3.525099992752075, 3.5215001106262207, 3.514899969100952, 3.512500047683716, 3.5039000511169434, 3.500699996948242, 3.498199939727783, 3.490499973297119, 3.3859000205993652, 3.4237000942230225, 3.326900005340576, 3.3327999114990234, 3.1259000301361084, 2.6373000144958496, 2.313800096511841, 2.5483999252319336, 3.0164999961853027, 2.652100086212158, 2.1684000492095947, 2.5973000526428223, 2.4260001182556152, 2.283099889755249, 2.9061999320983887, 1.1793999671936035, 1.1297999620437622, 2.038800001144409, 1.722000002861023, 1.4256000518798828, 1.357100009918213, 1.3116999864578247, 2.97189998626709, 0.3779999911785126, 1.5013999938964844, 0.829800009727478, 1.3193999528884888, 0.6097999811172485, 0.5376999974250793, 1.0776000022888184, 1.1049000024795532, 0.8223999738693237, -0.4832000136375427, 0.060100000351667404, 0.1949000060558319, 0.8964999914169312, 0.10159999877214432, 1.2101000547409058, 4.56220006942749, 4.342299938201904, 4.171000003814697, 4.095900058746338, 4.035900115966797, 3.8524999618530273, 3.8436999320983887, 3.824399948120117, 3.821199893951416, 3.8169000148773193, 3.805500030517578, 3.8036000728607178, 3.796099901199341, 3.786099910736084, 3.7795000076293945, 3.7783000469207764, 3.7753000259399414, 3.7723000049591064, 3.768199920654297, 3.764699935913086, 3.750200033187866, 3.7434000968933105, 3.7367000579833984, 3.733599901199341, 3.685499906539917, 3.664299964904785, 3.663100004196167, 3.65339994430542, 3.6484999656677246, 3.648200035095215, 3.5378000736236572, 3.602299928665161, 3.421299934387207, 3.24780011177063, 3.065700054168701, 3.3622000217437744, 3.0143001079559326, 3.49399995803833, 2.4247000217437744, 1.9980000257492065, 3.2630999088287354, 2.79830002784729, 2.858799934387207, 3.0708999633789062, 2.172800064086914, 3.0088000297546387, 2.541800022125244, 3.0116000175476074, 2.6461000442504883, 1.7226999998092651, 2.3282999992370605, 2.8849000930786133, 1.5882999897003174, 0.9918000102043152, 1.0913000106811523, 1.332200050354004, 1.2520999908447266, 0.8148999810218811, 1.3079999685287476, -0.22660000622272491, -0.41760000586509705, -0.2858000099658966, -0.2143000066280365, 0.18790000677108765, -0.164900004863739, 0.8360999822616577, 1.021399974822998, 0.5799999833106995, -0.4251999855041504, 0.07599999755620956, 0.09839999675750732, 0.3352999985218048, -0.008500000461935997]}, \"token.table\": {\"Topic\": [3, 5, 6, 1, 2, 3, 4, 6, 7, 8, 9, 15, 1, 3, 5, 6, 2, 1, 6, 9, 12, 13, 14, 3, 7, 9, 1, 12, 1, 2, 14, 1, 2, 3, 4, 5, 6, 7, 8, 9, 10, 12, 15, 4, 5, 6, 14, 1, 2, 3, 4, 5, 6, 7, 8, 9, 10, 11, 13, 14, 3, 4, 14, 6, 7, 8, 15, 6, 7, 8, 2, 4, 1, 3, 4, 5, 7, 11, 3, 5, 12, 14, 1, 2, 6, 8, 2, 3, 13, 2, 8, 15, 1, 1, 2, 4, 10, 1, 2, 4, 6, 1, 2, 5, 6, 8, 14, 1, 2, 3, 4, 5, 6, 7, 8, 9, 10, 11, 12, 13, 15, 1, 4, 11, 4, 2, 2, 8, 10, 12, 1, 2, 3, 4, 5, 6, 7, 8, 9, 10, 11, 12, 15, 2, 4, 9, 12, 2, 7, 13, 1, 3, 8, 9, 1, 2, 6, 1, 2, 3, 4, 5, 6, 8, 12, 14, 1, 2, 3, 6, 11, 13, 6, 1, 2, 7, 13, 1, 7, 9, 1, 2, 3, 9, 10, 1, 2, 3, 4, 5, 6, 7, 8, 9, 10, 15, 1, 7, 15, 1, 2, 3, 4, 5, 6, 7, 8, 9, 10, 11, 12, 13, 14, 15, 1, 3, 7, 12, 1, 4, 10, 11, 3, 4, 1, 2, 6, 7, 9, 1, 3, 5, 10, 11, 12, 1, 3, 4, 11, 3, 4, 10, 1, 2, 6, 7, 8, 4, 8, 13, 14, 1, 3, 6, 1, 2, 3, 4, 5, 6, 7, 8, 9, 10, 11, 13, 1, 3, 4, 5, 6, 7, 8, 6, 7, 8, 2, 8, 11, 13, 2, 6, 8, 11, 13, 2, 1, 4, 5, 8, 9, 4, 5, 1, 2, 12, 1, 7, 1, 2, 3, 4, 5, 6, 7, 8, 9, 10, 11, 12, 13, 14, 15, 1, 2, 7, 9, 13, 1, 8, 1, 4, 5, 8, 1, 2, 3, 5, 6, 7, 8, 9, 12, 13, 15, 4, 11, 2, 7, 1, 2, 13, 2, 4, 9, 1, 2, 3, 4, 5, 6, 7, 8, 10, 11, 1, 3, 4, 10, 1, 2, 3, 6, 7, 1, 2, 3, 4, 5, 6, 7, 8, 9, 10, 11, 12, 13, 15, 4, 5, 2, 1, 2, 3, 4, 6, 7, 8, 11, 13, 1, 6, 7, 14, 15, 3, 4, 5, 1, 2, 3, 7, 10, 13, 1, 2, 6, 7, 9, 11, 1, 12, 1, 9, 1, 2, 7, 12, 14, 1, 2, 6, 7, 8, 9, 11, 1, 1, 3, 4, 12, 1, 3, 5, 6, 8, 12, 13, 1, 2, 3, 4, 5, 6, 7, 8, 9, 10, 11, 12, 13, 3, 5, 10, 1, 2, 7, 12, 2, 5, 6, 8, 15, 5, 6, 12, 1, 1, 2, 5, 8, 1, 5, 10, 12, 13, 1, 4, 5, 8, 10, 1, 1, 2, 3, 4, 5, 6, 7, 8, 9, 10, 11, 12, 13, 1, 2, 3, 4, 5, 6, 7, 8, 9, 10, 11, 12, 14, 1, 2, 7, 9, 1, 7, 8, 14, 2, 3, 5, 7, 12, 1, 10, 11, 12, 3, 4, 5, 6, 8, 3, 5, 8, 14, 1, 1, 6, 12, 1, 2, 3, 4, 5, 6, 7, 8, 9, 10, 11, 12, 13, 2, 8, 13, 2, 6, 7, 10, 5, 9, 1, 2, 3, 4, 5, 6, 7, 9, 11, 3, 4, 5, 6, 10, 11, 12, 1, 2, 3, 4, 5, 8, 1, 2, 6, 7, 3, 4, 1, 2, 3, 4, 5, 6, 7, 8, 10, 11, 1, 2, 6, 13, 2, 6, 8, 13, 1, 3, 10, 3, 5, 10, 3, 7, 13, 4, 5, 8, 9, 1, 2, 3, 4, 5, 7, 8, 10, 4, 1, 2, 3, 4, 5, 6, 7, 8, 9, 10, 11, 12, 13, 14, 15, 1, 2, 3, 4, 5, 6, 8, 9, 10, 11, 12, 14, 2, 3, 4, 9, 1, 2, 3, 6, 8, 10, 12, 3, 4, 10, 13, 15, 2, 11, 13, 2, 4, 11, 1, 4, 9, 3, 5, 7, 15, 1, 5, 7, 9, 5, 6, 1, 2, 15, 2, 3, 4, 15, 1, 4, 5, 7, 10, 1, 4, 7, 8, 13, 2, 5, 1, 2, 7, 8, 15, 1, 2, 3, 4, 5, 9, 11, 12, 1, 2, 3, 4, 5, 6, 7, 8, 9, 10, 11, 1, 2, 3, 4, 5, 6, 7, 8, 9, 10, 11, 12, 13, 14, 15, 3, 2, 6, 1, 2, 6, 7, 1, 2, 6, 7, 8, 9, 13, 2, 6, 11, 1, 2, 6, 8, 9, 14, 4, 1, 2, 3, 6, 7, 12, 13, 4, 5, 8, 1, 2, 3, 4, 5, 6, 7, 8, 9, 10, 11, 12, 3, 4, 5, 12, 14, 3, 4, 1, 2, 6, 7, 8, 12, 13, 1, 2, 3, 4, 5, 6, 7, 8, 9, 10, 11, 12, 13, 14, 15, 1, 2, 3, 4, 5, 6, 7, 8, 10, 11, 12, 14, 1, 2, 3, 4, 5, 6, 7, 9, 11, 12, 14, 3, 4, 5, 6, 12, 6, 9, 2, 1, 7, 8, 1, 2, 3, 4, 5, 6, 7, 8, 10, 11, 12, 13, 3, 4, 2, 8, 13, 2, 4, 1, 4, 6, 11, 1, 4, 8, 9, 1, 2, 7, 8, 9, 1, 2, 3, 4, 6, 7, 8, 9, 13, 15, 1, 8, 13, 15, 8, 9, 3, 4, 5, 5, 8, 11, 1, 1, 6, 9, 10, 12, 2, 4, 7, 9, 1, 2, 7, 11, 1, 2, 8, 9, 11, 2, 6, 8, 9, 13, 15, 1, 4, 8, 11, 14, 3, 5, 6, 9, 13, 6, 8, 12, 15, 4, 10, 12, 13, 14, 6, 8, 1, 2, 3, 10, 1, 2, 14, 3, 10, 11, 1, 2, 3, 4, 5, 6, 7, 8, 9, 10, 11, 12, 13, 15, 1, 2, 3, 4, 5, 6, 7, 8, 9, 10, 11, 12, 13, 15, 1, 2, 3, 6, 7, 8, 11, 2, 3, 4, 12, 15, 1, 2, 3, 4, 5, 6, 7, 8, 9, 10, 11, 12, 13, 1, 2, 3, 4, 5, 6, 7, 8, 9, 12, 4, 1, 3, 4, 5, 6, 7, 14, 1, 2, 3, 4, 5, 7, 1, 2, 4, 5, 6, 15, 1, 2, 3, 4, 5, 6, 7, 8, 10, 1, 2, 7, 8, 9, 15, 1, 3, 4, 5, 6, 10, 11, 3, 10, 1, 2, 6, 7, 11, 1, 9, 1, 3, 4, 5, 6, 8, 10, 11, 12, 3, 4, 1, 2, 9, 13, 2, 13, 3, 4, 5, 9, 14, 1, 2, 3, 4, 5, 6, 7, 8, 9, 10, 11, 12, 15, 1, 2, 3, 4, 6, 7, 8, 9, 11, 13, 15, 1, 4, 13, 14, 2, 3, 9, 15, 2, 7, 11, 13, 1, 8, 9, 15, 4, 4, 3, 11, 12, 4, 6, 4, 1, 1, 5, 6, 7, 1, 1, 1, 2, 6, 7, 8, 9, 13, 1, 2, 3, 4, 5, 6, 7, 8, 9, 10, 11, 1, 2, 3, 4, 5, 6, 7, 12, 13, 2, 8, 1, 2, 7, 8, 13, 2, 7, 1, 2, 7, 1, 8, 9, 1, 2, 3, 4, 5, 6, 7, 8, 9, 10, 11, 12, 13, 15, 1, 2, 4, 5, 6, 7, 8, 1, 2, 9, 12, 1, 2, 3, 4, 5, 6, 8, 9, 11, 12, 2, 7, 15, 1, 2, 3, 4, 5, 7, 11, 14, 1, 4, 5, 11, 14, 2, 6, 12, 1, 3, 4, 11, 3, 10, 11, 2, 5, 6, 8, 13, 2, 1, 3, 8, 1, 2, 3, 4, 5, 6, 7, 8, 9, 10, 11, 12, 13, 15, 2, 6, 15, 1, 2, 3, 4, 5, 6, 7, 8, 9, 10, 11, 12, 13, 1, 2, 12, 13, 1, 2, 3, 4, 5, 6, 7, 8, 9, 10, 11, 12, 13, 14, 15, 1, 3, 4, 5, 6, 7, 9, 10, 12, 13, 14, 1, 2, 3, 4, 5, 6, 7, 8, 9, 10, 11, 12, 15, 1, 2, 6, 7, 1, 2, 3, 4, 5, 6, 7, 8, 9, 10, 11, 12, 13, 14, 15, 4, 6, 7, 9, 11, 12, 1, 2, 3, 4, 5, 6, 7, 8, 9, 10, 11, 12, 13, 14, 1, 6, 8, 11, 1, 2, 3, 4, 5, 6, 7, 8, 9, 11, 12, 13, 1, 6, 9, 1, 2, 3, 4, 5, 6, 7, 8, 9, 10, 11, 12, 13, 14, 15, 1, 2, 3, 4, 5, 6, 7, 8, 9, 10, 11, 12, 14, 4, 7, 9, 1, 2, 3, 4, 5, 6, 7, 8, 9, 10, 11, 12, 13, 14, 3, 4, 5, 1, 12, 2, 6, 2, 8, 6, 8, 10, 13, 1, 2, 4, 7, 8, 15, 4, 5, 6, 8, 1, 6, 11, 3, 5, 4, 5, 8, 1, 2, 3, 4, 5, 6, 8, 9, 12, 14, 1, 2, 3, 4, 5, 6, 7, 8, 9, 10, 11, 12, 13, 14, 15, 3, 4, 14, 2, 6, 7, 2, 7, 9, 1, 2, 6, 8, 9, 11, 15, 2, 6, 7, 8, 9, 1, 2, 3, 4, 5, 6, 10, 11, 12, 1, 2, 6, 7, 8, 9, 11, 13, 1, 2, 3, 4, 5, 6, 7, 8, 9, 10, 11, 15, 1, 7, 4, 6, 7, 9, 14, 1, 3, 6, 12, 7, 8, 12, 7, 1, 2, 3, 4, 5, 6, 7, 8, 10, 11, 13, 4, 5, 8, 1, 2, 12, 1, 2, 5, 6, 12, 1, 2, 4, 5, 6, 12, 15, 1, 2, 3, 4, 5, 6, 8, 9, 10, 13, 14, 1, 2, 6, 7, 1, 2, 3, 4, 5, 6, 7, 8, 9, 10, 11, 12, 14, 2, 6, 13, 1, 2, 3, 4, 5, 6, 7, 8, 9, 11, 13, 3, 5, 10, 11, 1, 2, 3, 4, 5, 6, 7, 8, 9, 10, 11, 12, 13, 14, 15, 4, 5, 8, 1, 2, 4, 6, 7, 8, 11, 1, 2, 4, 6, 7, 9, 10, 11, 3, 10, 1, 7, 9, 12, 1, 2, 3, 4, 5, 6, 7, 8, 9, 10, 11, 12, 13, 14, 1, 2, 3, 5, 7, 11, 2, 1, 7, 13, 1, 3, 4, 9, 10, 11, 1, 2, 8, 9, 1, 10, 2, 1, 2, 3, 4, 5, 6, 7, 8, 9, 11, 12, 1, 2, 3, 4, 5, 6, 7, 8, 9, 10, 11, 12, 13, 14, 1, 2, 3, 4, 5, 6, 7, 8, 9, 11, 12, 1, 2, 3, 4, 5, 6, 7, 8, 9, 10, 11, 12, 14, 15, 1, 2, 3, 4, 5, 6, 7, 8, 9, 10, 11, 12, 13, 14, 5, 7, 5, 6, 12, 1, 3, 9, 12, 2, 15, 2, 3, 10, 2, 5, 6, 10, 1, 2, 3, 4, 5, 6, 10, 11, 3, 4, 5, 10, 11, 1, 2, 3, 4, 5, 6, 7, 8, 9, 10, 11, 12, 13, 14, 3, 1, 2, 3, 4, 5, 6, 7, 8, 9, 10, 11, 12, 13, 14, 15, 3, 4, 5, 8, 10, 6, 1, 2, 3, 4, 5, 6, 7, 8, 9, 10, 11, 12, 13, 14, 15, 1, 2, 3, 4, 5, 6, 7, 8, 9, 10, 11, 12, 13, 14, 15, 1, 2, 6, 8, 2, 6, 8, 9, 15, 1, 3, 10, 12, 4, 5, 8, 3, 4, 5, 10, 11, 12, 1, 2, 3, 4, 5, 6, 9, 10, 1, 2, 3, 4, 5, 7, 15, 2, 1, 2, 3, 4, 5, 6, 7, 8, 9, 10, 11, 12, 6, 7, 1, 2, 3, 4, 5, 6, 7, 8, 9, 10, 11, 12, 13, 14, 4, 5, 10, 14, 1, 2, 6, 7, 8, 9, 11, 13, 1, 5, 1, 2, 7, 8, 9, 6, 8, 1, 2, 3, 5, 8, 10, 12, 3, 4, 5, 7, 8, 9, 10, 11, 12, 14, 1, 6, 8, 13, 1, 2, 6, 12, 1, 7, 2, 4, 6, 15, 1, 12, 14, 1, 2, 3, 4, 5, 6, 7, 8, 10, 1, 6, 7, 9, 10, 11, 1, 2, 3, 4, 5, 8, 13, 2, 6, 12, 15, 6, 9, 10, 5, 11, 1, 2, 4, 6, 12, 14, 1, 8, 13, 3, 10, 2, 6, 7, 1, 2, 3, 4, 5, 6, 8, 9, 10, 12, 1, 6, 12, 2, 1, 2, 7, 9, 13, 4, 3, 4, 5, 1, 2, 3, 4, 5, 6, 7, 8, 9, 10, 11, 12, 2, 9, 4, 5, 5, 10, 12, 2, 6, 7, 5, 1, 2, 3, 4, 5, 6, 7, 8, 9, 14, 1, 2, 3, 4, 5, 6, 7, 8, 9, 10, 11, 12, 13, 14, 1, 3, 11, 1, 2, 4, 6, 7, 8, 9, 12, 1, 2, 8, 12, 1, 2, 3, 4, 5, 6, 7, 8, 9, 10, 11, 12, 13, 1, 3, 4, 5, 6, 10, 11, 3, 10, 1, 2, 3, 4, 5, 6, 7, 8, 9, 10, 11, 12, 13, 14, 15, 1, 2, 3, 4, 6, 7, 9, 13, 1, 2, 3, 5, 6, 7, 8, 9, 14, 1, 2, 3, 4, 5, 6, 7, 8, 9, 10, 11, 12, 13, 14, 15, 3, 1, 2, 3, 4, 5, 6, 7, 8, 10, 11, 12, 13, 1, 2, 6, 7, 8, 13, 1, 7, 12, 13, 6, 7, 12, 1, 2, 3, 4, 5, 6, 7, 8, 9, 10, 11, 12, 13, 1, 6, 10, 1, 2, 13, 1, 4, 6, 8, 10, 2, 7, 9, 13, 1, 2, 3, 4, 6, 7, 8, 9, 11, 15, 1, 2, 3, 4, 5, 6, 7, 8, 9, 10, 11, 12, 1, 2, 3, 4, 5, 6, 7, 8, 9, 10, 12, 13, 14, 2, 3, 7, 11, 15, 1, 2, 2, 7, 15, 1, 2, 3, 4, 5, 6, 7, 8, 9, 10, 11, 12, 13, 14, 1, 2, 3, 4, 5, 6, 7, 8, 9, 10, 11, 13, 1, 14, 1, 2, 3, 4, 5, 6, 7, 8, 9, 10, 11, 12, 13, 15, 1, 2, 3, 4, 5, 6, 7, 8, 10, 11, 15, 1, 2, 3, 4, 6, 7, 9, 10, 13, 1, 2, 3, 4, 5, 6, 7, 8, 9, 10, 11, 12, 13, 14, 15, 1, 2, 3, 4, 5, 6, 7, 8, 9, 10, 11, 12, 13, 14, 1, 4, 5, 8, 9, 1, 2, 4, 6, 7, 9, 11, 12, 13, 14, 1, 2, 1, 2, 4, 5, 7, 12, 1, 2, 3, 4, 5, 6, 7, 8, 9, 10, 11, 12, 13, 14, 15, 4, 5, 8, 3, 1, 2, 3, 4, 5, 6, 7, 8, 9, 10, 11, 12, 13, 14, 15, 1, 2, 3, 4, 5, 6, 7, 8, 9, 10, 11, 12, 13, 14, 15, 1, 2, 3, 4, 5, 6, 7, 8, 9, 10, 11, 12, 14, 1, 2, 3, 4, 5, 6, 7, 10, 11, 12, 1, 7, 9, 4, 5, 8, 4, 5, 1, 2, 3, 4, 5, 6, 7, 9, 11, 7, 8, 9, 1, 6, 7, 8, 12, 1, 2, 3, 4, 7, 9, 11, 4, 5, 8, 1, 1, 2, 3, 6, 7, 8, 9, 10, 12, 1, 2, 6, 7, 9, 11, 13, 15, 2, 7, 11, 4, 3, 4, 5, 7, 9, 1, 2, 7, 2, 6, 8, 2, 15, 1, 2, 3, 4, 5, 6, 7, 8, 9, 10, 11, 12, 13, 1, 6, 3, 10, 11, 1, 2, 6, 1, 3, 4, 1, 3, 4, 5, 7, 2, 6, 7, 11, 1, 2, 3, 4, 5, 6, 7, 8, 10, 12, 3, 4, 5, 10, 11, 1, 2, 4, 5, 6, 7, 8, 9, 10, 12, 1, 6, 10, 13, 1, 2, 3, 4, 5, 6, 7, 8, 9, 12, 14, 1, 2, 6, 8, 9, 13, 15, 2, 9, 1, 2, 5, 6, 7, 8, 9, 11, 12, 4, 5, 8, 2, 7, 8, 13, 1, 3, 4, 5, 3, 4, 1, 2, 6, 7, 8, 13, 1, 11, 12, 5, 12, 1, 12, 14, 1, 5, 1, 2, 3, 4, 5, 6, 7, 8, 9, 10, 11, 12, 13, 15, 1, 5, 8, 9, 1, 2, 3, 4, 5, 6, 10, 1, 2, 3, 4, 5, 6, 7, 8, 9, 10, 11, 12, 13, 1, 6, 8, 1, 1, 2, 7, 1, 2, 3, 4, 5, 6, 7, 8, 9, 10, 11, 12, 13, 1, 2, 6, 7, 9, 5, 10, 1, 2, 6, 7, 8, 9, 12, 13, 15, 1, 7, 8, 1, 2, 3, 4, 5, 6, 7, 8, 9, 10, 11, 12, 14, 15, 4, 6, 3, 4, 8, 1, 2, 3, 4, 5, 10, 11, 1, 7, 11, 2, 3, 13, 2, 5, 10, 11, 1, 2, 8, 11, 1, 8, 11, 13, 1, 2, 3, 4, 5, 6, 7, 8, 9, 10, 11, 12, 15, 1, 2, 7, 8, 1, 2, 3, 4, 5, 6, 7, 8, 9, 10, 11, 15, 2, 4, 5, 8, 1, 2, 3, 4, 5, 6, 7, 8, 9, 10, 11, 12, 14, 15, 1, 2, 3, 4, 5, 6, 7, 8, 9, 10, 11, 12, 13, 2, 7, 11, 1, 7, 13, 3, 7, 9, 5, 3, 4, 5, 12, 2, 9, 2, 7, 1, 2, 6, 7, 2, 15, 1, 4, 5, 1, 2, 3, 4, 5, 6, 7, 8, 9, 10, 11, 12, 15, 1, 2, 3, 4, 5, 6, 7, 8, 9, 10, 11, 12, 13, 14, 2, 7, 2, 7, 8, 9, 3, 4, 4, 1, 2, 11, 1, 2, 3, 4, 5, 6, 7, 8, 9, 10, 12, 1, 2, 4, 13, 15, 1, 6, 9, 15, 1, 7, 8, 1, 2, 3, 4, 5, 6, 7, 8, 9, 11, 12, 13, 1, 2, 3, 4, 5, 6, 7, 10, 11, 1, 2, 6, 7, 9, 13, 1, 8, 13, 3, 1, 2, 6, 7, 9, 11, 13, 1, 2, 6, 7, 9, 6, 8, 11, 15, 2, 6, 7, 8, 9, 13, 15, 4, 5, 7, 1, 2, 3, 6, 7, 10, 15, 2, 6, 7, 8, 9, 13, 1, 2, 3, 4, 5, 6, 7, 8, 9, 10, 11, 12, 13, 14, 2, 3, 5, 10, 3, 10, 11, 12, 1, 2, 7, 12, 2, 7, 12, 1, 9, 11, 13, 2, 6, 4, 5, 1, 2, 3, 4, 6, 7, 8, 9, 11, 14, 15, 1, 2, 3, 4, 7, 8, 9, 2, 7, 2, 1, 12, 13, 1, 2, 3, 4, 5, 6, 7, 8, 9, 10, 11, 12, 13, 2, 1, 2, 3, 4, 5, 6, 7, 8, 9, 10, 11, 12, 13, 2, 8, 14, 2, 7, 10, 1, 2, 6, 11, 1, 6, 1, 2, 3, 4, 5, 6, 7, 8, 9, 10, 11, 12, 15, 2, 9, 10, 12, 15, 1, 2, 3, 4, 5, 6, 9, 10, 12, 14, 1, 2, 3, 4, 5, 6, 7, 8, 9, 10, 11, 12, 13, 15, 1, 3, 4, 8, 14, 1, 2, 3, 4, 5, 6, 7, 8, 9, 10, 11, 13, 15, 1, 2, 6, 7, 2, 6, 10, 1, 2, 3, 8, 1, 2, 3, 4, 5, 6, 9, 12, 2, 8, 15, 3, 7, 10, 11, 1, 2, 3, 4, 5, 8, 2, 11, 2, 6, 9, 10, 1, 2, 3, 8, 9, 1, 2, 5, 6, 7, 8, 9, 11, 15, 1, 2, 6, 7, 8, 9, 15, 1, 2, 9, 11, 1, 2, 7, 9, 2, 4, 6, 9, 1, 2, 7, 8, 13, 2, 7, 1, 2, 9, 3, 11, 12, 2, 9, 13, 2, 12, 1, 2, 3, 4, 5, 6, 7, 8, 9, 10, 11, 12, 13, 15, 4, 2, 5, 7, 10, 1, 4, 8, 10, 12, 1, 2, 6, 12, 1, 4, 5, 8, 3, 6, 15, 1, 3, 6, 12, 1, 4, 10, 15, 1, 6, 15, 2, 1, 2, 3, 4, 5, 6, 7, 8, 9, 10, 11, 14, 1, 2, 8, 15, 1, 2, 3, 8, 2, 4, 11, 14, 1, 2, 3, 4, 6, 10, 11, 2, 8, 2, 8, 9, 13, 15, 1, 3, 6, 10, 2, 4, 8, 14, 3, 1, 2, 10, 11, 1, 2, 6, 9, 10, 12, 1, 3, 4, 5, 9, 1, 2, 6, 7, 9, 10, 12, 14, 1, 2, 6, 7, 8, 10, 11, 1, 2, 3, 4, 5, 6, 7, 8, 9, 10, 11, 12, 13, 15, 1, 6, 2, 7, 1, 2, 4, 6, 8, 9, 12, 1, 2, 3, 4, 5, 6, 7, 8, 9, 10, 11, 12, 13, 15, 1, 3, 13, 1, 2, 6, 7, 8, 9, 1, 3, 6, 7, 8, 12, 13, 2, 7, 10, 1, 2, 3, 6, 7, 8, 9, 12, 14, 4, 6, 8, 2, 3, 8, 12, 3, 4, 5, 9, 10, 1, 2, 3, 4, 5, 6, 7, 8, 9, 10, 11, 12, 13, 15, 1, 2, 3, 4, 5, 6, 7, 8, 11, 12, 15, 1, 1, 2, 5, 6, 7, 9, 1, 7, 12, 3, 5, 9, 10, 14, 4, 5, 7, 15, 1, 2, 3, 5, 6, 7, 9, 10, 11, 12, 1, 4, 6, 9, 11, 1, 2, 3, 4, 5, 6, 8, 10, 12, 15, 1, 2, 3, 4, 5, 6, 7, 8, 10, 11, 13, 14, 3, 11, 2, 6, 7, 8, 1, 2, 3, 4, 5, 6, 7, 8, 9, 10, 11, 12, 14, 4, 6, 9, 1, 2, 4, 5, 6, 8, 9, 12, 14, 1, 7, 2, 12, 13, 1, 14, 1, 2, 4, 10, 1, 2, 3, 4, 5, 6, 7, 9, 10, 12, 13, 15, 1, 2, 3, 4, 5, 6, 7, 8, 9, 10, 11, 12, 1, 2, 3, 4, 5, 6, 8, 9, 10, 12, 14, 1, 5, 11, 14, 1, 2, 4, 5, 6, 10, 14, 15, 6, 2, 2, 1, 4, 6, 7, 15, 3, 1, 3, 4, 10, 11, 13, 2, 11, 1, 2, 3, 4, 5, 6, 7, 8, 9, 10, 11, 12, 13, 15, 1, 2, 7, 2, 7, 4, 1, 2, 3, 4, 5, 6, 7, 8, 10, 11, 12, 1, 2, 3, 4, 5, 6, 7, 8, 9, 10, 11, 12, 13, 14, 15, 1, 2, 3, 4, 5, 6, 7, 8, 9, 10, 11, 12, 1, 2, 7, 10, 1, 2, 3, 4, 5, 6, 7, 8, 9, 10, 11, 13, 1, 2, 3, 6, 7, 8, 14, 2, 1, 2, 3, 4, 5, 6, 7, 8, 9, 10, 11, 12, 13, 1, 2, 4, 5, 6, 7, 8, 9, 10, 12, 1, 2, 1, 1, 2, 3, 4, 5, 6, 7, 8, 9, 12, 13, 3, 7, 13, 1, 6, 7, 12, 1, 2, 3, 4, 5, 6, 7, 8, 9, 11, 12, 14, 1, 2, 3, 4, 12, 13, 5, 8, 1, 2, 3, 4, 6, 7, 9, 10, 6, 8, 1, 2, 3, 5, 8, 11, 13, 1, 2, 3, 4, 5, 6, 7, 8, 9, 10, 11, 12, 13, 14, 1, 2, 10, 12, 1, 2, 3, 4, 5, 6, 7, 8, 15, 3, 5, 10, 3, 3, 11, 1, 2, 6, 7, 10, 12, 6, 9, 11, 1, 9, 11, 1, 9, 13, 1, 2, 3, 4, 5, 8, 9, 10, 1, 3, 5, 10, 11, 3, 4, 12, 1, 2, 3, 6, 7, 8, 9, 11, 15, 1, 2, 3, 4, 5, 6, 7, 8, 9, 10, 11, 12, 13, 15, 1, 2, 3, 6, 1, 2, 6, 1, 2, 3, 4, 5, 6, 7, 8, 9, 10, 11, 12, 13, 14, 15, 1, 2, 3, 4, 5, 6, 7, 8, 9, 10, 11, 12, 13, 14, 15, 1, 2, 6, 12, 14, 1, 2, 3, 4, 5, 6, 7, 8, 9, 10, 11, 12, 13, 14, 15, 1, 2, 3, 4, 5, 6, 7, 8, 9, 10, 11, 12, 14, 1, 13, 1, 2, 5, 7, 12, 14, 1, 2, 3, 4, 5, 6, 7, 8, 9, 10, 11, 12, 13, 15, 1, 9, 15, 1, 2, 3, 4, 5, 6, 7, 8, 9, 10, 11, 12, 13, 15, 1, 2, 3, 4, 5, 6, 7, 8, 9, 10, 11, 12, 14, 15, 1, 2, 4, 11, 12, 15, 1, 2, 5, 14, 15, 3, 6, 7, 1, 8, 10, 2, 1, 4, 7, 1, 2, 4, 10, 1, 2, 3, 4, 5, 6, 7, 8, 9, 10, 11, 12, 13, 14, 15, 1, 2, 7, 8, 3, 1, 2, 3, 4, 5, 6, 7, 8, 9, 10, 11, 12, 5, 6, 10, 13, 1, 4, 12, 14, 4, 3, 4, 6, 12, 14, 6, 11, 3, 4, 6, 14, 1, 7, 10, 12, 4, 2, 6, 1, 2, 7, 9, 13, 1, 3, 4, 6, 7, 11, 12, 13, 1, 2, 6, 7, 8, 12, 1, 5, 12, 13, 2, 6, 8, 1, 2, 6, 7, 11, 2, 1, 2, 8, 12, 15, 1, 2, 3, 4, 5, 6, 7, 8, 9, 10, 11, 12, 13, 15, 1, 2, 3, 4, 15, 1, 2, 7, 9, 13, 2, 6, 7, 1, 2, 3, 4, 5, 6, 7, 8, 9, 10, 11, 12, 14, 15, 1, 2, 3, 4, 5, 6, 7, 8, 9, 10, 11, 12, 13, 14, 15, 1, 2, 3, 4, 5, 6, 7, 8, 9, 10, 11, 12, 13, 14, 1, 3, 4, 5, 6, 10, 11, 12, 2, 1, 2, 3, 4, 6, 7, 8, 9, 10, 12, 4, 5, 1, 9, 12, 3, 4, 1, 2, 3, 4, 5, 6, 7, 12, 13, 3, 2, 10, 1, 2, 3, 4, 6, 10, 1, 2, 3, 4, 5, 6, 7, 8, 9, 10, 11, 12, 14, 2, 4, 11, 3, 4, 5, 10, 11, 12, 1, 2, 3, 4, 5, 6, 7, 8, 9, 10, 11, 12, 13, 14, 15, 1, 2, 3, 4, 5, 6, 7, 8, 9, 10, 11, 12, 13, 14, 3, 6, 9, 10, 14, 1, 2, 3, 4, 5, 6, 7, 8, 9, 10, 11, 12, 14, 1, 2, 3, 4, 5, 6, 7, 8, 9, 10, 11, 12, 13, 14, 1, 2, 3, 4, 5, 6, 7, 8, 9, 10, 11, 12, 13, 15, 6, 8, 1, 2, 3, 4, 5, 6, 7, 8, 9, 10, 11, 12, 13, 14, 15, 2, 6, 8, 12, 13], \"Freq\": [0.9584408402442932, 0.14777080714702606, 0.7388540506362915, 0.300437331199646, 0.2253279983997345, 0.0751093327999115, 0.11266399919986725, 0.0751093327999115, 0.0751093327999115, 0.056331999599933624, 0.03755466639995575, 0.03755466639995575, 0.06685864925384521, 0.06685864925384521, 0.7354452013969421, 0.06685864925384521, 0.8552060723304749, 0.8384852409362793, 0.015107842162251472, 0.015107842162251472, 0.0982009768486023, 0.015107842162251472, 0.007553921081125736, 0.18765157461166382, 0.37530314922332764, 0.37530314922332764, 0.5599085688591003, 0.3732723593711853, 0.5561901330947876, 0.1853967159986496, 0.1853967159986496, 0.05645088478922844, 0.07903123646974564, 0.1542990803718567, 0.42526334524154663, 0.13924551010131836, 0.09032141417264938, 0.02634374611079693, 0.011290176771581173, 0.003763392334803939, 0.007526784669607878, 0.007526784669607878, 0.003763392334803939, 0.3228113651275635, 0.16140568256378174, 0.3228113651275635, 0.16140568256378174, 0.20939403772354126, 0.2931516468524933, 0.1104077622294426, 0.08756478130817413, 0.09898626804351807, 0.04568596929311752, 0.04568596929311752, 0.02284298464655876, 0.03045731410384178, 0.04187880828976631, 0.007614328525960445, 0.0038071642629802227, 0.0038071642629802227, 0.6269973516464233, 0.15674933791160583, 0.15674933791160583, 0.39078739285469055, 0.19539369642734528, 0.19539369642734528, 0.19539369642734528, 0.2231602668762207, 0.6136907339096069, 0.055790066719055176, 0.8134732842445374, 0.9372195601463318, 0.1924819052219391, 0.1924819052219391, 0.12832127511501312, 0.12832127511501312, 0.06416063755750656, 0.25664255023002625, 0.41732364892959595, 0.27821576595306396, 0.13910788297653198, 0.13910788297653198, 0.08639071136713028, 0.17278142273426056, 0.6047350168228149, 0.08639071136713028, 0.38589510321617126, 0.19294755160808563, 0.19294755160808563, 0.5100668668746948, 0.2550334334373474, 0.1275167167186737, 0.9242392778396606, 0.1580435335636139, 0.3160870671272278, 0.1580435335636139, 0.3160870671272278, 0.20318041741847992, 0.040636081248521805, 0.16254432499408722, 0.6095412373542786, 0.07910500466823578, 0.23731501400470734, 0.23731501400470734, 0.15821000933647156, 0.23731501400470734, 0.07910500466823578, 0.24698397517204285, 0.16465598344802856, 0.16181708872318268, 0.13058923184871674, 0.16181708872318268, 0.04542234167456627, 0.022711170837283134, 0.008516688831150532, 0.0198722742497921, 0.008516688831150532, 0.005677792709320784, 0.008516688831150532, 0.008516688831150532, 0.002838896354660392, 0.3695424497127533, 0.18477122485637665, 0.3695424497127533, 0.8773093223571777, 0.8545888066291809, 0.3798389434814453, 0.18991947174072266, 0.18991947174072266, 0.18991947174072266, 0.42079752683639526, 0.15622423589229584, 0.0907108411192894, 0.06047389656305313, 0.08567135035991669, 0.07811211794614792, 0.04787516966462135, 0.010078982450067997, 0.030236948281526566, 0.007559237070381641, 0.0025197456125169992, 0.007559237070381641, 0.007559237070381641, 0.18612000346183777, 0.18612000346183777, 0.37224000692367554, 0.18612000346183777, 0.1701342612504959, 0.3402685225009918, 0.1701342612504959, 0.2760092318058014, 0.1380046159029007, 0.4140138328075409, 0.1380046159029007, 0.12918874621391296, 0.12918874621391296, 0.6459437608718872, 0.07801709324121475, 0.039008546620607376, 0.19504272937774658, 0.4485982656478882, 0.11702563613653183, 0.019504273310303688, 0.039008546620607376, 0.019504273310303688, 0.039008546620607376, 0.5126594305038452, 0.07323706150054932, 0.07323706150054932, 0.07323706150054932, 0.21971118450164795, 0.07323706150054932, 0.8710431456565857, 0.07769360393285751, 0.38846802711486816, 0.23308081924915314, 0.23308081924915314, 0.3658633828163147, 0.18293169140815735, 0.3658633828163147, 0.3587879538536072, 0.07175759226083755, 0.1435151845216751, 0.2870303690433502, 0.07175759226083755, 0.08772432059049606, 0.021931080147624016, 0.2576901912689209, 0.16448310017585754, 0.3837938904762268, 0.005482770036906004, 0.010965540073812008, 0.005482770036906004, 0.04386216029524803, 0.005482770036906004, 0.005482770036906004, 0.3958907723426819, 0.3958907723426819, 0.1319635808467865, 0.19447870552539825, 0.10460597276687622, 0.18858541548252106, 0.20184531807899475, 0.12228585034608841, 0.07661282271146774, 0.04272638261318207, 0.017679883167147636, 0.008839941583573818, 0.016206558793783188, 0.005893294233828783, 0.014733235351741314, 0.0029466471169143915, 0.0014733235584571958, 0.0014733235584571958, 0.18758101761341095, 0.18758101761341095, 0.18758101761341095, 0.18758101761341095, 0.943033754825592, 0.3190159797668457, 0.21267732977867126, 0.42535465955734253, 0.05472051352262497, 0.919304609298706, 0.10788057744503021, 0.6472834348678589, 0.08091042935848236, 0.1483357846736908, 0.013485072180628777, 0.020567981526255608, 0.863855242729187, 0.013711987994611263, 0.07541593164205551, 0.013711987994611263, 0.006855993997305632, 0.044368840754032135, 0.3993195593357086, 0.1331065148115158, 0.3549507260322571, 0.24866867065429688, 0.24866867065429688, 0.3730030059814453, 0.00617095734924078, 0.7158310413360596, 0.02468382939696312, 0.24066734313964844, 0.00617095734924078, 0.30899348855018616, 0.30899348855018616, 0.15449674427509308, 0.15449674427509308, 0.09383192658424377, 0.18766385316848755, 0.656823456287384, 0.18284501135349274, 0.12632927298545837, 0.20944064855575562, 0.1695471853017807, 0.15624937415122986, 0.02659563720226288, 0.03989345580339432, 0.03989345580339432, 0.0166222732514143, 0.01329781860113144, 0.00664890930056572, 0.01329781860113144, 0.006751435808837414, 0.18904021382331848, 0.5536177754402161, 0.21604594588279724, 0.006751435808837414, 0.013502871617674828, 0.006751435808837414, 0.06707479804754257, 0.06707479804754257, 0.8048975467681885, 0.19995661079883575, 0.3999132215976715, 0.19995661079883575, 0.19995661079883575, 0.07346948236227036, 0.07346948236227036, 0.4408169090747833, 0.2938779294490814, 0.07346948236227036, 0.8756141662597656, 0.0030420345719903708, 0.06084069237112999, 0.9156523942947388, 0.012168138287961483, 0.0030420345719903708, 0.09069046378135681, 0.8162141442298889, 0.9218718409538269, 0.060950204730033875, 0.007618775591254234, 0.18731339275836945, 0.5619401931762695, 0.20769023895263672, 0.11682575941085815, 0.2790837585926056, 0.11682575941085815, 0.13629671931266785, 0.07139351963996887, 0.01460321992635727, 0.017848379909992218, 0.004867739975452423, 0.019470959901809692, 0.0032451599836349487, 0.004867739975452423, 0.0016225799918174744, 0.0032451599836349487, 0.0016225799918174744, 0.021960142999887466, 0.6148840188980103, 0.21960142254829407, 0.021960142999887466, 0.08784057199954987, 0.46950793266296387, 0.46950793266296387, 0.0032054379116743803, 0.019232627004384995, 0.968042254447937, 0.006410875823348761, 0.5941953659057617, 0.253083199262619, 0.016505425795912743, 0.005501808598637581, 0.016505425795912743, 0.07702532410621643, 0.005501808598637581, 0.005501808598637581, 0.005501808598637581, 0.005501808598637581, 0.005501808598637581, 0.3824543356895447, 0.3824543356895447, 0.8901559710502625, 0.06358256936073303, 0.3776775300502777, 0.2832581698894501, 0.2832581698894501, 0.15262871980667114, 0.3052574396133423, 0.3052574396133423, 0.06252064555883408, 0.011033054441213608, 0.6693386435508728, 0.10665286332368851, 0.014710740186274052, 0.025743793696165085, 0.007355370093137026, 0.014710740186274052, 0.04413221776485443, 0.04045453295111656, 0.33363795280456543, 0.11121264845132828, 0.11121264845132828, 0.33363795280456543, 0.18182039260864258, 0.06060679629445076, 0.06060679629445076, 0.606067955493927, 0.06060679629445076, 0.46302521228790283, 0.2285059541463852, 0.012026629410684109, 0.05411982908844948, 0.07817308604717255, 0.03607988730072975, 0.012026629410684109, 0.012026629410684109, 0.024053258821368217, 0.03006657212972641, 0.018039943650364876, 0.006013314705342054, 0.006013314705342054, 0.012026629410684109, 0.221943199634552, 0.7644710540771484, 0.8969473242759705, 0.09576428681612015, 0.11970535665750504, 0.3351749777793884, 0.07182320952415466, 0.07182320952415466, 0.023941071704030037, 0.1915285736322403, 0.023941071704030037, 0.07182320952415466, 0.41843080520629883, 0.20921540260314941, 0.20921540260314941, 0.10460770130157471, 0.10460770130157471, 0.07472772151231766, 0.8967326283454895, 0.006793429143726826, 0.7127150297164917, 0.10964847356081009, 0.027412118390202522, 0.10964847356081009, 0.013706059195101261, 0.013706059195101261, 0.1407611221075058, 0.5133640766143799, 0.2815222442150116, 0.03726029768586159, 0.012420098297297955, 0.008280065841972828, 0.5678284764289856, 0.4258713722229004, 0.9408302307128906, 0.035503026098012924, 0.13246935606002808, 0.26493871212005615, 0.26493871212005615, 0.13246935606002808, 0.13246935606002808, 0.3356746733188629, 0.1398644596338272, 0.1398644596338272, 0.027972890064120293, 0.16783733665943146, 0.16783733665943146, 0.027972890064120293, 0.9772392511367798, 0.8670017719268799, 0.03769572824239731, 0.07539145648479462, 0.03769572824239731, 0.44827887415885925, 0.07471314817667007, 0.07471314817667007, 0.14942629635334015, 0.03735657408833504, 0.14942629635334015, 0.03735657408833504, 0.2530133128166199, 0.19373591244220734, 0.1734948456287384, 0.12722955644130707, 0.10554269701242447, 0.05349424481391907, 0.0346989668905735, 0.018795274198055267, 0.01734948344528675, 0.008674741722643375, 0.008674741722643375, 0.002891580807045102, 0.001445790403522551, 0.8096204996109009, 0.11848104745149612, 0.039493683725595474, 0.7061825394630432, 0.1925952285528183, 0.03209920600056648, 0.048148807138204575, 0.38012632727622986, 0.04751579090952873, 0.23757895827293396, 0.2850947380065918, 0.04751579090952873, 0.30521994829177856, 0.45782989263534546, 0.15260997414588928, 0.9070675373077393, 0.03841348737478256, 0.23048090934753418, 0.6914427280426025, 0.03841348737478256, 0.1976700872182846, 0.1976700872182846, 0.26356011629104614, 0.06589002907276154, 0.1976700872182846, 0.007526714820414782, 0.32364872097969055, 0.6472974419593811, 0.007526714820414782, 0.007526714820414782, 0.9460180401802063, 0.13366064429283142, 0.2910831868648529, 0.06831543892621994, 0.15148206055164337, 0.10098804533481598, 0.0920773297548294, 0.041583310812711716, 0.06237496808171272, 0.020791655406355858, 0.008910709992051125, 0.014851182699203491, 0.011880946345627308, 0.002970236586406827, 0.08998697996139526, 0.1109839454293251, 0.3149544298648834, 0.14397916197776794, 0.2159687578678131, 0.029995659366250038, 0.02399652823805809, 0.011998264119029045, 0.017997395247220993, 0.014997829683125019, 0.008998697623610497, 0.0059991320595145226, 0.011998264119029045, 0.1386982500553131, 0.1386982500553131, 0.5547930002212524, 0.1386982500553131, 0.3334735929965973, 0.3334735929965973, 0.16673679649829865, 0.16673679649829865, 0.10855358093976974, 0.434214323759079, 0.10855358093976974, 0.10855358093976974, 0.2171071618795395, 0.10302229225635529, 0.7211560010910034, 0.05151114612817764, 0.05151114612817764, 0.008640403859317303, 0.48386257886886597, 0.4752222001552582, 0.008640403859317303, 0.008640403859317303, 0.32538747787475586, 0.16269373893737793, 0.32538747787475586, 0.16269373893737793, 0.9321494102478027, 0.0874708741903305, 0.699766993522644, 0.0874708741903305, 0.1908971518278122, 0.16226257383823395, 0.20044201612472534, 0.1908971518278122, 0.07158643007278442, 0.0143172862008214, 0.042951859533786774, 0.0381794311106205, 0.004772428888827562, 0.0572691448032856, 0.004772428888827562, 0.0143172862008214, 0.004772428888827562, 0.3351265788078308, 0.3351265788078308, 0.1675632894039154, 0.4070303440093994, 0.0452255941927433, 0.4522559344768524, 0.0452255941927433, 0.8106046319007874, 0.10132557898759842, 0.443786084651947, 0.1044202521443367, 0.060911815613508224, 0.0696135014295578, 0.060911815613508224, 0.0348067507147789, 0.12182363122701645, 0.026105063036084175, 0.0696135014295578, 0.9452675580978394, 0.004566510207951069, 0.004566510207951069, 0.004566510207951069, 0.009133020415902138, 0.009133020415902138, 0.018266040831804276, 0.03726784512400627, 0.07453569024801254, 0.1242261454463005, 0.54659503698349, 0.18633921444416046, 0.02484522946178913, 0.03128121420741081, 0.8289521336555481, 0.015640607103705406, 0.09384363889694214, 0.03526729345321655, 0.9522169232368469, 0.25823304057121277, 0.016139565035700798, 0.19367477297782898, 0.08069781959056854, 0.14525607228279114, 0.032279130071401596, 0.032279130071401596, 0.032279130071401596, 0.14525607228279114, 0.048418693244457245, 0.3462074398994446, 0.1731037199497223, 0.1731037199497223, 0.25965559482574463, 0.3322678804397583, 0.22151193022727966, 0.11075596511363983, 0.11075596511363983, 0.1613885760307312, 0.3227771520614624, 0.3227771520614624, 0.905847430229187, 0.06587981432676315, 0.01646995358169079, 0.3403182923793793, 0.3403182923793793, 0.17015914618968964, 0.1972169429063797, 0.7724330425262451, 0.010956496931612492, 0.005478248465806246, 0.0607360415160656, 0.006393267773091793, 0.12466871738433838, 0.6169503331184387, 0.16942159831523895, 0.012786535546183586, 0.0031966338865458965, 0.006393267773091793, 0.9323164820671082, 0.2724182903766632, 0.13861992955207825, 0.21455954015254974, 0.1193336769938469, 0.0759396106004715, 0.0867881253361702, 0.028929375112056732, 0.007232343778014183, 0.014464687556028366, 0.013259297236800194, 0.008437734097242355, 0.014464687556028366, 0.0036161718890070915, 0.0012053906684741378, 0.0012053906684741378, 0.06742361187934875, 0.011237268336117268, 0.39330437779426575, 0.24721989035606384, 0.10113541036844254, 0.03371180593967438, 0.03371180593967438, 0.011237268336117268, 0.022474536672234535, 0.022474536672234535, 0.011237268336117268, 0.03371180593967438, 0.17942732572555542, 0.17942732572555542, 0.17942732572555542, 0.35885465145111084, 0.0807209312915802, 0.1614418625831604, 0.1614418625831604, 0.0807209312915802, 0.1614418625831604, 0.0807209312915802, 0.1614418625831604, 0.20806802809238434, 0.4161360561847687, 0.10403401404619217, 0.10403401404619217, 0.10403401404619217, 0.4988863170146942, 0.16629543900489807, 0.16629543900489807, 0.4762346148490906, 0.15874487161636353, 0.31748974323272705, 0.17789900302886963, 0.35579800605773926, 0.35579800605773926, 0.37944212555885315, 0.18972106277942657, 0.18972106277942657, 0.18972106277942657, 0.24196605384349823, 0.12098302692174911, 0.24196605384349823, 0.36294907331466675, 0.17275579273700714, 0.6910231709480286, 0.36661532521247864, 0.36661532521247864, 0.18330766260623932, 0.18470342457294464, 0.18470342457294464, 0.3694068491458893, 0.18470342457294464, 0.1224796250462532, 0.2449592500925064, 0.1224796250462532, 0.1224796250462532, 0.2449592500925064, 0.24963340163230896, 0.24963340163230896, 0.12481670081615448, 0.12481670081615448, 0.12481670081615448, 0.22428205609321594, 0.6728461384773254, 0.11789833754301071, 0.7368645668029785, 0.08842375129461288, 0.029474584385752678, 0.029474584385752678, 0.1280975341796875, 0.011645229533314705, 0.034935690462589264, 0.6987137794494629, 0.058226149529218674, 0.034935690462589264, 0.02329045906662941, 0.011645229533314705, 0.1767434924840927, 0.11782899498939514, 0.06480594724416733, 0.2062007486820221, 0.22387509047985077, 0.01767434924840927, 0.02356579899787903, 0.06480594724416733, 0.02356579899787903, 0.011782899498939514, 0.06480594724416733, 0.17032968997955322, 0.1967601627111435, 0.13508906960487366, 0.11746875196695328, 0.11159531772136688, 0.0939750000834465, 0.06754453480243683, 0.032303906977176666, 0.011746875010430813, 0.011746875010430813, 0.01762031391263008, 0.01468359399586916, 0.005873437505215406, 0.002936718752607703, 0.00881015695631504, 0.9184705018997192, 0.17319542169570923, 0.6927816867828369, 0.046341512352228165, 0.8341472148895264, 0.046341512352228165, 0.09268302470445633, 0.5628789067268372, 0.010423683561384678, 0.07296578586101532, 0.07296578586101532, 0.21889734268188477, 0.03127104789018631, 0.020847367122769356, 0.19471384584903717, 0.19471384584903717, 0.38942769169807434, 0.3679852783679962, 0.14719411730766296, 0.22079117596149445, 0.03679852932691574, 0.20239190757274628, 0.01839926466345787, 0.8611499071121216, 0.7465505003929138, 0.10368756949901581, 0.02073751389980316, 0.02073751389980316, 0.02073751389980316, 0.02073751389980316, 0.04147502779960632, 0.06128937378525734, 0.9287697076797485, 0.0023572836071252823, 0.49722719192504883, 0.32712313532829285, 0.017446568235754967, 0.008723284117877483, 0.008723284117877483, 0.06542462855577469, 0.04361642152070999, 0.008723284117877483, 0.004361642058938742, 0.004361642058938742, 0.004361642058938742, 0.008723284117877483, 0.12708202004432678, 0.8022052049636841, 0.015885252505540848, 0.03574181720614433, 0.007942626252770424, 0.1878129094839096, 0.7780820727348328, 0.36101293563842773, 0.04512661695480347, 0.31588631868362427, 0.09025323390960693, 0.04512661695480347, 0.04512661695480347, 0.09025323390960693, 0.21449215710163116, 0.17953088879585266, 0.17291659116744995, 0.1785859912633896, 0.09354504197835922, 0.058583762496709824, 0.04157557338476181, 0.019842887297272682, 0.014173490926623344, 0.006614295765757561, 0.007559195160865784, 0.006614295765757561, 0.002834698185324669, 0.001889798790216446, 0.001889798790216446, 0.04594617336988449, 0.027227360755205154, 0.37437620759010315, 0.2042052149772644, 0.21441547572612762, 0.042542751878499985, 0.011911970563232899, 0.0034034200944006443, 0.05445472151041031, 0.013613680377602577, 0.0034034200944006443, 0.0017017100472003222, 0.3885795772075653, 0.10264366120100021, 0.05132183060050011, 0.10997535288333893, 0.04399014264345169, 0.23461408913135529, 0.014663380570709705, 0.021995071321725845, 0.007331690285354853, 0.014663380570709705, 0.007331690285354853, 0.1358649730682373, 0.1358649730682373, 0.2717299461364746, 0.1358649730682373, 0.2717299461364746, 0.8155089020729065, 0.11650127172470093, 0.905144453048706, 0.16140231490135193, 0.32280462980270386, 0.4842069149017334, 0.09882458299398422, 0.07058898359537125, 0.32470932602882385, 0.16235466301441193, 0.12000127881765366, 0.04941229149699211, 0.02823559381067753, 0.08470678329467773, 0.021176695823669434, 0.021176695823669434, 0.021176695823669434, 0.007058898452669382, 0.09584234654903412, 0.8625811338424683, 0.4938510060310364, 0.3527507185935974, 0.14110028743743896, 0.8916121125221252, 0.9174073934555054, 0.16147620975971222, 0.16147620975971222, 0.16147620975971222, 0.32295241951942444, 0.974190354347229, 0.3154944181442261, 0.4732416272163391, 0.15774720907211304, 0.031034115701913834, 0.40344351530075073, 0.4655117392539978, 0.06206823140382767, 0.031034115701913834, 0.20419250428676605, 0.6514713168144226, 0.009723451919853687, 0.009723451919853687, 0.029170356690883636, 0.03889380767941475, 0.019446903839707375, 0.019446903839707375, 0.009723451919853687, 0.009723451919853687, 0.40294674038887024, 0.20147337019443512, 0.20147337019443512, 0.20147337019443512, 0.6571291089057922, 0.16428227722644806, 0.03660554066300392, 0.8785330057144165, 0.07321108132600784, 0.3287239670753479, 0.16436198353767395, 0.3287239670753479, 0.8952006101608276, 0.6113194227218628, 0.14943362772464752, 0.1358487606048584, 0.04075462743639946, 0.02716975100338459, 0.24061650037765503, 0.12030825018882751, 0.12030825018882751, 0.36092475056648254, 0.932344377040863, 0.5563274621963501, 0.13908186554908752, 0.27816373109817505, 0.13879643380641937, 0.20819465816020966, 0.4163893163204193, 0.06939821690320969, 0.13879643380641937, 0.5227436423301697, 0.045455969870090485, 0.22727984189987183, 0.09091193974018097, 0.022727984935045242, 0.045455969870090485, 0.1414523869752884, 0.424357146024704, 0.1414523869752884, 0.1414523869752884, 0.1414523869752884, 0.14024095237255096, 0.14024095237255096, 0.14024095237255096, 0.4207228720188141, 0.14024095237255096, 0.39783239364624023, 0.19891619682312012, 0.19891619682312012, 0.19891619682312012, 0.36032310128211975, 0.36032310128211975, 0.12010769546031952, 0.12010769546031952, 0.12010769546031952, 0.18716749548912048, 0.5615024566650391, 0.08087412267923355, 0.7076485753059387, 0.18196676671504974, 0.020218530669808388, 0.1502203345298767, 0.4506610035896301, 0.3004406690597534, 0.8927433490753174, 0.02076147310435772, 0.06228442117571831, 0.38539889454841614, 0.2792745530605316, 0.09309152513742447, 0.07447321712970734, 0.035374779254198074, 0.04282210022211075, 0.04468392953276634, 0.009309152141213417, 0.013032813556492329, 0.0018618304748088121, 0.005585491191595793, 0.0074473218992352486, 0.005585491191595793, 0.0018618304748088121, 0.15533286333084106, 0.12046222388744354, 0.31700584292411804, 0.1458226889371872, 0.1014418676495552, 0.06974128633737564, 0.0253604669123888, 0.0126802334561944, 0.0126802334561944, 0.009510175324976444, 0.0126802334561944, 0.009510175324976444, 0.0031700583640486, 0.0063401167280972, 0.021297529339790344, 0.7752300500869751, 0.008519011549651623, 0.08944962173700333, 0.055373575538396835, 0.02981654182076454, 0.017038023099303246, 0.14017808437347412, 0.3504452407360077, 0.28035616874694824, 0.07008904218673706, 0.14017808437347412, 0.14258155226707458, 0.2026159018278122, 0.21012018620967865, 0.11256438493728638, 0.19511160254478455, 0.015008585527539253, 0.015008585527539253, 0.030017171055078506, 0.007504292763769627, 0.015008585527539253, 0.007504292763769627, 0.03752146288752556, 0.007504292763769627, 0.09427572041749954, 0.0062850480899214745, 0.40224307775497437, 0.43681085109710693, 0.012570096179842949, 0.009427571669220924, 0.0062850480899214745, 0.01885514333844185, 0.0031425240449607372, 0.009427571669220924, 0.8544867038726807, 0.5140377283096313, 0.051403772085905075, 0.15421131253242493, 0.051403772085905075, 0.051403772085905075, 0.10280754417181015, 0.10280754417181015, 0.0014382327208295465, 0.0014382327208295465, 0.16108205914497375, 0.8169161677360535, 0.01438232697546482, 0.0014382327208295465, 0.29907554388046265, 0.0664612352848053, 0.18276838958263397, 0.3489214777946472, 0.049845922738313675, 0.03323061764240265, 0.0045608701184391975, 0.0015202900394797325, 0.0015202900394797325, 0.1839550882577896, 0.7981522679328918, 0.0015202900394797325, 0.0015202900394797325, 0.00608116015791893, 0.0015202900394797325, 0.04209567978978157, 0.37886109948158264, 0.4209567904472351, 0.04209567978978157, 0.04209567978978157, 0.08419135957956314, 0.0026996228843927383, 0.8800770044326782, 0.005399245768785477, 0.0026996228843927383, 0.0026996228843927383, 0.056692078709602356, 0.04859321191906929, 0.7515871524810791, 0.18789678812026978, 0.01880224049091339, 0.7332873940467834, 0.01880224049091339, 0.2068246454000473, 0.009401120245456696, 0.5351870059967041, 0.4013902246952057, 0.001195072429254651, 0.9154254794120789, 0.007170434575527906, 0.002390144858509302, 0.001195072429254651, 0.001195072429254651, 0.04302261024713516, 0.02509652078151703, 0.001195072429254651, 0.07680229097604752, 0.8448252081871033, 0.14186277985572815, 0.42558833956718445, 0.14186277985572815, 0.14186277985572815, 0.571372389793396, 0.19045746326446533, 0.4286956489086151, 0.49728697538375854, 0.04286956414580345, 0.008573913015425205, 0.008573913015425205, 0.3386816382408142, 0.137085422873497, 0.04031924530863762, 0.05644694343209267, 0.04031924530863762, 0.16127698123455048, 0.02419154718518257, 0.016127698123455048, 0.11289388686418533, 0.008063849061727524, 0.06451079249382019, 0.008063849061727524, 0.008063849061727524, 0.16114582121372223, 0.5013425350189209, 0.017905091866850853, 0.004476272966712713, 0.05371527373790741, 0.013428818434476852, 0.08504918217658997, 0.13428817689418793, 0.008952545933425426, 0.004476272966712713, 0.008952545933425426, 0.3937281370162964, 0.1968640685081482, 0.1968640685081482, 0.1968640685081482, 0.3264169991016388, 0.1632084995508194, 0.3264169991016388, 0.1632084995508194, 0.4548950791358948, 0.2274475395679474, 0.1137237697839737, 0.1137237697839737, 0.3880182206630707, 0.19400911033153534, 0.19400911033153534, 0.19400911033153534, 0.8617156744003296, 0.8407825827598572, 0.9247860312461853, 0.028023820370435715, 0.028023820370435715, 0.8619338274002075, 0.06630260497331619, 0.8611909747123718, 0.8947024345397949, 0.21770495176315308, 0.10885247588157654, 0.10885247588157654, 0.43540990352630615, 0.9267458915710449, 0.9741465449333191, 0.038117244839668274, 0.6003466248512268, 0.009529311209917068, 0.25729140639305115, 0.009529311209917068, 0.028587933629751205, 0.05717586725950241, 0.05704491585493088, 0.3422694802284241, 0.07130614668130875, 0.1426122933626175, 0.01426122896373272, 0.02852245792746544, 0.05704491585493088, 0.19965720176696777, 0.05704491585493088, 0.01426122896373272, 0.02852245792746544, 0.05464331433176994, 0.01821443811058998, 0.01821443811058998, 0.3096454441547394, 0.3096454441547394, 0.07285775244235992, 0.03642887622117996, 0.16392993927001953, 0.01821443811058998, 0.9538347125053406, 0.025779318064451218, 0.08609574288129807, 0.41817933320999146, 0.405879944562912, 0.0368981771171093, 0.0368981771171093, 0.4629490375518799, 0.4629490375518799, 0.15636123716831207, 0.31272247433662415, 0.469083696603775, 0.12573467195034027, 0.3772040009498596, 0.3772040009498596, 0.19587767124176025, 0.22268198430538177, 0.15257839858531952, 0.1443309187889099, 0.11546473205089569, 0.05360862612724304, 0.016494961455464363, 0.01237122155725956, 0.02680431306362152, 0.02680431306362152, 0.016494961455464363, 0.008247480727732182, 0.00618561077862978, 0.0020618701819330454, 0.13411830365657806, 0.04470610246062279, 0.14902034401893616, 0.5513752698898315, 0.059608135372400284, 0.029804067686200142, 0.014902033843100071, 0.1866159290075302, 0.1866159290075302, 0.3732318580150604, 0.1866159290075302, 0.316901832818985, 0.06338036060333252, 0.10140858590602875, 0.08873251080513, 0.025352146476507187, 0.316901832818985, 0.025352146476507187, 0.025352146476507187, 0.012676073238253593, 0.03802821785211563, 0.5658647418022156, 0.18862158060073853, 0.18862158060073853, 0.1844988763332367, 0.050317876040935516, 0.14256730675697327, 0.21804411709308624, 0.3019072413444519, 0.06709049642086029, 0.016772624105215073, 0.016772624105215073, 0.07804016768932343, 0.23412050306797028, 0.39020082354545593, 0.07804016768932343, 0.07804016768932343, 0.21559493243694305, 0.5389873385429382, 0.21559493243694305, 0.15673618018627167, 0.31347236037254333, 0.15673618018627167, 0.31347236037254333, 0.47584086656570435, 0.2855045199394226, 0.19033634662628174, 0.10106629133224487, 0.10106629133224487, 0.3031988739967346, 0.4042651653289795, 0.10106629133224487, 0.8760795593261719, 0.3127792477607727, 0.15638962388038635, 0.46916887164115906, 0.32550790905952454, 0.3906095027923584, 0.05508595332503319, 0.06009376794099808, 0.017527349293231964, 0.07010939717292786, 0.01502344198524952, 0.032550789415836334, 0.01502344198524952, 0.005007814150303602, 0.00751172099262476, 0.002503907075151801, 0.005007814150303602, 0.002503907075151801, 0.37263432145118713, 0.37263432145118713, 0.18631716072559357, 0.3223753571510315, 0.2754274904727936, 0.0688568726181984, 0.10485024005174637, 0.046947866678237915, 0.07198672741651535, 0.03286350890994072, 0.03286350890994072, 0.012519431300461292, 0.007824644446372986, 0.009389573708176613, 0.007824644446372986, 0.003129857825115323, 0.916219174861908, 0.009851818904280663, 0.03940727561712265, 0.019703637808561325, 0.4341880977153778, 0.2621135413646698, 0.060026004910469055, 0.0700303390622139, 0.020008668303489685, 0.06602860242128372, 0.022009534761309624, 0.032013870775699615, 0.010004334151744843, 0.002000866923481226, 0.004001733846962452, 0.008003467693924904, 0.002000866923481226, 0.004001733846962452, 0.004001733846962452, 0.30969172716140747, 0.5447255969047546, 0.00276510464027524, 0.008295314386487007, 0.00553020928055048, 0.00276510464027524, 0.00553020928055048, 0.08018803596496582, 0.02212083712220192, 0.00276510464027524, 0.01106041856110096, 0.07276510447263718, 0.023388782516121864, 0.15332646667957306, 0.33264046907424927, 0.3118504583835602, 0.0259875375777483, 0.015592521987855434, 0.007796260993927717, 0.007796260993927717, 0.015592521987855434, 0.007796260993927717, 0.0259875375777483, 0.0025987536646425724, 0.02347066067159176, 0.6689138412475586, 0.09388264268636703, 0.21123595535755157, 0.28503844141960144, 0.13388168811798096, 0.12308478355407715, 0.18138809502124786, 0.08853466808795929, 0.07773775607347488, 0.05398455262184143, 0.010796911083161831, 0.012956293299794197, 0.008637528866529465, 0.012956293299794197, 0.004318764433264732, 0.004318764433264732, 0.002159382216632366, 0.002159382216632366, 0.3121379613876343, 0.4369931221008301, 0.031213795766234398, 0.031213795766234398, 0.031213795766234398, 0.12485518306493759, 0.09867701679468155, 0.03947080671787262, 0.3276076912879944, 0.11446534097194672, 0.22893068194389343, 0.06907390803098679, 0.025656023994088173, 0.0118412422016263, 0.01776186190545559, 0.0118412422016263, 0.025656023994088173, 0.01973540335893631, 0.0019735402893275023, 0.00592062110081315, 0.16571253538131714, 0.16571253538131714, 0.16571253538131714, 0.3314250707626343, 0.46482184529304504, 0.17043468356132507, 0.03873515501618385, 0.054229214787483215, 0.03873515501618385, 0.030988123267889023, 0.030988123267889023, 0.11620546132326126, 0.015494061633944511, 0.007747030816972256, 0.015494061633944511, 0.007747030816972256, 0.30942481756210327, 0.15471240878105164, 0.4641371965408325, 0.18451742827892303, 0.13464786112308502, 0.23189353942871094, 0.18451742827892303, 0.05735001340508461, 0.11719350516796112, 0.022441308945417404, 0.019947830587625504, 0.009973915293812752, 0.012467394582927227, 0.009973915293812752, 0.004986957646906376, 0.002493478823453188, 0.002493478823453188, 0.002493478823453188, 0.06773826479911804, 0.09639675915241241, 0.23708392679691315, 0.28919029235839844, 0.14589780569076538, 0.08337017148733139, 0.013026589527726173, 0.023447860032320023, 0.013026589527726173, 0.013026589527726173, 0.007815953344106674, 0.005210635717958212, 0.002605317858979106, 0.27873751521110535, 0.5574750304222107, 0.13936875760555267, 0.2059892863035202, 0.1686723828315735, 0.1552383005619049, 0.24778421223163605, 0.06418506801128387, 0.07164844870567322, 0.031346194446086884, 0.02239014022052288, 0.004478028044104576, 0.002985351951792836, 0.011941407807171345, 0.011941407807171345, 0.001492675975896418, 0.001492675975896418, 0.6456006765365601, 0.2459431141614914, 0.09222866594791412, 0.5577699542045593, 0.18592332303524017, 0.8305233120918274, 0.09228036552667618, 0.8632520437240601, 0.07847745716571808, 0.20126593112945557, 0.40253186225891113, 0.20126593112945557, 0.20126593112945557, 0.31179308891296387, 0.13362561166286469, 0.26725122332572937, 0.044541869312524796, 0.13362561166286469, 0.044541869312524796, 0.053363509476184845, 0.9071796536445618, 0.18829908967018127, 0.5648972988128662, 0.37130606174468994, 0.18565303087234497, 0.37130606174468994, 0.9052278399467468, 0.060348525643348694, 0.32116463780403137, 0.6423292756080627, 0.02470497228205204, 0.11280529201030731, 0.09024423360824585, 0.2481716424226761, 0.16920794546604156, 0.19176900386810303, 0.056402646005153656, 0.06768317520618439, 0.022561058402061462, 0.022561058402061462, 0.022561058402061462, 0.15299272537231445, 0.035306014120578766, 0.18829874694347382, 0.18241441249847412, 0.23537342250347137, 0.07061202824115753, 0.005884335841983557, 0.005884335841983557, 0.005884335841983557, 0.011768671683967113, 0.023537343367934227, 0.058843355625867844, 0.005884335841983557, 0.005884335841983557, 0.005884335841983557, 0.18258297443389893, 0.5477489233016968, 0.18258297443389893, 0.8204290270805359, 0.04002092778682709, 0.12006278336048126, 0.27588000893592834, 0.13794000446796417, 0.5517600178718567, 0.07468844205141068, 0.06535238772630692, 0.13070477545261383, 0.17738504707813263, 0.5041469931602478, 0.028008166700601578, 0.009336055256426334, 0.270169198513031, 0.1801127940416336, 0.0900563970208168, 0.1801127940416336, 0.2251410037279129, 0.012815836817026138, 0.025631673634052277, 0.8501172065734863, 0.008543891832232475, 0.004271945916116238, 0.05980724096298218, 0.008543891832232475, 0.01708778366446495, 0.004271945916116238, 0.3442060947418213, 0.35058027505874634, 0.06374187022447586, 0.0828644335269928, 0.06374187022447586, 0.0701160579919815, 0.006374186836183071, 0.006374186836183071, 0.05230410024523735, 0.0932377427816391, 0.3524841368198395, 0.15918639302253723, 0.24105367064476013, 0.04775591567158699, 0.004548182711005211, 0.006822274066507816, 0.004548182711005211, 0.020466821268200874, 0.013644548133015633, 0.0022740913555026054, 0.883389413356781, 0.06795302778482437, 0.2770709693431854, 0.2770709693431854, 0.1385354846715927, 0.1385354846715927, 0.1385354846715927, 0.3611360490322113, 0.12037868797779083, 0.24075737595558167, 0.12037868797779083, 0.1708243191242218, 0.512472927570343, 0.3416486382484436, 0.75841224193573, 0.19452643394470215, 0.46343061327934265, 0.022885462269186974, 0.1201486736536026, 0.005721365567296743, 0.07437775284051895, 0.06865638494491577, 0.005721365567296743, 0.005721365567296743, 0.022885462269186974, 0.011442731134593487, 0.35972732305526733, 0.6166754364967346, 0.020555848255753517, 0.8967506885528564, 0.045987214893102646, 0.022993607446551323, 0.3909512162208557, 0.09773780405521393, 0.09773780405521393, 0.19547560811042786, 0.19547560811042786, 0.5308408737182617, 0.0856194943189621, 0.10274339467287064, 0.18836289644241333, 0.01712389849126339, 0.01712389849126339, 0.05137169733643532, 0.3464280068874359, 0.1443450003862381, 0.21651749312877655, 0.10104149580001831, 0.07217250019311905, 0.01443449966609478, 0.01443449966609478, 0.01443449966609478, 0.01443449966609478, 0.01443449966609478, 0.02886899933218956, 0.009218252263963223, 0.5807499289512634, 0.12905552983283997, 0.2673293352127075, 0.16004455089569092, 0.13588687777519226, 0.22043870389461517, 0.1962810456752777, 0.12380804121494293, 0.06039416790008545, 0.03925620764493942, 0.012078833766281605, 0.012078833766281605, 0.006039416883140802, 0.018118251115083694, 0.006039416883140802, 0.006039416883140802, 0.48130670189857483, 0.16043557226657867, 0.16043557226657867, 0.2813800871372223, 0.14948317408561707, 0.035172510892152786, 0.05275876820087433, 0.008793127723038197, 0.38689762353897095, 0.021982818841934204, 0.013189692050218582, 0.013189692050218582, 0.030775947496294975, 0.004396563861519098, 0.8841424584388733, 0.017336126416921616, 0.017336126416921616, 0.052008382976055145, 0.16593696177005768, 0.1533435434103012, 0.23927518725395203, 0.1548251211643219, 0.11334087699651718, 0.07111584395170212, 0.02666844055056572, 0.014815800823271275, 0.01185264065861702, 0.014075011014938354, 0.0222237017005682, 0.008148690685629845, 0.002222370123490691, 0.0007407900411635637, 0.002222370123490691, 0.10113994032144547, 0.8091195225715637, 0.10113994032144547, 0.06450068205595016, 0.12900136411190033, 0.12900136411190033, 0.12900136411190033, 0.06450068205595016, 0.32250338792800903, 0.12900136411190033, 0.062326908111572266, 0.5787498354911804, 0.00445192214101553, 0.32053837180137634, 0.01780768856406212, 0.00445192214101553, 0.00445192214101553, 0.00445192214101553, 0.8949029445648193, 0.07457524538040161, 0.5972335934638977, 0.05972335860133171, 0.23889343440532684, 0.05972335860133171, 0.12736524641513824, 0.1006791964173317, 0.3178066313266754, 0.16375532746315002, 0.15041229128837585, 0.054585106670856476, 0.0266860518604517, 0.008491016924381256, 0.007278014440089464, 0.014556028880178928, 0.018195034936070442, 0.007278014440089464, 0.00242600473575294, 0.00121300236787647, 0.06837920844554901, 0.13675841689109802, 0.20513764023780823, 0.20513764023780823, 0.13675841689109802, 0.20513764023780823, 0.921884298324585, 0.1935943067073822, 0.580782949924469, 0.1935943067073822, 0.13565005362033844, 0.3526901304721832, 0.08139003068208694, 0.027130011469125748, 0.08139003068208694, 0.29843011498451233, 0.11039943993091583, 0.22079887986183167, 0.44159775972366333, 0.11039943993091583, 0.1994340419769287, 0.6980191469192505, 0.8758790493011475, 0.5298172235488892, 0.23841774463653564, 0.07947257906198502, 0.04768354818224907, 0.005298172123730183, 0.02119268849492073, 0.02119268849492073, 0.026490861549973488, 0.005298172123730183, 0.010596344247460365, 0.005298172123730183, 0.2458459734916687, 0.22380460798740387, 0.1797218918800354, 0.10512034595012665, 0.09664290398359299, 0.052560172975063324, 0.033909790217876434, 0.011868426576256752, 0.01017293706536293, 0.008477447554469109, 0.01017293706536293, 0.013563916087150574, 0.0033909790217876434, 0.005086468532681465, 0.7390637397766113, 0.06928722560405731, 0.011547870934009552, 0.04041754826903343, 0.011547870934009552, 0.02886967733502388, 0.04619148373603821, 0.005773935467004776, 0.005773935467004776, 0.011547870934009552, 0.02886967733502388, 0.2799554467201233, 0.3382120728492737, 0.07443902641534805, 0.08576670289039612, 0.019418876618146896, 0.11651325225830078, 0.03883775323629379, 0.012945917434990406, 0.016182396560907364, 0.006472958717495203, 0.004854719154536724, 0.0032364793587476015, 0.0016182396793738008, 0.0032364793587476015, 0.37761545181274414, 0.22136078774929047, 0.1128505989909172, 0.04774448275566101, 0.02604244463145733, 0.09114855527877808, 0.05208488926291466, 0.030382853001356125, 0.0043404074385762215, 0.0043404074385762215, 0.0043404074385762215, 0.008680814877152443, 0.013021222315728664, 0.008680814877152443, 0.7373122572898865, 0.14746245741844177, 0.08714625984430313, 0.7843163013458252, 0.08714625984430313, 0.8745537996292114, 0.048586320132017136, 0.024293160066008568, 0.024293160066008568, 0.6483813524246216, 0.1620953381061554, 0.3228156268596649, 0.16140781342983246, 0.3228156268596649, 0.15651223063468933, 0.31302446126937866, 0.15651223063468933, 0.31302446126937866, 0.0098025007173419, 0.00196050014346838, 0.8939880132675171, 0.03136800229549408, 0.005881499964743853, 0.00196050014346838, 0.02744700014591217, 0.02352599985897541, 0.8926624059677124, 0.006468567997217178, 0.006468567997217178, 0.019405703991651535, 0.07115425169467926, 0.1523037552833557, 0.15973320603370667, 0.26560288667678833, 0.12072858214378357, 0.1467316597700119, 0.04829143360257149, 0.022288354113698006, 0.04457670822739601, 0.009286814369261265, 0.005572088528424501, 0.009286814369261265, 0.0074294512160122395, 0.0018573628040030599, 0.0037147256080061197, 0.9220777153968811, 0.35781776905059814, 0.22547420859336853, 0.09803226590156555, 0.10538468509912491, 0.05391774699091911, 0.05391774699091911, 0.03676209971308708, 0.02205725945532322, 0.009803226217627525, 0.009803226217627525, 0.004901613108813763, 0.009803226217627525, 0.009803226217627525, 0.0024508065544068813, 0.0024508065544068813, 0.3400956988334656, 0.0850239247083664, 0.1700478494167328, 0.0850239247083664, 0.255071759223938, 0.8716268539428711, 0.3117915689945221, 0.1455027312040329, 0.19027280807495117, 0.12631556391716003, 0.10872732102870941, 0.03677541762590408, 0.03037969209253788, 0.011192518286406994, 0.007994655519723892, 0.014390381053090096, 0.006395724602043629, 0.0031978623010218143, 0.0031978623010218143, 0.0015989311505109072, 0.0015989311505109072, 0.2045658528804779, 0.2060924619436264, 0.10533615201711655, 0.2137255221605301, 0.036638662219047546, 0.14808125793933868, 0.030532216653227806, 0.022899163886904716, 0.013739497400820255, 0.003053221618756652, 0.004579832777380943, 0.006106443237513304, 0.001526610809378326, 0.003053221618756652, 0.001526610809378326, 0.8043566942214966, 0.01577170006930828, 0.1577170044183731, 0.01577170006930828, 0.3591857850551605, 0.07981906086206436, 0.11972859501838684, 0.3591857850551605, 0.05986429750919342, 0.16543640196323395, 0.6617456078529358, 0.03308727964758873, 0.09926184266805649, 0.11765366047620773, 0.8471063375473022, 0.023530730977654457, 0.8195239901542664, 0.016724979504942894, 0.016724979504942894, 0.008362489752471447, 0.09198738634586334, 0.03344995900988579, 0.068491630256176, 0.068491630256176, 0.136983260512352, 0.136983260512352, 0.045661088079214096, 0.45661085844039917, 0.068491630256176, 0.022830544039607048, 0.09175547957420349, 0.13763321936130524, 0.2752664387226105, 0.18351095914840698, 0.13763321936130524, 0.045877739787101746, 0.045877739787101746, 0.9047499299049377, 0.1879814863204956, 0.12734229862689972, 0.23447152972221375, 0.17787495255470276, 0.08287355303764343, 0.09904400259256363, 0.008085224777460098, 0.022234369069337845, 0.022234369069337845, 0.018191756680607796, 0.014149143360555172, 0.004042612388730049, 0.7504532933235168, 0.15009066462516785, 0.2775477170944214, 0.1301419883966446, 0.10358239710330963, 0.24434822797775269, 0.09694249927997589, 0.03585544601082802, 0.030543528497219086, 0.017263732850551605, 0.01991969160735607, 0.006639897357672453, 0.018591713160276413, 0.009295856580138206, 0.00531191797927022, 0.00265595898963511, 0.31826138496398926, 0.31826138496398926, 0.15913069248199463, 0.15913069248199463, 0.3470732867717743, 0.007230693940073252, 0.08676832169294357, 0.007230693940073252, 0.2024594247341156, 0.2530742883682251, 0.057845551520586014, 0.028922775760293007, 0.026697898283600807, 0.934426486492157, 0.09716565907001495, 0.4372454583644867, 0.3643712103366852, 0.02429141476750374, 0.07287424057722092, 0.7092954516410828, 0.1773238629102707, 0.27202191948890686, 0.09067396819591522, 0.09067396819591522, 0.18134793639183044, 0.09067396819591522, 0.09067396819591522, 0.18134793639183044, 0.0822438895702362, 0.45234137773513794, 0.1644877791404724, 0.02056097239255905, 0.061682913452386856, 0.0411219447851181, 0.02056097239255905, 0.0822438895702362, 0.0411219447851181, 0.0411219447851181, 0.14401495456695557, 0.7200748324394226, 0.048004988580942154, 0.048004988580942154, 0.10270772129297256, 0.2567692995071411, 0.5648924708366394, 0.05135386064648628, 0.36751434206962585, 0.5512714982032776, 0.18513454496860504, 0.3702690899372101, 0.18513454496860504, 0.18513454496860504, 0.9592350125312805, 0.02230779081583023, 0.011153895407915115, 0.2251502275466919, 0.032164316624403, 0.032164316624403, 0.4503004550933838, 0.08041079342365265, 0.032164316624403, 0.0160821583122015, 0.032164316624403, 0.11257511377334595, 0.10444629937410355, 0.7311241030693054, 0.10444629937410355, 0.5948622822761536, 0.19828742742538452, 0.19828742742538452, 0.10662886500358582, 0.24880068004131317, 0.10662886500358582, 0.07108590751886368, 0.10662886500358582, 0.31988659501075745, 0.03554295375943184, 0.32883405685424805, 0.32883405685424805, 0.16441702842712402, 0.16441702842712402, 0.16571414470672607, 0.4971424341201782, 0.33142828941345215, 0.8221166729927063, 0.10276458412408829, 0.30728551745414734, 0.2633875906467438, 0.17559172213077545, 0.1316937953233719, 0.04389793053269386, 0.04389793053269386, 0.19502153992652893, 0.5850645899772644, 0.19502153992652893, 0.9184561371803284, 0.05925523489713669, 0.17780821025371552, 0.08890410512685776, 0.7112328410148621, 0.19642621278762817, 0.004293469246476889, 0.23292070627212524, 0.03542112186551094, 0.3166433572769165, 0.13739101588726044, 0.011807040311396122, 0.004293469246476889, 0.04293469339609146, 0.017173876985907555, 0.6049372553825378, 0.20164576172828674, 0.15123431384563446, 0.8796009421348572, 0.07212866097688675, 0.577029287815094, 0.30294036865234375, 0.01442573219537735, 0.01442573219537735, 0.9015828371047974, 0.06811549514532089, 0.9195591807365417, 0.004257218446582556, 0.23929816484451294, 0.2042011022567749, 0.1818666011095047, 0.21217770874500275, 0.004785963334143162, 0.07817073166370392, 0.014357890002429485, 0.01595321111381054, 0.01754853129386902, 0.009571926668286324, 0.004785963334143162, 0.01595321111381054, 0.5417518019676208, 0.361167848110199, 0.08303315937519073, 0.830331563949585, 0.2061503380537033, 0.2061503380537033, 0.4123006761074066, 0.27584874629974365, 0.045974791049957275, 0.6436470746994019, 0.9275733828544617, 0.23361043632030487, 0.27175092697143555, 0.0953511968255043, 0.18593484163284302, 0.03814047947525978, 0.033372920006513596, 0.042908038944005966, 0.05721072107553482, 0.01907023973762989, 0.009535119868814945, 0.1099027544260025, 0.15630614757537842, 0.2002672404050827, 0.24422834813594818, 0.11478732526302338, 0.07815307378768921, 0.03419196978211403, 0.014653700403869152, 0.017095984891057014, 0.0048845671117305756, 0.012211417779326439, 0.0024422835558652878, 0.0024422835558652878, 0.0048845671117305756, 0.42101049423217773, 0.14033684134483337, 0.28067368268966675, 0.5225427150726318, 0.18811537325382233, 0.06270512193441391, 0.02090170793235302, 0.06270512193441391, 0.02090170793235302, 0.04180341586470604, 0.08360683172941208, 0.2522718012332916, 0.2522718012332916, 0.1261359006166458, 0.2522718012332916, 0.18631966412067413, 0.2831328213214874, 0.1552663892507553, 0.1534397304058075, 0.05845322832465172, 0.04749324917793274, 0.06393321603536606, 0.0036533267702907324, 0.02374662458896637, 0.005479990039020777, 0.00913331750780344, 0.005479990039020777, 0.0018266633851453662, 0.002633417956531048, 0.9453970789909363, 0.005266835913062096, 0.002633417956531048, 0.002633417956531048, 0.026334179565310478, 0.007900253869593143, 0.5591424703598022, 0.2795712351799011, 0.13074414432048798, 0.15299847722053528, 0.25175201892852783, 0.13769862055778503, 0.15786661207675934, 0.09388542920351028, 0.027817904949188232, 0.006954476237297058, 0.007649923674762249, 0.015995295718312263, 0.007649923674762249, 0.003477238118648529, 0.0013908952241763473, 0.0013908952241763473, 0.00208634277805686, 0.06831514835357666, 0.48796534538269043, 0.06831514835357666, 0.009759306907653809, 0.05855584144592285, 0.253741979598999, 0.019518613815307617, 0.019518613815307617, 0.16332769393920898, 0.3448029160499573, 0.10888513177633286, 0.01814752258360386, 0.05444256588816643, 0.05444256588816643, 0.01814752258360386, 0.1996227353811264, 0.01814752258360386, 0.190709188580513, 0.08581914007663727, 0.10965778678655624, 0.2908315062522888, 0.2399757355451584, 0.033374108374118805, 0.015892433002591133, 0.0031784866005182266, 0.0031784866005182266, 0.00476772990077734, 0.006356973201036453, 0.006356973201036453, 0.0031784866005182266, 0.00476772990077734, 0.0015892433002591133, 0.8808162212371826, 0.32403290271759033, 0.16201645135879517, 0.1377139836549759, 0.04860493168234825, 0.14581480622291565, 0.03240329027175903, 0.07290740311145782, 0.008100822567939758, 0.024302465841174126, 0.016201645135879517, 0.008100822567939758, 0.03240329027175903, 0.11143763363361359, 0.44575053453445435, 0.022287527099251747, 0.28973785042762756, 0.13372516632080078, 0.022287527099251747, 0.8583289384841919, 0.037318650633096695, 0.07463730126619339, 0.037318650633096695, 0.28379708528518677, 0.5675941705703735, 0.14189854264259338, 0.23910671472549438, 0.17608633637428284, 0.09823764115571976, 0.2502279579639435, 0.05931329354643822, 0.09267701953649521, 0.03336372971534729, 0.009267701767385006, 0.014828323386609554, 0.011121242307126522, 0.007414161693304777, 0.007414161693304777, 0.0018535404233261943, 0.22911183536052704, 0.22911183536052704, 0.4582236707210541, 0.48330461978912354, 0.1611015349626541, 0.1611015349626541, 0.15954910218715668, 0.15954910218715668, 0.15954910218715668, 0.15954910218715668, 0.31909820437431335, 0.33033087849617004, 0.5780790448188782, 0.027527572587132454, 0.027527572587132454, 0.1159517765045166, 0.6522287130355835, 0.014493972063064575, 0.0579758882522583, 0.014493972063064575, 0.02898794412612915, 0.07246986031532288, 0.02898794412612915, 0.014493972063064575, 0.014493972063064575, 0.26333481073379517, 0.16404463350772858, 0.1532522290945053, 0.11224106699228287, 0.12087499350309372, 0.07986383885145187, 0.028060266748070717, 0.008633928373456001, 0.019426338374614716, 0.03021874837577343, 0.012950892560184002, 0.004316964186728001, 0.053348977118730545, 0.07422466576099396, 0.23195207118988037, 0.30849626660346985, 0.16468597948551178, 0.12525412440299988, 0.009278083220124245, 0.0069585624150931835, 0.009278083220124245, 0.002319520805031061, 0.0069585624150931835, 0.002319520805031061, 0.002319520805031061, 0.32929620146751404, 0.16464810073375702, 0.16464810073375702, 0.16464810073375702, 0.16464810073375702, 0.06735467165708542, 0.8756107091903687, 0.39966854453086853, 0.19983427226543427, 0.19983427226543427, 0.20493122935295105, 0.18771010637283325, 0.0964382216334343, 0.1136593371629715, 0.07749500125646591, 0.21698600053787231, 0.027553778141736984, 0.020665332674980164, 0.006888444535434246, 0.008610555902123451, 0.015499000437557697, 0.018943222239613533, 0.0017221111338585615, 0.0017221111338585615, 0.3842824399471283, 0.34230202436447144, 0.03552190586924553, 0.04198043420910835, 0.03875117003917694, 0.08719013631343842, 0.01937558501958847, 0.012917056679725647, 0.01614632084965706, 0.0032292641699314117, 0.009687792509794235, 0.0032292641699314117, 0.7794199585914612, 0.1558839976787567, 0.35272127389907837, 0.19266925752162933, 0.12971040606498718, 0.047788042575120926, 0.04930512234568596, 0.08799067884683609, 0.05309782549738884, 0.02654891274869442, 0.012895186431705952, 0.017446428537368774, 0.016687888652086258, 0.007585403509438038, 0.0053097824566066265, 0.0007585403509438038, 0.16161678731441498, 0.08080839365720749, 0.26936131715774536, 0.05387226492166519, 0.05387226492166519, 0.05387226492166519, 0.026936132460832596, 0.026936132460832596, 0.18855293095111847, 0.05387226492166519, 0.026936132460832596, 0.045191675424575806, 0.31634172797203064, 0.045191675424575806, 0.13557502627372742, 0.13557502627372742, 0.13557502627372742, 0.045191675424575806, 0.045191675424575806, 0.09038335084915161, 0.20978151261806488, 0.23899899423122406, 0.17939533293247223, 0.1116107776761055, 0.07771849632263184, 0.05551321059465408, 0.042657520622015, 0.01869918778538704, 0.01869918778538704, 0.021036585792899132, 0.012855690903961658, 0.008180894888937473, 0.00233739847317338, 0.001753048854880035, 0.001753048854880035, 0.24676953256130219, 0.08542022109031677, 0.07592909038066864, 0.1091480627655983, 0.09965692460536957, 0.22304169833660126, 0.052201248705387115, 0.00949113629758358, 0.04745567962527275, 0.01898227259516716, 0.01423670444637537, 0.00474556814879179, 0.00474556814879179, 0.01423670444637537, 0.010075656697154045, 0.17128616571426392, 0.7859011888504028, 0.02015131339430809, 0.010075656697154045, 0.6803182363510132, 0.04081909358501434, 0.013606364838778973, 0.12926046550273895, 0.013606364838778973, 0.05442545935511589, 0.006803182419389486, 0.04081909358501434, 0.013606364838778973, 0.006803182419389486, 0.8591428995132446, 0.07810389995574951, 0.4360997974872589, 0.04360998049378395, 0.0872199609875679, 0.2616598904132843, 0.04360998049378395, 0.13082994520664215, 0.22037595510482788, 0.1797240823507309, 0.13479305803775787, 0.15404920279979706, 0.07702460139989853, 0.11981604993343353, 0.03316337242722511, 0.019256150349974632, 0.021395724266767502, 0.008558289147913456, 0.008558289147913456, 0.018186364322900772, 0.003209358546882868, 0.001069786143489182, 0.001069786143489182, 0.14457812905311584, 0.8118618130683899, 0.0333641842007637, 0.9198718667030334, 0.21493656933307648, 0.19611001014709473, 0.16943904757499695, 0.14433696866035461, 0.04549752175807953, 0.11452824622392654, 0.04235976189374924, 0.023533200845122337, 0.004706640262156725, 0.007844400592148304, 0.014119921252131462, 0.007844400592148304, 0.010982160456478596, 0.0015688800485804677, 0.0031377600971609354, 0.3172541856765747, 0.21102428436279297, 0.12345638126134872, 0.10622990876436234, 0.06747034937143326, 0.055986035615205765, 0.041630640625953674, 0.024404168128967285, 0.01579093188047409, 0.011484314687550068, 0.004306618124246597, 0.008613236248493195, 0.007177696563303471, 0.0014355393359437585, 0.002871078671887517, 0.14580219984054565, 0.09134595096111298, 0.1967451274394989, 0.1317489743232727, 0.14580219984054565, 0.19147516787052155, 0.02986310049891472, 0.017566530033946037, 0.005269959103316069, 0.0140532236546278, 0.021079836413264275, 0.00351330591365695, 0.00351330591365695, 0.16118258237838745, 0.09977969527244568, 0.16885794699192047, 0.18420866131782532, 0.023026082664728165, 0.26096227765083313, 0.03837680444121361, 0.030701443552970886, 0.030701443552970886, 0.0076753608882427216, 0.9079341888427734, 0.01815868355333805, 0.054476048797369, 0.041675884276628494, 0.9307613968849182, 0.013891961425542831, 0.06625582277774811, 0.9275815486907959, 0.013191851787269115, 0.3640950918197632, 0.3350730240345001, 0.14774873852729797, 0.010553481057286263, 0.10553481429815292, 0.01583022251725197, 0.0026383702643215656, 0.0026383702643215656, 0.38323289155960083, 0.19161644577980042, 0.38323289155960083, 0.3748142123222351, 0.18740710616111755, 0.18740710616111755, 0.18740710616111755, 0.18740710616111755, 0.07909759134054184, 0.23729276657104492, 0.07909759134054184, 0.15819518268108368, 0.07909759134054184, 0.07909759134054184, 0.31639036536216736, 0.30343082547187805, 0.6755629181861877, 0.011450218968093395, 0.9619072675704956, 0.014976351521909237, 0.6988964080810547, 0.002496058586984873, 0.017472410574555397, 0.23462951183319092, 0.017472410574555397, 0.0074881757609546185, 0.002496058586984873, 0.002496058586984873, 0.14005045592784882, 0.4989297688007355, 0.008753153495490551, 0.14005045592784882, 0.1663099229335785, 0.017506306990981102, 0.008753153495490551, 0.026259461417794228, 0.19019059836864471, 0.570571780204773, 0.19019059836864471, 0.9121326208114624, 0.18373720347881317, 0.18373720347881317, 0.18373720347881317, 0.18373720347881317, 0.36747440695762634, 0.06596458703279495, 0.5606989860534668, 0.36280521750450134, 0.10559021681547165, 0.6335412859916687, 0.2111804336309433, 0.7425130605697632, 0.1856282651424408, 0.1467294543981552, 0.13128423690795898, 0.2349877655506134, 0.15224559605121613, 0.15665851533412933, 0.08053570985794067, 0.03309686854481697, 0.03199363872408867, 0.005516144912689924, 0.003309686901047826, 0.01434197649359703, 0.005516144912689924, 0.003309686901047826, 0.1479978859424591, 0.7399893999099731, 0.500648021697998, 0.10728172212839127, 0.3933663070201874, 0.0684097483754158, 0.0684097483754158, 0.8209169507026672, 0.026737520471215248, 0.10695008188486099, 0.8556006550788879, 0.0017344839870929718, 0.07631729543209076, 0.9123385548591614, 0.0034689679741859436, 0.0017344839870929718, 0.3524363338947296, 0.03524363413453102, 0.5638981461524963, 0.03524363413453102, 0.09111833572387695, 0.016079707071185112, 0.1554371565580368, 0.4073525667190552, 0.19831638038158417, 0.06431882828474045, 0.016079707071185112, 0.016079707071185112, 0.010719804093241692, 0.026799511164426804, 0.8926993012428284, 0.011902657337486744, 0.047610629349946976, 0.011902657337486744, 0.011902657337486744, 0.5479215383529663, 0.02004591003060341, 0.04677379131317139, 0.22718697786331177, 0.04677379131317139, 0.013363939709961414, 0.006681969854980707, 0.060137730091810226, 0.02004591003060341, 0.006681969854980707, 0.8064495325088501, 0.13166522979736328, 0.03291630744934082, 0.01645815372467041, 0.5015726089477539, 0.11309970170259476, 0.04425640404224396, 0.019669512286782265, 0.08851280808448792, 0.14260396361351013, 0.024586891755461693, 0.014752134680747986, 0.024586891755461693, 0.019669512286782265, 0.004917378071695566, 0.028176605701446533, 0.525963306427002, 0.018784403800964355, 0.14088302850723267, 0.24419724941253662, 0.009392201900482178, 0.028176605701446533, 0.11260164529085159, 0.7882115244865417, 0.16924706101417542, 0.1450689136981964, 0.02417815290391445, 0.1934252232313156, 0.0725344568490982, 0.24178151786327362, 0.0725344568490982, 0.0483563058078289, 0.02417815290391445, 0.06814170628786087, 0.9028776288032532, 0.017035426571965218, 0.5904784202575684, 0.16870811581611633, 0.08435405790805817, 0.08435405790805817, 0.009568843990564346, 0.06698190420866013, 0.8707647919654846, 0.04784421622753143, 0.0992085263133049, 0.8432725071907043, 0.16105522215366364, 0.3865325450897217, 0.09663313627243042, 0.06442209333181381, 0.25768837332725525, 0.032211046665906906, 0.3945004642009735, 0.3945004642009735, 0.19725023210048676, 0.7086122632026672, 0.2362041026353836, 0.8291179537773132, 0.07209721207618713, 0.07209721207618713, 0.9279153943061829, 0.04034414514899254, 0.1887531280517578, 0.10835827142000198, 0.19749169051647186, 0.23594141006469727, 0.04718828201293945, 0.10311513394117355, 0.040197424590587616, 0.03320656716823578, 0.017477141693234444, 0.005243142135441303, 0.013981712982058525, 0.005243142135441303, 0.0034954282455146313, 0.0017477141227573156, 0.18551968038082123, 0.18551968038082123, 0.37103936076164246, 0.18551968038082123, 0.07564011216163635, 0.01512802205979824, 0.19666428864002228, 0.589992880821228, 0.04538406804203987, 0.06051208823919296, 0.01512802205979824, 0.20453360676765442, 0.046248044818639755, 0.3882230222225189, 0.07816570997238159, 0.20844188332557678, 0.024101093411445618, 0.00846795178949833, 0.001302761840634048, 0.000651380920317024, 0.020844189450144768, 0.011724855750799179, 0.0058624278753995895, 0.001302761840634048, 0.21646280586719513, 0.7035040855407715, 0.05411570146679878, 0.9620051383972168, 0.04080844298005104, 0.5713182091712952, 0.36727601289749146, 0.18197306990623474, 0.22317451238632202, 0.19227342307567596, 0.23175814747810364, 0.061802174896001816, 0.06523562967777252, 0.008583635091781616, 0.012017088942229748, 0.005150181241333485, 0.003433454083278775, 0.00686690816655755, 0.005150181241333485, 0.0017167270416393876, 0.08053620159626007, 0.40268102288246155, 0.026845401152968407, 0.40268102288246155, 0.05369080230593681, 0.8448440432548523, 0.12069200724363327, 0.02202671766281128, 0.6094058752059937, 0.09544911235570908, 0.06240903586149216, 0.01835559867322445, 0.15418702363967896, 0.003671119688078761, 0.01101335883140564, 0.01835559867322445, 0.9253997206687927, 0.19301792979240417, 0.5790538191795349, 0.1025758907198906, 0.09365624934434891, 0.12041518092155457, 0.4207098186016083, 0.13825446367263794, 0.052031248807907104, 0.011892857030034065, 0.017839286476373672, 0.008919643238186836, 0.0014866071287542582, 0.007433035876601934, 0.01040625013411045, 0.007433035876601934, 0.0029732142575085163, 0.17310243844985962, 0.6924097537994385, 0.18691881000995636, 0.18691881000995636, 0.3738376200199127, 0.11586792767047882, 0.15449057519435883, 0.27035850286483765, 0.07724528759717941, 0.07724528759717941, 0.07724528759717941, 0.19311320781707764, 0.28077155351638794, 0.4211573004722595, 0.14038577675819397, 0.4843325912952423, 0.16144418716430664, 0.16144418716430664, 0.8783462047576904, 0.619944155216217, 0.07749301940202713, 0.2324790507555008, 0.12725946307182312, 0.381778359413147, 0.12725946307182312, 0.381778359413147, 0.4370080232620239, 0.1456693410873413, 0.1456693410873413, 0.1456693410873413, 0.11966513842344284, 0.1686190515756607, 0.2665269076824188, 0.1849370300769806, 0.08702918887138367, 0.038075271993875504, 0.016317972913384438, 0.038075271993875504, 0.021757297217845917, 0.016317972913384438, 0.016317972913384438, 0.010878648608922958, 0.010878648608922958, 0.057864703238010406, 0.46291762590408325, 0.40505293011665344, 0.028932351619005203, 0.3883836269378662, 0.17904208600521088, 0.11844322830438614, 0.06335335224866867, 0.107425257563591, 0.06335335224866867, 0.022035948932170868, 0.0247904434800148, 0.005508987233042717, 0.013772469013929367, 0.005508987233042717, 0.0027544936165213585, 0.8940165638923645, 0.026638763025403023, 0.9589954614639282, 0.013319381512701511, 0.3168986439704895, 0.1976357102394104, 0.0988178551197052, 0.14311550557613373, 0.03748263418674469, 0.0783727765083313, 0.03407512232661247, 0.044297657907009125, 0.017037561163306236, 0.003407512092962861, 0.013630048371851444, 0.010222536511719227, 0.006815024185925722, 0.003407512092962861, 0.31022438406944275, 0.3246908187866211, 0.061080452054739, 0.0867985337972641, 0.0257180854678154, 0.0932280570268631, 0.0417918860912323, 0.008036901243031025, 0.01928856410086155, 0.0016073803417384624, 0.0016073803417384624, 0.0128590427339077, 0.01125166192650795, 0.327602744102478, 0.163801372051239, 0.327602744102478, 0.39203041791915894, 0.19601520895957947, 0.19601520895957947, 0.1252455860376358, 0.6262279152870178, 0.1252455860376358, 0.8467506766319275, 0.07461763173341751, 0.8021395802497864, 0.037308815866708755, 0.05596322566270828, 0.5339893102645874, 0.35599285364151, 0.36941996216773987, 0.554129958152771, 0.04586886614561081, 0.7109674215316772, 0.022934433072805405, 0.18347546458244324, 0.7333590388298035, 0.18333975970745087, 0.029952645301818848, 0.11981058120727539, 0.8386740684509277, 0.19250664114952087, 0.0623864121735096, 0.3422340452671051, 0.10873060673475266, 0.14972738921642303, 0.06951628625392914, 0.01782468892633915, 0.008912344463169575, 0.005347406957298517, 0.0267370343208313, 0.008912344463169575, 0.005347406957298517, 0.0017824689857661724, 0.2832163870334625, 0.1902199685573578, 0.16063019633293152, 0.0612931028008461, 0.02113555185496807, 0.10356420278549194, 0.06552021205425262, 0.023249106481671333, 0.035930439829826355, 0.008454221300780773, 0.014794886112213135, 0.01902199722826481, 0.012681331485509872, 0.0021135553251951933, 0.3299081027507782, 0.549846887588501, 0.14088159799575806, 0.4930855929851532, 0.14088159799575806, 0.14088159799575806, 0.08846663683652878, 0.8973044157028198, 0.9052621126174927, 0.4149453938007355, 0.2766302525997162, 0.2766302525997162, 0.18670430779457092, 0.2450494021177292, 0.16920077800750732, 0.005834509618580341, 0.01750352792441845, 0.2742219567298889, 0.0700141116976738, 0.005834509618580341, 0.005834509618580341, 0.01750352792441845, 0.005834509618580341, 0.1663024127483368, 0.1663024127483368, 0.3326048254966736, 0.1663024127483368, 0.1663024127483368, 0.38029754161834717, 0.19014877080917358, 0.19014877080917358, 0.19014877080917358, 0.1257530152797699, 0.3772590160369873, 0.3772590160369873, 0.03212829679250717, 0.27309054136276245, 0.016064148396253586, 0.5381489992141724, 0.04819244518876076, 0.008032074198126793, 0.02409622259438038, 0.016064148396253586, 0.008032074198126793, 0.008032074198126793, 0.008032074198126793, 0.008032074198126793, 0.032518573105335236, 0.016259286552667618, 0.21137073636054993, 0.34144502878189087, 0.13007429242134094, 0.016259286552667618, 0.016259286552667618, 0.13007429242134094, 0.06503714621067047, 0.0688014030456543, 0.49881017208099365, 0.017200350761413574, 0.3268066644668579, 0.03440070152282715, 0.017200350761413574, 0.14623786509037018, 0.7311893105506897, 0.14623786509037018, 0.8703659176826477, 0.022114494815468788, 0.7297782897949219, 0.022114494815468788, 0.19903044402599335, 0.011057247407734394, 0.005528623703867197, 0.005528623703867197, 0.03587484359741211, 0.717496931552887, 0.14349937438964844, 0.059791408479213715, 0.03587484359741211, 0.21520362794399261, 0.21520362794399261, 0.21520362794399261, 0.21520362794399261, 0.2814938724040985, 0.07037346810102463, 0.010053352452814579, 0.5730410814285278, 0.010053352452814579, 0.040213409811258316, 0.010053352452814579, 0.27418097853660583, 0.6945918202400208, 0.018278732895851135, 0.21907176077365875, 0.4694395065307617, 0.03129596635699272, 0.1251838654279709, 0.03129596635699272, 0.06259193271398544, 0.06259193271398544, 0.7580356597900391, 0.02807539515197277, 0.05615079030394554, 0.11230158060789108, 0.02807539515197277, 0.02807539515197277, 0.1861843466758728, 0.10048044472932816, 0.28370949625968933, 0.08865921944379807, 0.16845251619815826, 0.0797932967543602, 0.014776536263525486, 0.008865921758115292, 0.002955307252705097, 0.008865921758115292, 0.035463687032461166, 0.005910614505410194, 0.008865921758115292, 0.002955307252705097, 0.1857547163963318, 0.1857547163963318, 0.1857547163963318, 0.3715094327926636, 0.845527708530426, 0.11707306653261185, 0.013008118607103825, 0.013008118607103825, 0.18752777576446533, 0.18752777576446533, 0.37505555152893066, 0.18752777576446533, 0.16200603544712067, 0.6480241417884827, 0.16200603544712067, 0.3398086130619049, 0.16990430653095245, 0.16990430653095245, 0.16990430653095245, 0.1737384796142578, 0.6949539184570312, 0.09260924160480499, 0.8643528819084167, 0.3586248457431793, 0.3108081817626953, 0.047816645354032516, 0.023908322677016258, 0.047816645354032516, 0.047816645354032516, 0.023908322677016258, 0.023908322677016258, 0.047816645354032516, 0.023908322677016258, 0.047816645354032516, 0.12020326405763626, 0.1803048998117447, 0.06010163202881813, 0.12020326405763626, 0.12020326405763626, 0.12020326405763626, 0.24040652811527252, 0.4387134909629822, 0.5062078833580017, 0.9138074517250061, 0.8720332384109497, 0.04152538999915123, 0.04152538999915123, 0.23501348495483398, 0.14021813869476318, 0.146142840385437, 0.22513897716999054, 0.08689574152231216, 0.04344787076115608, 0.03159845247864723, 0.019749032333493233, 0.015799226239323616, 0.009874516166746616, 0.019749032333493233, 0.017774129286408424, 0.003949806559830904, 0.8756850361824036, 0.1315147876739502, 0.08916257321834564, 0.24296800792217255, 0.16717982292175293, 0.17163795232772827, 0.0691009908914566, 0.03566502779722214, 0.04235222190618515, 0.011145321652293205, 0.011145321652293205, 0.01783251389861107, 0.0022290642373263836, 0.004458128474652767, 0.6349070072174072, 0.1587267518043518, 0.1587267518043518, 0.3776758015155792, 0.1888379007577896, 0.3776758015155792, 0.16191017627716064, 0.16191017627716064, 0.16191017627716064, 0.3238203525543213, 0.8898434042930603, 0.030684255063533783, 0.16957148909568787, 0.0745086818933487, 0.3622663617134094, 0.19012561440467834, 0.04110823944211006, 0.05652382969856262, 0.00770779512822628, 0.04624677076935768, 0.01541559025645256, 0.02055411972105503, 0.01284632459282875, 0.002569264965131879, 0.002569264965131879, 0.14332032203674316, 0.14332032203674316, 0.14332032203674316, 0.28664064407348633, 0.14332032203674316, 0.10698528587818146, 0.010698528960347176, 0.0855882316827774, 0.26746323704719543, 0.21397057175636292, 0.03209558501839638, 0.02139705792069435, 0.05349264293909073, 0.11768382042646408, 0.07488970458507538, 0.13666558265686035, 0.1567634493112564, 0.13666558265686035, 0.22107666730880737, 0.13264599442481995, 0.09646981954574585, 0.024117454886436462, 0.020097879692912102, 0.012058727443218231, 0.008039151318371296, 0.032156605273485184, 0.012058727443218231, 0.012058727443218231, 0.008039151318371296, 0.3402946889400482, 0.1701473444700241, 0.1701473444700241, 0.1701473444700241, 0.08507367223501205, 0.12466897815465927, 0.2106475830078125, 0.2708325982093811, 0.10747325420379639, 0.10747325420379639, 0.021494651213288307, 0.03439144045114517, 0.03439144045114517, 0.017195720225572586, 0.042989302426576614, 0.021494651213288307, 0.008597860112786293, 0.0042989300563931465, 0.10926610231399536, 0.38243135809898376, 0.05463305115699768, 0.4097478985786438, 0.8783532977104187, 0.7964922785758972, 0.13274872303009033, 0.15557068586349487, 0.15557068586349487, 0.15557068586349487, 0.31114137172698975, 0.15090535581111908, 0.08623163402080536, 0.06467372924089432, 0.08623163402080536, 0.2802528142929077, 0.17246326804161072, 0.02155790850520134, 0.107789546251297, 0.5571949481964111, 0.22287797927856445, 0.11143898963928223, 0.19765008985996246, 0.19765008985996246, 0.3953001797199249, 0.19765008985996246, 0.1667848825454712, 0.11118992418050766, 0.1667848825454712, 0.1667848825454712, 0.05559496209025383, 0.27797481417655945, 0.548561155796051, 0.2742805778980255, 0.18556851148605347, 0.18556851148605347, 0.37113702297210693, 0.18556851148605347, 0.10925262421369553, 0.10925262421369553, 0.21850524842739105, 0.327757865190506, 0.10925262421369553, 0.22120313346385956, 0.36867189407348633, 0.010533482767641544, 0.07373438030481339, 0.07373438030481339, 0.1369352787733078, 0.08426786214113235, 0.010533482767641544, 0.010533482767641544, 0.09829273819923401, 0.6225206851959229, 0.026211395859718323, 0.0655284896492958, 0.15071552991867065, 0.026211395859718323, 0.006552848964929581, 0.31839314103126526, 0.15919657051563263, 0.15919657051563263, 0.31839314103126526, 0.10256236046552658, 0.27349963784217834, 0.5128118395805359, 0.06837490946054459, 0.08629489690065384, 0.08629489690065384, 0.6903591752052307, 0.08629489690065384, 0.05037645250558853, 0.41980376839637756, 0.4365959167480469, 0.03358430042862892, 0.05037645250558853, 0.33011287450790405, 0.5501881241798401, 0.35873451828956604, 0.11957817524671555, 0.35873451828956604, 0.9400572180747986, 0.03397797420620918, 0.011325990781188011, 0.4262534976005554, 0.2841689884662628, 0.1420844942331314, 0.5656912326812744, 0.377127468585968, 0.23306351900100708, 0.2047179490327835, 0.10078422725200653, 0.11023274809122086, 0.11023274809122086, 0.1354288011789322, 0.028345562517642975, 0.02204654924571514, 0.009448520839214325, 0.028345562517642975, 0.012598028406500816, 0.003149507101625204, 0.003149507101625204, 0.003149507101625204, 0.8613128066062927, 0.1608661562204361, 0.1608661562204361, 0.1608661562204361, 0.3217323124408722, 0.19053524732589722, 0.19053524732589722, 0.19053524732589722, 0.19053524732589722, 0.19053524732589722, 0.9170700907707214, 0.038532353937625885, 0.007706471253186464, 0.015412942506372929, 0.03711657598614693, 0.18558287620544434, 0.6680983901023865, 0.07423315197229385, 0.3745395243167877, 0.3745395243167877, 0.18726976215839386, 0.38983914256095886, 0.09745978564023972, 0.29237934947013855, 0.19491957128047943, 0.38422200083732605, 0.19211100041866302, 0.19211100041866302, 0.19211100041866302, 0.1865341067314148, 0.7461364269256592, 0.1865341067314148, 0.8931238651275635, 0.10205746442079544, 0.031184224411845207, 0.2749881446361542, 0.2579785883426666, 0.26364845037460327, 0.022679435089230537, 0.014174647629261017, 0.005669858772307634, 0.008504788391292095, 0.008504788391292095, 0.008504788391292095, 0.002834929386153817, 0.1880502849817276, 0.564150869846344, 0.1880502849817276, 0.1880502849817276, 0.156410351395607, 0.156410351395607, 0.156410351395607, 0.4692310392856598, 0.18960395455360413, 0.37920790910720825, 0.18960395455360413, 0.18960395455360413, 0.10977616161108017, 0.21955232322216034, 0.16466425359249115, 0.054888080805540085, 0.10977616161108017, 0.054888080805540085, 0.21955232322216034, 0.31439927220344543, 0.47159892320632935, 0.650278627872467, 0.14598090946674347, 0.13270992040634155, 0.02654198370873928, 0.01327099185436964, 0.27863216400146484, 0.18575476109981537, 0.09287738054990768, 0.27863216400146484, 0.32536035776138306, 0.16268017888069153, 0.32536035776138306, 0.16268017888069153, 0.9544715881347656, 0.15863773226737976, 0.3965943455696106, 0.3172754645347595, 0.07931886613368988, 0.5445663332939148, 0.017017697915434837, 0.23824776709079742, 0.1361415833234787, 0.034035395830869675, 0.017017697915434837, 0.10161479562520981, 0.7748128175735474, 0.0889129489660263, 0.012701849453151226, 0.012701849453151226, 0.8780142068862915, 0.008388671092689037, 0.04194335639476776, 0.002796223619952798, 0.005592447239905596, 0.002796223619952798, 0.04194335639476776, 0.011184894479811192, 0.19404533505439758, 0.14553400874137878, 0.14553400874137878, 0.19404533505439758, 0.048511333763599396, 0.048511333763599396, 0.24255667626857758, 0.3346288502216339, 0.14325247704982758, 0.12086927890777588, 0.15892072021961212, 0.12758423388004303, 0.035813119262456894, 0.02574067935347557, 0.012310760095715523, 0.015668239444494247, 0.007834119722247124, 0.007834119722247124, 0.006714960094541311, 0.0033574800472706556, 0.001119159976951778, 0.30057772994041443, 0.6612710356712341, 0.829183042049408, 0.1381971687078476, 0.43918898701667786, 0.26351338624954224, 0.02927926555275917, 0.02927926555275917, 0.05855853110551834, 0.02927926555275917, 0.11711706221103668, 0.32332178950309753, 0.2694348394870758, 0.07657621055841446, 0.07657621055841446, 0.034033872187137604, 0.08508468419313431, 0.07090390473604202, 0.011344624683260918, 0.01418078038841486, 0.017016936093568802, 0.008508468046784401, 0.008508468046784401, 0.0028361561708152294, 0.0028361561708152294, 0.14117172360420227, 0.5646868944168091, 0.14117172360420227, 0.013761098496615887, 0.7430993318557739, 0.027522196993231773, 0.13761098682880402, 0.041283294558525085, 0.027522196993231773, 0.09355881810188293, 0.18711763620376587, 0.18711763620376587, 0.09355881810188293, 0.09355881810188293, 0.09355881810188293, 0.09355881810188293, 0.3857243061065674, 0.1928621530532837, 0.3857243061065674, 0.3548947870731354, 0.04436184838414192, 0.13308553397655487, 0.08872369676828384, 0.08872369676828384, 0.13308553397655487, 0.04436184838414192, 0.04436184838414192, 0.08872369676828384, 0.3136396110057831, 0.15681980550289154, 0.4704594016075134, 0.2772837281227112, 0.09242790937423706, 0.4621395766735077, 0.09242790937423706, 0.18707364797592163, 0.037414729595184326, 0.6734651327133179, 0.037414729595184326, 0.037414729595184326, 0.2415246069431305, 0.20169873535633087, 0.12975524365901947, 0.1695811003446579, 0.09506819397211075, 0.0770823210477829, 0.0231246966868639, 0.0256941057741642, 0.00642352644354105, 0.0089929373934865, 0.0089929373934865, 0.007708231918513775, 0.0038541159592568874, 0.002569410717114806, 0.24449974298477173, 0.16466309130191803, 0.09979581087827682, 0.2095712125301361, 0.1297345608472824, 0.024948952719569206, 0.029938744381070137, 0.05488769710063934, 0.004989790730178356, 0.014969372190535069, 0.009979581460356712, 0.9677966237068176, 0.13332565128803253, 0.26665130257606506, 0.13332565128803253, 0.06666282564401627, 0.13332565128803253, 0.33331412076950073, 0.19052435457706451, 0.38104870915412903, 0.19052435457706451, 0.28265637159347534, 0.28265637159347534, 0.14132818579673767, 0.14132818579673767, 0.14132818579673767, 0.18637286126613617, 0.37274572253227234, 0.18637286126613617, 0.18637286126613617, 0.3338854908943176, 0.22259032726287842, 0.03179861605167389, 0.015899308025836945, 0.1430937796831131, 0.03179861605167389, 0.03179861605167389, 0.12719446420669556, 0.015899308025836945, 0.047697924077510834, 0.8983724117279053, 0.05614827573299408, 0.49886780977249146, 0.12471695244312286, 0.24943390488624573, 0.08494655042886734, 0.16989310085773468, 0.33978620171546936, 0.1415775865316391, 0.02831551618874073, 0.02831551618874073, 0.02831551618874073, 0.02831551618874073, 0.08494655042886734, 0.05663103237748146, 0.1909005492925644, 0.2607422173023224, 0.102434441447258, 0.1583077758550644, 0.0791538879275322, 0.0744977742433548, 0.0372488871216774, 0.051217220723629, 0.013968332670629025, 0.013968332670629025, 0.013968332670629025, 0.004656110890209675, 0.42242008447647095, 0.5280250906944275, 0.2529626786708832, 0.16864179074764252, 0.08432089537382126, 0.4216044545173645, 0.2302265167236328, 0.04886883869767189, 0.21502289175987244, 0.15312235057353973, 0.13466079533100128, 0.10533949732780457, 0.03149325028061867, 0.005429870914667845, 0.019547535106539726, 0.028235329315066338, 0.014117664657533169, 0.009773767553269863, 0.0032579225953668356, 0.18417631089687347, 0.18417631089687347, 0.552528977394104, 0.3813512325286865, 0.023834452033042908, 0.023834452033042908, 0.2621789574623108, 0.047668904066085815, 0.09533780813217163, 0.07150335609912872, 0.023834452033042908, 0.07150335609912872, 0.3664810359477997, 0.4886413812637329, 0.5690696835517883, 0.18968988955020905, 0.18968988955020905, 0.7797498106956482, 0.15594996511936188, 0.18928329646587372, 0.06309442967176437, 0.4416610300540924, 0.2523777186870575, 0.3853737413883209, 0.0184309184551239, 0.12231427431106567, 0.19603794813156128, 0.10053227841854095, 0.0904790535569191, 0.001675538020208478, 0.00502661382779479, 0.013404304161667824, 0.053617216646671295, 0.008377689868211746, 0.001675538020208478, 0.03166322782635689, 0.00999891385436058, 0.07665833830833435, 0.5799369812011719, 0.26497122645378113, 0.013331884518265724, 0.0016664855647832155, 0.006665942259132862, 0.0016664855647832155, 0.003332971129566431, 0.00499945692718029, 0.003332971129566431, 0.14876113831996918, 0.005312898196280003, 0.015938693657517433, 0.3293996751308441, 0.39315444231033325, 0.010625796392560005, 0.015938693657517433, 0.037190284579992294, 0.02656449005007744, 0.015938693657517433, 0.005312898196280003, 0.48644202947616577, 0.16214734315872192, 0.16214734315872192, 0.16214734315872192, 0.12451867759227753, 0.3112967014312744, 0.12451867759227753, 0.12451867759227753, 0.06225933879613876, 0.12451867759227753, 0.06225933879613876, 0.06225933879613876, 0.8684102892875671, 0.8576070070266724, 0.9317011833190918, 0.18983875215053558, 0.18983875215053558, 0.18983875215053558, 0.18983875215053558, 0.18983875215053558, 0.9377294182777405, 0.06201958656311035, 0.7176552414894104, 0.1506190001964569, 0.008859940804541111, 0.035439763218164444, 0.008859940804541111, 0.623461902141571, 0.3117309510707855, 0.10041723400354385, 0.06694482266902924, 0.1807510107755661, 0.23430687189102173, 0.1941399723291397, 0.06025033816695213, 0.03347241133451462, 0.006694482173770666, 0.013388964347541332, 0.013388964347541332, 0.07363930344581604, 0.013388964347541332, 0.006694482173770666, 0.006694482173770666, 0.1099855899810791, 0.2199711799621582, 0.5499279499053955, 0.3314991891384125, 0.662998378276825, 0.8889658451080322, 0.0932186022400856, 0.15536433458328247, 0.26929816603660583, 0.11393384635448456, 0.09839741140604019, 0.1450067162513733, 0.0466093011200428, 0.015536433085799217, 0.005178811028599739, 0.025894055142998695, 0.031072866171598434, 0.145438551902771, 0.0743352621793747, 0.22946971654891968, 0.24347491562366486, 0.17129430174827576, 0.05925274267792702, 0.012927871197462082, 0.017237162217497826, 0.014005194418132305, 0.015082516707479954, 0.007541258353739977, 0.007541258353739977, 0.002154645277187228, 0.001077322638593614, 0.001077322638593614, 0.20664739608764648, 0.21223247051239014, 0.22340258955955505, 0.04188798740506172, 0.09773863852024078, 0.07260584086179733, 0.036302920430898666, 0.022340258583426476, 0.01396266184747219, 0.025132792070508003, 0.036302920430898666, 0.00837759766727686, 0.2799684405326843, 0.13998422026634216, 0.13998422026634216, 0.2799684405326843, 0.18152327835559845, 0.16583608090877533, 0.21737973392009735, 0.1568719744682312, 0.10981038212776184, 0.06498982012271881, 0.02913336642086506, 0.020169252529740334, 0.026892337948083878, 0.006723084487020969, 0.00896411295980215, 0.00896411295980215, 0.1846892386674881, 0.1846892386674881, 0.41555076837539673, 0.09234461933374405, 0.046172309666872025, 0.046172309666872025, 0.046172309666872025, 0.9238677024841309, 0.07847222685813904, 0.05667438358068466, 0.2790123522281647, 0.3792824149131775, 0.08719135820865631, 0.052314817905426025, 0.013078704476356506, 0.017438272014260292, 0.004359568003565073, 0.008719136007130146, 0.013078704476356506, 0.008719136007130146, 0.004359568003565073, 0.5197411179542542, 0.09355340152978897, 0.015592234209179878, 0.020789645612239838, 0.1663171648979187, 0.07276375591754913, 0.025987057015299797, 0.051974114030599594, 0.010394822806119919, 0.025987057015299797, 0.0845792219042778, 0.8457922339439392, 0.9457100629806519, 0.43510863184928894, 0.29624417424201965, 0.04937402904033661, 0.027772890403866768, 0.033944644033908844, 0.033944644033908844, 0.07714691758155823, 0.024687014520168304, 0.012343507260084152, 0.006171753630042076, 0.003085876815021038, 0.19509564340114594, 0.5852869749069214, 0.19509564340114594, 0.9569417238235474, 0.5589385032653809, 0.13973462581634521, 0.27946925163269043, 0.3401798605918884, 0.2175568789243698, 0.06328927725553513, 0.08306717127561569, 0.02768905833363533, 0.15822318196296692, 0.06328927725553513, 0.003955579828470945, 0.019777897745370865, 0.019777897745370865, 0.003955579828470945, 0.003955579828470945, 0.12489957362413406, 0.24979914724826813, 0.12489957362413406, 0.12489957362413406, 0.12489957362413406, 0.12489957362413406, 0.325006902217865, 0.4875103533267975, 0.2694525718688965, 0.30794578790664673, 0.02886991947889328, 0.02886991947889328, 0.2694525718688965, 0.05773983895778656, 0.01924661174416542, 0.00962330587208271, 0.6084326505661011, 0.15210816264152527, 0.14228473603725433, 0.17785592377185822, 0.35571184754371643, 0.07114236801862717, 0.10671355575323105, 0.03557118400931358, 0.07114236801862717, 0.12534476816654205, 0.06674201786518097, 0.37929001450538635, 0.12046120315790176, 0.17580825090408325, 0.05697489529848099, 0.014650686644017696, 0.0048835622146725655, 0.009767124429345131, 0.02604566514492035, 0.0032557081431150436, 0.0048835622146725655, 0.0016278540715575218, 0.008139270357787609, 0.500927209854126, 0.21468308568000793, 0.07156102359294891, 0.14312204718589783, 0.1518786996603012, 0.14428476989269257, 0.02278180420398712, 0.4860118329524994, 0.10631509125232697, 0.02278180420398712, 0.02278180420398712, 0.030375739559531212, 0.007593934889882803, 0.9457310438156128, 0.027020886540412903, 0.027020886540412903, 0.9336340427398682, 0.45915350317955017, 0.45915350317955017, 0.31862980127334595, 0.2549038529396057, 0.12745192646980286, 0.06372596323490143, 0.06372596323490143, 0.12745192646980286, 0.07906289398670197, 0.4743773639202118, 0.395314484834671, 0.09626533836126328, 0.5775920152664185, 0.19253067672252655, 0.3826541304588318, 0.3826541304588318, 0.1913270652294159, 0.13336586952209473, 0.10002440214157104, 0.06668293476104736, 0.3334146738052368, 0.03334146738052368, 0.06668293476104736, 0.06668293476104736, 0.1667073369026184, 0.2806275188922882, 0.18708501756191254, 0.09354250878095627, 0.2806275188922882, 0.18708501756191254, 0.9301901459693909, 0.020221523940563202, 0.040443047881126404, 0.152801513671875, 0.6250970959663391, 0.013891046866774559, 0.013891046866774559, 0.08334627747535706, 0.04167313873767853, 0.055564187467098236, 0.013891046866774559, 0.013891046866774559, 0.2477642446756363, 0.15599970519542694, 0.15049384534358978, 0.18903493881225586, 0.086258664727211, 0.08442337065935135, 0.023858780041337013, 0.0036705813836306334, 0.023858780041337013, 0.01651761680841446, 0.005505871959030628, 0.005505871959030628, 0.0036705813836306334, 0.0018352906918153167, 0.9004069566726685, 0.05296511575579643, 0.013241278938949108, 0.013241278938949108, 0.05355551838874817, 0.3748886287212372, 0.5355551838874817, 0.10555284470319748, 0.030893515795469284, 0.5213280916213989, 0.15832926332950592, 0.04634027183055878, 0.03346797451376915, 0.014159527607262135, 0.009010608308017254, 0.0025744596496224403, 0.04376581311225891, 0.016733987256884575, 0.009010608308017254, 0.0025744596496224403, 0.0025744596496224403, 0.0012872298248112202, 0.15843480825424194, 0.1302516907453537, 0.302397221326828, 0.12415805459022522, 0.16529016196727753, 0.04570234939455986, 0.014472411014139652, 0.01066388189792633, 0.012948999181389809, 0.009902175515890121, 0.012187293730676174, 0.006855352316051722, 0.0022851175162941217, 0.0038085291162133217, 0.0007617058581672609, 0.8481929898262024, 0.010343817062675953, 0.04137526825070381, 0.05171908438205719, 0.04137526825070381, 0.21642643213272095, 0.21026796102523804, 0.1917925328016281, 0.10909299552440643, 0.0695028007030487, 0.08885800838470459, 0.03695085272192955, 0.0316721610724926, 0.008797822520136833, 0.008797822520136833, 0.0158360805362463, 0.0052786935120821, 0.004398911260068417, 0.0017595645040273666, 0.0017595645040273666, 0.04497689753770828, 0.04497689753770828, 0.17241144180297852, 0.23238062858581543, 0.23238062858581543, 0.04497689753770828, 0.007496149279177189, 0.03748074546456337, 0.02248844876885414, 0.07496149092912674, 0.014992298558354378, 0.06746534258127213, 0.02248844876885414, 0.6740149855613708, 0.22467166185379028, 0.5124818086624146, 0.2759517729282379, 0.0394216813147068, 0.0394216813147068, 0.0788433626294136, 0.0394216813147068, 0.18781423568725586, 0.1247025728225708, 0.2167087346315384, 0.20834453403949738, 0.10341189056634903, 0.07071547955274582, 0.024332208558917046, 0.01976992003619671, 0.014447248540818691, 0.010645341128110886, 0.008364196866750717, 0.00684343371540308, 0.002281144494190812, 0.002281144494190812, 0.7050816416740417, 0.10072594881057739, 0.10072594881057739, 0.26933375000953674, 0.2633039057254791, 0.09044790267944336, 0.13466687500476837, 0.06632846593856812, 0.07034837454557419, 0.04421897605061531, 0.02612939476966858, 0.014069674536585808, 0.004019906744360924, 0.002009953372180462, 0.008039813488721848, 0.002009953372180462, 0.004019906744360924, 0.08295249193906784, 0.10369060933589935, 0.1285763531923294, 0.39817196130752563, 0.2156764715909958, 0.02073812298476696, 0.012442873790860176, 0.008295249193906784, 0.012442873790860176, 0.008295249193906784, 0.004147624596953392, 0.004147624596953392, 0.004147624596953392, 0.004147624596953392, 0.3151930570602417, 0.2626608908176422, 0.15759652853012085, 0.05253217741847038, 0.05253217741847038, 0.10506435483694077, 0.28543874621391296, 0.28543874621391296, 0.14271937310695648, 0.14271937310695648, 0.14271937310695648, 0.15838417410850525, 0.15838417410850525, 0.47515252232551575, 0.1935199797153473, 0.3870399594306946, 0.1935199797153473, 0.8791065216064453, 0.12281124293804169, 0.12281124293804169, 0.6140562295913696, 0.12101385742425919, 0.24202771484851837, 0.24202771484851837, 0.24202771484851837, 0.322517991065979, 0.23671045899391174, 0.07101313769817352, 0.10651970654726028, 0.0887664183974266, 0.0443832091987133, 0.08284866064786911, 0.01775328442454338, 0.00887664221227169, 0.002958880737423897, 0.002958880737423897, 0.005917761474847794, 0.002958880737423897, 0.002958880737423897, 0.005917761474847794, 0.1584799438714981, 0.1584799438714981, 0.1584799438714981, 0.4754398465156555, 0.9060468077659607, 0.1551646739244461, 0.012930389493703842, 0.12930390238761902, 0.1551646739244461, 0.42023766040802, 0.019395584240555763, 0.038791168481111526, 0.006465194746851921, 0.019395584240555763, 0.019395584240555763, 0.006465194746851921, 0.025860778987407684, 0.1934976726770401, 0.1934976726770401, 0.1934976726770401, 0.1934976726770401, 0.5555904507637024, 0.1388976126909256, 0.1388976126909256, 0.1388976126909256, 0.9127554297447205, 0.42057037353515625, 0.14019012451171875, 0.14019012451171875, 0.14019012451171875, 0.14019012451171875, 0.7626656293869019, 0.1525331288576126, 0.37220287322998047, 0.18610143661499023, 0.18610143661499023, 0.18610143661499023, 0.26218128204345703, 0.13109064102172852, 0.39327195286750793, 0.13109064102172852, 0.8617885112762451, 0.14000049233436584, 0.7933361530303955, 0.9371887445449829, 0.33561718463897705, 0.16780859231948853, 0.16780859231948853, 0.16780859231948853, 0.8275435566902161, 0.02068858966231346, 0.02068858966231346, 0.04137717932462692, 0.04137717932462692, 0.02068858966231346, 0.04137717932462692, 0.02068858966231346, 0.2663809061050415, 0.29301899671554565, 0.13319045305252075, 0.1598285436630249, 0.026638088747859, 0.106552354991436, 0.16837725043296814, 0.3367545008659363, 0.16837725043296814, 0.16837725043296814, 0.12988154590129852, 0.6927015781402588, 0.08658769726753235, 0.056106939911842346, 0.6919856071472168, 0.09351156651973724, 0.13091619312763214, 0.01870231330394745, 0.9132754802703857, 0.45464834570884705, 0.259799063205719, 0.06494976580142975, 0.06494976580142975, 0.06494976580142975, 0.3211651146411896, 0.2023087441921234, 0.12138524651527405, 0.136558398604393, 0.032875169068574905, 0.09356779605150223, 0.02781745232641697, 0.02023087441921234, 0.022759733721613884, 0.0025288593024015427, 0.0025288593024015427, 0.007586577907204628, 0.0025288593024015427, 0.005057718604803085, 0.37564629316329956, 0.2504308819770813, 0.20869238674640656, 0.0834769532084465, 0.04173847660422325, 0.017734495922923088, 0.549769401550293, 0.3812916576862335, 0.026601744815707207, 0.008867247961461544, 0.09019218385219574, 0.04509609192609787, 0.8117296099662781, 0.21005021035671234, 0.10288173705339432, 0.29578498005867004, 0.13717564940452576, 0.06858782470226288, 0.05572760850191116, 0.030007172375917435, 0.00857347808778286, 0.00857347808778286, 0.02572043426334858, 0.021433694288134575, 0.021433694288134575, 0.00428673904389143, 0.00857347808778286, 0.2096407115459442, 0.1674214005470276, 0.1921706646680832, 0.13102544844150543, 0.1281137764453888, 0.059689369052648544, 0.03057260438799858, 0.020381735637784004, 0.011646706610918045, 0.014558383263647556, 0.0160142220556736, 0.011646706610918045, 0.004367514979094267, 0.0014558383263647556, 0.0029116766527295113, 0.294932097196579, 0.21614888310432434, 0.09090373665094376, 0.14948613941669464, 0.07878323644399643, 0.05656232312321663, 0.04848198965191841, 0.02626107819378376, 0.012120497412979603, 0.002020082902163267, 0.004040165804326534, 0.008080331608653069, 0.006060248706489801, 0.004040165804326534, 0.0023387037217617035, 0.9354814291000366, 0.0023387037217617035, 0.0023387037217617035, 0.0023387037217617035, 0.018709629774093628, 0.030403146520256996, 0.004677407443523407, 0.9042020440101624, 0.4438718855381012, 0.4058257043361664, 0.0253641065210104, 0.0169094055891037, 0.029591457918286324, 0.0507282130420208, 0.0169094055891037, 0.004227351397275925, 0.004227351397275925, 0.004227351397275925, 0.11093749850988388, 0.8774147629737854, 0.19018398225307465, 0.5705519914627075, 0.19018398225307465, 0.01809254288673401, 0.9724741578102112, 0.29553598165512085, 0.27911731600761414, 0.1313493251800537, 0.1149306520819664, 0.016418665647506714, 0.06567466259002686, 0.03283733129501343, 0.016418665647506714, 0.04925599321722984, 0.8897122144699097, 0.5543811917304993, 0.3695874512195587, 0.0834130123257637, 0.2502390444278717, 0.1668260246515274, 0.0834130123257637, 0.0834130123257637, 0.2502390444278717, 0.2110336273908615, 0.127899169921875, 0.23874512314796448, 0.13216248154640198, 0.12150420993566513, 0.04689636453986168, 0.03836975246667862, 0.02557983435690403, 0.0021316527854651213, 0.012789917178452015, 0.02984314039349556, 0.01492157019674778, 0.0021316527854651213, 0.7958018183708191, 0.05684298649430275, 0.05684298649430275, 0.8727389574050903, 0.003331064712256193, 0.003331064712256193, 0.06329023092985153, 0.04663490504026413, 0.003331064712256193, 0.19592833518981934, 0.17048309743404388, 0.2519078552722931, 0.10941452533006668, 0.09414738416671753, 0.05343500152230263, 0.033078812062740326, 0.027989763766527176, 0.010178095661103725, 0.0127226198092103, 0.015267143957316875, 0.0127226198092103, 0.0025445239152759314, 0.0025445239152759314, 0.005089047830551863, 0.15195916593074799, 0.1181904673576355, 0.21467247605323792, 0.2243206799030304, 0.12542662024497986, 0.07718560844659805, 0.026532553136348724, 0.014472302049398422, 0.004824100527912378, 0.009648201055824757, 0.024120502173900604, 0.004824100527912378, 0.002412050263956189, 0.002412050263956189, 0.28437134623527527, 0.28437134623527527, 0.14218567311763763, 0.14218567311763763, 0.14218567311763763, 0.10028765350580215, 0.10028765350580215, 0.17828916013240814, 0.1727176308631897, 0.19500377774238586, 0.133716881275177, 0.02785768173635006, 0.0055715362541377544, 0.016714610159397125, 0.011143072508275509, 0.011143072508275509, 0.016714610159397125, 0.02785768173635006, 0.26708778738975525, 0.09856811165809631, 0.16534006595611572, 0.14626236259937286, 0.08267003297805786, 0.11446619778871536, 0.03815539926290512, 0.02543693222105503, 0.00953884981572628, 0.006359233055263758, 0.006359233055263758, 0.0317961648106575, 0.003179616527631879, 0.006359233055263758, 0.30297520756721497, 0.12721610069274902, 0.1958458423614502, 0.09875987470149994, 0.12386831641197205, 0.050216883420944214, 0.01673896051943302, 0.0033477921970188618, 0.02845623344182968, 0.013391168788075447, 0.010043377056717873, 0.02343454584479332, 0.0033477921970188618, 0.0016738960985094309, 0.6810686588287354, 0.22702288627624512, 0.13541778922080994, 0.12488529831171036, 0.2587984502315521, 0.16250135004520416, 0.1850709766149521, 0.04212997853755951, 0.018055705353617668, 0.030092842876911163, 0.004513926338404417, 0.010532494634389877, 0.01203713659197092, 0.00601856829598546, 0.00300928414799273, 0.001504642073996365, 0.00300928414799273, 0.525993287563324, 0.03757094964385033, 0.33813852071762085, 0.03757094964385033, 0.03757094964385033], \"Term\": [\"abbey\", \"abide\", \"abide\", \"accent\", \"accent\", \"accent\", \"accent\", \"accent\", \"accent\", \"accent\", \"accent\", \"accent\", \"acquaintances\", \"acquaintances\", \"acquaintances\", \"acquaintances\", \"actress\", \"adele\", \"adele\", \"adele\", \"adele\", \"adele\", \"adele\", \"administered\", \"administered\", \"administered\", \"adoption\", \"adoption\", \"aerial\", \"aerial\", \"aerial\", \"affection\", \"affection\", \"affection\", \"affection\", \"affection\", \"affection\", \"affection\", \"affection\", \"affection\", \"affection\", \"affection\", \"affection\", \"agonies\", \"agonies\", \"agonies\", \"agonies\", \"air\", \"air\", \"air\", \"air\", \"air\", \"air\", \"air\", \"air\", \"air\", \"air\", \"air\", \"air\", \"air\", \"airing\", \"airing\", \"airing\", \"albion\", \"albion\", \"albion\", \"albion\", \"alfred\", \"alfred\", \"alfred\", \"allee\", \"allenham\", \"alliance\", \"alliance\", \"alliance\", \"alliance\", \"alliance\", \"alliance\", \"amazing\", \"amazing\", \"amazing\", \"amazing\", \"ambitious\", \"ambitious\", \"ambitious\", \"ambitious\", \"amounted\", \"amounted\", \"amounted\", \"amour\", \"amour\", \"amour\", \"amy\", \"anecdote\", \"anecdote\", \"anecdote\", \"anecdote\", \"anguish\", \"anguish\", \"anguish\", \"anguish\", \"annum\", \"annum\", \"annum\", \"annum\", \"annum\", \"annum\", \"answer\", \"answer\", \"answer\", \"answer\", \"answer\", \"answer\", \"answer\", \"answer\", \"answer\", \"answer\", \"answer\", \"answer\", \"answer\", \"answer\", \"antagonist\", \"antagonist\", \"antagonist\", \"apologising\", \"appealing\", \"appreciating\", \"appreciating\", \"appreciating\", \"appreciating\", \"asked\", \"asked\", \"asked\", \"asked\", \"asked\", \"asked\", \"asked\", \"asked\", \"asked\", \"asked\", \"asked\", \"asked\", \"asked\", \"aspire\", \"aspire\", \"aspire\", \"aspire\", \"assez\", \"assez\", \"assez\", \"assiduous\", \"assiduous\", \"assiduous\", \"assiduous\", \"assign\", \"assign\", \"assign\", \"assistance\", \"assistance\", \"assistance\", \"assistance\", \"assistance\", \"assistance\", \"assistance\", \"assistance\", \"assistance\", \"associations\", \"associations\", \"associations\", \"associations\", \"associations\", \"associations\", \"atom\", \"attic\", \"attic\", \"attic\", \"attic\", \"attics\", \"attics\", \"attics\", \"august\", \"august\", \"august\", \"august\", \"august\", \"aunt\", \"aunt\", \"aunt\", \"aunt\", \"aunt\", \"aunt\", \"aunt\", \"aunt\", \"aunt\", \"aunt\", \"aunt\", \"average\", \"average\", \"average\", \"away\", \"away\", \"away\", \"away\", \"away\", \"away\", \"away\", \"away\", \"away\", \"away\", \"away\", \"away\", \"away\", \"away\", \"away\", \"banker\", \"banker\", \"banker\", \"banker\", \"bark\", \"barouche\", \"barouche\", \"barouche\", \"barton\", \"barton\", \"bassompierre\", \"bassompierre\", \"bassompierre\", \"bassompierre\", \"bassompierre\", \"bates\", \"bates\", \"bates\", \"bates\", \"bates\", \"bates\", \"bath\", \"bath\", \"bath\", \"bath\", \"bathing\", \"bathing\", \"bathing\", \"beck\", \"beck\", \"beck\", \"beck\", \"beck\", \"bedrooms\", \"bedrooms\", \"bedrooms\", \"bedrooms\", \"beer\", \"beer\", \"beer\", \"began\", \"began\", \"began\", \"began\", \"began\", \"began\", \"began\", \"began\", \"began\", \"began\", \"began\", \"began\", \"behaviour\", \"behaviour\", \"behaviour\", \"behaviour\", \"behaviour\", \"behaviour\", \"behaviour\", \"belgian\", \"belgian\", \"belgian\", \"belgians\", \"belgians\", \"belgians\", \"belgians\", \"belgium\", \"belgium\", \"belgium\", \"belgium\", \"belgium\", \"belles\", \"bennet\", \"bennet\", \"bennet\", \"bennet\", \"bennet\", \"bennets\", \"bennets\", \"bessie\", \"bessie\", \"bessie\", \"betook\", \"betook\", \"better\", \"better\", \"better\", \"better\", \"better\", \"better\", \"better\", \"better\", \"better\", \"better\", \"better\", \"better\", \"better\", \"better\", \"better\", \"bien\", \"bien\", \"bien\", \"bien\", \"bien\", \"bigben\", \"bigben\", \"bingley\", \"bingley\", \"bingley\", \"bingley\", \"black\", \"black\", \"black\", \"black\", \"black\", \"black\", \"black\", \"black\", \"black\", \"black\", \"black\", \"boarder\", \"boarder\", \"boarders\", \"boarders\", \"boards\", \"boards\", \"boards\", \"boasting\", \"boasting\", \"boasting\", \"body\", \"body\", \"body\", \"body\", \"body\", \"body\", \"body\", \"body\", \"body\", \"body\", \"boiled\", \"boiled\", \"boiled\", \"boiled\", \"bone\", \"bone\", \"bone\", \"bone\", \"bone\", \"book\", \"book\", \"book\", \"book\", \"book\", \"book\", \"book\", \"book\", \"book\", \"book\", \"book\", \"book\", \"book\", \"book\", \"bourgh\", \"bourgh\", \"bourne\", \"boys\", \"boys\", \"boys\", \"boys\", \"boys\", \"boys\", \"boys\", \"boys\", \"boys\", \"bracelet\", \"bracelet\", \"bracelet\", \"bracelet\", \"bracelet\", \"brandon\", \"brandon\", \"brandon\", \"bread\", \"bread\", \"bread\", \"bread\", \"bread\", \"bread\", \"bretton\", \"bretton\", \"bretton\", \"bretton\", \"bretton\", \"bretton\", \"briggs\", \"briggs\", \"brocklehurst\", \"brocklehurst\", \"brushed\", \"brushed\", \"brushed\", \"brushed\", \"brushed\", \"brussels\", \"brussels\", \"brussels\", \"brussels\", \"brussels\", \"brussels\", \"brussels\", \"burns\", \"burnt\", \"burnt\", \"burnt\", \"burnt\", \"cake\", \"cake\", \"cake\", \"cake\", \"cake\", \"cake\", \"cake\", \"came\", \"came\", \"came\", \"came\", \"came\", \"came\", \"came\", \"came\", \"came\", \"came\", \"came\", \"came\", \"came\", \"campbell\", \"campbell\", \"campbell\", \"candle\", \"candle\", \"candle\", \"candle\", \"capacity\", \"capacity\", \"capacity\", \"capacity\", \"capacity\", \"captain\", \"captain\", \"captain\", \"carlo\", \"caroline\", \"caroline\", \"caroline\", \"caroline\", \"carter\", \"carter\", \"carter\", \"carter\", \"carter\", \"catherine\", \"catherine\", \"catherine\", \"catherine\", \"catherine\", \"celine\", \"certain\", \"certain\", \"certain\", \"certain\", \"certain\", \"certain\", \"certain\", \"certain\", \"certain\", \"certain\", \"certain\", \"certain\", \"certain\", \"certainly\", \"certainly\", \"certainly\", \"certainly\", \"certainly\", \"certainly\", \"certainly\", \"certainly\", \"certainly\", \"certainly\", \"certainly\", \"certainly\", \"certainly\", \"ces\", \"ces\", \"ces\", \"ces\", \"chalk\", \"chalk\", \"chalk\", \"chalk\", \"chances\", \"chances\", \"chances\", \"chances\", \"chances\", \"charade\", \"charade\", \"charade\", \"charade\", \"charlotte\", \"charlotte\", \"charlotte\", \"charlotte\", \"charlotte\", \"cheap\", \"cheap\", \"cheap\", \"cheap\", \"cheese\", \"chestnut\", \"chestnut\", \"chestnut\", \"children\", \"children\", \"children\", \"children\", \"children\", \"children\", \"children\", \"children\", \"children\", \"children\", \"children\", \"children\", \"children\", \"chink\", \"chink\", \"chink\", \"cholmondeley\", \"cholmondeley\", \"cholmondeley\", \"cholmondeley\", \"chooses\", \"chooses\", \"church\", \"church\", \"church\", \"church\", \"church\", \"church\", \"church\", \"church\", \"church\", \"churchill\", \"churchill\", \"churchill\", \"churchill\", \"churchill\", \"churchill\", \"churchill\", \"civility\", \"civility\", \"civility\", \"civility\", \"civility\", \"civility\", \"classe\", \"classe\", \"classe\", \"classe\", \"cleveland\", \"cleveland\", \"clever\", \"clever\", \"clever\", \"clever\", \"clever\", \"clever\", \"clever\", \"clever\", \"clever\", \"clever\", \"climax\", \"climax\", \"climax\", \"climax\", \"cloaks\", \"cloaks\", \"cloaks\", \"cloaks\", \"colds\", \"colds\", \"colds\", \"cole\", \"cole\", \"cole\", \"collation\", \"collation\", \"collation\", \"collins\", \"collins\", \"collins\", \"collins\", \"colonel\", \"colonel\", \"colonel\", \"colonel\", \"colonel\", \"colonel\", \"colonel\", \"colonel\", \"combe\", \"come\", \"come\", \"come\", \"come\", \"come\", \"come\", \"come\", \"come\", \"come\", \"come\", \"come\", \"come\", \"come\", \"come\", \"come\", \"comfortable\", \"comfortable\", \"comfortable\", \"comfortable\", \"comfortable\", \"comfortable\", \"comfortable\", \"comfortable\", \"comfortable\", \"comfortable\", \"comfortable\", \"comfortable\", \"comments\", \"comments\", \"comments\", \"comments\", \"committed\", \"committed\", \"committed\", \"committed\", \"committed\", \"committed\", \"committed\", \"communicative\", \"communicative\", \"communicative\", \"communicative\", \"communicative\", \"complacent\", \"complacent\", \"complacent\", \"comprehending\", \"comprehending\", \"comprehending\", \"concisely\", \"concisely\", \"concisely\", \"confidential\", \"confidential\", \"confidential\", \"confidential\", \"consists\", \"consists\", \"consists\", \"consists\", \"contains\", \"contains\", \"contour\", \"contour\", \"contour\", \"conversations\", \"conversations\", \"conversations\", \"conversations\", \"copied\", \"copied\", \"copied\", \"copied\", \"copied\", \"copying\", \"copying\", \"copying\", \"copying\", \"copying\", \"corps\", \"corps\", \"corridor\", \"corridor\", \"corridor\", \"corridor\", \"corridor\", \"cottage\", \"cottage\", \"cottage\", \"cottage\", \"cottage\", \"cottage\", \"cottage\", \"cottage\", \"country\", \"country\", \"country\", \"country\", \"country\", \"country\", \"country\", \"country\", \"country\", \"country\", \"country\", \"course\", \"course\", \"course\", \"course\", \"course\", \"course\", \"course\", \"course\", \"course\", \"course\", \"course\", \"course\", \"course\", \"course\", \"course\", \"cox\", \"crack\", \"crack\", \"crecy\", \"crecy\", \"crecy\", \"crecy\", \"crimsworth\", \"crimsworth\", \"crimsworth\", \"crimsworth\", \"crimsworth\", \"crimsworth\", \"crimsworth\", \"cultivated\", \"cultivated\", \"cultivated\", \"cup\", \"cup\", \"cup\", \"cup\", \"cup\", \"cup\", \"curricle\", \"curtain\", \"curtain\", \"curtain\", \"curtain\", \"curtain\", \"curtain\", \"curtain\", \"darcy\", \"darcy\", \"darcy\", \"dark\", \"dark\", \"dark\", \"dark\", \"dark\", \"dark\", \"dark\", \"dark\", \"dark\", \"dark\", \"dark\", \"dark\", \"dashwood\", \"dashwood\", \"dashwood\", \"dashwood\", \"dashwood\", \"dashwoods\", \"dashwoods\", \"dawn\", \"dawn\", \"dawn\", \"dawn\", \"dawn\", \"dawn\", \"dawn\", \"day\", \"day\", \"day\", \"day\", \"day\", \"day\", \"day\", \"day\", \"day\", \"day\", \"day\", \"day\", \"day\", \"day\", \"day\", \"dear\", \"dear\", \"dear\", \"dear\", \"dear\", \"dear\", \"dear\", \"dear\", \"dear\", \"dear\", \"dear\", \"dear\", \"death\", \"death\", \"death\", \"death\", \"death\", \"death\", \"death\", \"death\", \"death\", \"death\", \"death\", \"decease\", \"decease\", \"decease\", \"decease\", \"decease\", \"deck\", \"deck\", \"defendue\", \"deformity\", \"deformity\", \"deformity\", \"degree\", \"degree\", \"degree\", \"degree\", \"degree\", \"degree\", \"degree\", \"degree\", \"degree\", \"degree\", \"degree\", \"degree\", \"delaford\", \"delaford\", \"demoiselles\", \"demoiselles\", \"demoiselles\", \"demonstrative\", \"denny\", \"denote\", \"denote\", \"denote\", \"denote\", \"dent\", \"deportment\", \"deportment\", \"deportment\", \"des\", \"des\", \"des\", \"des\", \"des\", \"desk\", \"desk\", \"desk\", \"desk\", \"desk\", \"desk\", \"desk\", \"desk\", \"desk\", \"desk\", \"despotism\", \"despotism\", \"despotism\", \"despotism\", \"devoirs\", \"devoirs\", \"devonshire\", \"devonshire\", \"devonshire\", \"devoting\", \"devoting\", \"devoting\", \"devoured\", \"diana\", \"diana\", \"diana\", \"diana\", \"diana\", \"diffused\", \"diffused\", \"diffused\", \"diffused\", \"dimly\", \"dingy\", \"dingy\", \"dingy\", \"director\", \"director\", \"director\", \"director\", \"director\", \"directress\", \"directress\", \"directress\", \"directress\", \"directress\", \"directress\", \"discharging\", \"discharging\", \"discharging\", \"discharging\", \"discharging\", \"dishes\", \"dishes\", \"dishes\", \"dishes\", \"dishes\", \"dishevelled\", \"dishevelled\", \"dishevelled\", \"dishevelled\", \"disposal\", \"disposal\", \"disposal\", \"disposal\", \"disposal\", \"dissimulation\", \"dissimulation\", \"doctor\", \"doctor\", \"doctor\", \"doctor\", \"document\", \"document\", \"document\", \"donwell\", \"donwell\", \"donwell\", \"door\", \"door\", \"door\", \"door\", \"door\", \"door\", \"door\", \"door\", \"door\", \"door\", \"door\", \"door\", \"door\", \"door\", \"doubt\", \"doubt\", \"doubt\", \"doubt\", \"doubt\", \"doubt\", \"doubt\", \"doubt\", \"doubt\", \"doubt\", \"doubt\", \"doubt\", \"doubt\", \"doubt\", \"dr\", \"dr\", \"dr\", \"dr\", \"dr\", \"dr\", \"dr\", \"drawings\", \"drawings\", \"drawings\", \"drawings\", \"drawings\", \"easy\", \"easy\", \"easy\", \"easy\", \"easy\", \"easy\", \"easy\", \"easy\", \"easy\", \"easy\", \"easy\", \"easy\", \"easy\", \"edward\", \"edward\", \"edward\", \"edward\", \"edward\", \"edward\", \"edward\", \"edward\", \"edward\", \"edward\", \"effusions\", \"elderly\", \"elderly\", \"elderly\", \"elderly\", \"elderly\", \"elderly\", \"elderly\", \"elinor\", \"elinor\", \"elinor\", \"elinor\", \"elinor\", \"elinor\", \"eliza\", \"eliza\", \"eliza\", \"eliza\", \"eliza\", \"eliza\", \"elizabeth\", \"elizabeth\", \"elizabeth\", \"elizabeth\", \"elizabeth\", \"elizabeth\", \"elizabeth\", \"elizabeth\", \"elizabeth\", \"elle\", \"elle\", \"elle\", \"elle\", \"elle\", \"elle\", \"elton\", \"elton\", \"elton\", \"elton\", \"elton\", \"elton\", \"elton\", \"eltons\", \"eltons\", \"emanuel\", \"emanuel\", \"emanuel\", \"emanuel\", \"emanuel\", \"embers\", \"embers\", \"emma\", \"emma\", \"emma\", \"emma\", \"emma\", \"emma\", \"emma\", \"emma\", \"emma\", \"employments\", \"employments\", \"encore\", \"encore\", \"encore\", \"encore\", \"enfin\", \"enfin\", \"engagement\", \"engagement\", \"engagement\", \"engagement\", \"engagement\", \"england\", \"england\", \"england\", \"england\", \"england\", \"england\", \"england\", \"england\", \"england\", \"england\", \"england\", \"england\", \"england\", \"english\", \"english\", \"english\", \"english\", \"english\", \"english\", \"english\", \"english\", \"english\", \"english\", \"english\", \"enlarge\", \"enlarge\", \"enlarge\", \"enlarge\", \"enlarged\", \"enlarged\", \"enlarged\", \"enlarged\", \"enormous\", \"enormous\", \"enormous\", \"enormous\", \"enounced\", \"enounced\", \"enounced\", \"enounced\", \"enquire\", \"enquiry\", \"enscombe\", \"enscombe\", \"enscombe\", \"entreaty\", \"entreaty\", \"enumerating\", \"enveloped\", \"equivalent\", \"equivalent\", \"equivalent\", \"equivalent\", \"er\", \"eshton\", \"est\", \"est\", \"est\", \"est\", \"est\", \"est\", \"est\", \"establishment\", \"establishment\", \"establishment\", \"establishment\", \"establishment\", \"establishment\", \"establishment\", \"establishment\", \"establishment\", \"establishment\", \"establishment\", \"estate\", \"estate\", \"estate\", \"estate\", \"estate\", \"estate\", \"estate\", \"estate\", \"estate\", \"estrade\", \"estrade\", \"et\", \"et\", \"et\", \"et\", \"et\", \"etes\", \"etes\", \"etre\", \"etre\", \"etre\", \"evans\", \"evans\", \"evans\", \"evening\", \"evening\", \"evening\", \"evening\", \"evening\", \"evening\", \"evening\", \"evening\", \"evening\", \"evening\", \"evening\", \"evening\", \"evening\", \"evening\", \"everybody\", \"everybody\", \"everybody\", \"everybody\", \"everybody\", \"everybody\", \"everybody\", \"exchanging\", \"exchanging\", \"exchanging\", \"exchanging\", \"existence\", \"existence\", \"existence\", \"existence\", \"existence\", \"existence\", \"existence\", \"existence\", \"existence\", \"existence\", \"expanse\", \"expanse\", \"expanse\", \"expect\", \"expect\", \"expect\", \"expect\", \"expect\", \"expect\", \"expect\", \"expect\", \"expenses\", \"expenses\", \"expenses\", \"expenses\", \"expenses\", \"experiment\", \"experiment\", \"experiment\", \"explore\", \"explore\", \"explore\", \"explore\", \"exploring\", \"exploring\", \"exploring\", \"external\", \"external\", \"external\", \"external\", \"external\", \"externes\", \"extorted\", \"extorted\", \"extorted\", \"eye\", \"eye\", \"eye\", \"eye\", \"eye\", \"eye\", \"eye\", \"eye\", \"eye\", \"eye\", \"eye\", \"eye\", \"eye\", \"eye\", \"eyelid\", \"eyelid\", \"eyelid\", \"eyes\", \"eyes\", \"eyes\", \"eyes\", \"eyes\", \"eyes\", \"eyes\", \"eyes\", \"eyes\", \"eyes\", \"eyes\", \"eyes\", \"eyes\", \"eyre\", \"eyre\", \"eyre\", \"eyre\", \"face\", \"face\", \"face\", \"face\", \"face\", \"face\", \"face\", \"face\", \"face\", \"face\", \"face\", \"face\", \"face\", \"face\", \"face\", \"fairfax\", \"fairfax\", \"fairfax\", \"fairfax\", \"fairfax\", \"fairfax\", \"fairfax\", \"fairfax\", \"fairfax\", \"fairfax\", \"fairfax\", \"family\", \"family\", \"family\", \"family\", \"family\", \"family\", \"family\", \"family\", \"family\", \"family\", \"family\", \"family\", \"family\", \"fanshawe\", \"fanshawe\", \"fanshawe\", \"fanshawe\", \"far\", \"far\", \"far\", \"far\", \"far\", \"far\", \"far\", \"far\", \"far\", \"far\", \"far\", \"far\", \"far\", \"far\", \"far\", \"farewell\", \"farewell\", \"farewell\", \"farewell\", \"farewell\", \"farewell\", \"father\", \"father\", \"father\", \"father\", \"father\", \"father\", \"father\", \"father\", \"father\", \"father\", \"father\", \"father\", \"father\", \"father\", \"fathers\", \"fathers\", \"fathers\", \"fathers\", \"features\", \"features\", \"features\", \"features\", \"features\", \"features\", \"features\", \"features\", \"features\", \"features\", \"features\", \"features\", \"fee\", \"fee\", \"fee\", \"feel\", \"feel\", \"feel\", \"feel\", \"feel\", \"feel\", \"feel\", \"feel\", \"feel\", \"feel\", \"feel\", \"feel\", \"feel\", \"feel\", \"feel\", \"feelings\", \"feelings\", \"feelings\", \"feelings\", \"feelings\", \"feelings\", \"feelings\", \"feelings\", \"feelings\", \"feelings\", \"feelings\", \"feelings\", \"feelings\", \"felicitations\", \"felicitations\", \"felicitations\", \"felt\", \"felt\", \"felt\", \"felt\", \"felt\", \"felt\", \"felt\", \"felt\", \"felt\", \"felt\", \"felt\", \"felt\", \"felt\", \"felt\", \"ferrars\", \"ferrars\", \"ferrars\", \"fetters\", \"fetters\", \"fiacre\", \"fiacre\", \"fifine\", \"fifine\", \"fifth\", \"fifth\", \"fifth\", \"fifth\", \"firmness\", \"firmness\", \"firmness\", \"firmness\", \"firmness\", \"firmness\", \"fitzwilliam\", \"fitzwilliam\", \"flamand\", \"flamand\", \"flown\", \"flown\", \"flown\", \"ford\", \"ford\", \"forster\", \"forster\", \"forster\", \"fortnight\", \"fortnight\", \"fortnight\", \"fortnight\", \"fortnight\", \"fortnight\", \"fortnight\", \"fortnight\", \"fortnight\", \"fortnight\", \"fortune\", \"fortune\", \"fortune\", \"fortune\", \"fortune\", \"fortune\", \"fortune\", \"fortune\", \"fortune\", \"fortune\", \"fortune\", \"fortune\", \"fortune\", \"fortune\", \"fortune\", \"forwarded\", \"forwarded\", \"forwarded\", \"fossette\", \"fossette\", \"fossette\", \"franc\", \"franc\", \"franc\", \"frances\", \"frances\", \"frances\", \"frances\", \"frances\", \"frances\", \"frances\", \"francs\", \"francs\", \"francs\", \"francs\", \"francs\", \"frank\", \"frank\", \"frank\", \"frank\", \"frank\", \"frank\", \"frank\", \"frank\", \"frank\", \"french\", \"french\", \"french\", \"french\", \"french\", \"french\", \"french\", \"french\", \"friend\", \"friend\", \"friend\", \"friend\", \"friend\", \"friend\", \"friend\", \"friend\", \"friend\", \"friend\", \"friend\", \"friend\", \"frock\", \"frock\", \"fulfil\", \"fulfil\", \"fulfil\", \"fulfil\", \"fulfil\", \"funeral\", \"funeral\", \"funeral\", \"funeral\", \"gall\", \"gall\", \"gall\", \"garcon\", \"garden\", \"garden\", \"garden\", \"garden\", \"garden\", \"garden\", \"garden\", \"garden\", \"garden\", \"garden\", \"garden\", \"gardiner\", \"gardiner\", \"gardiner\", \"gateshead\", \"gateshead\", \"gateshead\", \"generations\", \"generations\", \"generations\", \"generations\", \"generations\", \"georgiana\", \"georgiana\", \"georgiana\", \"georgiana\", \"georgiana\", \"georgiana\", \"georgiana\", \"getting\", \"getting\", \"getting\", \"getting\", \"getting\", \"getting\", \"getting\", \"getting\", \"getting\", \"getting\", \"getting\", \"ginevra\", \"ginevra\", \"ginevra\", \"ginevra\", \"given\", \"given\", \"given\", \"given\", \"given\", \"given\", \"given\", \"given\", \"given\", \"given\", \"given\", \"given\", \"given\", \"glide\", \"glide\", \"glide\", \"god\", \"god\", \"god\", \"god\", \"god\", \"god\", \"god\", \"god\", \"god\", \"god\", \"god\", \"goddard\", \"goddard\", \"goddard\", \"goddard\", \"good\", \"good\", \"good\", \"good\", \"good\", \"good\", \"good\", \"good\", \"good\", \"good\", \"good\", \"good\", \"good\", \"good\", \"good\", \"gracechurch\", \"gracechurch\", \"gracechurch\", \"graces\", \"graces\", \"graces\", \"graces\", \"graces\", \"graces\", \"graces\", \"graham\", \"graham\", \"graham\", \"graham\", \"graham\", \"graham\", \"graham\", \"graham\", \"grandmama\", \"grandmama\", \"grate\", \"grate\", \"grate\", \"grate\", \"great\", \"great\", \"great\", \"great\", \"great\", \"great\", \"great\", \"great\", \"great\", \"great\", \"great\", \"great\", \"great\", \"great\", \"greatness\", \"greatness\", \"greatness\", \"greatness\", \"greatness\", \"greatness\", \"grenier\", \"grimaces\", \"grimaces\", \"grimaces\", \"grove\", \"grove\", \"grove\", \"grove\", \"grove\", \"grove\", \"growth\", \"growth\", \"growth\", \"growth\", \"gruel\", \"gruel\", \"hail\", \"hair\", \"hair\", \"hair\", \"hair\", \"hair\", \"hair\", \"hair\", \"hair\", \"hair\", \"hair\", \"hair\", \"half\", \"half\", \"half\", \"half\", \"half\", \"half\", \"half\", \"half\", \"half\", \"half\", \"half\", \"half\", \"half\", \"half\", \"hall\", \"hall\", \"hall\", \"hall\", \"hall\", \"hall\", \"hall\", \"hall\", \"hall\", \"hall\", \"hall\", \"hand\", \"hand\", \"hand\", \"hand\", \"hand\", \"hand\", \"hand\", \"hand\", \"hand\", \"hand\", \"hand\", \"hand\", \"hand\", \"hand\", \"hands\", \"hands\", \"hands\", \"hands\", \"hands\", \"hands\", \"hands\", \"hands\", \"hands\", \"hands\", \"hands\", \"hands\", \"hands\", \"hands\", \"handsomer\", \"handsomer\", \"handwriting\", \"handwriting\", \"handwriting\", \"hannah\", \"hannah\", \"hannah\", \"hannah\", \"harangue\", \"harangue\", \"hardships\", \"hardships\", \"hardships\", \"harp\", \"harp\", \"harp\", \"harp\", \"harriet\", \"harriet\", \"harriet\", \"harriet\", \"harriet\", \"harriet\", \"harriet\", \"harriet\", \"hartfield\", \"hartfield\", \"hartfield\", \"hartfield\", \"hartfield\", \"having\", \"having\", \"having\", \"having\", \"having\", \"having\", \"having\", \"having\", \"having\", \"having\", \"having\", \"having\", \"having\", \"having\", \"hawkins\", \"head\", \"head\", \"head\", \"head\", \"head\", \"head\", \"head\", \"head\", \"head\", \"head\", \"head\", \"head\", \"head\", \"head\", \"head\", \"headache\", \"headache\", \"headache\", \"headache\", \"headache\", \"healthful\", \"heard\", \"heard\", \"heard\", \"heard\", \"heard\", \"heard\", \"heard\", \"heard\", \"heard\", \"heard\", \"heard\", \"heard\", \"heard\", \"heard\", \"heard\", \"heart\", \"heart\", \"heart\", \"heart\", \"heart\", \"heart\", \"heart\", \"heart\", \"heart\", \"heart\", \"heart\", \"heart\", \"heart\", \"heart\", \"heart\", \"helen\", \"helen\", \"helen\", \"helen\", \"henri\", \"henri\", \"henri\", \"henri\", \"henri\", \"henry\", \"henry\", \"henry\", \"henry\", \"hertfordshire\", \"hertfordshire\", \"hertfordshire\", \"highbury\", \"highbury\", \"highbury\", \"highbury\", \"highbury\", \"highbury\", \"higher\", \"higher\", \"higher\", \"higher\", \"higher\", \"higher\", \"higher\", \"higher\", \"hints\", \"hints\", \"hints\", \"hints\", \"hints\", \"hints\", \"hints\", \"hole\", \"home\", \"home\", \"home\", \"home\", \"home\", \"home\", \"home\", \"home\", \"home\", \"home\", \"home\", \"home\", \"honeymoon\", \"honeymoon\", \"house\", \"house\", \"house\", \"house\", \"house\", \"house\", \"house\", \"house\", \"house\", \"house\", \"house\", \"house\", \"house\", \"house\", \"housekeeping\", \"housekeeping\", \"housekeeping\", \"housekeeping\", \"hunsden\", \"hunsden\", \"hunsden\", \"hunsden\", \"hunsden\", \"hunsden\", \"hunsden\", \"hunsden\", \"hurst\", \"hurst\", \"il\", \"il\", \"il\", \"il\", \"il\", \"imbecile\", \"imbecile\", \"including\", \"including\", \"including\", \"including\", \"including\", \"including\", \"including\", \"income\", \"income\", \"income\", \"income\", \"income\", \"income\", \"income\", \"income\", \"income\", \"income\", \"india\", \"india\", \"india\", \"india\", \"indian\", \"indian\", \"indian\", \"indian\", \"infirm\", \"infirm\", \"inflicting\", \"inflicting\", \"inflicting\", \"inflicting\", \"ingram\", \"ingram\", \"ingram\", \"inquiry\", \"inquiry\", \"inquiry\", \"inquiry\", \"inquiry\", \"inquiry\", \"inquiry\", \"inquiry\", \"inquiry\", \"insane\", \"insane\", \"insane\", \"insight\", \"insight\", \"insight\", \"intelligent\", \"intelligent\", \"intelligent\", \"intelligent\", \"intelligent\", \"intelligent\", \"intelligent\", \"interior\", \"interior\", \"interior\", \"interior\", \"interrupting\", \"interrupting\", \"interrupting\", \"intimately\", \"intimately\", \"involuntarily\", \"involuntarily\", \"involuntarily\", \"involuntarily\", \"involuntarily\", \"involuntarily\", \"irritating\", \"irritating\", \"irritating\", \"isabella\", \"isabella\", \"isidore\", \"isidore\", \"isidore\", \"jane\", \"jane\", \"jane\", \"jane\", \"jane\", \"jane\", \"jane\", \"jane\", \"jane\", \"jane\", \"janet\", \"janet\", \"janet\", \"jar\", \"je\", \"je\", \"je\", \"je\", \"je\", \"jenkinson\", \"jennings\", \"jennings\", \"jennings\", \"john\", \"john\", \"john\", \"john\", \"john\", \"john\", \"john\", \"john\", \"john\", \"john\", \"john\", \"john\", \"joys\", \"joys\", \"judgement\", \"judgement\", \"jump\", \"jump\", \"jump\", \"justine\", \"justine\", \"justine\", \"kent\", \"kept\", \"kept\", \"kept\", \"kept\", \"kept\", \"kept\", \"kept\", \"kept\", \"kept\", \"kept\", \"kind\", \"kind\", \"kind\", \"kind\", \"kind\", \"kind\", \"kind\", \"kind\", \"kind\", \"kind\", \"kind\", \"kind\", \"kind\", \"kind\", \"kings\", \"kings\", \"kings\", \"kiss\", \"kiss\", \"kiss\", \"kiss\", \"kiss\", \"kiss\", \"kiss\", \"kiss\", \"kisses\", \"kisses\", \"kisses\", \"kisses\", \"knew\", \"knew\", \"knew\", \"knew\", \"knew\", \"knew\", \"knew\", \"knew\", \"knew\", \"knew\", \"knew\", \"knew\", \"knew\", \"knightley\", \"knightley\", \"knightley\", \"knightley\", \"knightley\", \"knightley\", \"knightley\", \"knightleys\", \"knightleys\", \"know\", \"know\", \"know\", \"know\", \"know\", \"know\", \"know\", \"know\", \"know\", \"know\", \"know\", \"know\", \"know\", \"know\", \"know\", \"la\", \"la\", \"la\", \"la\", \"la\", \"la\", \"la\", \"la\", \"lace\", \"lace\", \"lace\", \"lace\", \"lace\", \"lace\", \"lace\", \"lace\", \"lace\", \"lady\", \"lady\", \"lady\", \"lady\", \"lady\", \"lady\", \"lady\", \"lady\", \"lady\", \"lady\", \"lady\", \"lady\", \"lady\", \"lady\", \"lady\", \"larkins\", \"laugh\", \"laugh\", \"laugh\", \"laugh\", \"laugh\", \"laugh\", \"laugh\", \"laugh\", \"laugh\", \"laugh\", \"laugh\", \"laugh\", \"le\", \"le\", \"le\", \"le\", \"le\", \"le\", \"leah\", \"leah\", \"leah\", \"leah\", \"leaved\", \"leaved\", \"leaved\", \"left\", \"left\", \"left\", \"left\", \"left\", \"left\", \"left\", \"left\", \"left\", \"left\", \"left\", \"left\", \"left\", \"leg\", \"leg\", \"leg\", \"legitimate\", \"legitimate\", \"legitimate\", \"lengths\", \"lengths\", \"lengths\", \"lengths\", \"lengths\", \"les\", \"les\", \"les\", \"les\", \"lesson\", \"lesson\", \"lesson\", \"lesson\", \"lesson\", \"lesson\", \"lesson\", \"lesson\", \"lesson\", \"lesson\", \"let\", \"let\", \"let\", \"let\", \"let\", \"let\", \"let\", \"let\", \"let\", \"let\", \"let\", \"let\", \"letter\", \"letter\", \"letter\", \"letter\", \"letter\", \"letter\", \"letter\", \"letter\", \"letter\", \"letter\", \"letter\", \"letter\", \"letter\", \"levity\", \"levity\", \"levity\", \"levity\", \"levity\", \"lid\", \"lid\", \"lied\", \"lied\", \"lied\", \"life\", \"life\", \"life\", \"life\", \"life\", \"life\", \"life\", \"life\", \"life\", \"life\", \"life\", \"life\", \"life\", \"life\", \"light\", \"light\", \"light\", \"light\", \"light\", \"light\", \"light\", \"light\", \"light\", \"light\", \"light\", \"light\", \"lighting\", \"lighting\", \"like\", \"like\", \"like\", \"like\", \"like\", \"like\", \"like\", \"like\", \"like\", \"like\", \"like\", \"like\", \"like\", \"like\", \"likeness\", \"likeness\", \"likeness\", \"likeness\", \"likeness\", \"likeness\", \"likeness\", \"likeness\", \"likeness\", \"likeness\", \"likeness\", \"limited\", \"limited\", \"limited\", \"limited\", \"limited\", \"limited\", \"limited\", \"limited\", \"limited\", \"little\", \"little\", \"little\", \"little\", \"little\", \"little\", \"little\", \"little\", \"little\", \"little\", \"little\", \"little\", \"little\", \"little\", \"little\", \"live\", \"live\", \"live\", \"live\", \"live\", \"live\", \"live\", \"live\", \"live\", \"live\", \"live\", \"live\", \"live\", \"live\", \"lizzy\", \"lizzy\", \"lizzy\", \"lizzy\", \"lizzy\", \"ll\", \"ll\", \"ll\", \"ll\", \"ll\", \"ll\", \"ll\", \"ll\", \"ll\", \"ll\", \"lloyd\", \"lloyd\", \"lodge\", \"lodge\", \"lodge\", \"lodge\", \"lodge\", \"lodge\", \"long\", \"long\", \"long\", \"long\", \"long\", \"long\", \"long\", \"long\", \"long\", \"long\", \"long\", \"long\", \"long\", \"long\", \"long\", \"longbourn\", \"longbourn\", \"longbourn\", \"longstaple\", \"look\", \"look\", \"look\", \"look\", \"look\", \"look\", \"look\", \"look\", \"look\", \"look\", \"look\", \"look\", \"look\", \"look\", \"look\", \"looked\", \"looked\", \"looked\", \"looked\", \"looked\", \"looked\", \"looked\", \"looked\", \"looked\", \"looked\", \"looked\", \"looked\", \"looked\", \"looked\", \"looked\", \"love\", \"love\", \"love\", \"love\", \"love\", \"love\", \"love\", \"love\", \"love\", \"love\", \"love\", \"love\", \"love\", \"loved\", \"loved\", \"loved\", \"loved\", \"loved\", \"loved\", \"loved\", \"loved\", \"loved\", \"loved\", \"lowood\", \"lowood\", \"lowood\", \"lucas\", \"lucas\", \"lucas\", \"lucases\", \"lucases\", \"lucy\", \"lucy\", \"lucy\", \"lucy\", \"lucy\", \"lucy\", \"lucy\", \"lucy\", \"lucy\", \"lui\", \"lui\", \"lui\", \"luxuries\", \"luxuries\", \"luxuries\", \"luxuries\", \"luxuries\", \"luxury\", \"luxury\", \"luxury\", \"luxury\", \"luxury\", \"luxury\", \"luxury\", \"lydia\", \"lydia\", \"lydia\", \"lynn\", \"madame\", \"madame\", \"madame\", \"madame\", \"madame\", \"madame\", \"madame\", \"madame\", \"madame\", \"mademoiselle\", \"mademoiselle\", \"mademoiselle\", \"mademoiselle\", \"mademoiselle\", \"mademoiselle\", \"mademoiselle\", \"mademoiselle\", \"magi\", \"magi\", \"magi\", \"magna\", \"maintaining\", \"maintaining\", \"maintaining\", \"maintaining\", \"maintaining\", \"mais\", \"mais\", \"mais\", \"maker\", \"maker\", \"maker\", \"mal\", \"mal\", \"man\", \"man\", \"man\", \"man\", \"man\", \"man\", \"man\", \"man\", \"man\", \"man\", \"man\", \"man\", \"man\", \"maniac\", \"maniac\", \"maple\", \"maple\", \"maple\", \"marchmont\", \"marchmont\", \"marchmont\", \"margaret\", \"margaret\", \"margaret\", \"marianne\", \"marianne\", \"marianne\", \"marianne\", \"marianne\", \"marie\", \"marie\", \"marie\", \"marie\", \"marriage\", \"marriage\", \"marriage\", \"marriage\", \"marriage\", \"marriage\", \"marriage\", \"marriage\", \"marriage\", \"marriage\", \"martin\", \"martin\", \"martin\", \"martin\", \"martin\", \"mary\", \"mary\", \"mary\", \"mary\", \"mary\", \"mary\", \"mary\", \"mary\", \"mary\", \"mary\", \"mason\", \"mason\", \"mason\", \"mason\", \"master\", \"master\", \"master\", \"master\", \"master\", \"master\", \"master\", \"master\", \"master\", \"master\", \"master\", \"mdlle\", \"mdlle\", \"mdlle\", \"mdlle\", \"mdlle\", \"mdlle\", \"mdlle\", \"mender\", \"mender\", \"mental\", \"mental\", \"mental\", \"mental\", \"mental\", \"mental\", \"mental\", \"mental\", \"mental\", \"meryton\", \"meryton\", \"meryton\", \"messieurs\", \"messieurs\", \"messieurs\", \"messieurs\", \"middleton\", \"middleton\", \"middleton\", \"middleton\", \"middletons\", \"middletons\", \"mien\", \"mien\", \"mien\", \"mien\", \"mien\", \"mien\", \"military\", \"military\", \"military\", \"militia\", \"militia\", \"millcote\", \"millcote\", \"millcote\", \"miller\", \"miller\", \"mind\", \"mind\", \"mind\", \"mind\", \"mind\", \"mind\", \"mind\", \"mind\", \"mind\", \"mind\", \"mind\", \"mind\", \"mind\", \"mind\", \"mischievous\", \"mischievous\", \"mischievous\", \"mischievous\", \"misery\", \"misery\", \"misery\", \"misery\", \"misery\", \"misery\", \"misery\", \"miss\", \"miss\", \"miss\", \"miss\", \"miss\", \"miss\", \"miss\", \"miss\", \"miss\", \"miss\", \"miss\", \"miss\", \"miss\", \"missionary\", \"missionary\", \"missionary\", \"missis\", \"moi\", \"moi\", \"moi\", \"moment\", \"moment\", \"moment\", \"moment\", \"moment\", \"moment\", \"moment\", \"moment\", \"moment\", \"moment\", \"moment\", \"moment\", \"moment\", \"mon\", \"mon\", \"mon\", \"mon\", \"mon\", \"monday\", \"monday\", \"monsieur\", \"monsieur\", \"monsieur\", \"monsieur\", \"monsieur\", \"monsieur\", \"monsieur\", \"monsieur\", \"monsieur\", \"moors\", \"morals\", \"morals\", \"mother\", \"mother\", \"mother\", \"mother\", \"mother\", \"mother\", \"mother\", \"mother\", \"mother\", \"mother\", \"mother\", \"mother\", \"mother\", \"mother\", \"mound\", \"mound\", \"mud\", \"mud\", \"mud\", \"musical\", \"musical\", \"musical\", \"musical\", \"musical\", \"musical\", \"musical\", \"mystic\", \"mystic\", \"mystic\", \"nailed\", \"nailed\", \"nailed\", \"naked\", \"nash\", \"nash\", \"nash\", \"nation\", \"nation\", \"nation\", \"nation\", \"nations\", \"nations\", \"nations\", \"nations\", \"natural\", \"natural\", \"natural\", \"natural\", \"natural\", \"natural\", \"natural\", \"natural\", \"natural\", \"natural\", \"natural\", \"natural\", \"natural\", \"ne\", \"ne\", \"ne\", \"ne\", \"near\", \"near\", \"near\", \"near\", \"near\", \"near\", \"near\", \"near\", \"near\", \"near\", \"near\", \"near\", \"nest\", \"netherfield\", \"netherfield\", \"netherfield\", \"new\", \"new\", \"new\", \"new\", \"new\", \"new\", \"new\", \"new\", \"new\", \"new\", \"new\", \"new\", \"new\", \"new\", \"night\", \"night\", \"night\", \"night\", \"night\", \"night\", \"night\", \"night\", \"night\", \"night\", \"night\", \"night\", \"night\", \"ninety\", \"ninety\", \"ninety\", \"nobleman\", \"nobleman\", \"nobleman\", \"non\", \"non\", \"non\", \"nonsensical\", \"norland\", \"norland\", \"norland\", \"norland\", \"notre\", \"notre\", \"numero\", \"numero\", \"nun\", \"nun\", \"nun\", \"nun\", \"obeying\", \"obeying\", \"officers\", \"officers\", \"officers\", \"oh\", \"oh\", \"oh\", \"oh\", \"oh\", \"oh\", \"oh\", \"oh\", \"oh\", \"oh\", \"oh\", \"oh\", \"oh\", \"old\", \"old\", \"old\", \"old\", \"old\", \"old\", \"old\", \"old\", \"old\", \"old\", \"old\", \"old\", \"old\", \"old\", \"oratory\", \"oratory\", \"ou\", \"ou\", \"ou\", \"ou\", \"palmer\", \"palmer\", \"palmers\", \"panel\", \"panel\", \"panel\", \"papa\", \"papa\", \"papa\", \"papa\", \"papa\", \"papa\", \"papa\", \"papa\", \"papa\", \"papa\", \"papa\", \"paragraph\", \"paragraph\", \"paragraph\", \"paragraph\", \"paragraph\", \"paramount\", \"paramount\", \"paramount\", \"paramount\", \"parisian\", \"parisian\", \"parisian\", \"park\", \"park\", \"park\", \"park\", \"park\", \"park\", \"park\", \"park\", \"park\", \"park\", \"park\", \"park\", \"parties\", \"parties\", \"parties\", \"parties\", \"parties\", \"parties\", \"parties\", \"parties\", \"parties\", \"pas\", \"pas\", \"pas\", \"pas\", \"pas\", \"pas\", \"patrician\", \"patrician\", \"patrician\", \"patty\", \"paul\", \"paul\", \"paul\", \"paul\", \"paul\", \"paul\", \"paul\", \"paulina\", \"paulina\", \"paulina\", \"paulina\", \"paulina\", \"peak\", \"peak\", \"peak\", \"peak\", \"pelet\", \"pelet\", \"pelet\", \"pelet\", \"pelet\", \"pelet\", \"pelet\", \"pemberley\", \"pemberley\", \"pemberley\", \"pencil\", \"pencil\", \"pencil\", \"pencil\", \"pencil\", \"pencil\", \"pencil\", \"pensionnat\", \"pensionnat\", \"pensionnat\", \"pensionnat\", \"pensionnat\", \"pensionnat\", \"people\", \"people\", \"people\", \"people\", \"people\", \"people\", \"people\", \"people\", \"people\", \"people\", \"people\", \"people\", \"people\", \"people\", \"performances\", \"performances\", \"performances\", \"performances\", \"perry\", \"perry\", \"perry\", \"perry\", \"petit\", \"petit\", \"petit\", \"petit\", \"peut\", \"peut\", \"peut\", \"philanthropist\", \"philanthropist\", \"philanthropist\", \"philanthropist\", \"philanthropy\", \"philanthropy\", \"phillips\", \"phillips\", \"pictures\", \"pictures\", \"pictures\", \"pictures\", \"pictures\", \"pictures\", \"pictures\", \"pictures\", \"pictures\", \"pictures\", \"pictures\", \"pieces\", \"pieces\", \"pieces\", \"pieces\", \"pieces\", \"pieces\", \"pieces\", \"pierre\", \"pierre\", \"pile\", \"pilot\", \"pilot\", \"pilot\", \"place\", \"place\", \"place\", \"place\", \"place\", \"place\", \"place\", \"place\", \"place\", \"place\", \"place\", \"place\", \"place\", \"platform\", \"pleasure\", \"pleasure\", \"pleasure\", \"pleasure\", \"pleasure\", \"pleasure\", \"pleasure\", \"pleasure\", \"pleasure\", \"pleasure\", \"pleasure\", \"pleasure\", \"pleasure\", \"plebeian\", \"plebeian\", \"plebeian\", \"poet\", \"poet\", \"poet\", \"pomp\", \"pomp\", \"pomp\", \"pomp\", \"poole\", \"poole\", \"poor\", \"poor\", \"poor\", \"poor\", \"poor\", \"poor\", \"poor\", \"poor\", \"poor\", \"poor\", \"poor\", \"poor\", \"poor\", \"portfolio\", \"portfolio\", \"portfolio\", \"portfolio\", \"portfolio\", \"pounds\", \"pounds\", \"pounds\", \"pounds\", \"pounds\", \"pounds\", \"pounds\", \"pounds\", \"pounds\", \"pounds\", \"power\", \"power\", \"power\", \"power\", \"power\", \"power\", \"power\", \"power\", \"power\", \"power\", \"power\", \"power\", \"power\", \"power\", \"preparations\", \"preparations\", \"preparations\", \"preparations\", \"preparations\", \"pretty\", \"pretty\", \"pretty\", \"pretty\", \"pretty\", \"pretty\", \"pretty\", \"pretty\", \"pretty\", \"pretty\", \"pretty\", \"pretty\", \"pretty\", \"priest\", \"priest\", \"priest\", \"priest\", \"problem\", \"professional\", \"professional\", \"promptitude\", \"promptitude\", \"promptitude\", \"promptitude\", \"property\", \"property\", \"property\", \"property\", \"property\", \"property\", \"property\", \"property\", \"propre\", \"propre\", \"propre\", \"prose\", \"prose\", \"prose\", \"prose\", \"prosperity\", \"prosperity\", \"prosperity\", \"prosperity\", \"prosperity\", \"prosperity\", \"protestants\", \"protestants\", \"publicity\", \"publicity\", \"publicity\", \"publicity\", \"punctuality\", \"punctuality\", \"punctuality\", \"punctuality\", \"punctuality\", \"pupil\", \"pupil\", \"pupil\", \"pupil\", \"pupil\", \"pupil\", \"pupil\", \"pupil\", \"pupil\", \"pupils\", \"pupils\", \"pupils\", \"pupils\", \"pupils\", \"pupils\", \"pupils\", \"pushing\", \"pushing\", \"pushing\", \"pushing\", \"qu\", \"qu\", \"qu\", \"qu\", \"quarrelled\", \"quarrelled\", \"quarrelled\", \"quarrelled\", \"que\", \"que\", \"que\", \"que\", \"que\", \"quel\", \"quel\", \"rainbow\", \"rainbow\", \"rainbow\", \"randalls\", \"randalls\", \"randalls\", \"rats\", \"rats\", \"rats\", \"rays\", \"rays\", \"read\", \"read\", \"read\", \"read\", \"read\", \"read\", \"read\", \"read\", \"read\", \"read\", \"read\", \"read\", \"read\", \"read\", \"recital\", \"reckon\", \"reckon\", \"reckon\", \"reckon\", \"recurrence\", \"recurrence\", \"recurrence\", \"recurrence\", \"recurrence\", \"reed\", \"reed\", \"reed\", \"reed\", \"regiment\", \"regiment\", \"regiment\", \"regiment\", \"regularity\", \"regularity\", \"regularity\", \"relatives\", \"relatives\", \"relatives\", \"relatives\", \"reluctantly\", \"reluctantly\", \"reluctantly\", \"reluctantly\", \"reminiscences\", \"reminiscences\", \"reminiscences\", \"remnant\", \"replied\", \"replied\", \"replied\", \"replied\", \"replied\", \"replied\", \"replied\", \"replied\", \"replied\", \"replied\", \"replied\", \"replied\", \"reported\", \"reported\", \"reported\", \"reported\", \"repugnance\", \"repugnance\", \"repugnance\", \"repugnance\", \"resided\", \"resided\", \"resided\", \"resided\", \"resources\", \"resources\", \"resources\", \"resources\", \"resources\", \"resources\", \"resources\", \"rests\", \"rests\", \"reuter\", \"reuter\", \"reuter\", \"reuter\", \"reuter\", \"richard\", \"richard\", \"richard\", \"richard\", \"richer\", \"richer\", \"richer\", \"richer\", \"richmond\", \"riddle\", \"riddle\", \"riddle\", \"riddle\", \"rivers\", \"rivers\", \"rivers\", \"rivers\", \"rivers\", \"rivers\", \"robert\", \"robert\", \"robert\", \"robert\", \"robert\", \"rochester\", \"rochester\", \"rochester\", \"rochester\", \"rochester\", \"rochester\", \"rochester\", \"rochester\", \"rome\", \"rome\", \"rome\", \"rome\", \"rome\", \"rome\", \"rome\", \"room\", \"room\", \"room\", \"room\", \"room\", \"room\", \"room\", \"room\", \"room\", \"room\", \"room\", \"room\", \"room\", \"room\", \"rosamond\", \"rosamond\", \"rosine\", \"rosine\", \"rough\", \"rough\", \"rough\", \"rough\", \"rough\", \"rough\", \"rough\", \"round\", \"round\", \"round\", \"round\", \"round\", \"round\", \"round\", \"round\", \"round\", \"round\", \"round\", \"round\", \"round\", \"round\", \"rubber\", \"rubber\", \"rubber\", \"rue\", \"rue\", \"rue\", \"rue\", \"rue\", \"rue\", \"rumour\", \"rumour\", \"rumour\", \"rumour\", \"rumour\", \"rumour\", \"rumour\", \"sacrifices\", \"sacrifices\", \"sacrifices\", \"salary\", \"salary\", \"salary\", \"salary\", \"salary\", \"salary\", \"salary\", \"salary\", \"salary\", \"sarah\", \"sarah\", \"sarah\", \"sarcastic\", \"sarcastic\", \"sarcastic\", \"sarcastic\", \"saturday\", \"saturday\", \"saturday\", \"saturday\", \"saturday\", \"saw\", \"saw\", \"saw\", \"saw\", \"saw\", \"saw\", \"saw\", \"saw\", \"saw\", \"saw\", \"saw\", \"saw\", \"saw\", \"saw\", \"scarcely\", \"scarcely\", \"scarcely\", \"scarcely\", \"scarcely\", \"scarcely\", \"scarcely\", \"scarcely\", \"scarcely\", \"scarcely\", \"scarcely\", \"scatcherd\", \"scotch\", \"scotch\", \"scotch\", \"scotch\", \"scotch\", \"scotch\", \"scowled\", \"scowled\", \"scowled\", \"scrape\", \"scrape\", \"scrape\", \"scrape\", \"scrape\", \"scrupled\", \"scrupled\", \"scrupled\", \"scrupled\", \"sea\", \"sea\", \"sea\", \"sea\", \"sea\", \"sea\", \"sea\", \"sea\", \"sea\", \"sea\", \"seacombe\", \"seacombe\", \"seas\", \"seas\", \"seas\", \"secured\", \"secured\", \"secured\", \"secured\", \"secured\", \"secured\", \"secured\", \"secured\", \"secured\", \"secured\", \"self\", \"self\", \"self\", \"self\", \"self\", \"self\", \"self\", \"self\", \"self\", \"self\", \"self\", \"self\", \"selina\", \"selina\", \"serenity\", \"serenity\", \"serenity\", \"serenity\", \"shall\", \"shall\", \"shall\", \"shall\", \"shall\", \"shall\", \"shall\", \"shall\", \"shall\", \"shall\", \"shall\", \"shall\", \"shall\", \"shelves\", \"shelves\", \"shelves\", \"shire\", \"shire\", \"shire\", \"shire\", \"shire\", \"shire\", \"shire\", \"shire\", \"shire\", \"shrine\", \"shrine\", \"shudder\", \"shudder\", \"shudder\", \"sickening\", \"sickening\", \"sickly\", \"sickly\", \"sickly\", \"sickly\", \"sir\", \"sir\", \"sir\", \"sir\", \"sir\", \"sir\", \"sir\", \"sir\", \"sir\", \"sir\", \"sir\", \"sir\", \"sister\", \"sister\", \"sister\", \"sister\", \"sister\", \"sister\", \"sister\", \"sister\", \"sister\", \"sister\", \"sister\", \"sister\", \"sisters\", \"sisters\", \"sisters\", \"sisters\", \"sisters\", \"sisters\", \"sisters\", \"sisters\", \"sisters\", \"sisters\", \"sisters\", \"sixpence\", \"sixpence\", \"sixpence\", \"sixpence\", \"sketch\", \"sketch\", \"sketch\", \"sketch\", \"sketch\", \"sketch\", \"sketch\", \"sketch\", \"skies\", \"sleeper\", \"sleeve\", \"slippery\", \"slippery\", \"slippery\", \"slippery\", \"slippery\", \"smallridge\", \"smith\", \"smith\", \"smith\", \"smith\", \"smith\", \"smith\", \"sneered\", \"sneered\", \"society\", \"society\", \"society\", \"society\", \"society\", \"society\", \"society\", \"society\", \"society\", \"society\", \"society\", \"society\", \"society\", \"society\", \"soir\", \"soir\", \"soir\", \"soit\", \"soit\", \"somersetshire\", \"son\", \"son\", \"son\", \"son\", \"son\", \"son\", \"son\", \"son\", \"son\", \"son\", \"son\", \"soon\", \"soon\", \"soon\", \"soon\", \"soon\", \"soon\", \"soon\", \"soon\", \"soon\", \"soon\", \"soon\", \"soon\", \"soon\", \"soon\", \"soon\", \"sort\", \"sort\", \"sort\", \"sort\", \"sort\", \"sort\", \"sort\", \"sort\", \"sort\", \"sort\", \"sort\", \"sort\", \"sparkled\", \"sparkled\", \"sparkled\", \"sparkled\", \"speak\", \"speak\", \"speak\", \"speak\", \"speak\", \"speak\", \"speak\", \"speak\", \"speak\", \"speak\", \"speak\", \"speak\", \"spectacles\", \"spectacles\", \"spectacles\", \"spectacles\", \"spectacles\", \"spectacles\", \"spectacles\", \"spectral\", \"spirits\", \"spirits\", \"spirits\", \"spirits\", \"spirits\", \"spirits\", \"spirits\", \"spirits\", \"spirits\", \"spirits\", \"spirits\", \"spirits\", \"spirits\", \"st\", \"st\", \"st\", \"st\", \"st\", \"st\", \"st\", \"st\", \"st\", \"st\", \"sternly\", \"sternly\", \"stile\", \"stood\", \"stood\", \"stood\", \"stood\", \"stood\", \"stood\", \"stood\", \"stood\", \"stood\", \"stood\", \"stood\", \"storeroom\", \"storeroom\", \"storeroom\", \"storey\", \"storms\", \"storms\", \"storms\", \"strange\", \"strange\", \"strange\", \"strange\", \"strange\", \"strange\", \"strange\", \"strange\", \"strange\", \"strange\", \"strange\", \"strange\", \"submissive\", \"submissive\", \"submissive\", \"submissive\", \"submissive\", \"submissive\", \"subside\", \"subside\", \"sun\", \"sun\", \"sun\", \"sun\", \"sun\", \"sun\", \"sun\", \"sun\", \"suns\", \"suns\", \"superiority\", \"superiority\", \"superiority\", \"superiority\", \"superiority\", \"superiority\", \"superiority\", \"sure\", \"sure\", \"sure\", \"sure\", \"sure\", \"sure\", \"sure\", \"sure\", \"sure\", \"sure\", \"sure\", \"sure\", \"sure\", \"sure\", \"surgeon\", \"surgeon\", \"surgeon\", \"surgeon\", \"surprise\", \"surprise\", \"surprise\", \"surprise\", \"surprise\", \"surprise\", \"surprise\", \"surprise\", \"surprise\", \"surprize\", \"surprize\", \"surprize\", \"surprized\", \"surry\", \"surry\", \"swelled\", \"swelled\", \"swelled\", \"swelled\", \"swelled\", \"swelled\", \"swiss\", \"swiss\", \"swiss\", \"switzerland\", \"switzerland\", \"switzerland\", \"swung\", \"swung\", \"swung\", \"talents\", \"talents\", \"talents\", \"talents\", \"talents\", \"talents\", \"talents\", \"talents\", \"talker\", \"talker\", \"talker\", \"talker\", \"talker\", \"taylor\", \"taylor\", \"taylor\", \"teacher\", \"teacher\", \"teacher\", \"teacher\", \"teacher\", \"teacher\", \"teacher\", \"teacher\", \"teacher\", \"tell\", \"tell\", \"tell\", \"tell\", \"tell\", \"tell\", \"tell\", \"tell\", \"tell\", \"tell\", \"tell\", \"tell\", \"tell\", \"tell\", \"temple\", \"temple\", \"temple\", \"temple\", \"terrasse\", \"terrasse\", \"terrasse\", \"thing\", \"thing\", \"thing\", \"thing\", \"thing\", \"thing\", \"thing\", \"thing\", \"thing\", \"thing\", \"thing\", \"thing\", \"thing\", \"thing\", \"thing\", \"think\", \"think\", \"think\", \"think\", \"think\", \"think\", \"think\", \"think\", \"think\", \"think\", \"think\", \"think\", \"think\", \"think\", \"think\", \"thornfield\", \"thornfield\", \"thornfield\", \"thornfield\", \"thornfield\", \"thought\", \"thought\", \"thought\", \"thought\", \"thought\", \"thought\", \"thought\", \"thought\", \"thought\", \"thought\", \"thought\", \"thought\", \"thought\", \"thought\", \"thought\", \"thousand\", \"thousand\", \"thousand\", \"thousand\", \"thousand\", \"thousand\", \"thousand\", \"thousand\", \"thousand\", \"thousand\", \"thousand\", \"thousand\", \"thousand\", \"throne\", \"throne\", \"tied\", \"tied\", \"tied\", \"tied\", \"tied\", \"tied\", \"time\", \"time\", \"time\", \"time\", \"time\", \"time\", \"time\", \"time\", \"time\", \"time\", \"time\", \"time\", \"time\", \"time\", \"tints\", \"tints\", \"tints\", \"took\", \"took\", \"took\", \"took\", \"took\", \"took\", \"took\", \"took\", \"took\", \"took\", \"took\", \"took\", \"took\", \"took\", \"town\", \"town\", \"town\", \"town\", \"town\", \"town\", \"town\", \"town\", \"town\", \"town\", \"town\", \"town\", \"town\", \"town\", \"traced\", \"traced\", \"traced\", \"traced\", \"traced\", \"traced\", \"tranquilly\", \"tranquilly\", \"tranquilly\", \"tranquilly\", \"tranquilly\", \"treats\", \"treats\", \"treats\", \"triumphantly\", \"triumphantly\", \"triumphantly\", \"trod\", \"troop\", \"troop\", \"troop\", \"truths\", \"truths\", \"truths\", \"truths\", \"turned\", \"turned\", \"turned\", \"turned\", \"turned\", \"turned\", \"turned\", \"turned\", \"turned\", \"turned\", \"turned\", \"turned\", \"turned\", \"turned\", \"turned\", \"tutor\", \"tutor\", \"tutor\", \"tutor\", \"unceasing\", \"uncle\", \"uncle\", \"uncle\", \"uncle\", \"uncle\", \"uncle\", \"uncle\", \"uncle\", \"uncle\", \"uncle\", \"uncle\", \"uncle\", \"undone\", \"undone\", \"undone\", \"undone\", \"unfrequently\", \"unfrequently\", \"unfrequently\", \"unfrequently\", \"unhappiness\", \"unkind\", \"unkind\", \"unkind\", \"unkind\", \"unkind\", \"unmarried\", \"unmarried\", \"unprepared\", \"unprepared\", \"unprepared\", \"unprepared\", \"unwholesome\", \"unwholesome\", \"unwholesome\", \"unwholesome\", \"unwillingly\", \"vandenhuten\", \"vandenhuten\", \"varens\", \"vases\", \"vases\", \"vases\", \"vases\", \"ve\", \"ve\", \"ve\", \"ve\", \"ve\", \"ve\", \"ve\", \"ve\", \"veil\", \"veil\", \"veil\", \"veil\", \"veil\", \"veil\", \"vicar\", \"vicar\", \"vicar\", \"vicar\", \"victor\", \"victor\", \"victor\", \"villette\", \"villette\", \"villette\", \"villette\", \"villette\", \"violets\", \"visage\", \"visage\", \"visage\", \"visage\", \"visage\", \"voice\", \"voice\", \"voice\", \"voice\", \"voice\", \"voice\", \"voice\", \"voice\", \"voice\", \"voice\", \"voice\", \"voice\", \"voice\", \"voice\", \"volume\", \"volume\", \"volume\", \"volume\", \"volume\", \"vous\", \"vous\", \"vous\", \"vous\", \"vous\", \"walravens\", \"walravens\", \"walravens\", \"wanted\", \"wanted\", \"wanted\", \"wanted\", \"wanted\", \"wanted\", \"wanted\", \"wanted\", \"wanted\", \"wanted\", \"wanted\", \"wanted\", \"wanted\", \"wanted\", \"way\", \"way\", \"way\", \"way\", \"way\", \"way\", \"way\", \"way\", \"way\", \"way\", \"way\", \"way\", \"way\", \"way\", \"way\", \"went\", \"went\", \"went\", \"went\", \"went\", \"went\", \"went\", \"went\", \"went\", \"went\", \"went\", \"went\", \"went\", \"went\", \"weston\", \"weston\", \"weston\", \"weston\", \"weston\", \"weston\", \"weston\", \"weston\", \"wheel\", \"white\", \"white\", \"white\", \"white\", \"white\", \"white\", \"white\", \"white\", \"white\", \"white\", \"wickham\", \"wickham\", \"wider\", \"wider\", \"wider\", \"willoughby\", \"willoughby\", \"windows\", \"windows\", \"windows\", \"windows\", \"windows\", \"windows\", \"windows\", \"windows\", \"windows\", \"windsor\", \"winning\", \"winning\", \"wives\", \"wives\", \"wives\", \"wives\", \"wives\", \"wives\", \"woman\", \"woman\", \"woman\", \"woman\", \"woman\", \"woman\", \"woman\", \"woman\", \"woman\", \"woman\", \"woman\", \"woman\", \"woman\", \"wont\", \"wont\", \"wont\", \"woodhouse\", \"woodhouse\", \"woodhouse\", \"woodhouse\", \"woodhouse\", \"woodhouse\", \"word\", \"word\", \"word\", \"word\", \"word\", \"word\", \"word\", \"word\", \"word\", \"word\", \"word\", \"word\", \"word\", \"word\", \"word\", \"world\", \"world\", \"world\", \"world\", \"world\", \"world\", \"world\", \"world\", \"world\", \"world\", \"world\", \"world\", \"world\", \"world\", \"xvii\", \"xvii\", \"xvii\", \"xvii\", \"xvii\", \"year\", \"year\", \"year\", \"year\", \"year\", \"year\", \"year\", \"year\", \"year\", \"year\", \"year\", \"year\", \"year\", \"years\", \"years\", \"years\", \"years\", \"years\", \"years\", \"years\", \"years\", \"years\", \"years\", \"years\", \"years\", \"years\", \"years\", \"yes\", \"yes\", \"yes\", \"yes\", \"yes\", \"yes\", \"yes\", \"yes\", \"yes\", \"yes\", \"yes\", \"yes\", \"yes\", \"yes\", \"yorke\", \"yorke\", \"young\", \"young\", \"young\", \"young\", \"young\", \"young\", \"young\", \"young\", \"young\", \"young\", \"young\", \"young\", \"young\", \"young\", \"young\", \"zoraide\", \"zoraide\", \"zoraide\", \"zoraide\", \"zoraide\"]}, \"R\": 30, \"lambda.step\": 0.01, \"plot.opts\": {\"xlab\": \"PC1\", \"ylab\": \"PC2\"}, \"topic.order\": [11, 5, 12, 14, 6, 7, 3, 2, 8, 13, 9, 10, 4, 1, 15]};\n",
       "\n",
       "function LDAvis_load_lib(url, callback){\n",
       "  var s = document.createElement('script');\n",
       "  s.src = url;\n",
       "  s.async = true;\n",
       "  s.onreadystatechange = s.onload = callback;\n",
       "  s.onerror = function(){console.warn(\"failed to load library \" + url);};\n",
       "  document.getElementsByTagName(\"head\")[0].appendChild(s);\n",
       "}\n",
       "\n",
       "if(typeof(LDAvis) !== \"undefined\"){\n",
       "   // already loaded: just create the visualization\n",
       "   !function(LDAvis){\n",
       "       new LDAvis(\"#\" + \"ldavis_el438774837598936969228293\", ldavis_el438774837598936969228293_data);\n",
       "   }(LDAvis);\n",
       "}else if(typeof define === \"function\" && define.amd){\n",
       "   // require.js is available: use it to load d3/LDAvis\n",
       "   require.config({paths: {d3: \"https://cdnjs.cloudflare.com/ajax/libs/d3/3.5.5/d3.min\"}});\n",
       "   require([\"d3\"], function(d3){\n",
       "      window.d3 = d3;\n",
       "      LDAvis_load_lib(\"https://cdn.rawgit.com/bmabey/pyLDAvis/files/ldavis.v1.0.0.js\", function(){\n",
       "        new LDAvis(\"#\" + \"ldavis_el438774837598936969228293\", ldavis_el438774837598936969228293_data);\n",
       "      });\n",
       "    });\n",
       "}else{\n",
       "    // require.js not available: dynamically load d3 & LDAvis\n",
       "    LDAvis_load_lib(\"https://cdnjs.cloudflare.com/ajax/libs/d3/3.5.5/d3.min.js\", function(){\n",
       "         LDAvis_load_lib(\"https://cdn.rawgit.com/bmabey/pyLDAvis/files/ldavis.v1.0.0.js\", function(){\n",
       "                 new LDAvis(\"#\" + \"ldavis_el438774837598936969228293\", ldavis_el438774837598936969228293_data);\n",
       "            })\n",
       "         });\n",
       "}\n",
       "</script>"
      ],
      "text/plain": [
       "PreparedData(topic_coordinates=              x         y  topics  cluster       Freq\n",
       "topic                                                \n",
       "10    -0.045594  0.020555       1        1  21.411968\n",
       "4     -0.077666  0.055243       2        1  17.607420\n",
       "11     0.141289  0.008634       3        1  16.260656\n",
       "13     0.104043  0.014425       4        1  16.002945\n",
       "5      0.152209  0.012564       5        1  10.043662\n",
       "6     -0.013860  0.051118       6        1   6.805936\n",
       "2     -0.077657  0.072670       7        1   3.625725\n",
       "1     -0.033809  0.047090       8        1   2.328257\n",
       "7     -0.071731  0.053930       9        1   1.555927\n",
       "12     0.095364 -0.031605      10        1   1.282463\n",
       "8      0.052508 -0.003885      11        1   1.224822\n",
       "9      0.006460 -0.050559      12        1   0.866367\n",
       "3     -0.099428 -0.027449      13        1   0.458792\n",
       "0     -0.046035 -0.148618      14        1   0.262591\n",
       "14    -0.086092 -0.074114      15        1   0.262478, topic_info=         Term         Freq        Total Category  logprob  loglift\n",
       "90       emma   836.000000   836.000000  Default  30.0000  30.0000\n",
       "177    little  1711.000000  1711.000000  Default  29.0000  29.0000\n",
       "848      jane   931.000000   931.000000  Default  28.0000  28.0000\n",
       "1131     miss  1535.000000  1535.000000  Default  27.0000  27.0000\n",
       "414      like  1318.000000  1318.000000  Default  26.0000  26.0000\n",
       "...       ...          ...          ...      ...      ...      ...\n",
       "272   thought     1.950034  1136.644897  Topic15  -6.0447  -0.4252\n",
       "518     young     1.882116   664.609863  Topic15  -6.0802   0.0760\n",
       "416      look     1.846072   637.397339  Topic15  -6.0995   0.0984\n",
       "374      face     1.834396   499.783386  Topic15  -6.1059   0.3353\n",
       "181    looked     1.813011   696.602295  Topic15  -6.1176  -0.0085\n",
       "\n",
       "[1125 rows x 6 columns], token_table=      Topic      Freq     Term\n",
       "term                          \n",
       "0         3  0.958441    abbey\n",
       "6075      5  0.147771    abide\n",
       "6075      6  0.738854    abide\n",
       "1906      1  0.300437   accent\n",
       "1906      2  0.225328   accent\n",
       "...     ...       ...      ...\n",
       "5389      2  0.525993  zoraide\n",
       "5389      6  0.037571  zoraide\n",
       "5389      8  0.338139  zoraide\n",
       "5389     12  0.037571  zoraide\n",
       "5389     13  0.037571  zoraide\n",
       "\n",
       "[4380 rows x 3 columns], R=30, lambda_step=0.01, plot_opts={'xlab': 'PC1', 'ylab': 'PC2'}, topic_order=[11, 5, 12, 14, 6, 7, 3, 2, 8, 13, 9, 10, 4, 1, 15])"
      ]
     },
     "execution_count": 38,
     "metadata": {},
     "output_type": "execute_result"
    }
   ],
   "source": [
    "pyLDAvis.gensim.prepare(lda, corpus, id2word)"
   ]
  },
  {
   "cell_type": "markdown",
   "metadata": {},
   "source": [
    "### Overall Model / Documents"
   ]
  },
  {
   "cell_type": "code",
   "execution_count": 39,
   "metadata": {},
   "outputs": [
    {
     "data": {
      "text/plain": [
       "[(10, 0.13784777), (11, 0.77551216), (13, 0.08453733)]"
      ]
     },
     "execution_count": 39,
     "metadata": {},
     "output_type": "execute_result"
    }
   ],
   "source": [
    "lda[corpus[0]]"
   ]
  },
  {
   "cell_type": "code",
   "execution_count": 40,
   "metadata": {},
   "outputs": [],
   "source": [
    "distro = [lda[d] for d in corpus]"
   ]
  },
  {
   "cell_type": "code",
   "execution_count": 41,
   "metadata": {},
   "outputs": [
    {
     "data": {
      "text/plain": [
       "[(10, 0.13785611), (11, 0.7755458), (13, 0.08449539)]"
      ]
     },
     "execution_count": 41,
     "metadata": {},
     "output_type": "execute_result"
    }
   ],
   "source": [
    "distro[0]"
   ]
  },
  {
   "cell_type": "code",
   "execution_count": 42,
   "metadata": {},
   "outputs": [],
   "source": [
    "distro = [lda[d] for d in corpus]\n",
    "\n",
    "def update(doc):\n",
    "        d_dist = {k:0 for k in range(0,15)}\n",
    "        for t in doc:\n",
    "            d_dist[t[0]] = t[1]\n",
    "        return d_dist\n",
    "    \n",
    "new_distro = [update(d) for d in distro]"
   ]
  },
  {
   "cell_type": "code",
   "execution_count": 43,
   "metadata": {},
   "outputs": [
    {
     "data": {
      "text/plain": [
       "813"
      ]
     },
     "execution_count": 43,
     "metadata": {},
     "output_type": "execute_result"
    }
   ],
   "source": [
    "len(new_distro)"
   ]
  },
  {
   "cell_type": "code",
   "execution_count": 44,
   "metadata": {},
   "outputs": [
    {
     "data": {
      "text/html": [
       "<div>\n",
       "<style scoped>\n",
       "    .dataframe tbody tr th:only-of-type {\n",
       "        vertical-align: middle;\n",
       "    }\n",
       "\n",
       "    .dataframe tbody tr th {\n",
       "        vertical-align: top;\n",
       "    }\n",
       "\n",
       "    .dataframe thead th {\n",
       "        text-align: right;\n",
       "    }\n",
       "</style>\n",
       "<table border=\"1\" class=\"dataframe\">\n",
       "  <thead>\n",
       "    <tr style=\"text-align: right;\">\n",
       "      <th></th>\n",
       "      <th>tokens</th>\n",
       "      <th>author</th>\n",
       "      <th>book</th>\n",
       "      <th>section</th>\n",
       "    </tr>\n",
       "  </thead>\n",
       "  <tbody>\n",
       "    <tr>\n",
       "      <th>Austen_Emma0026</th>\n",
       "      <td>[giving, fair, companion, account, yesterday, ...</td>\n",
       "      <td>1</td>\n",
       "      <td>Emma</td>\n",
       "      <td>26</td>\n",
       "    </tr>\n",
       "    <tr>\n",
       "      <th>Austen_Emma0032</th>\n",
       "      <td>[feels, like, snow, place, party, try, day, di...</td>\n",
       "      <td>1</td>\n",
       "      <td>Emma</td>\n",
       "      <td>32</td>\n",
       "    </tr>\n",
       "    <tr>\n",
       "      <th>CBronte_Villette0086</th>\n",
       "      <td>[pierced, opaque, blackness, stood, bougie, qu...</td>\n",
       "      <td>0</td>\n",
       "      <td>Villette</td>\n",
       "      <td>86</td>\n",
       "    </tr>\n",
       "    <tr>\n",
       "      <th>CBronte_Jane0099</th>\n",
       "      <td>[joke, queer, looks, tell, thing, specially, s...</td>\n",
       "      <td>0</td>\n",
       "      <td>Jane</td>\n",
       "      <td>99</td>\n",
       "    </tr>\n",
       "    <tr>\n",
       "      <th>CBronte_Villette0092</th>\n",
       "      <td>[second, landing, floor, comprising, abode, kn...</td>\n",
       "      <td>0</td>\n",
       "      <td>Villette</td>\n",
       "      <td>92</td>\n",
       "    </tr>\n",
       "  </tbody>\n",
       "</table>\n",
       "</div>"
      ],
      "text/plain": [
       "                                                                 tokens  \\\n",
       "Austen_Emma0026       [giving, fair, companion, account, yesterday, ...   \n",
       "Austen_Emma0032       [feels, like, snow, place, party, try, day, di...   \n",
       "CBronte_Villette0086  [pierced, opaque, blackness, stood, bougie, qu...   \n",
       "CBronte_Jane0099      [joke, queer, looks, tell, thing, specially, s...   \n",
       "CBronte_Villette0092  [second, landing, floor, comprising, abode, kn...   \n",
       "\n",
       "                      author      book  section  \n",
       "Austen_Emma0026            1      Emma       26  \n",
       "Austen_Emma0032            1      Emma       32  \n",
       "CBronte_Villette0086       0  Villette       86  \n",
       "CBronte_Jane0099           0      Jane       99  \n",
       "CBronte_Villette0092       0  Villette       92  "
      ]
     },
     "execution_count": 44,
     "metadata": {},
     "output_type": "execute_result"
    }
   ],
   "source": [
    "df.head()"
   ]
  },
  {
   "cell_type": "code",
   "execution_count": 45,
   "metadata": {},
   "outputs": [],
   "source": [
    "df = pd.DataFrame.from_records(new_distro, index=titles)\n",
    "df.columns = topics\n",
    "df['author'] = df.reset_index()['index'].apply(lambda x: x.split('_')[0]).tolist()"
   ]
  },
  {
   "cell_type": "code",
   "execution_count": 46,
   "metadata": {},
   "outputs": [
    {
     "data": {
      "text/html": [
       "<div>\n",
       "<style scoped>\n",
       "    .dataframe tbody tr th:only-of-type {\n",
       "        vertical-align: middle;\n",
       "    }\n",
       "\n",
       "    .dataframe tbody tr th {\n",
       "        vertical-align: top;\n",
       "    }\n",
       "\n",
       "    .dataframe thead th {\n",
       "        text-align: right;\n",
       "    }\n",
       "</style>\n",
       "<table border=\"1\" class=\"dataframe\">\n",
       "  <thead>\n",
       "    <tr style=\"text-align: right;\">\n",
       "      <th></th>\n",
       "      <th>pounds mother sure think year</th>\n",
       "      <th>pelet thought like little man</th>\n",
       "      <th>madame little like day vous</th>\n",
       "      <th>night look like old est</th>\n",
       "      <th>little madame like thought know</th>\n",
       "      <th>elizabeth darcy miss bingley bennet</th>\n",
       "      <th>know jane life like long</th>\n",
       "      <th>frances monsieur hunsden little english</th>\n",
       "      <th>good little like emma elton</th>\n",
       "      <th>sir long jane rochester little</th>\n",
       "      <th>like little rochester miss room</th>\n",
       "      <th>emma miss harriet thing weston</th>\n",
       "      <th>jane emma little thing miss</th>\n",
       "      <th>elinor marianne sister mother time</th>\n",
       "      <th>monsieur henri georgiana mdlle little</th>\n",
       "      <th>author</th>\n",
       "    </tr>\n",
       "  </thead>\n",
       "  <tbody>\n",
       "    <tr>\n",
       "      <th>Austen_Emma0026</th>\n",
       "      <td>0.0</td>\n",
       "      <td>0.0</td>\n",
       "      <td>0.0</td>\n",
       "      <td>0.0</td>\n",
       "      <td>0.000000</td>\n",
       "      <td>0.000000</td>\n",
       "      <td>0.000000</td>\n",
       "      <td>0.0</td>\n",
       "      <td>0.0</td>\n",
       "      <td>0.0</td>\n",
       "      <td>0.137815</td>\n",
       "      <td>0.775381</td>\n",
       "      <td>0.0</td>\n",
       "      <td>0.084702</td>\n",
       "      <td>0.0</td>\n",
       "      <td>Austen</td>\n",
       "    </tr>\n",
       "    <tr>\n",
       "      <th>Austen_Emma0032</th>\n",
       "      <td>0.0</td>\n",
       "      <td>0.0</td>\n",
       "      <td>0.0</td>\n",
       "      <td>0.0</td>\n",
       "      <td>0.000000</td>\n",
       "      <td>0.000000</td>\n",
       "      <td>0.000000</td>\n",
       "      <td>0.0</td>\n",
       "      <td>0.0</td>\n",
       "      <td>0.0</td>\n",
       "      <td>0.000000</td>\n",
       "      <td>0.997455</td>\n",
       "      <td>0.0</td>\n",
       "      <td>0.000000</td>\n",
       "      <td>0.0</td>\n",
       "      <td>Austen</td>\n",
       "    </tr>\n",
       "    <tr>\n",
       "      <th>CBronte_Villette0086</th>\n",
       "      <td>0.0</td>\n",
       "      <td>0.0</td>\n",
       "      <td>0.0</td>\n",
       "      <td>0.0</td>\n",
       "      <td>0.215014</td>\n",
       "      <td>0.000000</td>\n",
       "      <td>0.782773</td>\n",
       "      <td>0.0</td>\n",
       "      <td>0.0</td>\n",
       "      <td>0.0</td>\n",
       "      <td>0.000000</td>\n",
       "      <td>0.000000</td>\n",
       "      <td>0.0</td>\n",
       "      <td>0.000000</td>\n",
       "      <td>0.0</td>\n",
       "      <td>CBronte</td>\n",
       "    </tr>\n",
       "    <tr>\n",
       "      <th>CBronte_Jane0099</th>\n",
       "      <td>0.0</td>\n",
       "      <td>0.0</td>\n",
       "      <td>0.0</td>\n",
       "      <td>0.0</td>\n",
       "      <td>0.000000</td>\n",
       "      <td>0.000000</td>\n",
       "      <td>0.522729</td>\n",
       "      <td>0.0</td>\n",
       "      <td>0.0</td>\n",
       "      <td>0.0</td>\n",
       "      <td>0.473160</td>\n",
       "      <td>0.000000</td>\n",
       "      <td>0.0</td>\n",
       "      <td>0.000000</td>\n",
       "      <td>0.0</td>\n",
       "      <td>CBronte</td>\n",
       "    </tr>\n",
       "    <tr>\n",
       "      <th>CBronte_Villette0092</th>\n",
       "      <td>0.0</td>\n",
       "      <td>0.0</td>\n",
       "      <td>0.0</td>\n",
       "      <td>0.0</td>\n",
       "      <td>0.561905</td>\n",
       "      <td>0.027239</td>\n",
       "      <td>0.000000</td>\n",
       "      <td>0.0</td>\n",
       "      <td>0.0</td>\n",
       "      <td>0.0</td>\n",
       "      <td>0.370957</td>\n",
       "      <td>0.038246</td>\n",
       "      <td>0.0</td>\n",
       "      <td>0.000000</td>\n",
       "      <td>0.0</td>\n",
       "      <td>CBronte</td>\n",
       "    </tr>\n",
       "  </tbody>\n",
       "</table>\n",
       "</div>"
      ],
      "text/plain": [
       "                      pounds mother sure think year  \\\n",
       "Austen_Emma0026                                 0.0   \n",
       "Austen_Emma0032                                 0.0   \n",
       "CBronte_Villette0086                            0.0   \n",
       "CBronte_Jane0099                                0.0   \n",
       "CBronte_Villette0092                            0.0   \n",
       "\n",
       "                      pelet thought like little man  \\\n",
       "Austen_Emma0026                                 0.0   \n",
       "Austen_Emma0032                                 0.0   \n",
       "CBronte_Villette0086                            0.0   \n",
       "CBronte_Jane0099                                0.0   \n",
       "CBronte_Villette0092                            0.0   \n",
       "\n",
       "                      madame little like day vous  night look like old est  \\\n",
       "Austen_Emma0026                               0.0                      0.0   \n",
       "Austen_Emma0032                               0.0                      0.0   \n",
       "CBronte_Villette0086                          0.0                      0.0   \n",
       "CBronte_Jane0099                              0.0                      0.0   \n",
       "CBronte_Villette0092                          0.0                      0.0   \n",
       "\n",
       "                      little madame like thought know  \\\n",
       "Austen_Emma0026                              0.000000   \n",
       "Austen_Emma0032                              0.000000   \n",
       "CBronte_Villette0086                         0.215014   \n",
       "CBronte_Jane0099                             0.000000   \n",
       "CBronte_Villette0092                         0.561905   \n",
       "\n",
       "                      elizabeth darcy miss bingley bennet  \\\n",
       "Austen_Emma0026                                  0.000000   \n",
       "Austen_Emma0032                                  0.000000   \n",
       "CBronte_Villette0086                             0.000000   \n",
       "CBronte_Jane0099                                 0.000000   \n",
       "CBronte_Villette0092                             0.027239   \n",
       "\n",
       "                      know jane life like long  \\\n",
       "Austen_Emma0026                       0.000000   \n",
       "Austen_Emma0032                       0.000000   \n",
       "CBronte_Villette0086                  0.782773   \n",
       "CBronte_Jane0099                      0.522729   \n",
       "CBronte_Villette0092                  0.000000   \n",
       "\n",
       "                      frances monsieur hunsden little english  \\\n",
       "Austen_Emma0026                                           0.0   \n",
       "Austen_Emma0032                                           0.0   \n",
       "CBronte_Villette0086                                      0.0   \n",
       "CBronte_Jane0099                                          0.0   \n",
       "CBronte_Villette0092                                      0.0   \n",
       "\n",
       "                      good little like emma elton  \\\n",
       "Austen_Emma0026                               0.0   \n",
       "Austen_Emma0032                               0.0   \n",
       "CBronte_Villette0086                          0.0   \n",
       "CBronte_Jane0099                              0.0   \n",
       "CBronte_Villette0092                          0.0   \n",
       "\n",
       "                      sir long jane rochester little  \\\n",
       "Austen_Emma0026                                  0.0   \n",
       "Austen_Emma0032                                  0.0   \n",
       "CBronte_Villette0086                             0.0   \n",
       "CBronte_Jane0099                                 0.0   \n",
       "CBronte_Villette0092                             0.0   \n",
       "\n",
       "                      like little rochester miss room  \\\n",
       "Austen_Emma0026                              0.137815   \n",
       "Austen_Emma0032                              0.000000   \n",
       "CBronte_Villette0086                         0.000000   \n",
       "CBronte_Jane0099                             0.473160   \n",
       "CBronte_Villette0092                         0.370957   \n",
       "\n",
       "                      emma miss harriet thing weston  \\\n",
       "Austen_Emma0026                             0.775381   \n",
       "Austen_Emma0032                             0.997455   \n",
       "CBronte_Villette0086                        0.000000   \n",
       "CBronte_Jane0099                            0.000000   \n",
       "CBronte_Villette0092                        0.038246   \n",
       "\n",
       "                      jane emma little thing miss  \\\n",
       "Austen_Emma0026                               0.0   \n",
       "Austen_Emma0032                               0.0   \n",
       "CBronte_Villette0086                          0.0   \n",
       "CBronte_Jane0099                              0.0   \n",
       "CBronte_Villette0092                          0.0   \n",
       "\n",
       "                      elinor marianne sister mother time  \\\n",
       "Austen_Emma0026                                 0.084702   \n",
       "Austen_Emma0032                                 0.000000   \n",
       "CBronte_Villette0086                            0.000000   \n",
       "CBronte_Jane0099                                0.000000   \n",
       "CBronte_Villette0092                            0.000000   \n",
       "\n",
       "                      monsieur henri georgiana mdlle little   author  \n",
       "Austen_Emma0026                                         0.0   Austen  \n",
       "Austen_Emma0032                                         0.0   Austen  \n",
       "CBronte_Villette0086                                    0.0  CBronte  \n",
       "CBronte_Jane0099                                        0.0  CBronte  \n",
       "CBronte_Villette0092                                    0.0  CBronte  "
      ]
     },
     "execution_count": 46,
     "metadata": {},
     "output_type": "execute_result"
    }
   ],
   "source": [
    "df.head()"
   ]
  },
  {
   "cell_type": "code",
   "execution_count": 47,
   "metadata": {},
   "outputs": [
    {
     "data": {
      "text/html": [
       "<div>\n",
       "<style scoped>\n",
       "    .dataframe tbody tr th:only-of-type {\n",
       "        vertical-align: middle;\n",
       "    }\n",
       "\n",
       "    .dataframe tbody tr th {\n",
       "        vertical-align: top;\n",
       "    }\n",
       "\n",
       "    .dataframe thead th {\n",
       "        text-align: right;\n",
       "    }\n",
       "</style>\n",
       "<table border=\"1\" class=\"dataframe\">\n",
       "  <thead>\n",
       "    <tr style=\"text-align: right;\">\n",
       "      <th></th>\n",
       "      <th>pounds mother sure think year</th>\n",
       "      <th>pelet thought like little man</th>\n",
       "      <th>madame little like day vous</th>\n",
       "      <th>night look like old est</th>\n",
       "      <th>little madame like thought know</th>\n",
       "      <th>elizabeth darcy miss bingley bennet</th>\n",
       "      <th>know jane life like long</th>\n",
       "      <th>frances monsieur hunsden little english</th>\n",
       "      <th>good little like emma elton</th>\n",
       "      <th>sir long jane rochester little</th>\n",
       "      <th>like little rochester miss room</th>\n",
       "      <th>emma miss harriet thing weston</th>\n",
       "      <th>jane emma little thing miss</th>\n",
       "      <th>elinor marianne sister mother time</th>\n",
       "      <th>monsieur henri georgiana mdlle little</th>\n",
       "    </tr>\n",
       "    <tr>\n",
       "      <th>author</th>\n",
       "      <th></th>\n",
       "      <th></th>\n",
       "      <th></th>\n",
       "      <th></th>\n",
       "      <th></th>\n",
       "      <th></th>\n",
       "      <th></th>\n",
       "      <th></th>\n",
       "      <th></th>\n",
       "      <th></th>\n",
       "      <th></th>\n",
       "      <th></th>\n",
       "      <th></th>\n",
       "      <th></th>\n",
       "      <th></th>\n",
       "    </tr>\n",
       "  </thead>\n",
       "  <tbody>\n",
       "    <tr>\n",
       "      <th>Austen</th>\n",
       "      <td>0.002680</td>\n",
       "      <td>0.005265</td>\n",
       "      <td>0.000558</td>\n",
       "      <td>0.000027</td>\n",
       "      <td>0.002224</td>\n",
       "      <td>0.229072</td>\n",
       "      <td>0.005129</td>\n",
       "      <td>0.000833</td>\n",
       "      <td>0.016319</td>\n",
       "      <td>0.005213</td>\n",
       "      <td>0.014229</td>\n",
       "      <td>0.352143</td>\n",
       "      <td>0.023068</td>\n",
       "      <td>0.340471</td>\n",
       "      <td>0.000000</td>\n",
       "    </tr>\n",
       "    <tr>\n",
       "      <th>CBronte</th>\n",
       "      <td>0.002808</td>\n",
       "      <td>0.035886</td>\n",
       "      <td>0.061154</td>\n",
       "      <td>0.008203</td>\n",
       "      <td>0.298077</td>\n",
       "      <td>0.005798</td>\n",
       "      <td>0.123300</td>\n",
       "      <td>0.026866</td>\n",
       "      <td>0.007873</td>\n",
       "      <td>0.012273</td>\n",
       "      <td>0.385654</td>\n",
       "      <td>0.005757</td>\n",
       "      <td>0.004656</td>\n",
       "      <td>0.014484</td>\n",
       "      <td>0.004485</td>\n",
       "    </tr>\n",
       "  </tbody>\n",
       "</table>\n",
       "</div>"
      ],
      "text/plain": [
       "         pounds mother sure think year  pelet thought like little man  \\\n",
       "author                                                                  \n",
       "Austen                        0.002680                       0.005265   \n",
       "CBronte                       0.002808                       0.035886   \n",
       "\n",
       "         madame little like day vous  night look like old est  \\\n",
       "author                                                          \n",
       "Austen                      0.000558                 0.000027   \n",
       "CBronte                     0.061154                 0.008203   \n",
       "\n",
       "         little madame like thought know  elizabeth darcy miss bingley bennet  \\\n",
       "author                                                                          \n",
       "Austen                          0.002224                             0.229072   \n",
       "CBronte                         0.298077                             0.005798   \n",
       "\n",
       "         know jane life like long  frances monsieur hunsden little english  \\\n",
       "author                                                                       \n",
       "Austen                   0.005129                                 0.000833   \n",
       "CBronte                  0.123300                                 0.026866   \n",
       "\n",
       "         good little like emma elton  sir long jane rochester little  \\\n",
       "author                                                                 \n",
       "Austen                      0.016319                        0.005213   \n",
       "CBronte                     0.007873                        0.012273   \n",
       "\n",
       "         like little rochester miss room  emma miss harriet thing weston  \\\n",
       "author                                                                     \n",
       "Austen                          0.014229                        0.352143   \n",
       "CBronte                         0.385654                        0.005757   \n",
       "\n",
       "         jane emma little thing miss  elinor marianne sister mother time  \\\n",
       "author                                                                     \n",
       "Austen                      0.023068                            0.340471   \n",
       "CBronte                     0.004656                            0.014484   \n",
       "\n",
       "         monsieur henri georgiana mdlle little  \n",
       "author                                          \n",
       "Austen                                0.000000  \n",
       "CBronte                               0.004485  "
      ]
     },
     "execution_count": 47,
     "metadata": {},
     "output_type": "execute_result"
    }
   ],
   "source": [
    "df.groupby('author').mean()"
   ]
  },
  {
   "cell_type": "markdown",
   "metadata": {},
   "source": [
    "## Challenge\n",
    "### *Can we see if one of the authors focus more on men than women?*\n",
    "\n",
    "*  Use Spacy for text preprocessing\n",
    "*  Extract the Named Entities from the documents using Spacy (command is fairly straight forward)\n",
    "*  Create unique list of names from the authors (you'll find that there are different types of named entities not all people)\n",
    "*  Label the names with genders (can you this by hand or you use the US census name lists)\n",
    "*  Customize your processing to replace the proper name with your gender from the previous step's lookup table\n",
    "*  Then follow the rest of the LDA flow\n"
   ]
  },
  {
   "cell_type": "markdown",
   "metadata": {},
   "source": [
    "# Selecting the Number of Topics (Learn)\n",
    "<a id=\"#p4\"></a>"
   ]
  },
  {
   "cell_type": "markdown",
   "metadata": {},
   "source": [
    "## Overview"
   ]
  },
  {
   "cell_type": "markdown",
   "metadata": {},
   "source": [
    "## Follow Along"
   ]
  },
  {
   "cell_type": "code",
   "execution_count": 48,
   "metadata": {},
   "outputs": [],
   "source": [
    "from gensim.models.coherencemodel import CoherenceModel\n",
    "\n",
    "def compute_coherence_values(dictionary, corpus, limit, start=2, step=3, passes=5):\n",
    "    \"\"\"\n",
    "    Compute c_v coherence for various number of topics\n",
    "\n",
    "    Parameters:\n",
    "    ----------\n",
    "    dictionary : Gensim dictionary\n",
    "    corpus : Gensim corpus\n",
    "    limit : Max num of topics\n",
    "    passes: the number of times the entire lda model & coherence values are calculated\n",
    "\n",
    "    Returns:\n",
    "    -------\n",
    "    coherence_values : Coherence values corresponding to the LDA model with respective number of topics\n",
    "    \"\"\"\n",
    "    \n",
    "    coherence_values = []\n",
    "    \n",
    "    for iter_ in range(passes):\n",
    "        for num_topics in range(start, limit, step):\n",
    "            model = LdaMulticore(corpus=corpus, num_topics=num_topics, id2word=dictionary, workers=4)\n",
    "            coherencemodel = CoherenceModel(model=model,dictionary=dictionary,corpus=corpus, coherence='u_mass')\n",
    "            coherence_values.append({'pass': iter_, \n",
    "                                     'num_topics': num_topics, \n",
    "                                     'coherence_score': coherencemodel.get_coherence()\n",
    "                                    })\n",
    "\n",
    "    return coherence_values"
   ]
  },
  {
   "cell_type": "code",
   "execution_count": 49,
   "metadata": {},
   "outputs": [
    {
     "name": "stderr",
     "output_type": "stream",
     "text": [
      "Process ForkPoolWorker-1875:\n",
      "Process ForkPoolWorker-1878:\n",
      "Process ForkPoolWorker-1876:\n",
      "Process ForkPoolWorker-1877:\n",
      "Traceback (most recent call last):\n",
      "Traceback (most recent call last):\n",
      "Traceback (most recent call last):\n",
      "  File \"/Users/samuel/opt/anaconda3/envs/U4-S1-NLP/lib/python3.7/multiprocessing/process.py\", line 297, in _bootstrap\n",
      "    self.run()\n",
      "  File \"/Users/samuel/opt/anaconda3/envs/U4-S1-NLP/lib/python3.7/multiprocessing/process.py\", line 297, in _bootstrap\n",
      "    self.run()\n",
      "Traceback (most recent call last):\n",
      "  File \"/Users/samuel/opt/anaconda3/envs/U4-S1-NLP/lib/python3.7/multiprocessing/process.py\", line 297, in _bootstrap\n",
      "    self.run()\n",
      "  File \"/Users/samuel/opt/anaconda3/envs/U4-S1-NLP/lib/python3.7/multiprocessing/process.py\", line 297, in _bootstrap\n",
      "    self.run()\n",
      "  File \"/Users/samuel/opt/anaconda3/envs/U4-S1-NLP/lib/python3.7/multiprocessing/process.py\", line 99, in run\n",
      "    self._target(*self._args, **self._kwargs)\n",
      "  File \"/Users/samuel/opt/anaconda3/envs/U4-S1-NLP/lib/python3.7/multiprocessing/process.py\", line 99, in run\n",
      "    self._target(*self._args, **self._kwargs)\n",
      "  File \"/Users/samuel/opt/anaconda3/envs/U4-S1-NLP/lib/python3.7/multiprocessing/pool.py\", line 105, in worker\n",
      "    initializer(*initargs)\n",
      "  File \"/Users/samuel/opt/anaconda3/envs/U4-S1-NLP/lib/python3.7/multiprocessing/process.py\", line 99, in run\n",
      "    self._target(*self._args, **self._kwargs)\n",
      "  File \"/Users/samuel/opt/anaconda3/envs/U4-S1-NLP/lib/python3.7/multiprocessing/pool.py\", line 105, in worker\n",
      "    initializer(*initargs)\n",
      "  File \"/Users/samuel/opt/anaconda3/envs/U4-S1-NLP/lib/python3.7/multiprocessing/process.py\", line 99, in run\n",
      "    self._target(*self._args, **self._kwargs)\n",
      "  File \"/Users/samuel/opt/anaconda3/envs/U4-S1-NLP/lib/python3.7/site-packages/gensim/models/ldamulticore.py\", line 334, in worker_e_step\n",
      "    chunk_no, chunk, worker_lda = input_queue.get()\n",
      "  File \"/Users/samuel/opt/anaconda3/envs/U4-S1-NLP/lib/python3.7/multiprocessing/pool.py\", line 105, in worker\n",
      "    initializer(*initargs)\n",
      "  File \"/Users/samuel/opt/anaconda3/envs/U4-S1-NLP/lib/python3.7/site-packages/gensim/models/ldamulticore.py\", line 334, in worker_e_step\n",
      "    chunk_no, chunk, worker_lda = input_queue.get()\n",
      "  File \"/Users/samuel/opt/anaconda3/envs/U4-S1-NLP/lib/python3.7/multiprocessing/pool.py\", line 105, in worker\n",
      "    initializer(*initargs)\n",
      "  File \"/Users/samuel/opt/anaconda3/envs/U4-S1-NLP/lib/python3.7/multiprocessing/queues.py\", line 93, in get\n",
      "    with self._rlock:\n",
      "  File \"/Users/samuel/opt/anaconda3/envs/U4-S1-NLP/lib/python3.7/site-packages/gensim/models/ldamulticore.py\", line 334, in worker_e_step\n",
      "    chunk_no, chunk, worker_lda = input_queue.get()\n",
      "  File \"/Users/samuel/opt/anaconda3/envs/U4-S1-NLP/lib/python3.7/multiprocessing/queues.py\", line 93, in get\n",
      "    with self._rlock:\n",
      "  File \"/Users/samuel/opt/anaconda3/envs/U4-S1-NLP/lib/python3.7/site-packages/gensim/models/ldamulticore.py\", line 334, in worker_e_step\n",
      "    chunk_no, chunk, worker_lda = input_queue.get()\n",
      "  File \"/Users/samuel/opt/anaconda3/envs/U4-S1-NLP/lib/python3.7/multiprocessing/synchronize.py\", line 96, in __enter__\n",
      "    return self._semlock.__enter__()\n",
      "  File \"/Users/samuel/opt/anaconda3/envs/U4-S1-NLP/lib/python3.7/multiprocessing/queues.py\", line 93, in get\n",
      "    with self._rlock:\n",
      "  File \"/Users/samuel/opt/anaconda3/envs/U4-S1-NLP/lib/python3.7/multiprocessing/synchronize.py\", line 96, in __enter__\n",
      "    return self._semlock.__enter__()\n",
      "  File \"/Users/samuel/opt/anaconda3/envs/U4-S1-NLP/lib/python3.7/multiprocessing/queues.py\", line 94, in get\n",
      "    res = self._recv_bytes()\n",
      "  File \"/Users/samuel/opt/anaconda3/envs/U4-S1-NLP/lib/python3.7/multiprocessing/synchronize.py\", line 96, in __enter__\n",
      "    return self._semlock.__enter__()\n",
      "KeyboardInterrupt\n",
      "  File \"/Users/samuel/opt/anaconda3/envs/U4-S1-NLP/lib/python3.7/multiprocessing/connection.py\", line 216, in recv_bytes\n",
      "    buf = self._recv_bytes(maxlength)\n",
      "  File \"/Users/samuel/opt/anaconda3/envs/U4-S1-NLP/lib/python3.7/multiprocessing/connection.py\", line 407, in _recv_bytes\n",
      "    buf = self._recv(4)\n",
      "  File \"/Users/samuel/opt/anaconda3/envs/U4-S1-NLP/lib/python3.7/multiprocessing/connection.py\", line 379, in _recv\n",
      "    chunk = read(handle, remaining)\n",
      "KeyboardInterrupt\n",
      "KeyboardInterrupt\n",
      "KeyboardInterrupt\n"
     ]
    },
    {
     "ename": "KeyboardInterrupt",
     "evalue": "",
     "output_type": "error",
     "traceback": [
      "\u001b[0;31m---------------------------------------------------------------------------\u001b[0m",
      "\u001b[0;31mKeyboardInterrupt\u001b[0m                         Traceback (most recent call last)",
      "\u001b[0;32m<ipython-input-49-d32826c8e8f4>\u001b[0m in \u001b[0;36m<module>\u001b[0;34m\u001b[0m\n\u001b[1;32m      5\u001b[0m                                             \u001b[0mlimit\u001b[0m\u001b[0;34m=\u001b[0m\u001b[0;36m40\u001b[0m\u001b[0;34m,\u001b[0m\u001b[0;34m\u001b[0m\u001b[0m\n\u001b[1;32m      6\u001b[0m                                             \u001b[0mstep\u001b[0m\u001b[0;34m=\u001b[0m\u001b[0;36m2\u001b[0m\u001b[0;34m,\u001b[0m\u001b[0;34m\u001b[0m\u001b[0m\n\u001b[0;32m----> 7\u001b[0;31m                                             passes=100)\n\u001b[0m",
      "\u001b[0;32m<ipython-input-48-c23aa4de2a8d>\u001b[0m in \u001b[0;36mcompute_coherence_values\u001b[0;34m(dictionary, corpus, limit, start, step, passes)\u001b[0m\n\u001b[1;32m     21\u001b[0m     \u001b[0;32mfor\u001b[0m \u001b[0miter_\u001b[0m \u001b[0;32min\u001b[0m \u001b[0mrange\u001b[0m\u001b[0;34m(\u001b[0m\u001b[0mpasses\u001b[0m\u001b[0;34m)\u001b[0m\u001b[0;34m:\u001b[0m\u001b[0;34m\u001b[0m\u001b[0m\n\u001b[1;32m     22\u001b[0m         \u001b[0;32mfor\u001b[0m \u001b[0mnum_topics\u001b[0m \u001b[0;32min\u001b[0m \u001b[0mrange\u001b[0m\u001b[0;34m(\u001b[0m\u001b[0mstart\u001b[0m\u001b[0;34m,\u001b[0m \u001b[0mlimit\u001b[0m\u001b[0;34m,\u001b[0m \u001b[0mstep\u001b[0m\u001b[0;34m)\u001b[0m\u001b[0;34m:\u001b[0m\u001b[0;34m\u001b[0m\u001b[0m\n\u001b[0;32m---> 23\u001b[0;31m             \u001b[0mmodel\u001b[0m \u001b[0;34m=\u001b[0m \u001b[0mLdaMulticore\u001b[0m\u001b[0;34m(\u001b[0m\u001b[0mcorpus\u001b[0m\u001b[0;34m=\u001b[0m\u001b[0mcorpus\u001b[0m\u001b[0;34m,\u001b[0m \u001b[0mnum_topics\u001b[0m\u001b[0;34m=\u001b[0m\u001b[0mnum_topics\u001b[0m\u001b[0;34m,\u001b[0m \u001b[0mid2word\u001b[0m\u001b[0;34m=\u001b[0m\u001b[0mdictionary\u001b[0m\u001b[0;34m,\u001b[0m \u001b[0mworkers\u001b[0m\u001b[0;34m=\u001b[0m\u001b[0;36m4\u001b[0m\u001b[0;34m)\u001b[0m\u001b[0;34m\u001b[0m\u001b[0m\n\u001b[0m\u001b[1;32m     24\u001b[0m             \u001b[0mcoherencemodel\u001b[0m \u001b[0;34m=\u001b[0m \u001b[0mCoherenceModel\u001b[0m\u001b[0;34m(\u001b[0m\u001b[0mmodel\u001b[0m\u001b[0;34m=\u001b[0m\u001b[0mmodel\u001b[0m\u001b[0;34m,\u001b[0m\u001b[0mdictionary\u001b[0m\u001b[0;34m=\u001b[0m\u001b[0mdictionary\u001b[0m\u001b[0;34m,\u001b[0m\u001b[0mcorpus\u001b[0m\u001b[0;34m=\u001b[0m\u001b[0mcorpus\u001b[0m\u001b[0;34m,\u001b[0m \u001b[0mcoherence\u001b[0m\u001b[0;34m=\u001b[0m\u001b[0;34m'u_mass'\u001b[0m\u001b[0;34m)\u001b[0m\u001b[0;34m\u001b[0m\u001b[0m\n\u001b[1;32m     25\u001b[0m             coherence_values.append({'pass': iter_, \n",
      "\u001b[0;32m~/opt/anaconda3/envs/U4-S1-NLP/lib/python3.7/site-packages/gensim/models/ldamulticore.py\u001b[0m in \u001b[0;36m__init__\u001b[0;34m(self, corpus, num_topics, id2word, workers, chunksize, passes, batch, alpha, eta, decay, offset, eval_every, iterations, gamma_threshold, random_state, minimum_probability, minimum_phi_value, per_word_topics, dtype)\u001b[0m\n\u001b[1;32m    182\u001b[0m             \u001b[0mdecay\u001b[0m\u001b[0;34m=\u001b[0m\u001b[0mdecay\u001b[0m\u001b[0;34m,\u001b[0m \u001b[0moffset\u001b[0m\u001b[0;34m=\u001b[0m\u001b[0moffset\u001b[0m\u001b[0;34m,\u001b[0m \u001b[0meval_every\u001b[0m\u001b[0;34m=\u001b[0m\u001b[0meval_every\u001b[0m\u001b[0;34m,\u001b[0m \u001b[0miterations\u001b[0m\u001b[0;34m=\u001b[0m\u001b[0miterations\u001b[0m\u001b[0;34m,\u001b[0m\u001b[0;34m\u001b[0m\u001b[0m\n\u001b[1;32m    183\u001b[0m             \u001b[0mgamma_threshold\u001b[0m\u001b[0;34m=\u001b[0m\u001b[0mgamma_threshold\u001b[0m\u001b[0;34m,\u001b[0m \u001b[0mrandom_state\u001b[0m\u001b[0;34m=\u001b[0m\u001b[0mrandom_state\u001b[0m\u001b[0;34m,\u001b[0m \u001b[0mminimum_probability\u001b[0m\u001b[0;34m=\u001b[0m\u001b[0mminimum_probability\u001b[0m\u001b[0;34m,\u001b[0m\u001b[0;34m\u001b[0m\u001b[0m\n\u001b[0;32m--> 184\u001b[0;31m             \u001b[0mminimum_phi_value\u001b[0m\u001b[0;34m=\u001b[0m\u001b[0mminimum_phi_value\u001b[0m\u001b[0;34m,\u001b[0m \u001b[0mper_word_topics\u001b[0m\u001b[0;34m=\u001b[0m\u001b[0mper_word_topics\u001b[0m\u001b[0;34m,\u001b[0m \u001b[0mdtype\u001b[0m\u001b[0;34m=\u001b[0m\u001b[0mdtype\u001b[0m\u001b[0;34m\u001b[0m\u001b[0m\n\u001b[0m\u001b[1;32m    185\u001b[0m         )\n\u001b[1;32m    186\u001b[0m \u001b[0;34m\u001b[0m\u001b[0m\n",
      "\u001b[0;32m~/opt/anaconda3/envs/U4-S1-NLP/lib/python3.7/site-packages/gensim/models/ldamodel.py\u001b[0m in \u001b[0;36m__init__\u001b[0;34m(self, corpus, num_topics, id2word, distributed, chunksize, passes, update_every, alpha, eta, decay, offset, eval_every, iterations, gamma_threshold, minimum_probability, random_state, ns_conf, minimum_phi_value, per_word_topics, callbacks, dtype)\u001b[0m\n\u001b[1;32m    517\u001b[0m         \u001b[0;32mif\u001b[0m \u001b[0mcorpus\u001b[0m \u001b[0;32mis\u001b[0m \u001b[0;32mnot\u001b[0m \u001b[0;32mNone\u001b[0m\u001b[0;34m:\u001b[0m\u001b[0;34m\u001b[0m\u001b[0m\n\u001b[1;32m    518\u001b[0m             \u001b[0muse_numpy\u001b[0m \u001b[0;34m=\u001b[0m \u001b[0mself\u001b[0m\u001b[0;34m.\u001b[0m\u001b[0mdispatcher\u001b[0m \u001b[0;32mis\u001b[0m \u001b[0;32mnot\u001b[0m \u001b[0;32mNone\u001b[0m\u001b[0;34m\u001b[0m\u001b[0m\n\u001b[0;32m--> 519\u001b[0;31m             \u001b[0mself\u001b[0m\u001b[0;34m.\u001b[0m\u001b[0mupdate\u001b[0m\u001b[0;34m(\u001b[0m\u001b[0mcorpus\u001b[0m\u001b[0;34m,\u001b[0m \u001b[0mchunks_as_numpy\u001b[0m\u001b[0;34m=\u001b[0m\u001b[0muse_numpy\u001b[0m\u001b[0;34m)\u001b[0m\u001b[0;34m\u001b[0m\u001b[0m\n\u001b[0m\u001b[1;32m    520\u001b[0m \u001b[0;34m\u001b[0m\u001b[0m\n\u001b[1;32m    521\u001b[0m     \u001b[0;32mdef\u001b[0m \u001b[0minit_dir_prior\u001b[0m\u001b[0;34m(\u001b[0m\u001b[0mself\u001b[0m\u001b[0;34m,\u001b[0m \u001b[0mprior\u001b[0m\u001b[0;34m,\u001b[0m \u001b[0mname\u001b[0m\u001b[0;34m)\u001b[0m\u001b[0;34m:\u001b[0m\u001b[0;34m\u001b[0m\u001b[0m\n",
      "\u001b[0;32m~/opt/anaconda3/envs/U4-S1-NLP/lib/python3.7/site-packages/gensim/models/ldamulticore.py\u001b[0m in \u001b[0;36mupdate\u001b[0;34m(self, corpus, chunks_as_numpy)\u001b[0m\n\u001b[1;32m    308\u001b[0m             \u001b[0;31m# wait for all outstanding jobs to finish\u001b[0m\u001b[0;34m\u001b[0m\u001b[0;34m\u001b[0m\u001b[0m\n\u001b[1;32m    309\u001b[0m             \u001b[0;32mwhile\u001b[0m \u001b[0mqueue_size\u001b[0m\u001b[0;34m[\u001b[0m\u001b[0;36m0\u001b[0m\u001b[0;34m]\u001b[0m \u001b[0;34m>\u001b[0m \u001b[0;36m0\u001b[0m\u001b[0;34m:\u001b[0m\u001b[0;34m\u001b[0m\u001b[0m\n\u001b[0;32m--> 310\u001b[0;31m                 \u001b[0mprocess_result_queue\u001b[0m\u001b[0;34m(\u001b[0m\u001b[0mforce\u001b[0m\u001b[0;34m=\u001b[0m\u001b[0;32mTrue\u001b[0m\u001b[0;34m)\u001b[0m\u001b[0;34m\u001b[0m\u001b[0m\n\u001b[0m\u001b[1;32m    311\u001b[0m \u001b[0;34m\u001b[0m\u001b[0m\n\u001b[1;32m    312\u001b[0m             \u001b[0;32mif\u001b[0m \u001b[0mreallen\u001b[0m \u001b[0;34m!=\u001b[0m \u001b[0mlencorpus\u001b[0m\u001b[0;34m:\u001b[0m\u001b[0;34m\u001b[0m\u001b[0m\n",
      "\u001b[0;32m~/opt/anaconda3/envs/U4-S1-NLP/lib/python3.7/site-packages/gensim/models/ldamulticore.py\u001b[0m in \u001b[0;36mprocess_result_queue\u001b[0;34m(force)\u001b[0m\n\u001b[1;32m    275\u001b[0m                 \u001b[0mother\u001b[0m\u001b[0;34m.\u001b[0m\u001b[0mreset\u001b[0m\u001b[0;34m(\u001b[0m\u001b[0;34m)\u001b[0m\u001b[0;34m\u001b[0m\u001b[0m\n\u001b[1;32m    276\u001b[0m                 \u001b[0;32mif\u001b[0m \u001b[0meval_every\u001b[0m \u001b[0;34m>\u001b[0m \u001b[0;36m0\u001b[0m \u001b[0;32mand\u001b[0m \u001b[0;34m(\u001b[0m\u001b[0mforce\u001b[0m \u001b[0;32mor\u001b[0m \u001b[0;34m(\u001b[0m\u001b[0mself\u001b[0m\u001b[0;34m.\u001b[0m\u001b[0mnum_updates\u001b[0m \u001b[0;34m/\u001b[0m \u001b[0mupdateafter\u001b[0m\u001b[0;34m)\u001b[0m \u001b[0;34m%\u001b[0m \u001b[0meval_every\u001b[0m \u001b[0;34m==\u001b[0m \u001b[0;36m0\u001b[0m\u001b[0;34m)\u001b[0m\u001b[0;34m:\u001b[0m\u001b[0;34m\u001b[0m\u001b[0m\n\u001b[0;32m--> 277\u001b[0;31m                     \u001b[0mself\u001b[0m\u001b[0;34m.\u001b[0m\u001b[0mlog_perplexity\u001b[0m\u001b[0;34m(\u001b[0m\u001b[0mchunk\u001b[0m\u001b[0;34m,\u001b[0m \u001b[0mtotal_docs\u001b[0m\u001b[0;34m=\u001b[0m\u001b[0mlencorpus\u001b[0m\u001b[0;34m)\u001b[0m\u001b[0;34m\u001b[0m\u001b[0m\n\u001b[0m\u001b[1;32m    278\u001b[0m \u001b[0;34m\u001b[0m\u001b[0m\n\u001b[1;32m    279\u001b[0m         \u001b[0mlogger\u001b[0m\u001b[0;34m.\u001b[0m\u001b[0minfo\u001b[0m\u001b[0;34m(\u001b[0m\u001b[0;34m\"training LDA model using %i processes\"\u001b[0m\u001b[0;34m,\u001b[0m \u001b[0mself\u001b[0m\u001b[0;34m.\u001b[0m\u001b[0mworkers\u001b[0m\u001b[0;34m)\u001b[0m\u001b[0;34m\u001b[0m\u001b[0m\n",
      "\u001b[0;32m~/opt/anaconda3/envs/U4-S1-NLP/lib/python3.7/site-packages/gensim/models/ldamodel.py\u001b[0m in \u001b[0;36mlog_perplexity\u001b[0;34m(self, chunk, total_docs)\u001b[0m\n\u001b[1;32m    819\u001b[0m         \u001b[0mcorpus_words\u001b[0m \u001b[0;34m=\u001b[0m \u001b[0msum\u001b[0m\u001b[0;34m(\u001b[0m\u001b[0mcnt\u001b[0m \u001b[0;32mfor\u001b[0m \u001b[0mdocument\u001b[0m \u001b[0;32min\u001b[0m \u001b[0mchunk\u001b[0m \u001b[0;32mfor\u001b[0m \u001b[0m_\u001b[0m\u001b[0;34m,\u001b[0m \u001b[0mcnt\u001b[0m \u001b[0;32min\u001b[0m \u001b[0mdocument\u001b[0m\u001b[0;34m)\u001b[0m\u001b[0;34m\u001b[0m\u001b[0m\n\u001b[1;32m    820\u001b[0m         \u001b[0msubsample_ratio\u001b[0m \u001b[0;34m=\u001b[0m \u001b[0;36m1.0\u001b[0m \u001b[0;34m*\u001b[0m \u001b[0mtotal_docs\u001b[0m \u001b[0;34m/\u001b[0m \u001b[0mlen\u001b[0m\u001b[0;34m(\u001b[0m\u001b[0mchunk\u001b[0m\u001b[0;34m)\u001b[0m\u001b[0;34m\u001b[0m\u001b[0m\n\u001b[0;32m--> 821\u001b[0;31m         \u001b[0mperwordbound\u001b[0m \u001b[0;34m=\u001b[0m \u001b[0mself\u001b[0m\u001b[0;34m.\u001b[0m\u001b[0mbound\u001b[0m\u001b[0;34m(\u001b[0m\u001b[0mchunk\u001b[0m\u001b[0;34m,\u001b[0m \u001b[0msubsample_ratio\u001b[0m\u001b[0;34m=\u001b[0m\u001b[0msubsample_ratio\u001b[0m\u001b[0;34m)\u001b[0m \u001b[0;34m/\u001b[0m \u001b[0;34m(\u001b[0m\u001b[0msubsample_ratio\u001b[0m \u001b[0;34m*\u001b[0m \u001b[0mcorpus_words\u001b[0m\u001b[0;34m)\u001b[0m\u001b[0;34m\u001b[0m\u001b[0m\n\u001b[0m\u001b[1;32m    822\u001b[0m         logger.info(\n\u001b[1;32m    823\u001b[0m             \u001b[0;34m\"%.3f per-word bound, %.1f perplexity estimate based on a held-out corpus of %i documents with %i words\"\u001b[0m\u001b[0;34m,\u001b[0m\u001b[0;34m\u001b[0m\u001b[0m\n",
      "\u001b[0;32m~/opt/anaconda3/envs/U4-S1-NLP/lib/python3.7/site-packages/gensim/models/ldamodel.py\u001b[0m in \u001b[0;36mbound\u001b[0;34m(self, corpus, gamma, subsample_ratio)\u001b[0m\n\u001b[1;32m   1085\u001b[0m                 \u001b[0mlogger\u001b[0m\u001b[0;34m.\u001b[0m\u001b[0mdebug\u001b[0m\u001b[0;34m(\u001b[0m\u001b[0;34m\"bound: at document #%i\"\u001b[0m\u001b[0;34m,\u001b[0m \u001b[0md\u001b[0m\u001b[0;34m)\u001b[0m\u001b[0;34m\u001b[0m\u001b[0m\n\u001b[1;32m   1086\u001b[0m             \u001b[0;32mif\u001b[0m \u001b[0mgamma\u001b[0m \u001b[0;32mis\u001b[0m \u001b[0;32mNone\u001b[0m\u001b[0;34m:\u001b[0m\u001b[0;34m\u001b[0m\u001b[0m\n\u001b[0;32m-> 1087\u001b[0;31m                 \u001b[0mgammad\u001b[0m\u001b[0;34m,\u001b[0m \u001b[0m_\u001b[0m \u001b[0;34m=\u001b[0m \u001b[0mself\u001b[0m\u001b[0;34m.\u001b[0m\u001b[0minference\u001b[0m\u001b[0;34m(\u001b[0m\u001b[0;34m[\u001b[0m\u001b[0mdoc\u001b[0m\u001b[0;34m]\u001b[0m\u001b[0;34m)\u001b[0m\u001b[0;34m\u001b[0m\u001b[0m\n\u001b[0m\u001b[1;32m   1088\u001b[0m             \u001b[0;32melse\u001b[0m\u001b[0;34m:\u001b[0m\u001b[0;34m\u001b[0m\u001b[0m\n\u001b[1;32m   1089\u001b[0m                 \u001b[0mgammad\u001b[0m \u001b[0;34m=\u001b[0m \u001b[0mgamma\u001b[0m\u001b[0;34m[\u001b[0m\u001b[0md\u001b[0m\u001b[0;34m]\u001b[0m\u001b[0;34m\u001b[0m\u001b[0m\n",
      "\u001b[0;32m~/opt/anaconda3/envs/U4-S1-NLP/lib/python3.7/site-packages/gensim/models/ldamodel.py\u001b[0m in \u001b[0;36minference\u001b[0;34m(self, chunk, collect_sstats)\u001b[0m\n\u001b[1;32m    693\u001b[0m                 \u001b[0mgammad\u001b[0m \u001b[0;34m=\u001b[0m \u001b[0mself\u001b[0m\u001b[0;34m.\u001b[0m\u001b[0malpha\u001b[0m \u001b[0;34m+\u001b[0m \u001b[0mexpElogthetad\u001b[0m \u001b[0;34m*\u001b[0m \u001b[0mnp\u001b[0m\u001b[0;34m.\u001b[0m\u001b[0mdot\u001b[0m\u001b[0;34m(\u001b[0m\u001b[0mcts\u001b[0m \u001b[0;34m/\u001b[0m \u001b[0mphinorm\u001b[0m\u001b[0;34m,\u001b[0m \u001b[0mexpElogbetad\u001b[0m\u001b[0;34m.\u001b[0m\u001b[0mT\u001b[0m\u001b[0;34m)\u001b[0m\u001b[0;34m\u001b[0m\u001b[0m\n\u001b[1;32m    694\u001b[0m                 \u001b[0mElogthetad\u001b[0m \u001b[0;34m=\u001b[0m \u001b[0mdirichlet_expectation\u001b[0m\u001b[0;34m(\u001b[0m\u001b[0mgammad\u001b[0m\u001b[0;34m)\u001b[0m\u001b[0;34m\u001b[0m\u001b[0m\n\u001b[0;32m--> 695\u001b[0;31m                 \u001b[0mexpElogthetad\u001b[0m \u001b[0;34m=\u001b[0m \u001b[0mnp\u001b[0m\u001b[0;34m.\u001b[0m\u001b[0mexp\u001b[0m\u001b[0;34m(\u001b[0m\u001b[0mElogthetad\u001b[0m\u001b[0;34m)\u001b[0m\u001b[0;34m\u001b[0m\u001b[0m\n\u001b[0m\u001b[1;32m    696\u001b[0m                 \u001b[0mphinorm\u001b[0m \u001b[0;34m=\u001b[0m \u001b[0mnp\u001b[0m\u001b[0;34m.\u001b[0m\u001b[0mdot\u001b[0m\u001b[0;34m(\u001b[0m\u001b[0mexpElogthetad\u001b[0m\u001b[0;34m,\u001b[0m \u001b[0mexpElogbetad\u001b[0m\u001b[0;34m)\u001b[0m \u001b[0;34m+\u001b[0m \u001b[0mepsilon\u001b[0m\u001b[0;34m\u001b[0m\u001b[0m\n\u001b[1;32m    697\u001b[0m                 \u001b[0;31m# If gamma hasn't changed much, we're done.\u001b[0m\u001b[0;34m\u001b[0m\u001b[0;34m\u001b[0m\u001b[0m\n",
      "\u001b[0;31mKeyboardInterrupt\u001b[0m: "
     ]
    }
   ],
   "source": [
    "# Can take a really long time to run.\n",
    "coherence_values = compute_coherence_values(dictionary=id2word, \n",
    "                                            corpus=corpus,\n",
    "                                            start=2, \n",
    "                                            limit=40, \n",
    "                                            step=2,\n",
    "                                            passes=50)"
   ]
  },
  {
   "cell_type": "code",
   "execution_count": null,
   "metadata": {},
   "outputs": [],
   "source": [
    "topic_coherence = pd.DataFrame.from_records(coherence_values)"
   ]
  },
  {
   "cell_type": "code",
   "execution_count": null,
   "metadata": {},
   "outputs": [],
   "source": [
    "topic_coherence.head()"
   ]
  },
  {
   "cell_type": "code",
   "execution_count": null,
   "metadata": {},
   "outputs": [],
   "source": [
    "import seaborn as sns\n",
    "\n",
    "ax = sns.lineplot(x=\"num_topics\", y=\"coherence_score\", data=topic_coherence)"
   ]
  },
  {
   "cell_type": "code",
   "execution_count": null,
   "metadata": {},
   "outputs": [],
   "source": [
    "# Print the coherence scores\n",
    "for m, cv in zip(x, coherence_values):\n",
    "    print(\"Num Topics =\", m, \" has Coherence Value of\", round(cv, 4))"
   ]
  },
  {
   "cell_type": "code",
   "execution_count": null,
   "metadata": {},
   "outputs": [],
   "source": [
    "lda[id2word.doc2bow(tokenize(\"This is a sample document to score with a topic distribution.\"))]"
   ]
  },
  {
   "cell_type": "markdown",
   "metadata": {},
   "source": [
    "# Sources\n",
    "\n",
    "### *References*\n",
    "* [Andrew Ng et al paper on LDA](https://ai.stanford.edu/~ang/papers/jair03-lda.pdf)\n",
    "* On [Coherence](https://pdfs.semanticscholar.org/1521/8d9c029cbb903ae7c729b2c644c24994c201.pdf)\n",
    "\n",
    "### *Resources*\n",
    "\n",
    "* [Gensim](https://radimrehurek.com/gensim/): Python package for topic modeling, nlp, word vectorization, and few other things. Well maintained and well documented.\n",
    "* [Topic Modeling with Gensim](http://www.machinelearningplus.com/nlp/topic-modeling-gensim-python/#11createthedictionaryandcorpusneededfortopicmodeling): A kind of cookbook for LDA with gensim. Excellent overview, but the you need to be aware of missing import statements and assumed prior knowledge.\n",
    "* [Chinese Restuarant Process](https://en.wikipedia.org/wiki/Chinese_restaurant_process): That really obscure stats thing I mentioned... \n",
    "* [PyLDAvis](https://github.com/bmabey/pyLDAvis): Library for visualizing the topic model and performing some exploratory work. Works well. Has a direct parrell implementation in R as well. \n",
    "* [Rare Technologies](https://rare-technologies.com/): The people that made & maintain gensim and a few other libraries.\n",
    "* [Jane Austen v. Charlotte Bronte](https://www.literaryladiesguide.com/literary-musings/jane-austen-charlotte-bronte-different-alike/)"
   ]
  }
 ],
 "metadata": {
  "kernelspec": {
   "display_name": "U4-S1-NLP",
   "language": "python",
   "name": "u4-s1-nlp"
  },
  "language_info": {
   "codemirror_mode": {
    "name": "ipython",
    "version": 3
   },
   "file_extension": ".py",
   "mimetype": "text/x-python",
   "name": "python",
   "nbconvert_exporter": "python",
   "pygments_lexer": "ipython3",
   "version": "3.7.0"
  }
 },
 "nbformat": 4,
 "nbformat_minor": 4
}
